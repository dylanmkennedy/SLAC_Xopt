{
 "cells": [
  {
   "cell_type": "code",
   "execution_count": 1,
   "metadata": {
    "pycharm": {
     "name": "#%%\n"
    }
   },
   "outputs": [
    {
     "ename": "ModuleNotFoundError",
     "evalue": "No module named 'xopt'",
     "output_type": "error",
     "traceback": [
      "\u001b[1;31m---------------------------------------------------------------------------\u001b[0m",
      "\u001b[1;31mModuleNotFoundError\u001b[0m                       Traceback (most recent call last)",
      "\u001b[1;32mC:\\Users\\RYANRO~1\\AppData\\Local\\Temp/ipykernel_21704/2272938161.py\u001b[0m in \u001b[0;36m<module>\u001b[1;34m\u001b[0m\n\u001b[0;32m      1\u001b[0m \u001b[1;32mimport\u001b[0m \u001b[0mnumpy\u001b[0m \u001b[1;32mas\u001b[0m \u001b[0mnp\u001b[0m\u001b[1;33m\u001b[0m\u001b[1;33m\u001b[0m\u001b[0m\n\u001b[1;32m----> 2\u001b[1;33m \u001b[1;32mfrom\u001b[0m \u001b[0mxopt\u001b[0m\u001b[1;33m.\u001b[0m\u001b[0mvocs\u001b[0m \u001b[1;32mimport\u001b[0m \u001b[0mVOCS\u001b[0m\u001b[1;33m\u001b[0m\u001b[1;33m\u001b[0m\u001b[0m\n\u001b[0m\u001b[0;32m      3\u001b[0m \u001b[1;33m\u001b[0m\u001b[0m\n\u001b[0;32m      4\u001b[0m \u001b[1;31m# Make a proper input file.\u001b[0m\u001b[1;33m\u001b[0m\u001b[1;33m\u001b[0m\u001b[1;33m\u001b[0m\u001b[0m\n\u001b[0;32m      5\u001b[0m quad_ranges = np.array([\n",
      "\u001b[1;31mModuleNotFoundError\u001b[0m: No module named 'xopt'"
     ]
    }
   ],
   "source": [
    "import numpy as np\n",
    "from xopt.vocs import VOCS\n",
    "\n",
    "# Make a proper input file.\n",
    "quad_ranges = np.array([\n",
    "    [10.2,12.3],\n",
    "    [-12.5, -5.7],\n",
    "    [8.8, 12.2],\n",
    "    [-4.5, -3.7],\n",
    "    [11.2, 12.8],\n",
    "    [-14.5, -13.0],\n",
    "    [12.2, 14.1],\n",
    "    [-10.0, -6.8]\n",
    "])\n",
    "\n",
    "\n",
    "initial_quad_values = [\n",
    "    11.0361936,\n",
    "    -12.4199242,\n",
    "    11.2858292,\n",
    "    -4.256414 ,\n",
    "    11.9899023,\n",
    "    -13.6483384,\n",
    "    13.2906356,\n",
    "    -9.5495203\n",
    "]\n",
    "\n",
    "Y =\"\"\"\n",
    "variables:\n",
    "    QUAD:LI26:201:BCTRL: [0, 1] # we will overwrite these\n",
    "    QUAD:LI26:301:BCTRL: [0, 1]\n",
    "    QUAD:LI26:401:BCTRL: [0, 1]\n",
    "    QUAD:LI26:501:BCTRL: [0, 1]\n",
    "    QUAD:LI26:601:BCTRL: [0, 1]\n",
    "    QUAD:LI26:701:BCTRL: [0, 1]\n",
    "    QUAD:LI26:801:BCTRL: [0, 1]\n",
    "    QUAD:LI26:901:BCTRL: [0, 1]\n",
    "objectives:\n",
    "    GDET:FEE1:241:ENRC: MINIMIZE\n",
    "constraints:\n",
    "    TOTAL_SOFT_LOSSES: [GREATER_THAN, -25]\n",
    "    TOTAL_HARD_LOSSES: [GREATER_THAN, -50]\n",
    "\n",
    "linked_variables: {}\n",
    "constants: {}\n",
    "\"\"\"\n",
    "\n",
    "# create list of inputs and outputs\n",
    "inputs = []\n",
    "for i in range(2, 10):\n",
    "    inputs += [f'QUAD:LI26:{i}01']\n",
    "\n",
    "outputs = [\n",
    "    'EM2K0:XGMD:HPS:AvgPulseIntensity',\n",
    "    'GDET:FEE1:241:ENRC',\n",
    "    'GDET:FEE1:242:ENRC',\n",
    "    'CBLM:UNDH:1375:I0_LOSS',\n",
    "    'CBLM:UNDS:1375:I0_LOSS'\n",
    "]\n",
    "\n",
    "\n",
    "vocs = VOCS.from_yaml(Y)\n",
    "\n",
    "initial_candidate = dict(zip(sorted(vocs.variables.keys()), initial_quad_values))\n",
    "\n",
    "for idx, name in enumerate(sorted(vocs.variables.keys())):\n",
    "    vocs.variables[name] = list(quad_ranges[idx])\n",
    "\n",
    "#subset = [\"QUAD:LI26:801:BCTRL\",\"QUAD:LI26:901:BCTRL\"]\n",
    "#vocs.variables = {ele: list(vocs.variables[ele]) for ele in subset}\n",
    "\n",
    "print(vocs.dict())"
   ]
  },
  {
   "cell_type": "code",
   "execution_count": null,
   "metadata": {},
   "outputs": [],
   "source": []
  }
 ],
 "metadata": {
  "kernelspec": {
   "display_name": "Python 3 (ipykernel)",
   "language": "python",
   "name": "python3"
  },
  "language_info": {
   "codemirror_mode": {
    "name": "ipython",
    "version": 3
   },
   "file_extension": ".py",
   "mimetype": "text/x-python",
   "name": "python",
   "nbconvert_exporter": "python",
   "pygments_lexer": "ipython3",
   "version": "3.9.6"
  }
 },
 "nbformat": 4,
 "nbformat_minor": 1
}
