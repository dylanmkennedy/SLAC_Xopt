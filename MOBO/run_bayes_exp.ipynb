{
 "cells": [
  {
   "cell_type": "code",
   "execution_count": 6,
   "metadata": {
    "pycharm": {
     "name": "#%%\n"
    }
   },
   "outputs": [
    {
     "name": "stdout",
     "output_type": "stream",
     "text": [
      "{'variables': {'QUAD:LI26:201:BCTRL': [10.2, 12.3], 'QUAD:LI26:301:BCTRL': [-12.5, -5.7], 'QUAD:LI26:401:BCTRL': [8.8, 12.2], 'QUAD:LI26:501:BCTRL': [-4.5, -3.7], 'QUAD:LI26:601:BCTRL': [11.2, 12.8], 'QUAD:LI26:701:BCTRL': [-14.5, -13.0], 'QUAD:LI26:801:BCTRL': [12.2, 14.1], 'QUAD:LI26:901:BCTRL': [-10.0, -6.8]}, 'constraints': {'TOTAL_SOFT_LOSSES': ['GREATER_THAN', -25.0], 'TOTAL_HARD_LOSSES': ['GREATER_THAN', -50.0]}, 'objectives': {'GDET:FEE1:241:ENRC': 'MINIMIZE'}, 'constants': {}, 'linked_variables': {}}\n"
     ]
    }
   ],
   "source": [
    "import numpy as np\n",
    "import pandas as pd\n",
    "from xopt.vocs import VOCS\n",
    "\n",
    "# Make a proper input file.\n",
    "quad_ranges = np.array([\n",
    "    [10.2,12.3],\n",
    "    [-12.5, -5.7],\n",
    "    [8.8, 12.2],\n",
    "    [-4.5, -3.7],\n",
    "    [11.2, 12.8],\n",
    "    [-14.5, -13.0],\n",
    "    [12.2, 14.1],\n",
    "    [-10.0, -6.8]\n",
    "])\n",
    "\n",
    "\n",
    "initial_quad_values = [\n",
    "    11.0361936,\n",
    "    -12.4199242,\n",
    "    11.2858292,\n",
    "    -4.256414 ,\n",
    "    11.9899023,\n",
    "    -13.6483384,\n",
    "    13.2906356,\n",
    "    -9.5495203\n",
    "]\n",
    "\n",
    "Y =\"\"\"\n",
    "variables:\n",
    "    QUAD:LI26:201:BCTRL: [0, 1] # we will overwrite these\n",
    "    QUAD:LI26:301:BCTRL: [0, 1]\n",
    "    QUAD:LI26:401:BCTRL: [0, 1]\n",
    "    QUAD:LI26:501:BCTRL: [0, 1]\n",
    "    QUAD:LI26:601:BCTRL: [0, 1]\n",
    "    QUAD:LI26:701:BCTRL: [0, 1]\n",
    "    QUAD:LI26:801:BCTRL: [0, 1]\n",
    "    QUAD:LI26:901:BCTRL: [0, 1]\n",
    "objectives:\n",
    "    GDET:FEE1:241:ENRC: MINIMIZE\n",
    "constraints:\n",
    "    TOTAL_SOFT_LOSSES: [GREATER_THAN, -25]\n",
    "    TOTAL_HARD_LOSSES: [GREATER_THAN, -50]\n",
    "\n",
    "linked_variables: {}\n",
    "constants: {}\n",
    "\"\"\"\n",
    "\n",
    "# create list of inputs and outputs\n",
    "inputs = []\n",
    "for i in range(2, 10):\n",
    "    inputs += [f'QUAD:LI26:{i}01']\n",
    "\n",
    "outputs = [\n",
    "    'EM2K0:XGMD:HPS:AvgPulseIntensity',\n",
    "    'GDET:FEE1:241:ENRC',\n",
    "    'GDET:FEE1:242:ENRC',\n",
    "    'CBLM:UNDH:1375:I0_LOSS',\n",
    "    'CBLM:UNDS:1375:I0_LOSS'\n",
    "]\n",
    "\n",
    "\n",
    "vocs = VOCS.from_yaml(Y)\n",
    "\n",
    "#initial_candidate = dict(zip(sorted(vocs.variables.keys()), initial_quad_values))\n",
    "\n",
    "for idx, name in enumerate(sorted(vocs.variables.keys())):\n",
    "    vocs.variables[name] = list(quad_ranges[idx])\n",
    "\n",
    "#subset = [\"QUAD:LI26:801:BCTRL\",\"QUAD:LI26:901:BCTRL\"]\n",
    "#vocs.variables = {ele: list(vocs.variables[ele]) for ele in subset}\n",
    "\n",
    "print(vocs.dict())"
   ]
  },
  {
   "cell_type": "code",
   "execution_count": 9,
   "outputs": [
    {
     "name": "stdout",
     "output_type": "stream",
     "text": [
      "variables={'QUAD:LI26:201:BCTRL': [10.2, 12.3], 'QUAD:LI26:301:BCTRL': [-12.5, -5.7], 'QUAD:LI26:401:BCTRL': [8.8, 12.2], 'QUAD:LI26:501:BCTRL': [-4.5, -3.7], 'QUAD:LI26:601:BCTRL': [11.2, 12.8], 'QUAD:LI26:701:BCTRL': [-14.5, -13.0], 'QUAD:LI26:801:BCTRL': [12.2, 14.1], 'QUAD:LI26:901:BCTRL': [-10.0, -6.8]} constraints={'TOTAL_SOFT_LOSSES': ['GREATER_THAN', -25.0], 'TOTAL_HARD_LOSSES': ['GREATER_THAN', -50.0]} objectives={'GDET:FEE1:241:ENRC': 'MINIMIZE'} constants={} linked_variables={}\n",
      "{'optim': {'num_restarts': 5, 'raw_samples': 20, 'sequential': True}, 'acq': {'proximal_lengthscales': None, 'monte_carlo_samples': 512}, 'model': {}, 'n_initial': 3}\n"
     ]
    }
   ],
   "source": [
    "# create evaluator and generator objects\n",
    "from xopt.evaluator import Evaluator\n",
    "from xopt.generators.bayesian import BayesianExplorationGenerator\n",
    "#from measurements import do_measurement\n",
    "\n",
    "def dummy(x):\n",
    "    return 0\n",
    "\n",
    "evaluator = Evaluator(dummy)\n",
    "generator = BayesianExplorationGenerator(\n",
    "    vocs\n",
    ")\n",
    "print(vocs)\n",
    "print(generator.options.dict())\n",
    "generator.options.n_initial = 5\n",
    "generator.options.optim.num_restarts=1\n",
    "generator.options.acq.proximal_lengthscales=[1.5, 1.5]"
   ],
   "metadata": {
    "collapsed": false,
    "pycharm": {
     "name": "#%%\n"
    }
   }
  },
  {
   "cell_type": "code",
   "execution_count": 23,
   "outputs": [],
   "source": [
    "# run the optimization\n",
    "from xopt import Xopt\n",
    "X = Xopt(generator=generator, evaluator=evaluator, vocs=vocs)\n"
   ],
   "metadata": {
    "collapsed": false,
    "pycharm": {
     "name": "#%%\n"
    }
   }
  },
  {
   "cell_type": "code",
   "execution_count": 26,
   "outputs": [
    {
     "name": "stdout",
     "output_type": "stream",
     "text": [
      "   QUAD:LI26:201:BCTRL  QUAD:LI26:301:BCTRL  QUAD:LI26:401:BCTRL  \\\n",
      "0            11.036194           -12.419924            11.285829   \n",
      "\n",
      "   QUAD:LI26:501:BCTRL  QUAD:LI26:601:BCTRL  QUAD:LI26:701:BCTRL  \\\n",
      "0            -4.256414            11.989902           -13.648338   \n",
      "\n",
      "   QUAD:LI26:801:BCTRL  QUAD:LI26:901:BCTRL  \n",
      "0            13.290636             -9.54952  \n"
     ]
    },
    {
     "data": {
      "text/plain": "0"
     },
     "execution_count": 26,
     "metadata": {},
     "output_type": "execute_result"
    }
   ],
   "source": [
    "# submit initial candidates\n",
    "import pandas as pd\n",
    "initial_candidates = pd.DataFrame(\n",
    "    np.array(initial_quad_values).reshape(1,-1), columns=vocs.variable_names\n",
    ")\n",
    "print(\n",
    "    initial_candidates\n",
    ")\n",
    "X.submit_data(initial_candidates)\n",
    "X.process_futures()"
   ],
   "metadata": {
    "collapsed": false,
    "pycharm": {
     "name": "#%%\n"
    }
   }
  },
  {
   "cell_type": "code",
   "execution_count": null,
   "outputs": [],
   "source": [],
   "metadata": {
    "collapsed": false,
    "pycharm": {
     "name": "#%%\n"
    }
   }
  },
  {
   "cell_type": "code",
   "execution_count": 27,
   "outputs": [],
   "source": [
    "#X.step()"
   ],
   "metadata": {
    "collapsed": false,
    "pycharm": {
     "name": "#%%\n"
    }
   }
  },
  {
   "cell_type": "code",
   "execution_count": 28,
   "outputs": [
    {
     "data": {
      "text/plain": "   QUAD:LI26:201:BCTRL  QUAD:LI26:301:BCTRL  QUAD:LI26:401:BCTRL  \\\n0            11.036194           -12.419924            11.285829   \n1            11.036194           -12.419924            11.285829   \n\n   QUAD:LI26:501:BCTRL  QUAD:LI26:601:BCTRL  QUAD:LI26:701:BCTRL  \\\n0            -4.256414            11.989902           -13.648338   \n1            -4.256414            11.989902           -13.648338   \n\n   QUAD:LI26:801:BCTRL  QUAD:LI26:901:BCTRL  xopt_error  \\\n0            13.290636             -9.54952        True   \n1            13.290636             -9.54952        True   \n\n                                      xopt_error_str  \n0  Traceback (most recent call last):\\n  File \"c:...  \n1  Traceback (most recent call last):\\n  File \"c:...  ",
      "text/html": "<div>\n<style scoped>\n    .dataframe tbody tr th:only-of-type {\n        vertical-align: middle;\n    }\n\n    .dataframe tbody tr th {\n        vertical-align: top;\n    }\n\n    .dataframe thead th {\n        text-align: right;\n    }\n</style>\n<table border=\"1\" class=\"dataframe\">\n  <thead>\n    <tr style=\"text-align: right;\">\n      <th></th>\n      <th>QUAD:LI26:201:BCTRL</th>\n      <th>QUAD:LI26:301:BCTRL</th>\n      <th>QUAD:LI26:401:BCTRL</th>\n      <th>QUAD:LI26:501:BCTRL</th>\n      <th>QUAD:LI26:601:BCTRL</th>\n      <th>QUAD:LI26:701:BCTRL</th>\n      <th>QUAD:LI26:801:BCTRL</th>\n      <th>QUAD:LI26:901:BCTRL</th>\n      <th>xopt_error</th>\n      <th>xopt_error_str</th>\n    </tr>\n  </thead>\n  <tbody>\n    <tr>\n      <th>0</th>\n      <td>11.036194</td>\n      <td>-12.419924</td>\n      <td>11.285829</td>\n      <td>-4.256414</td>\n      <td>11.989902</td>\n      <td>-13.648338</td>\n      <td>13.290636</td>\n      <td>-9.54952</td>\n      <td>True</td>\n      <td>Traceback (most recent call last):\\n  File \"c:...</td>\n    </tr>\n    <tr>\n      <th>1</th>\n      <td>11.036194</td>\n      <td>-12.419924</td>\n      <td>11.285829</td>\n      <td>-4.256414</td>\n      <td>11.989902</td>\n      <td>-13.648338</td>\n      <td>13.290636</td>\n      <td>-9.54952</td>\n      <td>True</td>\n      <td>Traceback (most recent call last):\\n  File \"c:...</td>\n    </tr>\n  </tbody>\n</table>\n</div>"
     },
     "execution_count": 28,
     "metadata": {},
     "output_type": "execute_result"
    }
   ],
   "source": [
    "X.data"
   ],
   "metadata": {
    "collapsed": false,
    "pycharm": {
     "name": "#%%\n"
    }
   }
  },
  {
   "cell_type": "code",
   "execution_count": null,
   "outputs": [],
   "source": [],
   "metadata": {
    "collapsed": false,
    "pycharm": {
     "name": "#%%\n"
    }
   }
  },
  {
   "cell_type": "code",
   "execution_count": null,
   "metadata": {
    "pycharm": {
     "name": "#%%\n"
    }
   },
   "outputs": [],
   "source": []
  }
 ],
 "metadata": {
  "kernelspec": {
   "display_name": "Python 3 (ipykernel)",
   "language": "python",
   "name": "python3"
  },
  "language_info": {
   "codemirror_mode": {
    "name": "ipython",
    "version": 3
   },
   "file_extension": ".py",
   "mimetype": "text/x-python",
   "name": "python",
   "nbconvert_exporter": "python",
   "pygments_lexer": "ipython3",
   "version": "3.9.6"
  }
 },
 "nbformat": 4,
 "nbformat_minor": 1
}