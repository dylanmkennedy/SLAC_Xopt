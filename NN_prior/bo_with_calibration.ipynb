{
 "cells": [
  {
   "cell_type": "code",
   "execution_count": null,
   "metadata": {
    "ExecuteTime": {
     "end_time": "2023-04-05T15:18:05.651026Z",
     "start_time": "2023-04-05T15:18:05.645468Z"
    }
   },
   "outputs": [],
   "source": [
    "import torch\n",
    "import warnings\n",
    "warnings.filterwarnings('ignore')\n",
    "import matplotlib.pyplot as plt\n",
    "import utilities as util\n",
    "\n",
    "from botorch.models.transforms.input import Normalize\n",
    "from botorch.models.transforms.outcome import Standardize\n",
    "from custom_mean import LinearCalibration\n",
    "from optimizer import BayesOpt"
   ]
  },
  {
   "cell_type": "code",
   "execution_count": null,
   "metadata": {
    "ExecuteTime": {
     "end_time": "2023-04-05T15:17:33.248803Z",
     "start_time": "2023-04-05T15:17:33.242220Z"
    }
   },
   "outputs": [],
   "source": [
    "# load surrogate and define objective\n",
    "surrogate = util.Surrogate()\n",
    "Objective = util.NegativeTransverseBeamSize\n",
    "ground_truth = Objective(surrogate.model)"
   ]
  },
  {
   "cell_type": "code",
   "execution_count": null,
   "metadata": {
    "ExecuteTime": {
     "end_time": "2023-04-05T15:17:33.250631Z",
     "start_time": "2023-04-05T15:17:33.248108Z"
    }
   },
   "outputs": [],
   "source": [
    "# define custom mean\n",
    "x_shift = torch.zeros(surrogate.x_dim)\n",
    "x_scale = torch.ones(surrogate.x_dim)\n",
    "y_shift = torch.tensor([0.2])\n",
    "y_scale = torch.tensor([1.0])\n",
    "\n",
    "mismatched_gt = util.MismatchedGroundTruth(\n",
    "    x_dim=surrogate.x_dim,\n",
    "    ground_truth=ground_truth,\n",
    "    x_shift=x_shift,\n",
    "    x_scale=x_scale,\n",
    "    y_shift=y_shift,\n",
    "    y_scale=y_scale,\n",
    ")\n",
    "\n",
    "custom_mean = LinearCalibration(\n",
    "    mismatched_gt,\n",
    "    Normalize(surrogate.x_dim, bounds=surrogate.x_lim.T),\n",
    "    Standardize(1),\n",
    "    x_dim=surrogate.x_dim,\n",
    "    y_dim=1,\n",
    ")"
   ]
  },
  {
   "cell_type": "code",
   "execution_count": null,
   "metadata": {
    "ExecuteTime": {
     "end_time": "2023-04-05T15:17:39.825110Z",
     "start_time": "2023-04-05T15:17:33.258608Z"
    }
   },
   "outputs": [],
   "source": [
    "# run Bayesian optimization\n",
    "bo = BayesOpt(surrogate, ground_truth, n_init=5, n_step=25)\n",
    "bo.run(custom_mean)"
   ]
  },
  {
   "cell_type": "code",
   "execution_count": null,
   "metadata": {},
   "outputs": [],
   "source": [
    "# plot optmization sequence\n",
    "bo.plot_running_max();"
   ]
  },
  {
   "cell_type": "code",
   "execution_count": null,
   "metadata": {},
   "outputs": [],
   "source": [
    "# plot sample distribution\n",
    "bo.plot_sample_distribution();"
   ]
  },
  {
   "cell_type": "code",
   "execution_count": null,
   "metadata": {
    "ExecuteTime": {
     "end_time": "2023-04-05T15:17:40.113835Z",
     "start_time": "2023-04-05T15:17:40.113442Z"
    }
   },
   "outputs": [],
   "source": [
    "# evaluate input calibration\n",
    "if hasattr(custom_mean, \"x_shift\") and hasattr(custom_mean, \"x_scale\"):\n",
    "    print(\"{:<5s} {:>10s} {:>10s} {:>10s} {:>10s}\".format(\"x_dim\", \"x_shift\", \"learned\", \"x_scale\", \"learned\"))\n",
    "    for i in range(custom_mean.x_dim):\n",
    "        x_shifts = (mismatched_gt.x_shift.detach()[i], -custom_mean.x_shift.detach()[i])\n",
    "        x_scales = (mismatched_gt.x_scale.detach()[i], 1 / custom_mean.x_scale.detach()[i])\n",
    "        print(\"{:<5d} {:10.2f} {:10.2f} {:10.2f} {:10.2f}\".format(i, *x_shifts, *x_scales))\n",
    "        if i == custom_mean.x_dim - 1: print()\n",
    "\n",
    "# evaluate output calibration\n",
    "if hasattr(custom_mean, \"y_shift\") and hasattr(custom_mean, \"y_scale\"):\n",
    "    print(\"{:<5s} {:>10s} {:>10s} {:>10s} {:>10s}\".format(\"y_dim\", \"y_shift\", \"learned\", \"y_scale\", \"learned\"))\n",
    "    for i in range(custom_mean.y_dim):\n",
    "        y_shifts = (mismatched_gt.y_shift.detach()[i], -custom_mean.y_shift.detach()[i])\n",
    "        y_scales = (mismatched_gt.y_scale.detach()[i], 1 / custom_mean.y_scale.detach()[i])\n",
    "        print(\"{:<5d} {:10.2f} {:10.2f} {:10.2f} {:10.2f}\".format(i, *y_shifts, *y_scales))"
   ]
  },
  {
   "cell_type": "code",
   "execution_count": null,
   "metadata": {
    "ExecuteTime": {
     "end_time": "2023-04-05T15:17:40.113869Z",
     "start_time": "2023-04-05T15:17:40.113503Z"
    }
   },
   "outputs": [],
   "source": []
  }
 ],
 "metadata": {
  "kernelspec": {
   "display_name": "Python 3 (ipykernel)",
   "language": "python",
   "name": "python3"
  },
  "language_info": {
   "codemirror_mode": {
    "name": "ipython",
    "version": 3
   },
   "file_extension": ".py",
   "mimetype": "text/x-python",
   "name": "python",
   "nbconvert_exporter": "python",
   "pygments_lexer": "ipython3",
   "version": "3.9.16"
  }
 },
 "nbformat": 4,
 "nbformat_minor": 1
}
