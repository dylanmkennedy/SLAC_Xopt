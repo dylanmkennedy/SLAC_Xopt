{
 "cells": [
  {
   "cell_type": "code",
   "execution_count": null,
   "id": "cea3b817",
   "metadata": {},
   "outputs": [],
   "source": [
    "import torch\n",
    "import numpy as np\n",
    "import matplotlib.pyplot as plt\n",
    "\n",
    "import utilities as util"
   ]
  },
  {
   "cell_type": "markdown",
   "id": "2c454e3b",
   "metadata": {},
   "source": [
    "# Compare different Correlated Models"
   ]
  },
  {
   "cell_type": "code",
   "execution_count": null,
   "id": "c94e2208",
   "metadata": {},
   "outputs": [],
   "source": [
    "n_init = 3  # number of initial samples\n",
    "n_run = 100  # number of runs\n",
    "n_step = 50  # number of steps for BO\n",
    "config = \"offset_calibration\"  # configuration of the prior mean\n",
    "acq_name = \"EI\"\n",
    "n_epochs = [10]  # which correlated models to compare\n",
    "\n",
    "data, param = {}, {}\n",
    "d = torch.load(\"BO/constant_prior/{}/constant.pt\".format(acq_name))\n",
    "data[\"constant\"] = util.running_max(d[\"y\"].squeeze())\n",
    "for n_epoch in n_epochs:\n",
    "    d = torch.load(\"BO/{}/{}/ep={:d}.pt\".format(config, acq_name, n_epoch))\n",
    "    data[\"ep={:d}\".format(n_epoch)] = util.running_max(d[\"y\"].squeeze())\n",
    "    p_dict = {}\n",
    "    for k, v in d.items():\n",
    "        if k not in [\"x\", \"y\"]:\n",
    "            p_dict[k] = v\n",
    "    param[\"ep={:d}\".format(n_epoch)] = p_dict\n",
    "correlations = torch.load(\"corr_models/correlations.pt\")\n",
    "maes = torch.load(\"corr_models/maes.pt\") * 1e3  # in mm"
   ]
  },
  {
   "cell_type": "code",
   "execution_count": null,
   "id": "7819ca69",
   "metadata": {},
   "outputs": [],
   "source": [
    "# calculate statistics\n",
    "confidence_level = 0.9\n",
    "median = torch.empty((len(n_epochs) + 1, n_init + n_step))\n",
    "confidence = torch.empty((len(n_epochs) + 1, 2, n_init + n_step))\n",
    "\n",
    "for i in range(len(n_epochs) + 1):\n",
    "    if i == 0:\n",
    "        k = \"constant\"\n",
    "    else:\n",
    "        k = \"ep={:d}\".format(n_epochs[i - 1])\n",
    "    median[i, :] = torch.median(data[k], dim=0)[0]\n",
    "    q = (1 - confidence_level) / 2.0\n",
    "    confidence[i, 0, :] = torch.quantile(data[k], q=q, dim=0)\n",
    "    confidence[i, 1, :] = torch.quantile(data[k], q=1-q, dim=0)"
   ]
  },
  {
   "cell_type": "code",
   "execution_count": null,
   "id": "e8a618df",
   "metadata": {},
   "outputs": [],
   "source": [
    "# labels, units, start index\n",
    "obj_name = \"Negative Transverse Beam Size\"\n",
    "obj_factor = 1e3\n",
    "obj_unit = \"(mm)\"\n",
    "\n",
    "start_idx = n_init - 1\n",
    "x = torch.arange(0, n_step + n_init - start_idx)\n",
    "median *= obj_factor\n",
    "confidence *= obj_factor"
   ]
  },
  {
   "cell_type": "code",
   "execution_count": null,
   "id": "53f52ad9",
   "metadata": {},
   "outputs": [],
   "source": [
    "# create plot\n",
    "fig, ax = plt.subplots(1, 1, figsize=(10, 6))\n",
    "legend_handles, legend_labels = [], []\n",
    "for i in range(len(n_epochs) + 1):\n",
    "    if i == 0:\n",
    "        label = \"constant prior\"\n",
    "    else:\n",
    "        label = \"{:.0f}$\\,$% correlation, MAE: {:.2f}$\\,$mm\".format(100 * correlations[n_epochs[i - 1] - 1], \n",
    "                                                              maes[n_epochs[i - 1] - 1])\n",
    "    p1 = ax.plot(x, median[i, start_idx:], \"C{:d}-\".format(i), label=label)\n",
    "    ax.fill_between(x, confidence[i, 0, start_idx:], confidence[i, 1, start_idx:], \n",
    "                    color=\"C{:d}\".format(i), alpha=0.25)\n",
    "    p2 = ax.fill([], [], color=\"C{:d}\".format(i), linewidth=0, alpha=0.25)\n",
    "    legend_handles.append((p2[0], p1[0]))\n",
    "    legend_labels.append(label)\n",
    "\n",
    "ax.set_title(config)\n",
    "ax.set_xlabel(\"Step\")\n",
    "ax.set_ylabel(\"{} {}\".format(obj_name, obj_unit))\n",
    "ax.legend(legend_handles, legend_labels, loc=4, alignment=\"left\", \n",
    "          title=\"Median with {:.0f}$\\,$% CL\".format(100 * confidence_level))\n",
    "fig.tight_layout()"
   ]
  },
  {
   "cell_type": "code",
   "execution_count": null,
   "id": "6e49091d",
   "metadata": {},
   "outputs": [],
   "source": [
    "# calculate statistics\n",
    "confidence_level = 0.9\n",
    "x = torch.arange(0, n_step)\n",
    "start_idx = 0\n",
    "median = {}\n",
    "c_lb, c_ub = {}, {}\n",
    "\n",
    "for i in range(len(n_epochs)):\n",
    "    k = \"ep={:d}\".format(n_epochs[i - 1])\n",
    "    if param[k]:\n",
    "        median[k], c_lb[k], c_ub[k] = {}, {}, {}\n",
    "        for key, value in param[k].items():\n",
    "            median[k][key] = torch.median(value, dim=0)[0].detach()\n",
    "            q = (1 - confidence_level) / 2.0\n",
    "            c_lb[k][key] = torch.quantile(value, q=q, dim=0).detach()\n",
    "            c_ub[k][key] = torch.quantile(value, q=1-q, dim=0).detach()"
   ]
  },
  {
   "cell_type": "code",
   "execution_count": null,
   "id": "d6bd77a2",
   "metadata": {},
   "outputs": [],
   "source": [
    "# create plot\n",
    "fig, ax = plt.subplots(1, 1, figsize=(10, 6))\n",
    "legend_handles, legend_labels = [], []\n",
    "for i in range(len(n_epochs)):\n",
    "    label = \"{:.0f}$\\,$% correlation, MAE: {:.2f}$\\,$mm\".format(100 * correlations[n_epochs[i] - 1], \n",
    "                                                          maes[n_epochs[i] - 1])\n",
    "    k = \"ep={:d}\".format(n_epochs[i - 1])\n",
    "    for key, value in median[k].items():\n",
    "        label = key + \", \" + label\n",
    "        p1 = ax.plot(x, value[start_idx:], \"C{:d}-\".format(i+1), label=label)\n",
    "        ax.fill_between(x, c_lb[k][key][start_idx:], c_ub[k][key][start_idx:], \n",
    "                        color=\"C{:d}\".format(i+1), alpha=0.25)\n",
    "        p2 = ax.fill([], [], color=\"C{:d}\".format(i+1), linewidth=0, alpha=0.25)\n",
    "        legend_handles.append((p2[0], p1[0]))\n",
    "        legend_labels.append(label)\n",
    "\n",
    "ax.set_xlabel(\"Step\")\n",
    "ax.set_ylabel(\"Parameter Value\")\n",
    "ax.legend(legend_handles, legend_labels, loc=4, alignment=\"left\", \n",
    "          title=\"Median with {:.0f}$\\,$% CL\".format(100 * confidence_level))\n",
    "fig.tight_layout()"
   ]
  },
  {
   "cell_type": "markdown",
   "id": "6ac060fc",
   "metadata": {},
   "source": [
    "# Compare different Prior Mean Configurations"
   ]
  },
  {
   "cell_type": "code",
   "execution_count": null,
   "id": "351cb70f",
   "metadata": {},
   "outputs": [],
   "source": [
    "n_init = 3  # number of initial samples\n",
    "n_run = 100  # number of runs\n",
    "n_step = 50  # number of steps for BO\n",
    "configs = [\"no_adjustments\", \"offset_calibration\", \"scale_calibration\",\n",
    "          \"fixed_offset\", \"alternate\", \"flatten\"]  # prior mean configurations to compare\n",
    "acq_name = \"EI\"\n",
    "n_epoch = 10\n",
    "\n",
    "data = {}\n",
    "d = torch.load(\"BO/constant_prior/{}/constant.pt\".format(acq_name))\n",
    "data[\"constant\"] = util.running_max(d[\"y\"].squeeze())\n",
    "for c in configs:\n",
    "    d = torch.load(\"BO/{}/{}/ep={:d}.pt\".format(c, acq_name, n_epoch))\n",
    "    data[c] = util.running_max(d[\"y\"].squeeze())\n",
    "correlations = torch.load(\"corr_models/correlations.pt\")\n",
    "maes = torch.load(\"corr_models/maes.pt\") * 1e3  # in mm"
   ]
  },
  {
   "cell_type": "code",
   "execution_count": null,
   "id": "bb28b9cd",
   "metadata": {},
   "outputs": [],
   "source": [
    "# calculate statistics\n",
    "confidence_level = 0.9\n",
    "median = torch.empty((len(configs), n_init + n_step))\n",
    "confidence = torch.empty((len(configs), 2, n_init + n_step))\n",
    "\n",
    "for i, k in enumerate(configs):\n",
    "    median[i, :] = torch.median(data[k], dim=0)[0]\n",
    "    q = (1 - confidence_level) / 2.0\n",
    "    confidence[i, 0, :] = torch.quantile(data[k], q=q, dim=0)\n",
    "    confidence[i, 1, :] = torch.quantile(data[k], q=1-q, dim=0)"
   ]
  },
  {
   "cell_type": "code",
   "execution_count": null,
   "id": "826d071e",
   "metadata": {},
   "outputs": [],
   "source": [
    "# labels and units\n",
    "obj_name = \"Negative Transverse Beam Size\"\n",
    "obj_factor = 1e3\n",
    "obj_unit = \"(mm)\"\n",
    "\n",
    "start_idx = n_init - 1\n",
    "x = torch.arange(0, n_step + n_init - start_idx)\n",
    "median *= obj_factor\n",
    "confidence *= obj_factor"
   ]
  },
  {
   "cell_type": "code",
   "execution_count": null,
   "id": "df7db1aa",
   "metadata": {},
   "outputs": [],
   "source": [
    "# create plot\n",
    "fig, ax = plt.subplots(1, 1, figsize=(10, 6))\n",
    "legend_handles, legend_labels = [], []\n",
    "for i, k in enumerate(configs):\n",
    "    p1 = ax.plot(x, median[i, start_idx:], \"C{:d}-\".format(i))\n",
    "    ax.fill_between(x, confidence[i, 0, start_idx:], confidence[i, 1, start_idx:], \n",
    "                    color=\"C{:d}\".format(i), alpha=0.25)\n",
    "    p2 = ax.fill([], [], color=\"C{:d}\".format(i), linewidth=0, alpha=0.25)\n",
    "    legend_handles.append((p2[0], p1[0]))\n",
    "    legend_labels.append(k)\n",
    "\n",
    "ax.set_title(\"{:.0f}$\\,$% Correlation, MAE: {:.2f}$\\,$mm\".format(100 * correlations[n_epoch - 1], \n",
    "                                                                 maes[n_epoch - 1]))\n",
    "ax.set_xlabel(\"Step\")\n",
    "ax.set_ylabel(\"{} {}\".format(obj_name, obj_unit))\n",
    "ax.legend(legend_handles, legend_labels, loc=4, alignment=\"left\", \n",
    "          title=\"Median with {:.0f}$\\,$% CL\".format(100 * confidence_level))\n",
    "ax.set_ylim(-0.75, 0.0)\n",
    "fig.tight_layout()"
   ]
  },
  {
   "cell_type": "code",
   "execution_count": null,
   "id": "e12aa4c2",
   "metadata": {},
   "outputs": [],
   "source": []
  }
 ],
 "metadata": {
  "kernelspec": {
   "display_name": "Python 3 (ipykernel)",
   "language": "python",
   "name": "python3"
  },
  "language_info": {
   "codemirror_mode": {
    "name": "ipython",
    "version": 3
   },
   "file_extension": ".py",
   "mimetype": "text/x-python",
   "name": "python",
   "nbconvert_exporter": "python",
   "pygments_lexer": "ipython3",
   "version": "3.9.16"
  }
 },
 "nbformat": 4,
 "nbformat_minor": 5
}
