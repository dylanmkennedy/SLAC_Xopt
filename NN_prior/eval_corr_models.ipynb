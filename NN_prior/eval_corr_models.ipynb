{
 "cells": [
  {
   "cell_type": "code",
   "execution_count": null,
   "id": "60c58d3f",
   "metadata": {},
   "outputs": [],
   "source": [
    "import torch\n",
    "import botorch\n",
    "import numpy as np\n",
    "import matplotlib.pyplot as plt\n",
    "import utilities as util\n",
    "\n",
    "from transformed_model import KeyedTransformedModel"
   ]
  },
  {
   "cell_type": "code",
   "execution_count": null,
   "id": "9b932f71",
   "metadata": {},
   "outputs": [],
   "source": [
    "# load surrogate and define objective\n",
    "surrogate = util.Surrogate()\n",
    "Objective = util.NegativeTransverseBeamSize\n",
    "ground_truth = Objective(surrogate.model)"
   ]
  },
  {
   "cell_type": "code",
   "execution_count": null,
   "id": "67c7c005",
   "metadata": {},
   "outputs": [],
   "source": [
    "# load correlated models\n",
    "n_epochs = 25\n",
    "corr_models, corr_objs = [], []\n",
    "for i in range(n_epochs):\n",
    "    corr_models.append(util.load_correlated_model(i + 1, surrogate)[0])\n",
    "    corr_objs.append(Objective(corr_models[-1]))"
   ]
  },
  {
   "cell_type": "markdown",
   "id": "5514d77c",
   "metadata": {},
   "source": [
    "# Correlations and MAEs"
   ]
  },
  {
   "cell_type": "code",
   "execution_count": null,
   "id": "4ff74608",
   "metadata": {},
   "outputs": [],
   "source": [
    "path = \"./corr_models/\"\n",
    "rng_seed = 3\n",
    "n_samples = 10000\n",
    "cutoff_value = None\n",
    "\n",
    "# uniform samples\n",
    "x = surrogate.sample_x(n_samples, seed=rng_seed)\n",
    "y = ground_truth(x).detach()\n",
    "\n",
    "# calculate correlations and MAE for all models\n",
    "correlations, maes = [], []\n",
    "for i in range(n_epochs):\n",
    "    y_corr = corr_objs[i](x).detach()\n",
    "    correlations.append(util.calc_correlation(y, y_corr, cutoff_value))\n",
    "    maes.append(util.calc_mean_absolute_error(y, y_corr))\n",
    "torch.save(torch.tensor(correlations), path + \"correlations.pt\")\n",
    "torch.save(torch.tensor(maes), path + \"maes.pt\")"
   ]
  },
  {
   "cell_type": "code",
   "execution_count": null,
   "id": "4426a618",
   "metadata": {},
   "outputs": [],
   "source": [
    "# find best models\n",
    "idx_best_corr = np.argmax(correlations)\n",
    "idx_best_mae = np.argmin(maes)\n",
    "\n",
    "# plot correlations and MAEs\n",
    "fig, ax = plt.subplots(nrows=1, ncols=2, figsize=(10, 5))\n",
    "ax[0].plot(torch.arange(n_epochs) + 1, correlations, \"C0o:\")\n",
    "ax[0].plot(idx_best_corr + 1, correlations[idx_best_corr], \"C3o\", \n",
    "           label=\"{:.2f} (after {:d} epochs)\".format(correlations[idx_best_corr], idx_best_corr + 1))\n",
    "ax[0].set_xlabel(\"Number of Epochs\")\n",
    "ax[0].set_ylabel(\"Correlation\")\n",
    "ax[0].legend()\n",
    "\n",
    "ax[1].plot(torch.arange(n_epochs) + 1, torch.tensor(maes) * ground_truth.unit_factor, \"C0o:\")\n",
    "ax[1].plot(idx_best_mae + 1, maes[idx_best_mae] * ground_truth.unit_factor, \"C3o\", \n",
    "           label=\"{:.2f}$\\,${} (after {:d} epochs)\".format(maes[idx_best_mae] * ground_truth.unit_factor, \n",
    "                                                           ground_truth.unit[1:-1], idx_best_mae + 1))\n",
    "ax[1].set_xlabel(\"Number of Epochs\")\n",
    "ax[1].set_ylabel(\"MAE {}\".format(ground_truth.unit))\n",
    "ax[1].legend()\n",
    "\n",
    "fig.tight_layout()"
   ]
  },
  {
   "cell_type": "markdown",
   "id": "f75ddbea",
   "metadata": {},
   "source": [
    "# Analysis of Best Model"
   ]
  },
  {
   "cell_type": "code",
   "execution_count": null,
   "id": "e003fad9",
   "metadata": {},
   "outputs": [],
   "source": [
    "# select model\n",
    "idx_best = idx_best_corr\n",
    "corr_obj = corr_objs[idx_best]\n",
    "y_corr = corr_obj(x).detach()\n",
    "\n",
    "# print correlation\n",
    "print(\"{:d} Epochs -> Correlation: {:.2f}, MAE: {:.2f} {}\".format(idx_best + 1, correlations[idx_best], \n",
    "                                                                  maes[idx_best] * ground_truth.unit_factor,\n",
    "                                                                  ground_truth.unit[1:-1]))"
   ]
  },
  {
   "cell_type": "code",
   "execution_count": null,
   "id": "5da48b1e",
   "metadata": {},
   "outputs": [],
   "source": [
    "# plot objective distributions\n",
    "fig, ax = plt.subplots(nrows=1, ncols=2, sharex=True, sharey=True, figsize=(10, 5))\n",
    "ax[0].hist(y * ground_truth.unit_factor, bins=100)\n",
    "ax[0].set_title(\"Surrogate Model\")\n",
    "ax[0].set_ylabel(\"Number of Samples\")\n",
    "ax[1].hist(y_corr * ground_truth.unit_factor, bins=100)\n",
    "ax[1].set_title(\"Correlated Model ({:d} Epochs)\".format(idx_best + 1))\n",
    "for i in range(2):\n",
    "    ax[i].set_xlabel(\"{} {}\".format(ground_truth.name, ground_truth.unit))\n",
    "fig.tight_layout()"
   ]
  },
  {
   "cell_type": "code",
   "execution_count": null,
   "id": "8fee6bd1",
   "metadata": {},
   "outputs": [],
   "source": [
    "# plot correlations\n",
    "fig, ax = plt.subplots(nrows=1, ncols=1, figsize=(8, 6))\n",
    "ax.set_xlabel(\"Correlated Model Objective {}\".format(ground_truth.unit))\n",
    "ax.set_ylabel(\"Surrogate Model Objective {}\".format(ground_truth.unit))\n",
    "ax.set_title(\"Correlation ({:d} Epochs)\".format(idx_best + 1))\n",
    "if cutoff_value is not None:\n",
    "    ax.set_xlim([cutoff_value * ground_truth.unit_factor, 0.0])\n",
    "    ax.set_ylim([cutoff_value * ground_truth.unit_factor, 0.0])\n",
    "ax.scatter(y_corr * ground_truth.unit_factor, y * ground_truth.unit_factor, s=np.full(n_samples, 10))\n",
    "ax.scatter(y * ground_truth.unit_factor, y * ground_truth.unit_factor, s=np.full(n_samples, 10), alpha=0.5)\n",
    "fig.tight_layout()"
   ]
  },
  {
   "cell_type": "code",
   "execution_count": null,
   "id": "a8dd6cc4",
   "metadata": {},
   "outputs": [],
   "source": [
    "# use sample optimum as reference point\n",
    "ref_idx = torch.argmax(y)\n",
    "ref_x, ref_y = x[ref_idx], y[ref_idx]\n",
    "\n",
    "# 1D scan reference point\n",
    "def scan_ref_x(n_samples, dim=0):\n",
    "    x_lim = surrogate.raw_x_lim\n",
    "    samples = ref_x.repeat(n_samples, 1)\n",
    "    samples[:, dim] = torch.linspace(x_lim[dim, 0], x_lim[dim, 1], n_samples)\n",
    "    return samples.double()"
   ]
  },
  {
   "cell_type": "code",
   "execution_count": null,
   "id": "d6dd7202",
   "metadata": {
    "scrolled": false
   },
   "outputs": [],
   "source": [
    "# correlation for individual input dimensions\n",
    "n_scan = 100\n",
    "nrows, ncols = 5, 3\n",
    "figsize = (12, 12 * nrows / ncols)\n",
    "\n",
    "fig, ax = plt.subplots(nrows=nrows, ncols=ncols, sharey=True, figsize=figsize)\n",
    "idx = [i for i in range(surrogate.x_dim) if i not in surrogate.fixed_feature_columns]  # remove fixed dimensions\n",
    "\n",
    "for i in range(nrows * ncols):\n",
    "    ax_i = ax[i // ncols, i % ncols]\n",
    "    if i > len(idx) - 1:\n",
    "        ax_i.axis('off')\n",
    "    else:\n",
    "        j = idx[i]\n",
    "        # calculate 1D scan\n",
    "        x_scan = scan_ref_x(n_scan, dim=j)\n",
    "        y_scan = ground_truth(x_scan).detach()\n",
    "        y_corr_scan = corr_obj(x_scan).detach()\n",
    "        corr = util.calc_correlation(y_scan, y_corr_scan, cutoff_value)\n",
    "        mae = util.calc_mean_absolute_error(y_scan, y_corr_scan, cutoff_value)\n",
    "\n",
    "        # map sim values to pv\n",
    "        parameter_name = surrogate.model_info[\"model_in_list\"][j]\n",
    "        pv_name = surrogate.pv_info[\"sim_name_to_pv_name\"][parameter_name]\n",
    "        pv_factor = surrogate.pv_info[\"sim_to_pv_factor\"][parameter_name]\n",
    "        pv_unit = surrogate.pv_info[\"pv_unit\"][pv_name]\n",
    "\n",
    "        # plot data\n",
    "        ax_i.plot(x_scan[:, j] * pv_factor, y_scan * ground_truth.unit_factor, \"C0\", label=\"Surrogate\")\n",
    "        ax_i.plot(x_scan[:, j] * pv_factor, y_corr_scan * ground_truth.unit_factor, \"C1\", \n",
    "                  label=\"Correlation: {:.0f}$\\,$%\\nMAE: {:.2f}$\\,${}\".format(100 * corr, \n",
    "                                                                             mae * ground_truth.unit_factor,\n",
    "                                                                             ground_truth.unit[1:-1]))\n",
    "        ax_i.set_xlabel(\"{} {}\".format(pv_name, pv_unit))\n",
    "        if i % 3 == 0:\n",
    "            ax_i.set_ylabel(\"{} {}\".format(ground_truth.name, ground_truth.unit))\n",
    "        ax_i.legend()\n",
    "fig.tight_layout()"
   ]
  },
  {
   "cell_type": "code",
   "execution_count": null,
   "id": "84eb8803",
   "metadata": {},
   "outputs": [],
   "source": []
  }
 ],
 "metadata": {
  "kernelspec": {
   "display_name": "Python 3 (ipykernel)",
   "language": "python",
   "name": "python3"
  },
  "language_info": {
   "codemirror_mode": {
    "name": "ipython",
    "version": 3
   },
   "file_extension": ".py",
   "mimetype": "text/x-python",
   "name": "python",
   "nbconvert_exporter": "python",
   "pygments_lexer": "ipython3",
   "version": "3.9.16"
  }
 },
 "nbformat": 4,
 "nbformat_minor": 5
}
