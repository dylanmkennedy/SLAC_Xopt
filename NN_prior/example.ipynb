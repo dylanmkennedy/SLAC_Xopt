{
 "cells": [
  {
   "cell_type": "markdown",
   "source": [
    "## Demonstrate evaluating the surrogate model and unit transformations\n",
    "This model was trained by Auralee to predict beam properties at OTR2 using injector\n",
    "PVs for LCLS."
   ],
   "metadata": {
    "collapsed": false
   }
  },
  {
   "cell_type": "code",
   "execution_count": 1,
   "outputs": [
    {
     "name": "stdout",
     "output_type": "stream",
     "text": [
      "{'loc_in': {'CQ01:b1_gradient': 4,\n",
      "            'L0A_phase:dtheta0_deg': 7,\n",
      "            'L0A_scale:voltage': 6,\n",
      "            'L0B_phase:dtheta0_deg': 9,\n",
      "            'L0B_scale:voltage': 8,\n",
      "            'QA01:b1_gradient': 10,\n",
      "            'QA02:b1_gradient': 11,\n",
      "            'QE01:b1_gradient': 12,\n",
      "            'QE02:b1_gradient': 13,\n",
      "            'QE03:b1_gradient': 14,\n",
      "            'QE04:b1_gradient': 15,\n",
      "            'SOL1:solenoid_field_scale': 3,\n",
      "            'SQ01:b1_gradient': 5,\n",
      "            'distgen:r_dist:sigma_xy:value': 0,\n",
      "            'distgen:t_dist:length:value': 1,\n",
      "            'distgen:total_charge:value': 2},\n",
      " 'loc_out': {'norm_emit_x': 3,\n",
      "             'norm_emit_y': 4,\n",
      "             'sigma_x': 0,\n",
      "             'sigma_y': 1,\n",
      "             'sigma_z': 2},\n",
      " 'model_in_list': ['distgen:r_dist:sigma_xy:value',\n",
      "                   'distgen:t_dist:length:value',\n",
      "                   'distgen:total_charge:value',\n",
      "                   'SOL1:solenoid_field_scale',\n",
      "                   'CQ01:b1_gradient',\n",
      "                   'SQ01:b1_gradient',\n",
      "                   'L0A_scale:voltage',\n",
      "                   'L0A_phase:dtheta0_deg',\n",
      "                   'L0B_scale:voltage',\n",
      "                   'L0B_phase:dtheta0_deg',\n",
      "                   'QA01:b1_gradient',\n",
      "                   'QA02:b1_gradient',\n",
      "                   'QE01:b1_gradient',\n",
      "                   'QE02:b1_gradient',\n",
      "                   'QE03:b1_gradient',\n",
      "                   'QE04:b1_gradient'],\n",
      " 'model_out_list': ['sigma_x',\n",
      "                    'sigma_y',\n",
      "                    'sigma_z',\n",
      "                    'norm_emit_x',\n",
      "                    'norm_emit_y'],\n",
      " 'run': 'v6_cnsga_',\n",
      " 'screen': 'OTR2',\n",
      " 'train_input_maxs': [0.4999996083265339,\n",
      "                      11.998569812014836,\n",
      "                      250.0,\n",
      "                      0.2563030896232562,\n",
      "                      0.0099925212795954,\n",
      "                      0.009999443099573097,\n",
      "                      58000000.0,\n",
      "                      9.991752397382681,\n",
      "                      70000000.0,\n",
      "                      9.998904767155892,\n",
      "                      3.998197816908352,\n",
      "                      -1.0105116218007806,\n",
      "                      6.9997773994714345,\n",
      "                      0.9983521010385275,\n",
      "                      0.9993010487139868,\n",
      "                      6.998086093251312],\n",
      " 'train_input_mins': [0.21021247820852546,\n",
      "                      3.000000758511308,\n",
      "                      250.0,\n",
      "                      0.19409053333889578,\n",
      "                      -0.009999618141995313,\n",
      "                      -0.009999490058927914,\n",
      "                      58000000.0,\n",
      "                      -24.998714513984325,\n",
      "                      70000000.0,\n",
      "                      -24.99972566363747,\n",
      "                      1.000039854940649,\n",
      "                      -3.990444304119449,\n",
      "                      1.0007061999094193,\n",
      "                      -6.999887318319171,\n",
      "                      -6.998418428856965,\n",
      "                      1.000026533968218]}\n",
      "{'pv_name_to_sim_name': {'ACCL:IN20:300:L0A_ADES': 'L0A_scale:voltage',\n",
      "                         'ACCL:IN20:300:L0A_PDES': 'L0A_phase:dtheta0_deg',\n",
      "                         'ACCL:IN20:400:L0B_ADES': 'L0B_scale:voltage',\n",
      "                         'ACCL:IN20:400:L0B_PDES': 'L0B_phase:dtheta0_deg',\n",
      "                         'Charge': 'distgen:total_charge:value',\n",
      "                         'IRIS:LR20:130:CONFG_SEL': 'distgen:r_dist:sigma_xy:value',\n",
      "                         'Pulse_length': 'distgen:t_dist:length:value',\n",
      "                         'QUAD:IN20:121:BDES': 'CQ01:b1_gradient',\n",
      "                         'QUAD:IN20:122:BDES': 'SQ01:b1_gradient',\n",
      "                         'QUAD:IN20:361:BDES': 'QA01:b1_gradient',\n",
      "                         'QUAD:IN20:371:BDES': 'QA02:b1_gradient',\n",
      "                         'QUAD:IN20:425:BDES': 'QE01:b1_gradient',\n",
      "                         'QUAD:IN20:441:BDES': 'QE02:b1_gradient',\n",
      "                         'QUAD:IN20:511:BDES': 'QE03:b1_gradient',\n",
      "                         'QUAD:IN20:525:BDES': 'QE04:b1_gradient',\n",
      "                         'SOLN:IN20:121:BDES': 'SOL1:solenoid_field_scale'},\n",
      " 'pv_to_sim_factor': {'ACCL:IN20:300:L0A_ADES': 1000000,\n",
      "                      'ACCL:IN20:300:L0A_PDES': 1,\n",
      "                      'ACCL:IN20:400:L0B_ADES': 1000000,\n",
      "                      'ACCL:IN20:400:L0B_PDES': 1,\n",
      "                      'Charge': 1,\n",
      "                      'IRIS:LR20:130:CONFG_SEL': 0.3333333,\n",
      "                      'Pulse_length': 1.65,\n",
      "                      'QUAD:IN20:121:BDES': -0.476190476,\n",
      "                      'QUAD:IN20:122:BDES': -0.476190476,\n",
      "                      'QUAD:IN20:361:BDES': -0.925925926,\n",
      "                      'QUAD:IN20:371:BDES': -0.925925926,\n",
      "                      'QUAD:IN20:425:BDES': -0.925925926,\n",
      "                      'QUAD:IN20:441:BDES': -0.925925926,\n",
      "                      'QUAD:IN20:511:BDES': -0.925925926,\n",
      "                      'QUAD:IN20:525:BDES': -0.925925926,\n",
      "                      'SOLN:IN20:121:BDES': 0.51427242},\n",
      " 'pv_unit': {'ACCL:IN20:300:L0A_ADES': '(MV)',\n",
      "             'ACCL:IN20:300:L0A_PDES': '(deg)',\n",
      "             'ACCL:IN20:400:L0B_ADES': '(MV)',\n",
      "             'ACCL:IN20:400:L0B_PDES': '(deg)',\n",
      "             'IRIS:LR20:130:CONFG_SEL': '(mm)',\n",
      "             'Pulse_length': '(ps)',\n",
      "             'QUAD:IN20:121:BDES': '(kG)',\n",
      "             'QUAD:IN20:122:BDES': '(kG)',\n",
      "             'QUAD:IN20:361:BDES': '(kG)',\n",
      "             'QUAD:IN20:371:BDES': '(kG)',\n",
      "             'QUAD:IN20:425:BDES': '(kG)',\n",
      "             'QUAD:IN20:441:BDES': '(kG)',\n",
      "             'QUAD:IN20:511:BDES': '(kG)',\n",
      "             'QUAD:IN20:525:BDES': '(kG)',\n",
      "             'SOLN:IN20:121:BDES': '(kG*m)'},\n",
      " 'sim_name_to_pv_name': {'CQ01:b1_gradient': 'QUAD:IN20:121:BDES',\n",
      "                         'L0A_phase:dtheta0_deg': 'ACCL:IN20:300:L0A_PDES',\n",
      "                         'L0A_scale:voltage': 'ACCL:IN20:300:L0A_ADES',\n",
      "                         'L0B_phase:dtheta0_deg': 'ACCL:IN20:400:L0B_PDES',\n",
      "                         'L0B_scale:voltage': 'ACCL:IN20:400:L0B_ADES',\n",
      "                         'QA01:b1_gradient': 'QUAD:IN20:361:BDES',\n",
      "                         'QA02:b1_gradient': 'QUAD:IN20:371:BDES',\n",
      "                         'QE01:b1_gradient': 'QUAD:IN20:425:BDES',\n",
      "                         'QE02:b1_gradient': 'QUAD:IN20:441:BDES',\n",
      "                         'QE03:b1_gradient': 'QUAD:IN20:511:BDES',\n",
      "                         'QE04:b1_gradient': 'QUAD:IN20:525:BDES',\n",
      "                         'SOL1:solenoid_field_scale': 'SOLN:IN20:121:BDES',\n",
      "                         'SQ01:b1_gradient': 'QUAD:IN20:122:BDES',\n",
      "                         'distgen:r_dist:sigma_xy:value': 'IRIS:LR20:130:CONFG_SEL',\n",
      "                         'distgen:t_dist:length:value': 'Pulse_length',\n",
      "                         'distgen:total_charge:value': 'Charge'},\n",
      " 'sim_to_pv_factor': {'CQ01:b1_gradient': -2.10000000084,\n",
      "                      'L0A_phase:dtheta0_deg': 1.0,\n",
      "                      'L0A_scale:voltage': 1e-06,\n",
      "                      'L0B_phase:dtheta0_deg': 1.0,\n",
      "                      'L0B_scale:voltage': 1e-06,\n",
      "                      'QA01:b1_gradient': -1.0799999999136,\n",
      "                      'QA02:b1_gradient': -1.0799999999136,\n",
      "                      'QE01:b1_gradient': -1.0799999999136,\n",
      "                      'QE02:b1_gradient': -1.0799999999136,\n",
      "                      'QE03:b1_gradient': -1.0799999999136,\n",
      "                      'QE04:b1_gradient': -1.0799999999136,\n",
      "                      'SOL1:solenoid_field_scale': 1.9444947096326886,\n",
      "                      'SQ01:b1_gradient': -2.10000000084,\n",
      "                      'distgen:r_dist:sigma_xy:value': 3.00000030000003,\n",
      "                      'distgen:t_dist:length:value': 0.6060606060606061,\n",
      "                      'distgen:total_charge:value': 1.0}}\n"
     ]
    }
   ],
   "source": [
    "import json\n",
    "import torch\n",
    "import pprint\n",
    "\n",
    "model_info = json.load(open(\"configs/model_info.json\"))\n",
    "pv_info = json.load(open(\"configs/pv_info.json\"))\n",
    "nn_transform_info = json.load(open(\"configs/normalization.json\"))\n",
    "pprint.pprint(model_info)\n",
    "pprint.pprint(pv_info)\n"
   ],
   "metadata": {
    "collapsed": false
   }
  },
  {
   "cell_type": "code",
   "execution_count": 2,
   "outputs": [
    {
     "data": {
      "text/plain": "[[0.21021247820852546, 0.4999996083265339],\n [3.000000758511308, 11.998569812014836],\n [250.0, 250.0],\n [0.19409053333889578, 0.2563030896232562],\n [-0.009999618141995313, 0.0099925212795954],\n [-0.009999490058927914, 0.009999443099573097],\n [58000000.0, 58000000.0],\n [-24.998714513984325, 9.991752397382681],\n [70000000.0, 70000000.0],\n [-24.99972566363747, 9.998904767155892],\n [1.000039854940649, 3.998197816908352],\n [-3.990444304119449, -1.0105116218007806],\n [1.0007061999094193, 6.9997773994714345],\n [-6.999887318319171, 0.9983521010385275],\n [-6.998418428856965, 0.9993010487139868],\n [1.000026533968218, 6.998086093251312]]"
     },
     "execution_count": 2,
     "metadata": {},
     "output_type": "execute_result"
    }
   ],
   "source": [
    "# view bounds of training data\n",
    "[[ele1, ele2] for ele1, ele2 in zip(model_info[\"train_input_mins\"],\n",
    "                                    model_info[\"train_input_maxs\"])]"
   ],
   "metadata": {
    "collapsed": false
   }
  },
  {
   "cell_type": "code",
   "execution_count": 3,
   "outputs": [
    {
     "name": "stdout",
     "output_type": "stream",
     "text": [
      "{'x_min': [-0.708149054,\n",
      "           -0.32005256,\n",
      "           -247.49,\n",
      "           -3.07859882,\n",
      "           0.505175716,\n",
      "           0.505001162,\n",
      "           -57420000.0,\n",
      "           0.717299146,\n",
      "           -69300000.0,\n",
      "           0.717162769,\n",
      "           -0.320215909,\n",
      "           1.33571446,\n",
      "           -0.155142087,\n",
      "           0.876426732,\n",
      "           0.876301233,\n",
      "           -0.155057759],\n",
      " 'x_scale': [3.41630078,\n",
      "             0.110017492,\n",
      "             0.99,\n",
      "             15.9131863,\n",
      "             49.5194626,\n",
      "             49.5026406,\n",
      "             0.99,\n",
      "             0.0282934207,\n",
      "             0.99,\n",
      "             0.0282868212,\n",
      "             0.330202749,\n",
      "             0.33222227,\n",
      "             0.165025546,\n",
      "             0.12377724,\n",
      "             0.123785287,\n",
      "             0.165053379],\n",
      " 'y_min': [0.00834951, 0.00885094, -0.67912807, -0.08841661, -0.08485377],\n",
      " 'y_scale': [229.572091, 172.618777, 1754.24967, 226993.39, 191052.997]}\n"
     ]
    }
   ],
   "source": [
    "pprint.pprint(nn_transform_info)"
   ],
   "metadata": {
    "collapsed": false
   }
  },
  {
   "cell_type": "markdown",
   "source": [
    "## Demonstrate NN model"
   ],
   "metadata": {
    "collapsed": false
   }
  },
  {
   "cell_type": "code",
   "execution_count": 4,
   "outputs": [
    {
     "name": "stdout",
     "output_type": "stream",
     "text": [
      "tensor([0.0100, 0.0100, 0.0100, 0.0100, 0.0100, 0.0100, 0.0000, 0.0100, 0.0000,\n",
      "        0.0100, 0.0100, 0.0100, 0.0100, 0.0100, 0.0100, 0.0100])\n",
      "tensor([[1.0000, 1.0000, 0.0100, 1.0000, 1.0000, 1.0000, 0.0000, 1.0000, 0.0000,\n",
      "         1.0000, 1.0000, 1.0000, 1.0000, 1.0000, 1.0000, 1.0000]])\n"
     ]
    }
   ],
   "source": [
    "from transformers import create_sim_to_nn_transformers\n",
    "from transformed_model import KeyedTransformedModel\n",
    "# get transformers for normailzation into NN\n",
    "nn_input_transformer, nn_output_transformer = create_sim_to_nn_transformers(\n",
    "    \"configs/normalization.json\"\n",
    ")\n",
    "test_min = torch.tensor(model_info[\"train_input_mins\"])\n",
    "test_max = torch.tensor(model_info[\"train_input_maxs\"]).unsqueeze(0)\n",
    "\n",
    "# validate input transformers\n",
    "print(nn_input_transformer(test_min))\n",
    "print(nn_input_transformer(test_max))\n",
    "\n",
    "model = torch.load(\"torch_model.pt\").double()\n",
    "\n",
    "# define the NN surrogate that contains the NN, the input/output transformers for\n",
    "# simulation units\n",
    "surrogate = KeyedTransformedModel(\n",
    "    model,\n",
    "    nn_input_transformer,\n",
    "    nn_output_transformer,\n",
    "    model_info[\"model_in_list\"],\n",
    "    model_info[\"model_out_list\"]\n",
    ")\n"
   ],
   "metadata": {
    "collapsed": false
   }
  },
  {
   "cell_type": "code",
   "execution_count": 5,
   "outputs": [
    {
     "name": "stdout",
     "output_type": "stream",
     "text": [
      "[ 3.92211981e-01  5.83776995e+00  2.50000000e+02  2.29980597e-01\n",
      "  3.92231489e-04 -6.47414040e-03  5.80000000e+07  2.79354164e+00\n",
      "  7.00000000e+07 -9.86897001e+00  2.14861067e+00 -2.41573625e+00\n",
      "  2.40720925e+00  7.18128851e-01 -3.74875980e+00  2.33949758e+00]\n",
      "[0.00016864793055100324 0.0015950831162394174 0.0005424259007070327\n",
      " 1.3960860485109939e-06 1.1762668344852966e-06]\n",
      "tensor([1.7824e-04, 1.4451e-03, 5.4184e-04, 1.4162e-06, 1.1945e-06],\n",
      "       dtype=torch.float64)\n"
     ]
    }
   ],
   "source": [
    "import numpy as np\n",
    "raw_x_data = np.load(\"data/x_raw_small.npy\", allow_pickle=True)\n",
    "raw_y_data = np.load(\"data/y_raw_small.npy\", allow_pickle=True)\n",
    "\n",
    "preds = surrogate(torch.tensor(raw_x_data).double())\n",
    "\n",
    "print(raw_x_data[0])\n",
    "print(raw_y_data[0])\n",
    "print(preds[0])"
   ],
   "metadata": {
    "collapsed": false
   }
  },
  {
   "cell_type": "code",
   "execution_count": 6,
   "outputs": [
    {
     "data": {
      "text/plain": "[<matplotlib.lines.Line2D at 0x292bbcdedc0>]"
     },
     "execution_count": 6,
     "metadata": {},
     "output_type": "execute_result"
    },
    {
     "data": {
      "text/plain": "<Figure size 640x480 with 1 Axes>",
      "image/png": "[encoded data removed]"
     },
     "metadata": {},
     "output_type": "display_data"
    }
   ],
   "source": [
    "import matplotlib.pyplot as plt\n",
    "\n",
    "# sort by y values\n",
    "sort_idx = np.argsort(raw_y_data[:,0])\n",
    "\n",
    "# these datasets should overlap\n",
    "fig,ax = plt.subplots()\n",
    "ax.plot(raw_y_data[:,0][sort_idx],\".\")\n",
    "ax.plot(preds[:,0][sort_idx],\".\")"
   ],
   "metadata": {
    "collapsed": false
   }
  },
  {
   "cell_type": "code",
   "execution_count": 6,
   "outputs": [],
   "source": [],
   "metadata": {
    "collapsed": false
   }
  }
 ],
 "metadata": {
  "kernelspec": {
   "display_name": "Python 3",
   "language": "python",
   "name": "python3"
  },
  "language_info": {
   "codemirror_mode": {
    "name": "ipython",
    "version": 2
   },
   "file_extension": ".py",
   "mimetype": "text/x-python",
   "name": "python",
   "nbconvert_exporter": "python",
   "pygments_lexer": "ipython2",
   "version": "2.7.6"
  }
 },
 "nbformat": 4,
 "nbformat_minor": 0
}
