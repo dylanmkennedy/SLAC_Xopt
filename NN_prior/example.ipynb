{
 "cells": [
  {
   "cell_type": "markdown",
   "source": [
    "## Demonstrate evaluating the surrogate model and unit transformations\n",
    "This model was trained by Auralee to predict beam properties at OTR2 using injector\n",
    "PVs for LCLS."
   ],
   "metadata": {
    "collapsed": false
   }
  },
  {
   "cell_type": "code",
   "execution_count": 14,
   "outputs": [
    {
     "name": "stdout",
     "output_type": "stream",
     "text": [
      "{'loc_in': {'CQ01:b1_gradient': 4,\n",
      "            'L0A_phase:dtheta0_deg': 7,\n",
      "            'L0A_scale:voltage': 6,\n",
      "            'L0B_phase:dtheta0_deg': 9,\n",
      "            'L0B_scale:voltage': 8,\n",
      "            'QA01:b1_gradient': 10,\n",
      "            'QA02:b1_gradient': 11,\n",
      "            'QE01:b1_gradient': 12,\n",
      "            'QE02:b1_gradient': 13,\n",
      "            'QE03:b1_gradient': 14,\n",
      "            'QE04:b1_gradient': 15,\n",
      "            'SOL1:solenoid_field_scale': 3,\n",
      "            'SQ01:b1_gradient': 5,\n",
      "            'distgen:r_dist:sigma_xy:value': 0,\n",
      "            'distgen:t_dist:length:value': 1,\n",
      "            'distgen:total_charge:value': 2},\n",
      " 'loc_out': {'norm_emit_x': 3,\n",
      "             'norm_emit_y': 4,\n",
      "             'sigma_x': 0,\n",
      "             'sigma_y': 1,\n",
      "             'sigma_z': 2},\n",
      " 'model_in_list': ['distgen:r_dist:sigma_xy:value',\n",
      "                   'distgen:t_dist:length:value',\n",
      "                   'distgen:total_charge:value',\n",
      "                   'SOL1:solenoid_field_scale',\n",
      "                   'CQ01:b1_gradient',\n",
      "                   'SQ01:b1_gradient',\n",
      "                   'L0A_scale:voltage',\n",
      "                   'L0A_phase:dtheta0_deg',\n",
      "                   'L0B_scale:voltage',\n",
      "                   'L0B_phase:dtheta0_deg',\n",
      "                   'QA01:b1_gradient',\n",
      "                   'QA02:b1_gradient',\n",
      "                   'QE01:b1_gradient',\n",
      "                   'QE02:b1_gradient',\n",
      "                   'QE03:b1_gradient',\n",
      "                   'QE04:b1_gradient'],\n",
      " 'model_out_list': ['sigma_x',\n",
      "                    'sigma_y',\n",
      "                    'sigma_z',\n",
      "                    'norm_emit_x',\n",
      "                    'norm_emit_y'],\n",
      " 'run': 'v6_cnsga_',\n",
      " 'screen': 'OTR2',\n",
      " 'train_input_maxs': [0.4999996083265339,\n",
      "                      11.998569812014836,\n",
      "                      250.0,\n",
      "                      0.2563030896232562,\n",
      "                      0.0099925212795954,\n",
      "                      0.009999443099573097,\n",
      "                      58000000.0,\n",
      "                      9.991752397382681,\n",
      "                      70000000.0,\n",
      "                      9.998904767155892,\n",
      "                      3.998197816908352,\n",
      "                      -1.0105116218007806,\n",
      "                      6.9997773994714345,\n",
      "                      0.9983521010385275,\n",
      "                      0.9993010487139868,\n",
      "                      6.998086093251312],\n",
      " 'train_input_mins': [0.21021247820852546,\n",
      "                      3.000000758511308,\n",
      "                      250.0,\n",
      "                      0.19409053333889578,\n",
      "                      -0.009999618141995313,\n",
      "                      -0.009999490058927914,\n",
      "                      58000000.0,\n",
      "                      -24.998714513984325,\n",
      "                      70000000.0,\n",
      "                      -24.99972566363747,\n",
      "                      1.000039854940649,\n",
      "                      -3.990444304119449,\n",
      "                      1.0007061999094193,\n",
      "                      -6.999887318319171,\n",
      "                      -6.998418428856965,\n",
      "                      1.000026533968218]}\n",
      "{'pv_name_to_sim_name': {'ACCL:IN20:300:L0A_ADES': 'L0A_scale:voltage',\n",
      "                         'ACCL:IN20:300:L0A_PDES': 'L0A_phase:dtheta0_deg',\n",
      "                         'ACCL:IN20:400:L0B_ADES': 'L0B_scale:voltage',\n",
      "                         'ACCL:IN20:400:L0B_PDES': 'L0B_phase:dtheta0_deg',\n",
      "                         'Charge': 'distgen:total_charge:value',\n",
      "                         'IRIS:LR20:130:CONFG_SEL': 'distgen:r_dist:sigma_xy:value',\n",
      "                         'Pulse_length': 'distgen:t_dist:length:value',\n",
      "                         'QUAD:IN20:121:BDES': 'CQ01:b1_gradient',\n",
      "                         'QUAD:IN20:122:BDES': 'SQ01:b1_gradient',\n",
      "                         'QUAD:IN20:361:BDES': 'QA01:b1_gradient',\n",
      "                         'QUAD:IN20:371:BDES': 'QA02:b1_gradient',\n",
      "                         'QUAD:IN20:425:BDES': 'QE01:b1_gradient',\n",
      "                         'QUAD:IN20:441:BDES': 'QE02:b1_gradient',\n",
      "                         'QUAD:IN20:511:BDES': 'QE03:b1_gradient',\n",
      "                         'QUAD:IN20:525:BDES': 'QE04:b1_gradient',\n",
      "                         'SOLN:IN20:121:BDES': 'SOL1:solenoid_field_scale'},\n",
      " 'pv_to_sim_factor': {'ACCL:IN20:300:L0A_ADES': 1000000,\n",
      "                      'ACCL:IN20:300:L0A_PDES': 1,\n",
      "                      'ACCL:IN20:400:L0B_ADES': 1000000,\n",
      "                      'ACCL:IN20:400:L0B_PDES': 1,\n",
      "                      'Charge': 1,\n",
      "                      'IRIS:LR20:130:CONFG_SEL': 0.3333333,\n",
      "                      'Pulse_length': 1.65,\n",
      "                      'QUAD:IN20:121:BDES': -0.476190476,\n",
      "                      'QUAD:IN20:122:BDES': -0.476190476,\n",
      "                      'QUAD:IN20:361:BDES': -0.925925926,\n",
      "                      'QUAD:IN20:371:BDES': -0.925925926,\n",
      "                      'QUAD:IN20:425:BDES': -0.925925926,\n",
      "                      'QUAD:IN20:441:BDES': -0.925925926,\n",
      "                      'QUAD:IN20:511:BDES': -0.925925926,\n",
      "                      'QUAD:IN20:525:BDES': -0.925925926,\n",
      "                      'SOLN:IN20:121:BDES': 0.51427242},\n",
      " 'pv_unit': {'ACCL:IN20:300:L0A_ADES': '(MV)',\n",
      "             'ACCL:IN20:300:L0A_PDES': '(deg)',\n",
      "             'ACCL:IN20:400:L0B_ADES': '(MV)',\n",
      "             'ACCL:IN20:400:L0B_PDES': '(deg)',\n",
      "             'IRIS:LR20:130:CONFG_SEL': '(mm)',\n",
      "             'Pulse_length': '(ps)',\n",
      "             'QUAD:IN20:121:BDES': '(kG)',\n",
      "             'QUAD:IN20:122:BDES': '(kG)',\n",
      "             'QUAD:IN20:361:BDES': '(kG)',\n",
      "             'QUAD:IN20:371:BDES': '(kG)',\n",
      "             'QUAD:IN20:425:BDES': '(kG)',\n",
      "             'QUAD:IN20:441:BDES': '(kG)',\n",
      "             'QUAD:IN20:511:BDES': '(kG)',\n",
      "             'QUAD:IN20:525:BDES': '(kG)',\n",
      "             'SOLN:IN20:121:BDES': '(kG*m)'},\n",
      " 'sim_name_to_pv_name': {'CQ01:b1_gradient': 'QUAD:IN20:121:BDES',\n",
      "                         'L0A_phase:dtheta0_deg': 'ACCL:IN20:300:L0A_PDES',\n",
      "                         'L0A_scale:voltage': 'ACCL:IN20:300:L0A_ADES',\n",
      "                         'L0B_phase:dtheta0_deg': 'ACCL:IN20:400:L0B_PDES',\n",
      "                         'L0B_scale:voltage': 'ACCL:IN20:400:L0B_ADES',\n",
      "                         'QA01:b1_gradient': 'QUAD:IN20:361:BDES',\n",
      "                         'QA02:b1_gradient': 'QUAD:IN20:371:BDES',\n",
      "                         'QE01:b1_gradient': 'QUAD:IN20:425:BDES',\n",
      "                         'QE02:b1_gradient': 'QUAD:IN20:441:BDES',\n",
      "                         'QE03:b1_gradient': 'QUAD:IN20:511:BDES',\n",
      "                         'QE04:b1_gradient': 'QUAD:IN20:525:BDES',\n",
      "                         'SOL1:solenoid_field_scale': 'SOLN:IN20:121:BDES',\n",
      "                         'SQ01:b1_gradient': 'QUAD:IN20:122:BDES',\n",
      "                         'distgen:r_dist:sigma_xy:value': 'IRIS:LR20:130:CONFG_SEL',\n",
      "                         'distgen:t_dist:length:value': 'Pulse_length',\n",
      "                         'distgen:total_charge:value': 'Charge'},\n",
      " 'sim_to_pv_factor': {'CQ01:b1_gradient': -2.10000000084,\n",
      "                      'L0A_phase:dtheta0_deg': 1.0,\n",
      "                      'L0A_scale:voltage': 1e-06,\n",
      "                      'L0B_phase:dtheta0_deg': 1.0,\n",
      "                      'L0B_scale:voltage': 1e-06,\n",
      "                      'QA01:b1_gradient': -1.0799999999136,\n",
      "                      'QA02:b1_gradient': -1.0799999999136,\n",
      "                      'QE01:b1_gradient': -1.0799999999136,\n",
      "                      'QE02:b1_gradient': -1.0799999999136,\n",
      "                      'QE03:b1_gradient': -1.0799999999136,\n",
      "                      'QE04:b1_gradient': -1.0799999999136,\n",
      "                      'SOL1:solenoid_field_scale': 1.9444947096326886,\n",
      "                      'SQ01:b1_gradient': -2.10000000084,\n",
      "                      'distgen:r_dist:sigma_xy:value': 3.00000030000003,\n",
      "                      'distgen:t_dist:length:value': 0.6060606060606061,\n",
      "                      'distgen:total_charge:value': 1.0}}\n"
     ]
    }
   ],
   "source": [
    "import json\n",
    "import torch\n",
    "import pprint\n",
    "\n",
    "model_info = json.load(open(\"configs/model_info.json\"))\n",
    "pv_info = json.load(open(\"configs/pv_info.json\"))\n",
    "\n",
    "pprint.pprint(model_info)\n",
    "pprint.pprint(pv_info)\n"
   ],
   "metadata": {
    "collapsed": false
   }
  },
  {
   "cell_type": "code",
   "execution_count": 15,
   "outputs": [
    {
     "name": "stdout",
     "output_type": "stream",
     "text": [
      "{'ACCL:IN20:300:L0A_ADES': 58.0,\n",
      " 'ACCL:IN20:300:L0A_PDES': -9.53597354888916,\n",
      " 'ACCL:IN20:400:L0B_ADES': 70.0,\n",
      " 'ACCL:IN20:400:L0B_PDES': 9.85566234588623,\n",
      " 'Charge': 250.0,\n",
      " 'IRIS:LR20:130:CONFG_SEL': 1.2716035922406204,\n",
      " 'Pulse_length': 1.855051445238518,\n",
      " 'QUAD:IN20:121:BDES': -0.0014992270857504691,\n",
      " 'QUAD:IN20:122:BDES': -0.0006872989298265359,\n",
      " 'QUAD:IN20:361:BDES': -2.0005920694658075,\n",
      " 'QUAD:IN20:371:BDES': 2.0005920694658075,\n",
      " 'QUAD:IN20:425:BDES': -0.20217599449924495,\n",
      " 'QUAD:IN20:441:BDES': -0.17938799499030292,\n",
      " 'QUAD:IN20:511:BDES': 2.852171888123267,\n",
      " 'QUAD:IN20:525:BDES': -3.2184000203418934,\n",
      " 'SOLN:IN20:121:BDES': 0.4779693525314514}\n"
     ]
    },
    {
     "data": {
      "text/plain": "array([[ 1.27160359e+00,  1.85505145e+00,  2.50000000e+02,\n         4.77969353e-01, -1.49922709e-03, -6.87298930e-04,\n         5.80000000e+01, -9.53597355e+00,  7.00000000e+01,\n         9.85566235e+00, -2.00059207e+00,  2.00059207e+00,\n        -2.02175994e-01, -1.79387995e-01,  2.85217189e+00,\n        -3.21840002e+00]])"
     },
     "execution_count": 15,
     "metadata": {},
     "output_type": "execute_result"
    }
   ],
   "source": [
    "from sim_pv_transform import create_transformer\n",
    "\n",
    "# create a transformer that transforms points in simulation units to PV units\n",
    "sim_to_pv_transformer = create_transformer(pv_info, model_info[\"model_in_list\"])\n",
    "\n",
    "# test pvs\n",
    "ref_point = [4.23867825e-01,\n",
    "                      3.06083484e+00,\n",
    "                      2.50000000e+02,\n",
    "                      2.45806452e-01,\n",
    "                      7.13917676e-04,\n",
    "                      3.27285211e-04,\n",
    "                      5.80000000e+07,\n",
    "                      -9.53597349e+00,\n",
    "                      7.00000000e+07,\n",
    "                        9.85566222e+00,\n",
    "                          1.85240001e+00,\n",
    "                      -1.85240001e+00,\n",
    "                        1.87200002e-01,\n",
    "                        1.66100000e-01,\n",
    "                      -2.64090000e+00,\n",
    "                        2.97999999e+00]\n",
    "test_sim = torch.tensor(ref_point).double().unsqueeze(0)\n",
    "pv_vals = sim_to_pv_transformer(test_sim).numpy()\n",
    "\n",
    "# print PV values for reference point above\n",
    "pprint.pprint(dict(zip(sim_to_pv_transformer.pv_key_list, pv_vals.flatten(),)))\n",
    "pv_vals"
   ],
   "metadata": {
    "collapsed": false
   }
  },
  {
   "cell_type": "markdown",
   "source": [
    "## Demonstrate NN model"
   ],
   "metadata": {
    "collapsed": false
   }
  },
  {
   "cell_type": "code",
   "execution_count": 19,
   "outputs": [
    {
     "name": "stdout",
     "output_type": "stream",
     "text": [
      "tensor([[ 1.0000e-02,  1.0000e-02,  1.0000e-02,  9.9999e-03,  1.0000e-02,\n",
      "          1.0000e-02, -7.3761e-09,  1.0000e-02,  0.0000e+00,  1.0000e-02,\n",
      "          1.0000e-02,  1.0000e-02,  1.0000e-02,  1.0000e-02,  1.0000e-02,\n",
      "          1.0000e-02]], dtype=torch.float64)\n",
      "tensor([[ 1.0000e+00,  1.0000e+00,  1.0000e-02,  1.0000e+00,  1.0000e+00,\n",
      "          1.0000e+00, -7.3761e-09,  1.0000e+00,  0.0000e+00,  1.0000e+00,\n",
      "          1.0000e+00,  1.0000e+00,  1.0000e+00,  1.0000e+00,  1.0000e+00,\n",
      "          1.0000e+00]], dtype=torch.float64)\n",
      "True\n"
     ]
    }
   ],
   "source": [
    "from injector_surrogate import Surrogate, create_nn_transformers\n",
    "\n",
    "# get transformers for normailzation into NN\n",
    "nn_input_transformer, nn_output_transformer = create_nn_transformers(\n",
    "    \"configs/normalization.json\"\n",
    ")\n",
    "test_min = torch.tensor(model_info[\"train_input_mins\"]).unsqueeze(0)\n",
    "test_max = torch.tensor(model_info[\"train_input_maxs\"]).unsqueeze(0)\n",
    "print(nn_input_transformer(test_min))\n",
    "print(nn_input_transformer(test_max))\n",
    "\n",
    "\n",
    "model = torch.load(\"torch_model.pt\").double()\n",
    "model.eval()\n",
    "\n",
    "# define the NN surrogate that contains the NN, the input/output transformers and the\n",
    "# PV lists for reference\n",
    "surrogate = Surrogate(\n",
    "    model,\n",
    "    model_info[\"model_in_list\"],\n",
    "    model_info[\"model_out_list\"],\n",
    "    nn_input_transformer,\n",
    "    nn_output_transformer\n",
    ")\n",
    "\n",
    "print(torch.allclose(surrogate(test_min.double()), torch.ones(1,5).double(), rtol=0.1))\n"
   ],
   "metadata": {
    "collapsed": false
   }
  },
  {
   "cell_type": "code",
   "execution_count": 26,
   "outputs": [
    {
     "name": "stdout",
     "output_type": "stream",
     "text": [
      "{'ACCL:IN20:300:L0A_ADES': array([58000000.00000001, 58000001.01010102]),\n",
      " 'ACCL:IN20:300:L0A_PDES': array([-25.35215355,   9.99175239]),\n",
      " 'ACCL:IN20:400:L0B_ADES': array([70000000.      , 70000001.010101]),\n",
      " 'ACCL:IN20:400:L0B_PDES': array([-25.35324715,   9.99890475]),\n",
      " 'Charge': array([249.98989899, 251.        ]),\n",
      " 'IRIS:LR20:130:CONFG_SEL': array([0.20728534, 0.49999961]),\n",
      " 'Pulse_length': array([ 2.90910613, 11.99856983]),\n",
      " 'QUAD:IN20:121:BDES': array([-0.01020156,  0.00999252]),\n",
      " 'QUAD:IN20:122:BDES': array([-0.0102015 ,  0.00999944]),\n",
      " 'QUAD:IN20:361:BDES': array([0.96975543, 3.99819781]),\n",
      " 'QUAD:IN20:371:BDES': array([-4.02054462, -1.01051161]),\n",
      " 'QUAD:IN20:425:BDES': array([0.94010952, 6.9997774 ]),\n",
      " 'QUAD:IN20:441:BDES': array([-7.08067761,  0.9983521 ]),\n",
      " 'QUAD:IN20:511:BDES': array([-7.07920347,  0.99930105]),\n",
      " 'QUAD:IN20:525:BDES': array([0.93944008, 6.99808611]),\n",
      " 'SOLN:IN20:121:BDES': array([0.19346212, 0.25630309])}\n",
      "tensor([[ 2.0729e-01,  2.9091e+00,  2.4999e+02,  1.9346e-01, -1.0202e-02,\n",
      "         -1.0201e-02,  5.8000e+07, -2.5352e+01,  7.0000e+07, -2.5353e+01,\n",
      "          9.6976e-01, -4.0205e+00,  9.4011e-01, -7.0807e+00, -7.0792e+00,\n",
      "          9.3944e-01]], dtype=torch.float64)\n",
      "tensor([[2.9271e-01, 9.0895e+00, 1.0101e+00, 6.2841e-02, 2.0194e-02, 2.0201e-02,\n",
      "         1.0101e+00, 3.5344e+01, 1.0101e+00, 3.5352e+01, 3.0284e+00, 3.0100e+00,\n",
      "         6.0597e+00, 8.0790e+00, 8.0785e+00, 6.0586e+00]], dtype=torch.float64)\n"
     ]
    }
   ],
   "source": [
    "# print bounds of simulation values corresponding to PV's\n",
    "pprint.pprint(\n",
    "    dict(zip(sim_to_pv_transformer.pv_key_list, nn_input_transformer.bounds.T.numpy()))\n",
    ")\n"
   ],
   "metadata": {
    "collapsed": false
   }
  },
  {
   "cell_type": "code",
   "execution_count": 27,
   "outputs": [
    {
     "name": "stdout",
     "output_type": "stream",
     "text": [
      "[ 3.92211981e-01  5.83776995e+00  2.50000000e+02  2.29980597e-01\n",
      "  3.92231489e-04 -6.47414040e-03  5.80000000e+07  2.79354164e+00\n",
      "  7.00000000e+07 -9.86897001e+00  2.14861067e+00 -2.41573625e+00\n",
      "  2.40720925e+00  7.18128851e-01 -3.74875980e+00  2.33949758e+00]\n",
      "[0.00016864793055100324 0.0015950831162394174 0.0005424259007070327\n",
      " 1.3960860485109939e-06 1.1762668344852966e-06]\n"
     ]
    }
   ],
   "source": [
    "import numpy as np\n",
    "raw_x_data = np.load(\"data/x_raw_small.npy\", allow_pickle=True)\n",
    "raw_y_data = np.load(\"data/y_raw_small.npy\", allow_pickle=True)\n",
    "\n",
    "preds = surrogate(torch.tensor(raw_x_data).double(), return_log=True)\n",
    "\n",
    "print(raw_x_data[0])\n",
    "print(raw_y_data[0])"
   ],
   "metadata": {
    "collapsed": false
   }
  },
  {
   "cell_type": "code",
   "execution_count": 7,
   "outputs": [
    {
     "data": {
      "text/plain": "[<matplotlib.lines.Line2D at 0x22ce3baad00>]"
     },
     "execution_count": 7,
     "metadata": {},
     "output_type": "execute_result"
    },
    {
     "data": {
      "text/plain": "<Figure size 432x288 with 1 Axes>",
      "image/png": "[encoded data removed]"
     },
     "metadata": {
      "needs_background": "light"
     },
     "output_type": "display_data"
    }
   ],
   "source": [
    "import matplotlib.pyplot as plt\n",
    "fig,ax = plt.subplots()\n",
    "sort_idx = np.argsort(raw_y_data[:,0])\n",
    "\n",
    "# compare model prediction to raw data\n",
    "ax.semilogy(raw_y_data[:,0][sort_idx],'.')\n",
    "ax.semilogy(preds[:,0][sort_idx],'.')\n"
   ],
   "metadata": {
    "collapsed": false
   }
  },
  {
   "cell_type": "code",
   "execution_count": 8,
   "outputs": [],
   "source": [
    "# make predictions using pv values\n",
    "sim_to_pv_transformer.eval()\n",
    "\n",
    "# create a dummy pv value\n",
    "test_pv = sim_to_pv_transformer(torch.tensor(raw_x_data[:2]))\n",
    "\n",
    "# actual process\n",
    "sim_vals = sim_to_pv_transformer.untransform(test_pv)\n",
    "preds = surrogate(sim_vals, return_log=True)"
   ],
   "metadata": {
    "collapsed": false
   }
  },
  {
   "cell_type": "code",
   "execution_count": 8,
   "outputs": [],
   "source": [],
   "metadata": {
    "collapsed": false
   }
  }
 ],
 "metadata": {
  "kernelspec": {
   "display_name": "Python 3",
   "language": "python",
   "name": "python3"
  },
  "language_info": {
   "codemirror_mode": {
    "name": "ipython",
    "version": 2
   },
   "file_extension": ".py",
   "mimetype": "text/x-python",
   "name": "python",
   "nbconvert_exporter": "python",
   "pygments_lexer": "ipython2",
   "version": "2.7.6"
  }
 },
 "nbformat": 4,
 "nbformat_minor": 0
}
