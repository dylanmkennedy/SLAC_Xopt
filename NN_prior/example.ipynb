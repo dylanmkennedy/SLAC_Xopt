{
 "cells": [
  {
   "cell_type": "code",
   "execution_count": 1,
   "metadata": {
    "collapsed": true,
    "pycharm": {
     "name": "#%%\n"
    }
   },
   "outputs": [],
   "source": [
    "import json\n",
    "import torch\n",
    "\n",
    "model_info = json.load(open(\"configs/model_info.json\"))\n",
    "pv_info = json.load(open(\"configs/pv_info.json\"))\n",
    "\n"
   ]
  },
  {
   "cell_type": "code",
   "execution_count": 2,
   "outputs": [
    {
     "data": {
      "text/plain": "tensor([[ 2.3683e-01,  7.4235e-02,  6.8833e-01,  4.0842e-01, -3.6114e-01,\n         -2.7474e-01,  9.6914e+05,  8.5285e-01,  5.7061e+05,  7.3269e-01,\n         -8.3708e-01, -2.9663e-01, -3.0115e-01, -7.6836e-01, -2.4966e-01,\n         -4.2375e-01],\n        [ 1.1954e-01,  7.8708e-01,  7.4151e-01,  4.5661e-01, -2.7174e-01,\n         -8.5728e-02,  7.1634e+05,  6.6249e-01,  6.1999e+05,  5.8197e-01,\n         -2.9467e-01, -2.8347e-01, -3.9972e-01, -6.8459e-01, -7.9720e-01,\n         -4.9568e-01],\n        [ 2.7707e-01,  1.3339e+00,  8.8689e-01,  1.4256e-01, -3.8666e-01,\n         -4.4423e-01,  5.2488e+05,  9.6179e-01,  4.0927e+05,  5.9097e-01,\n         -2.8658e-01, -1.5575e-01, -4.6118e-01, -3.0169e-01, -2.7316e-01,\n         -8.8684e-01]])"
     },
     "execution_count": 2,
     "metadata": {},
     "output_type": "execute_result"
    }
   ],
   "source": [
    "from sim_pv_transform import create_transformer\n",
    "\n",
    "sim_to_pv_transformer = create_transformer(pv_info, model_info[\"model_in_list\"])\n",
    "\n",
    "# test pvs\n",
    "test_pv = torch.rand(3,16)\n",
    "sim_vals = sim_to_pv_transformer.untransform(test_pv)\n",
    "sim_vals"
   ],
   "metadata": {
    "collapsed": false,
    "pycharm": {
     "name": "#%%\n"
    }
   }
  },
  {
   "cell_type": "code",
   "execution_count": 3,
   "outputs": [
    {
     "name": "stdout",
     "output_type": "stream",
     "text": [
      "tensor([[ 1.0000e-02,  1.0000e-02,  1.0000e-02,  9.9999e-03,  1.0000e-02,\n",
      "          1.0000e-02, -7.3761e-09,  1.0000e-02,  0.0000e+00,  1.0000e-02,\n",
      "          1.0000e-02,  1.0000e-02,  1.0000e-02,  1.0000e-02,  1.0000e-02,\n",
      "          1.0000e-02]], dtype=torch.float64)\n",
      "tensor([[ 1.0000e+00,  1.0000e+00,  1.0000e-02,  1.0000e+00,  1.0000e+00,\n",
      "          1.0000e+00, -7.3761e-09,  1.0000e+00,  0.0000e+00,  1.0000e+00,\n",
      "          1.0000e+00,  1.0000e+00,  1.0000e+00,  1.0000e+00,  1.0000e+00,\n",
      "          1.0000e+00]], dtype=torch.float64)\n"
     ]
    },
    {
     "data": {
      "text/plain": "tensor([[1.0022, 1.0074, 1.0006, 1.0000, 1.0000]], dtype=torch.float64)"
     },
     "execution_count": 3,
     "metadata": {},
     "output_type": "execute_result"
    }
   ],
   "source": [
    "from injector_surrogate import Surrogate, create_nn_transformers\n",
    "\n",
    "nn_input_transformer, nn_output_transformer = create_nn_transformers(\n",
    "    \"configs/normalization.json\"\n",
    ")\n",
    "test_min = torch.tensor(model_info[\"train_input_mins\"]).unsqueeze(0)\n",
    "test_max = torch.tensor(model_info[\"train_input_maxs\"]).unsqueeze(0)\n",
    "print(nn_input_transformer(test_min))\n",
    "print(nn_input_transformer(test_max))\n",
    "\n",
    "\n",
    "model = torch.load(\"torch_model.pt\").double()\n",
    "model.eval()\n",
    "\n",
    "surrogate = Surrogate(\n",
    "    model,\n",
    "    model_info[\"model_in_list\"],\n",
    "    model_info[\"model_out_list\"],\n",
    "    nn_input_transformer,\n",
    "    nn_output_transformer\n",
    ")\n",
    "\n",
    "surrogate(test_min.double())\n"
   ],
   "metadata": {
    "collapsed": false,
    "pycharm": {
     "name": "#%%\n"
    }
   }
  },
  {
   "cell_type": "code",
   "execution_count": 4,
   "outputs": [
    {
     "name": "stdout",
     "output_type": "stream",
     "text": [
      "tensor([[ 2.0729e-01,  2.9091e+00,  2.4999e+02,  1.9346e-01, -1.0202e-02,\n",
      "         -1.0201e-02,  5.8000e+07, -2.5352e+01,  7.0000e+07, -2.5353e+01,\n",
      "          9.6976e-01, -4.0205e+00,  9.4011e-01, -7.0807e+00, -7.0792e+00,\n",
      "          9.3944e-01],\n",
      "        [ 5.0000e-01,  1.1999e+01,  2.5100e+02,  2.5630e-01,  9.9925e-03,\n",
      "          9.9994e-03,  5.8000e+07,  9.9918e+00,  7.0000e+07,  9.9989e+00,\n",
      "          3.9982e+00, -1.0105e+00,  6.9998e+00,  9.9835e-01,  9.9930e-01,\n",
      "          6.9981e+00]], dtype=torch.float64)\n",
      "tensor([[ 2.0729e-01,  2.9091e+00,  2.4999e+02,  1.9346e-01, -1.0202e-02,\n",
      "         -1.0201e-02,  5.8000e+07, -2.5352e+01,  7.0000e+07, -2.5353e+01,\n",
      "          9.6976e-01, -4.0205e+00,  9.4011e-01, -7.0807e+00, -7.0792e+00,\n",
      "          9.3944e-01]], dtype=torch.float64)\n",
      "tensor([[2.9271e-01, 9.0895e+00, 1.0101e+00, 6.2841e-02, 2.0194e-02, 2.0201e-02,\n",
      "         1.0101e+00, 3.5344e+01, 1.0101e+00, 3.5352e+01, 3.0284e+00, 3.0100e+00,\n",
      "         6.0597e+00, 8.0790e+00, 8.0785e+00, 6.0586e+00]], dtype=torch.float64)\n"
     ]
    }
   ],
   "source": [
    "print(nn_input_transformer.bounds)\n",
    "print(nn_input_transformer.mins)\n",
    "print(nn_input_transformer.ranges)\n"
   ],
   "metadata": {
    "collapsed": false,
    "pycharm": {
     "name": "#%%\n"
    }
   }
  },
  {
   "cell_type": "code",
   "execution_count": 5,
   "outputs": [],
   "source": [
    "import numpy as np\n",
    "raw_x_data = np.load(\"data/x_raw_small.npy\", allow_pickle=True)\n",
    "raw_y_data = np.load(\"data/y_raw_small.npy\", allow_pickle=True)\n",
    "\n",
    "preds = surrogate(torch.tensor(raw_x_data).double(), return_log=True)\n"
   ],
   "metadata": {
    "collapsed": false,
    "pycharm": {
     "name": "#%%\n"
    }
   }
  },
  {
   "cell_type": "code",
   "execution_count": 6,
   "outputs": [
    {
     "data": {
      "text/plain": "[<matplotlib.lines.Line2D at 0x11194ff4f10>]"
     },
     "execution_count": 6,
     "metadata": {},
     "output_type": "execute_result"
    },
    {
     "data": {
      "text/plain": "<Figure size 432x288 with 1 Axes>",
      "image/png": "[encoded data removed]"
     },
     "metadata": {
      "needs_background": "light"
     },
     "output_type": "display_data"
    }
   ],
   "source": [
    "import matplotlib.pyplot as plt\n",
    "fig,ax = plt.subplots()\n",
    "sort_idx = np.argsort(raw_y_data[:,0])\n",
    "\n",
    "ax.semilogy(raw_y_data[:,0][sort_idx],'.')\n",
    "ax.semilogy(preds[:,0][sort_idx],'.')\n"
   ],
   "metadata": {
    "collapsed": false,
    "pycharm": {
     "name": "#%%\n"
    }
   }
  },
  {
   "cell_type": "code",
   "execution_count": 7,
   "outputs": [],
   "source": [
    "# make predictions using pv values\n",
    "sim_to_pv_transformer.eval()\n",
    "test_pv = sim_to_pv_transformer(torch.tensor(raw_x_data[:2]))\n",
    "sim_vals = sim_to_pv_transformer.untransform(test_pv)\n",
    "preds = surrogate(sim_vals, return_log=True)"
   ],
   "metadata": {
    "collapsed": false,
    "pycharm": {
     "name": "#%%\n"
    }
   }
  },
  {
   "cell_type": "code",
   "execution_count": 7,
   "outputs": [],
   "source": [],
   "metadata": {
    "collapsed": false,
    "pycharm": {
     "name": "#%%\n"
    }
   }
  }
 ],
 "metadata": {
  "kernelspec": {
   "display_name": "Python 3",
   "language": "python",
   "name": "python3"
  },
  "language_info": {
   "codemirror_mode": {
    "name": "ipython",
    "version": 2
   },
   "file_extension": ".py",
   "mimetype": "text/x-python",
   "name": "python",
   "nbconvert_exporter": "python",
   "pygments_lexer": "ipython2",
   "version": "2.7.6"
  }
 },
 "nbformat": 4,
 "nbformat_minor": 0
}