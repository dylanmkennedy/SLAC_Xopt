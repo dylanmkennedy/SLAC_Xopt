{
 "cells": [
  {
   "cell_type": "code",
   "execution_count": null,
   "id": "60c58d3f",
   "metadata": {},
   "outputs": [],
   "source": [
    "import os\n",
    "import time\n",
    "import torch\n",
    "import matplotlib.pyplot as plt\n",
    "import utilities as util"
   ]
  },
  {
   "cell_type": "code",
   "execution_count": null,
   "id": "1884aa09",
   "metadata": {},
   "outputs": [],
   "source": [
    "# load surrogate\n",
    "surrogate = util.Surrogate()\n",
    "print(surrogate.model_info[\"model_in_list\"])"
   ]
  },
  {
   "cell_type": "code",
   "execution_count": null,
   "id": "053da746",
   "metadata": {},
   "outputs": [],
   "source": [
    "n_samples = 10000\n",
    "x = surrogate.sample_x(n_samples)\n",
    "y = surrogate.model(x).detach()\n",
    "\n",
    "print(torch.min(y[:, 0]))\n",
    "print(torch.min(y[:, 1]))"
   ]
  },
  {
   "cell_type": "code",
   "execution_count": null,
   "id": "a6ff1224",
   "metadata": {},
   "outputs": [],
   "source": [
    "x_x, y_x = x[y[:, 0] < 0], y[y[:, 0] < 0]\n",
    "x_y, y_y = x[y[:, 1] < 0], y[y[:, 1] < 0]\n",
    "\n",
    "n_x, n_y = x_x.shape[0], x_y.shape[0]"
   ]
  },
  {
   "cell_type": "code",
   "execution_count": null,
   "id": "a166dd27",
   "metadata": {},
   "outputs": [],
   "source": [
    "# plot histogram\n",
    "fig, ax = plt.subplots(nrows=1, ncols=2, sharex=True, figsize=(10, 5))\n",
    "ax[0].hist(y[:, 0], bins=100)\n",
    "ax[0].set_xlabel(\"sigma_x\")\n",
    "ax[1].hist(y[:, 1], bins=100)\n",
    "ax[1].set_xlabel(\"sigma_y\")\n",
    "\n",
    "ax[0].set_ylabel(\"Counts\")\n",
    "ax[0].set_title(\"Ratio of Negative Samples: {:.2f} %\".format(100 * n_x / n_samples))\n",
    "ax[1].set_title(\"Ratio of Negative Samples: {:.2f} %\".format(100 * n_y / n_samples))\n",
    "\n",
    "for i in range(2):\n",
    "    ax[i].axvline(x=0, color='C1', linestyle=\"--\")\n",
    "fig.tight_layout()\n",
    "# fig.savefig('output_distribution.png', facecolor='w', transparent=False)"
   ]
  },
  {
   "cell_type": "code",
   "execution_count": null,
   "id": "5f0ca261",
   "metadata": {},
   "outputs": [],
   "source": [
    "def normalize(x):\n",
    "    x_lim = surrogate.raw_x_lim\n",
    "    norm_x = x - x_lim[:, 0]\n",
    "    norm_fac = (x_lim[:, 1] - x_lim[:, 0])\n",
    "    norm_x = torch.where(norm_fac > 0, norm_x / norm_fac, 0.5 * torch.ones_like(norm_x))\n",
    "    return norm_x"
   ]
  },
  {
   "cell_type": "code",
   "execution_count": null,
   "id": "4196a6a6",
   "metadata": {},
   "outputs": [],
   "source": [
    "fig, ax = plt.subplots(nrows=1, ncols=2, sharex=True, sharey=True, figsize=(12, 5))\n",
    "for i in range(x_x.shape[0]):\n",
    "    ax[0].plot(normalize(x_x[i]))\n",
    "for i in range(x_y.shape[0]):\n",
    "    ax[1].plot(normalize(x_y[i]))\n",
    "\n",
    "for i in range(2):\n",
    "    ax[i].set_xlabel(\"Input Dimension\")\n",
    "ax[0].set_ylabel(\"Normalized Value\")\n",
    "ax[0].set_title(\"Inputs for Negative sigma_x\")\n",
    "ax[1].set_title(\"Inputs for Negative sigma_y\")\n",
    "fig.tight_layout()\n",
    "# fig.savefig('input_values.png', facecolor='w', transparent=False)"
   ]
  },
  {
   "cell_type": "code",
   "execution_count": null,
   "id": "655d986c",
   "metadata": {},
   "outputs": [],
   "source": [
    "mean = 0.5 * torch.ones((1, surrogate.x_dim))\n",
    "\n",
    "diff_x = torch.abs(normalize(x_x) - mean)\n",
    "max_dim_x = torch.max(diff_x, dim=1)[0]\n",
    "sort_idx_x = torch.argsort(max_dim_x)\n",
    "x_x_sorted, y_x_sorted = x_x[sort_idx_x], y_x[sort_idx_x]\n",
    "\n",
    "diff_y = torch.abs(normalize(x_y) - mean)\n",
    "max_dim_y = torch.max(diff_y, dim=1)[0]\n",
    "sort_idx_y = torch.argsort(max_dim_y)\n",
    "x_y_sorted, y_y_sorted = x_y[sort_idx_y], y_y[sort_idx_y]\n",
    "\n",
    "# x_mean = torch.mean(x, dim=0)\n",
    "# x_lb = torch.quantile(x, q=0.05, dim=0)\n",
    "# x_ub = torch.quantile(x, q=0.95, dim=0)\n",
    "\n",
    "x_mean = torch.mean(surrogate.raw_x_data, dim=0)\n",
    "x_lb = torch.quantile(surrogate.raw_x_data, q=0.05, dim=0)\n",
    "x_ub = torch.quantile(surrogate.raw_x_data, q=0.95, dim=0)"
   ]
  },
  {
   "cell_type": "code",
   "execution_count": null,
   "id": "5dd894f0",
   "metadata": {},
   "outputs": [],
   "source": [
    "fig, ax = plt.subplots(nrows=1, ncols=2, sharex=True, sharey=True, figsize=(12, 5))\n",
    "for i in range(3):\n",
    "    ax[0].plot(normalize(x_x_sorted[i]))\n",
    "for i in range(3):\n",
    "    ax[1].plot(normalize(x_y_sorted[i]))\n",
    "\n",
    "for i in range(2):\n",
    "    ax[i].plot(normalize(x_mean), \"gray\")\n",
    "    ax[i].fill_between(torch.arange(x.shape[1]), normalize(x_lb), normalize(x_ub), color=\"gray\", alpha=0.25)\n",
    "    ax[i].set_xlabel(\"Input Dimension\")\n",
    "    ax[i].axhline(y=0, color=\"gray\", linestyle=\"--\")\n",
    "    ax[i].axhline(y=1.0, color=\"gray\", linestyle=\"--\")\n",
    "\n",
    "ax[0].set_ylabel(\"Normalized Value\")\n",
    "ax[0].set_title(\"Inputs for Negative sigma_x\")\n",
    "ax[1].set_title(\"Inputs for Negative sigma_y\")\n",
    "fig.tight_layout()\n",
    "# fig.savefig('input_values_center_raw.png', facecolor='w', transparent=False)"
   ]
  },
  {
   "cell_type": "code",
   "execution_count": null,
   "id": "db7e3c5a",
   "metadata": {},
   "outputs": [],
   "source": [
    "fig, ax = plt.subplots(nrows=1, ncols=2, sharex=True, sharey=True, figsize=(12, 5))\n",
    "for i in range(3):\n",
    "    ax[0].plot(normalize(x_x_sorted[-(i+1)]))\n",
    "for i in range(3):\n",
    "    ax[1].plot(normalize(x_y_sorted[-(i+1)]))\n",
    "\n",
    "for i in range(2):\n",
    "    ax[i].plot(normalize(x_mean), \"gray\")\n",
    "    ax[i].fill_between(torch.arange(x.shape[1]), normalize(x_lb), normalize(x_ub), color=\"gray\", alpha=0.25)\n",
    "    ax[i].set_xlabel(\"Input Dimension\")\n",
    "    ax[i].axhline(y=0, color=\"gray\", linestyle=\"--\")\n",
    "    ax[i].axhline(y=1.0, color=\"gray\", linestyle=\"--\")\n",
    "    \n",
    "ax[0].set_ylabel(\"Normalized Value\")\n",
    "ax[0].set_title(\"Inputs for Negative sigma_x\")\n",
    "ax[1].set_title(\"Inputs for Negative sigma_y\")\n",
    "fig.tight_layout()\n",
    "# fig.savefig('input_values_edges_raw.png', facecolor='w', transparent=False)"
   ]
  },
  {
   "cell_type": "code",
   "execution_count": null,
   "id": "2e3bc0fe",
   "metadata": {},
   "outputs": [],
   "source": [
    "# use sample optimum as reference point\n",
    "dim = 0\n",
    "unit, unit_factor = \"(mm)\", 1e3\n",
    "ground_truth = util.NegativeTransverseBeamSize(surrogate.model)\n",
    "gt = ground_truth(x).detach()\n",
    "ref_idx = torch.argmax(gt)\n",
    "ref_x, ref_y = x[ref_idx], y[ref_idx, dim]\n",
    "\n",
    "\n",
    "# 1D scan reference point\n",
    "def scan_ref_x(n_samples, dim=0):\n",
    "    x_lim = surrogate.raw_x_lim\n",
    "    samples = ref_x.repeat(n_samples, 1)\n",
    "    samples[:, dim] = torch.linspace(x_lim[dim, 0], x_lim[dim, 1], n_samples)\n",
    "    return samples"
   ]
  },
  {
   "cell_type": "markdown",
   "id": "2c7a5e1c",
   "metadata": {},
   "source": [
    "# Optimum as Reference Point"
   ]
  },
  {
   "cell_type": "code",
   "execution_count": null,
   "id": "265057dc",
   "metadata": {},
   "outputs": [],
   "source": [
    "n_scan = 100\n",
    "nrows, ncols = 5, 3\n",
    "figsize = (12, 12 * nrows / ncols)\n",
    "\n",
    "fig, ax = plt.subplots(nrows=nrows, ncols=ncols, sharey=False, figsize=figsize)\n",
    "idx = [i for i in range(surrogate.x_dim) if i not in surrogate.fixed_feature_columns]  # remove fixed dimensions\n",
    "\n",
    "\n",
    "for i in range(nrows * ncols):\n",
    "    ax_i = ax[i // ncols, i % ncols]\n",
    "    if i > len(idx) - 1:\n",
    "        ax_i.axis('off')\n",
    "    else:\n",
    "        j = idx[i]\n",
    "\n",
    "        # map sim values to pv\n",
    "        parameter_name = surrogate.model_info[\"model_in_list\"][j]\n",
    "        pv_name = surrogate.pv_info[\"sim_name_to_pv_name\"][parameter_name]\n",
    "        pv_factor = surrogate.pv_info[\"sim_to_pv_factor\"][parameter_name]\n",
    "        pv_unit = surrogate.pv_info[\"pv_unit\"][pv_name]\n",
    "        \n",
    "        # calculate 1D scan\n",
    "        x_scan = scan_ref_x(n_scan, dim=j)\n",
    "        y_scan = surrogate.model(x_scan).detach()[:, dim]\n",
    "\n",
    "        # plot data\n",
    "        ax_i.plot(x_scan[:, j] * pv_factor, y_scan * unit_factor, \"C0\")\n",
    "        ax_i.axhline(y=0.0, color=\"gray\", linestyle=\"--\")\n",
    "        ax_i.set_xlabel(\"{} {}\".format(pv_name, pv_unit))\n",
    "\n",
    "        if i % 3 == 0:\n",
    "            label = [\"sigma_x\", \"sigma_y\"]\n",
    "            ax_i.set_ylabel(\"{} {}\".format(label[dim], unit))\n",
    "\n",
    "fig.tight_layout()\n",
    "#fig.savefig('function_shape_at_optimum.png', facecolor='w', transparent=False)"
   ]
  },
  {
   "cell_type": "markdown",
   "id": "7139b8c4",
   "metadata": {},
   "source": [
    "# Negative Samples as Reference Point"
   ]
  },
  {
   "cell_type": "code",
   "execution_count": null,
   "id": "1dadecd1",
   "metadata": {},
   "outputs": [],
   "source": [
    "# correlation for individual input dimensions\n",
    "n_scan = 100\n",
    "nrows, ncols = 5, 3\n",
    "figsize = (12, 12 * nrows / ncols)\n",
    "\n",
    "fig, ax = plt.subplots(nrows=nrows, ncols=ncols, sharey=False, figsize=figsize)\n",
    "idx = [i for i in range(surrogate.x_dim) if i not in surrogate.fixed_feature_columns]  # remove fixed dimensions\n",
    "\n",
    "for i in range(nrows * ncols):\n",
    "    ax_i = ax[i // ncols, i % ncols]\n",
    "    if i > len(idx) - 1:\n",
    "        ax_i.axis('off')\n",
    "    else:\n",
    "        j = idx[i]\n",
    "\n",
    "        # map sim values to pv\n",
    "        parameter_name = surrogate.model_info[\"model_in_list\"][j]\n",
    "        pv_name = surrogate.pv_info[\"sim_name_to_pv_name\"][parameter_name]\n",
    "        pv_factor = surrogate.pv_info[\"sim_to_pv_factor\"][parameter_name]\n",
    "        pv_unit = surrogate.pv_info[\"pv_unit\"][pv_name]\n",
    "        \n",
    "        for k in range(3):\n",
    "            # select reference point\n",
    "            ref_idx = -(k + 1)\n",
    "            # ref_idx = k\n",
    "            if dim == 0:\n",
    "                ref_x, ref_y = x_x_sorted[ref_idx], y_x_sorted[ref_idx, dim]\n",
    "            else:\n",
    "                ref_x, ref_y = x_y_sorted[ref_idx], y_y_sorted[ref_idx, dim]\n",
    "            \n",
    "            # calculate 1D scan\n",
    "            x_scan = scan_ref_x(n_scan, dim=j)\n",
    "            y_scan = surrogate.model(x_scan).detach()[:, dim]\n",
    "\n",
    "            # plot data\n",
    "            ax_i.plot(x_scan[:, j] * pv_factor, y_scan * unit_factor, \"C{:d}\".format(k))  # label=\"Ref. Point {:d}\".format(k)\n",
    "            ax_i.axhline(y=0.0, color=\"gray\", linestyle=\"--\")\n",
    "            ax_i.set_xlabel(\"{} {}\".format(pv_name, pv_unit))\n",
    "\n",
    "        if i % 3 == 0:\n",
    "            label = [\"sigma_x\", \"sigma_y\"]\n",
    "            ax_i.set_ylabel(\"{} {}\".format(label[dim], unit))\n",
    "\n",
    "fig.tight_layout()"
   ]
  },
  {
   "cell_type": "code",
   "execution_count": null,
   "id": "381a7796",
   "metadata": {},
   "outputs": [],
   "source": []
  }
 ],
 "metadata": {
  "kernelspec": {
   "display_name": "Python 3 (ipykernel)",
   "language": "python",
   "name": "python3"
  },
  "language_info": {
   "codemirror_mode": {
    "name": "ipython",
    "version": 3
   },
   "file_extension": ".py",
   "mimetype": "text/x-python",
   "name": "python",
   "nbconvert_exporter": "python",
   "pygments_lexer": "ipython3",
   "version": "3.9.16"
  }
 },
 "nbformat": 4,
 "nbformat_minor": 5
}
