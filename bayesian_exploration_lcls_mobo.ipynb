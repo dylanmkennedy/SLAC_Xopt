{
 "cells": [
  {
   "cell_type": "markdown",
   "metadata": {},
   "source": [
    "# Bayesian Exploration with Xopt for LCLS MOBO"
   ]
  },
  {
   "cell_type": "markdown",
   "metadata": {},
   "source": [
    "## Explore LCLS X-ray intensity as a function of quad strengths\n",
    "\n",
    "Input parameters:\n",
    "- LI26 quads: QUAD:LI26:201 - QUAD:LI26:901\n",
    "\n",
    "Output parameters:\n",
    "- FEL pulse energy for the soft and hard beamlines:\n",
    "- Soft: EM2K0:XGMD:HPS:AvgPulseIntensity\n",
    "- Hard: GDET:FEE1:241:ENRC, GDET:FEE1:242:ENRC\n",
    "\n",
    "Constraints:\n",
    "- Beam loss monitors: CBLM:UNDH:1375:I0_LOSS, CBLM:UNDS:1375:I0_LOSS"
   ]
  },
  {
   "cell_type": "code",
   "execution_count": 8,
   "metadata": {},
   "outputs": [],
   "source": [
    "# Import the class\n",
    "from xopt import Xopt\n",
    "from xopt.bayesian.algorithms import bayesian_exploration\n"
   ]
  },
  {
   "cell_type": "code",
   "execution_count": 9,
   "metadata": {},
   "outputs": [],
   "source": [
    "# To see log messages\n",
    "from xopt import output_notebook\n",
    "output_notebook()"
   ]
  },
  {
   "cell_type": "code",
   "execution_count": 10,
   "metadata": {},
   "outputs": [],
   "source": [
    "import yaml\n",
    "# Make a proper input file. \n",
    "VOCS=\"\"\"\n",
    "vocs:\n",
    "  name: LCLS_MOBO\n",
    "  variables:\n",
    "    QUAD:LI26:201: [0, 1]\n",
    "    QUAD:LI26:301: [0, 1]\n",
    "    QUAD:LI26:401: [0, 1]\n",
    "    QUAD:LI26:501: [0, 1]\n",
    "    QUAD:LI26:601: [0, 1]\n",
    "    QUAD:LI26:701: [0, 1]\n",
    "    QUAD:LI26:801: [0, 1]\n",
    "    QUAD:LI26:901: [0, 1]\n",
    "  objectives:\n",
    "    EM2K0:XGMD:HPS:AvgPulseIntensity: None\n",
    "  constraints:\n",
    "    CBLM:UNDH:1375:I0_LOSS: [LESS_THAN, 1.0]\n",
    "    CBLM:UNDS:1375:I0_LOSS: [LESS_THAN, 1.0]\n",
    "  linked_variables: {}\n",
    "  constants: {}\n",
    "\"\"\"\n",
    "\n",
    "# create list of inputs and outputs\n",
    "inputs = []\n",
    "for i in range(2, 10):\n",
    "    inputs += [f'QUAD:LI26:{i}01']\n",
    "\n",
    "outputs = [\n",
    "    'EM2K0:XGMD:HPS:AvgPulseIntensity',\n",
    "    'GDET:FEE1:241:ENRC',\n",
    "    'GDET:FEE1:242:ENRC',\n",
    "    'CBLM:UNDH:1375:I0_LOSS',\n",
    "    'CBLM:UNDS:1375:I0_LOSS'\n",
    "]"
   ]
  },
  {
   "cell_type": "markdown",
   "source": [
    "Define function to talk to epics"
   ],
   "metadata": {
    "collapsed": false,
    "pycharm": {
     "name": "#%% md\n"
    }
   }
  },
  {
   "cell_type": "code",
   "execution_count": 11,
   "metadata": {},
   "outputs": [
    {
     "name": "stdout",
     "output_type": "stream",
     "text": [
      "Loading config from dict.\n",
      "Loading config from dict.\n",
      "Loading config from dict.\n",
      "Loading config from dict.\n",
      "Loading config from dict.\n",
      "`name` keyword no longer allowed in vocs config, removing\n",
      "Warning: No path set for key xopt : output_path\n"
     ]
    },
    {
     "data": {
      "text/plain": "\n            Xopt \n________________________________           \nVersion: 0.5.0+7.g47ae31b.dirty\nConfigured: True\nConfig as YAML:\nxopt: {output_path: ''}\nalgorithm:\n  name: bayesian_exploration\n  options:\n    n_initial_samples: 5\n    initial_x: [1.0, 1.0]\n    n_steps: 5\n    generator_options: {batch_size: 1, use_gpu: false}\n  function: xopt.bayesian.algorithms.bayesian_exploration\nsimulation:\n  name: test_TNK\n  evaluate: xopt.tests.evaluators.TNK.evaluate_TNK\n  options: {extra_option: abc}\nvocs:\n  variables:\n    x1: [0, 3.14159]\n    x2: [0, 3.14159]\n  objectives: {y1: None}\n  constraints:\n    c1: [GREATER_THAN, 0]\n    c2: [LESS_THAN, 0.5]\n  linked_variables: {}\n  constants: {}"
     },
     "execution_count": 11,
     "metadata": {},
     "output_type": "execute_result"
    }
   ],
   "source": [
    "from typing import Dict\n",
    "from epics import caget, caput, cainfo\n",
    "from time import sleep\n",
    "def make_epics_measurement(input_dict: Dict) -> Dict:\n",
    "    # set inputs\n",
    "    for name, val in input_dict.items():\n",
    "        print(f'setting {name} to {val}')\n",
    "        caput(name, val)\n",
    "\n",
    "    # wait for inputs to settle\n",
    "    sleep(1)\n",
    "\n",
    "    # get output values\n",
    "    output_dict = {}\n",
    "    for ele in outputs:\n",
    "        output_dict[ele] = caget(ele)\n",
    "\n",
    "    return output_dict\n"
   ]
  },
  {
   "cell_type": "markdown",
   "metadata": {},
   "source": [
    "# Run BayesOpt\n"
   ]
  },
  {
   "cell_type": "code",
   "execution_count": 13,
   "metadata": {},
   "outputs": [
    {
     "name": "stdout",
     "output_type": "stream",
     "text": [
      "Starting at time 2021-12-04T04:51:05-06:00\n",
      "started running optimization with generator: <xopt.bayesian.generators.exploration.BayesianExplorationGenerator object at 0x0000017A7191EBB0>\n",
      "submitting initial candidates\n",
      "starting optimization loop\n",
      "submitting candidates\n",
      "submitting candidates\n",
      "submitting candidates\n",
      "submitting candidates\n",
      "submitting candidates\n"
     ]
    }
   ],
   "source": [
    "opt_results = bayesian_exploration(VOCS,\n",
    "                                   make_epics_measurement,\n",
    "                                   n_steps=10,\n",
    "                                   n_initial_samples=1)"
   ]
  },
  {
   "cell_type": "markdown",
   "metadata": {},
   "source": [
    "# Plot\n",
    "- plot input space samples -> yellow points satisfy constraints and purple points do not"
   ]
  },
  {
   "cell_type": "code",
   "execution_count": 14,
   "metadata": {},
   "outputs": [
    {
     "name": "stdout",
     "output_type": "stream",
     "text": [
      "dict_keys(['variables', 'objectives', 'corrected_objectives', 'constraint_status', 'feasibility', 'model', 'constraints', 'corrected_constraints'])\n"
     ]
    },
    {
     "data": {
      "text/plain": "<Figure size 432x288 with 1 Axes>",
      "image/png": "[encoded data removed]"
     },
     "metadata": {
      "needs_background": "light"
     },
     "output_type": "display_data"
    }
   ],
   "source": [
    "import pandas as pd\n",
    "import matplotlib.pyplot as plt\n",
    "\n",
    "%matplotlib inline\n",
    "\n",
    "# convert output to pandas dataframe for plotting\n",
    "df = pd.DataFrame(opt_results)\n",
    "df[inputs].plot()\n",
    "df[outputs].plot()\n"
   ]
  },
  {
   "cell_type": "code",
   "execution_count": 16,
   "outputs": [],
   "source": [],
   "metadata": {
    "collapsed": false,
    "pycharm": {
     "name": "#%%\n"
    }
   }
  }
 ],
 "metadata": {
  "kernelspec": {
   "name": "xopt",
   "language": "python",
   "display_name": "xopt"
  },
  "language_info": {
   "codemirror_mode": {
    "name": "ipython",
    "version": 3
   },
   "file_extension": ".py",
   "mimetype": "text/x-python",
   "name": "python",
   "nbconvert_exporter": "python",
   "pygments_lexer": "ipython3",
   "version": "3.9.7"
  }
 },
 "nbformat": 4,
 "nbformat_minor": 4
}