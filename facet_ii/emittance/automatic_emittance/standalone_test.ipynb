{
 "cells": [
  {
   "cell_type": "code",
   "execution_count": null,
   "metadata": {
    "collapsed": true
   },
   "outputs": [],
   "source": [
    "# optionally add scripts location to path\n",
    "if True:\n",
    "    import sys\n",
    "    sys.path.append(\"../../../\")\n",
    "\n",
    "from scripts.automatic_emittance import ScreenEmittanceConfig, screen_emittance_measurement_from_config"
   ]
  },
  {
   "cell_type": "code",
   "execution_count": null,
   "outputs": [],
   "source": [
    "## import variable ranges\n",
    "import pandas as pd\n",
    "filename = \"../../variables.csv\"\n",
    "VARIABLE_RANGES = pd.read_csv(filename, index_col=0, header=None).T.to_dict(orient='list')\n",
    "SCREEN_NAME = \"PROF:IN10:571\"\n",
    "\n",
    "TUNING_VARIABLES = [\"QUAD:IN10:425:BCTRL\",\"QUAD:IN10:441:BCTRL\",\"QUAD:IN10:511:BCTRL\"]\n",
    "SCAN_VARIABLE = \"QUAD:IN10:525\"\n",
    "QUAD_LENGTH = 0.108 # m\n",
    "DRIFT_LENGTH = 1.0 # m\n",
    "BEAM_ENERGY = 0.125 # GeV\n",
    "PV_TO_INTEGRATED_GRADIENT = 1.0 # kG\n",
    "ROI = None\n",
    "THRESHOLD = 3000\n",
    "\n",
    "config = ScreenEmittanceConfig(\n",
    "    scan_variable = SCAN_VARIABLE,\n",
    "    scan_variable_range = VARIABLE_RANGES[SCAN_VARIABLE],\n",
    "    screen_name = SCREEN_NAME,\n",
    "    quad_length = QUAD_LENGTH,\n",
    "    drift_length = DRIFT_LENGTH,\n",
    "    beam_energy = BEAM_ENERGY,\n",
    "    tuning_variables = {ele: VARIABLE_RANGES[ele] for ele in TUNING_VARIABLES},\n",
    "    roi = ROI,\n",
    "    threshold = THRESHOLD,\n",
    "    measure_background_flag = True\n",
    ")\n",
    "\n",
    "result, X = screen_emittance_measurement_from_config(config)"
   ],
   "metadata": {
    "collapsed": false
   }
  }
 ],
 "metadata": {
  "kernelspec": {
   "display_name": "Python 3",
   "language": "python",
   "name": "python3"
  },
  "language_info": {
   "codemirror_mode": {
    "name": "ipython",
    "version": 2
   },
   "file_extension": ".py",
   "mimetype": "text/x-python",
   "name": "python",
   "nbconvert_exporter": "python",
   "pygments_lexer": "ipython2",
   "version": "2.7.6"
  }
 },
 "nbformat": 4,
 "nbformat_minor": 0
}
