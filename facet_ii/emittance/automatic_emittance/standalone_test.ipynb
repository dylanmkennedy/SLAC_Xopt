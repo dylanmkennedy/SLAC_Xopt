{
 "cells": [
  {
   "cell_type": "code",
   "execution_count": 1,
   "metadata": {
    "collapsed": true,
    "ExecuteTime": {
     "end_time": "2023-07-26T20:48:48.989695Z",
     "start_time": "2023-07-26T20:48:45.528281700Z"
    }
   },
   "outputs": [],
   "source": [
    "# optionally add scripts location to path\n",
    "if True:\n",
    "    import sys\n",
    "    sys.path.append(\"../../../\")\n",
    "\n",
    "from scripts.automatic_emittance import ScreenEmittanceConfig, screen_emittance_measurement_from_config"
   ]
  },
  {
   "cell_type": "code",
   "execution_count": 3,
   "outputs": [
    {
     "data": {
      "text/plain": "'{\"scan_variable\": \"QUAD:IN10:525:BCTRL\", \"scan_variable_range\": [-8.5, -2.0], \"screen_name\": \"PROF:IN10:571\", \"quad_length\": 0.108, \"drift_length\": 1.0, \"beam_energy\": 0.125, \"tuning_variables\": {\"QUAD:IN10:425:BCTRL\": [-7.0, -5.0], \"QUAD:IN10:441:BCTRL\": [1.0, 4.0], \"QUAD:IN10:511:BCTRL\": [4.0, 5.5]}, \"roi\": null, \"threshold\": 3000.0, \"measure_background_flag\": true, \"background_file\": null, \"visualize\": false}'"
     },
     "execution_count": 3,
     "metadata": {},
     "output_type": "execute_result"
    }
   ],
   "source": [
    "## import variable ranges\n",
    "import pandas as pd\n",
    "filename = \"../../variables.csv\"\n",
    "VARIABLE_RANGES = pd.read_csv(filename, index_col=0, header=None).T.to_dict(orient='list')\n",
    "SCREEN_NAME = \"PROF:IN10:571\"\n",
    "\n",
    "TUNING_VARIABLES = [\"QUAD:IN10:425:BCTRL\",\"QUAD:IN10:441:BCTRL\",\"QUAD:IN10:511:BCTRL\"]\n",
    "SCAN_VARIABLE = \"QUAD:IN10:525:BCTRL\"\n",
    "QUAD_LENGTH = 0.108 # m\n",
    "DRIFT_LENGTH = 2.702 # m\n",
    "BEAM_ENERGY = 0.125 # GeV\n",
    "PV_TO_INTEGRATED_GRADIENT = 1.0 # kG\n",
    "ROI = None\n",
    "THRESHOLD = 3000\n",
    "\n",
    "config = ScreenEmittanceConfig(\n",
    "    scan_variable = SCAN_VARIABLE,\n",
    "    scan_variable_range = VARIABLE_RANGES[SCAN_VARIABLE],\n",
    "    screen_name = SCREEN_NAME,\n",
    "    quad_length = QUAD_LENGTH,\n",
    "    drift_length = DRIFT_LENGTH,\n",
    "    beam_energy = BEAM_ENERGY,\n",
    "    tuning_variables = {ele: VARIABLE_RANGES[ele] for ele in TUNING_VARIABLES},\n",
    "    roi = ROI,\n",
    "    threshold = THRESHOLD,\n",
    "    measure_background_flag = True\n",
    ")\n",
    "\n",
    "config.json()"
   ],
   "metadata": {
    "collapsed": false,
    "ExecuteTime": {
     "end_time": "2023-07-26T20:48:59.514721Z",
     "start_time": "2023-07-26T20:48:59.500720Z"
    }
   }
  },
  {
   "cell_type": "code",
   "execution_count": null,
   "outputs": [],
   "source": [
    "screen_emittance_measurement_from_config(config)"
   ],
   "metadata": {
    "collapsed": false
   }
  }
 ],
 "metadata": {
  "kernelspec": {
   "display_name": "Python 3",
   "language": "python",
   "name": "python3"
  },
  "language_info": {
   "codemirror_mode": {
    "name": "ipython",
    "version": 2
   },
   "file_extension": ".py",
   "mimetype": "text/x-python",
   "name": "python",
   "nbconvert_exporter": "python",
   "pygments_lexer": "ipython2",
   "version": "2.7.6"
  }
 },
 "nbformat": 4,
 "nbformat_minor": 0
}
