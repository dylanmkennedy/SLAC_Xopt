{
 "cells": [
  {
   "cell_type": "code",
   "execution_count": 2,
   "id": "eda6f2d1-09cd-414f-9c63-afab4858f7a0",
   "metadata": {},
   "outputs": [
    {
     "data": {
      "text/plain": [
       "{'QUAD:HTR:140:BCTRL': 1.7649175,\n",
       " 'QUAD:HTR:300:BCTRL': 1.8073254,\n",
       " 'QUAD:HTR:320:BCTRL': -2.340077,\n",
       " 'SOLN:GUNB:212:BCTRL': 0.04418,\n",
       " 'QUAD:GUNB:212:1:BCTRL': 0.002411,\n",
       " 'QUAD:GUNB:212:2:BCTRL': 0.002356,\n",
       " 'SOLN:GUNB:823:BCTRL': 0.0247,\n",
       " 'QUAD:GUNB:823:1:BCTRL': 0.0032658,\n",
       " 'QUAD:GUNB:823:2:BCTRL': 0.002111,\n",
       " 'ACCL:GUNB:455:PDES': -120.7,\n",
       " 'ACCL:L0B:0110:ADES': 6.5,\n",
       " 'ACCL:L0B:0110:PDES': -8.5,\n",
       " 'ACCL:L0B:0130:PDES': 0.0,\n",
       " 'QUAD:HTR:120:BCTRL': -2.1773542,\n",
       " 'QUAD:COL0:320:BCTRL': -0.10923}"
      ]
     },
     "execution_count": 2,
     "metadata": {},
     "output_type": "execute_result"
    }
   ],
   "source": [
    "# save reference point\n",
    "from common import save_reference_point, get_pv_objects\n",
    "pv_objects = get_pv_objects(\"tracked_pvs.yml\")\n",
    "ref = save_reference_point(pv_objects)\n",
    "ref"
   ]
  },
  {
   "cell_type": "code",
   "execution_count": null,
   "id": "d7700c4e-9110-42c0-beb1-ff6002277b25",
   "metadata": {},
   "outputs": [],
   "source": []
  }
 ],
 "metadata": {
  "kernelspec": {
   "display_name": "Python 3 (ipykernel)",
   "language": "python",
   "name": "python3"
  },
  "language_info": {
   "codemirror_mode": {
    "name": "ipython",
    "version": 3
   },
   "file_extension": ".py",
   "mimetype": "text/x-python",
   "name": "python",
   "nbconvert_exporter": "python",
   "pygments_lexer": "ipython3",
   "version": "3.12.4"
  }
 },
 "nbformat": 4,
 "nbformat_minor": 5
}
