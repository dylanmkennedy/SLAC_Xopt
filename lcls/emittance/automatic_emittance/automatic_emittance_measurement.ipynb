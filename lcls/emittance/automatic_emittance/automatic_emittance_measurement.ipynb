{
 "cells": [
  {
   "cell_type": "markdown",
   "source": [
    "# Automatic emittance measurement at LCLS\n",
    "In this case we have 4 quadrupoles, 3 that are used to minimize the incoming beam and\n",
    " the fourth to perform the quad scan measurement."
   ],
   "metadata": {
    "collapsed": false
   }
  },
  {
   "cell_type": "code",
   "execution_count": 9,
   "outputs": [],
   "source": [
    "# optionally add scripts location to path\n",
    "if True:\n",
    "    import sys\n",
    "    sys.path.append(\"../../../\")\n",
    "\n",
    "import xopt\n",
    "print(xopt.__version__)\n",
    "\n",
    "# set up data saving locations\n",
    "data_dir = \"/home/physics3/ml_tuning/20230729_LCLS_Injector\"\n"
   ],
   "metadata": {
    "collapsed": false,
    "ExecuteTime": {
     "end_time": "2023-07-17T17:15:44.808515800Z",
     "start_time": "2023-07-17T17:15:44.804490500Z"
    }
   }
  },
  {
   "cell_type": "code",
   "execution_count": null,
   "outputs": [],
   "source": [
    "from scripts.evaluate_function.screen_image import measure_beamsize, measure_background\n",
    "from scripts.optimize_function import optimize_function\n",
    "from scripts.characterize_emittance import characterize_emittance"
   ],
   "metadata": {
    "collapsed": false
   }
  },
  {
   "cell_type": "code",
   "execution_count": null,
   "outputs": [],
   "source": [
    "## import variable ranges\n",
    "import pandas as pd\n",
    "filename = \"../../variables.csv\"\n",
    "VARIABLE_RANGES = pd.read_csv(filename, index_col=0, header=None).T.to_dict(orient='list')\n",
    "SCREEN_NAME = \"OTRS:IN20:621\" # OTR 3"
   ],
   "metadata": {
    "collapsed": false
   }
  },
  {
   "cell_type": "markdown",
   "source": [
    "## (Optional) Measure background image"
   ],
   "metadata": {
    "collapsed": false
   }
  },
  {
   "cell_type": "code",
   "execution_count": null,
   "outputs": [],
   "source": [
    "MEASURE_BACKGROUND = True\n",
    "BACKGROUND_FILE = f\"{data_dir}/{SCREEN_NAME}_background.npy\".replace(\":\",\"_\")\n",
    "\n",
    "if MEASURE_BACKGROUND:\n",
    "    measure_background(SCREEN_NAME)\n",
    "else:\n",
    "    BACKGROUND_FILE = None"
   ],
   "metadata": {
    "collapsed": false
   }
  },
  {
   "cell_type": "code",
   "execution_count": null,
   "outputs": [],
   "source": [
    "# verify background image\n",
    "import numpy as np\n",
    "import matplotlib.pyplot as plt\n",
    "plt.imshow(np.load(BACKGROUND_FILE))"
   ],
   "metadata": {
    "collapsed": false
   }
  },
  {
   "cell_type": "markdown",
   "source": [
    "## Test screen measurement"
   ],
   "metadata": {
    "collapsed": false
   }
  },
  {
   "cell_type": "code",
   "execution_count": null,
   "outputs": [],
   "source": [
    "res = measure_beamsize({\"screen\":SCREEN_NAME, \"visualize\": True})"
   ],
   "metadata": {
    "collapsed": false
   }
  },
  {
   "cell_type": "markdown",
   "source": [
    "## Define measurement parameters"
   ],
   "metadata": {
    "collapsed": false
   }
  },
  {
   "cell_type": "code",
   "execution_count": null,
   "outputs": [],
   "source": [
    "from xopt import VOCS\n",
    "import numpy as np\n",
    "import json\n",
    "from epics import caget_many\n",
    "\n",
    "\n",
    "TUNING_VARIABLES = [\"QUAD:IN20:425:BCTRL\",\"QUAD:IN20:441:BCTRL\",\"QUAD:IN20:511:BCTRL\"]\n",
    "SCAN_VARIABLE = \"QUAD:IN20:525\"\n",
    "QUAD_LENGTH = 0.108 # m\n",
    "DRIFT_LENGTH = 4.17 # m\n",
    "BEAM_ENERGY = 0.135 # GeV\n",
    "PV_TO_INTEGRATED_GRADIENT = 1.0 # kG\n",
    "ROI = None\n",
    "THRESHOLD = 3000\n",
    "\n",
    "with open(\"../../secondary_variables.json\", \"r\") as f:\n",
    "    secondary_observables = json.loads(f)\n",
    "\n",
    "measurement_options = {\n",
    "    \"screen\": SCREEN_NAME,\n",
    "    \"background\": BACKGROUND_FILE,\n",
    "    \"threshold\": THRESHOLD,\n",
    "    \"roi\": ROI,\n",
    "    \"bb_half_width\": 3.0, # half width of the bounding box in terms of std\n",
    "    \"visualize\": True,\n",
    "    \"save_img_location\": data_dir\n",
    "}\n",
    "\n",
    "image_constraints = {\n",
    "    \"bb_penalty\": [\"LESS_THAN\", 0.0],\n",
    "    \"log10_total_intensity\": [\"GREATER_THAN\", 4]\n",
    "}\n",
    "\n",
    "# define function to measure the total size on OTR4\n",
    "def eval_beamsize(input_dict):\n",
    "    results = measure_beamsize(input_dict)\n",
    "\n",
    "    # get secondary PV settings/readbacks\n",
    "    secondary_results = caget_many(secondary_observables)\n",
    "    results = results | secondary_results\n",
    "\n",
    "\n",
    "    results[\"S_x_mm\"] = results[\"Sx\"] * 1e3\n",
    "    results[\"S_y_mm\"] = results[\"Sy\"] * 1e3\n",
    "\n",
    "    #add total beam size\n",
    "    results[\"total_size\"] = np.sqrt(results[\"Sx\"]**2 + results[\"Sy\"]**2)\n",
    "    return results\n",
    "\n"
   ],
   "metadata": {
    "collapsed": false
   }
  },
  {
   "cell_type": "markdown",
   "source": [
    "## Optimize upstream beam parameters to minimze beamsize\n",
    "Note that the scan variable is fixed at zero for maximum range quadrupole scan."
   ],
   "metadata": {
    "collapsed": false
   }
  },
  {
   "cell_type": "code",
   "execution_count": null,
   "outputs": [],
   "source": [
    "opt_vocs = VOCS(\n",
    "        variables = {ele: VARIABLE_RANGES[ele] for ele in TUNING_VARIABLES},\n",
    "        constants = {SCAN_VARIABLE: 0.0} | measurement_options,\n",
    "        constraints = image_constraints,\n",
    "        objectives = {\"total_size\": \"MINIMIZE\"}\n",
    "    )\n",
    "\n",
    "opt_x = optimize_function(\n",
    "    opt_vocs, eval_beamsize, n_iterations=1,\n",
    ")"
   ],
   "metadata": {
    "collapsed": false
   }
  },
  {
   "cell_type": "code",
   "execution_count": null,
   "outputs": [],
   "source": [
    "opt_x.data"
   ],
   "metadata": {
    "collapsed": false
   }
  },
  {
   "cell_type": "markdown",
   "source": [
    "## Automatic quad scan and emittance characterization"
   ],
   "metadata": {
    "collapsed": false
   }
  },
  {
   "cell_type": "code",
   "execution_count": null,
   "outputs": [],
   "source": [
    "from emitopt.utils import get_quad_strength_conversion_factor\n",
    "emit_vocs = VOCS(\n",
    "        variables = {SCAN_VARIABLE: VARIABLE_RANGES[SCAN_VARIABLE]},\n",
    "        observables = [\"S_x_mm\", \"S_y_mm\"],\n",
    "        constraints = image_constraints,\n",
    "        constants = opt_x.data.iloc[-1][TUNING_VARIABLES].to_dict() | measurement_options\n",
    "    )\n",
    "\n",
    "# create conversion factor from PV value to geometric focusing strength\n",
    "integrated_gradient_to_geometric_focusing_strength = get_quad_strength_conversion_factor(\n",
    "        BEAM_ENERGY, QUAD_LENGTH\n",
    "    )\n",
    "quad_strength_scale_factor =  PV_TO_INTEGRATED_GRADIENT * integrated_gradient_to_geometric_focusing_strength\n",
    "\n",
    "emit_results, emit_Xopt = characterize_emittance(\n",
    "    emit_vocs,\n",
    "    eval_beamsize,\n",
    "    QUAD_LENGTH,\n",
    "    DRIFT_LENGTH,\n",
    "    quad_strength_key=SCAN_VARIABLE,\n",
    "    quad_strength_scale_factor=quad_strength_scale_factor,\n",
    "    rms_x_key=\"S_x_mm\",\n",
    "    rms_y_key=\"S_y_mm\",\n",
    "    quad_scan_analysis_kwargs={\"visualize\": True}\n",
    ")"
   ],
   "metadata": {
    "collapsed": false
   }
  },
  {
   "cell_type": "code",
   "execution_count": null,
   "outputs": [],
   "source": [
    "emit_results"
   ],
   "metadata": {
    "collapsed": false
   }
  },
  {
   "cell_type": "code",
   "execution_count": null,
   "outputs": [],
   "source": [
    "emit_Xopt.data"
   ],
   "metadata": {
    "collapsed": false
   }
  }
 ],
 "metadata": {
  "kernelspec": {
   "display_name": "Python 3",
   "language": "python",
   "name": "python3"
  },
  "language_info": {
   "codemirror_mode": {
    "name": "ipython",
    "version": 2
   },
   "file_extension": ".py",
   "mimetype": "text/x-python",
   "name": "python",
   "nbconvert_exporter": "python",
   "pygments_lexer": "ipython2",
   "version": "2.7.6"
  }
 },
 "nbformat": 4,
 "nbformat_minor": 0
}
