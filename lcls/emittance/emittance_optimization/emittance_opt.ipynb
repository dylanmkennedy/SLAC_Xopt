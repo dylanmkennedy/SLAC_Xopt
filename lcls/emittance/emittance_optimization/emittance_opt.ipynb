{
 "cells": [
  {
   "cell_type": "markdown",
   "id": "2c2f960b-913e-4247-b858-32b1d969908b",
   "metadata": {},
   "source": [
    "## automatic emittance meas"
   ]
  },
  {
   "cell_type": "code",
   "execution_count": 1,
   "id": "aecb0032-85c5-47e7-8fa2-7e8d02d51ef3",
   "metadata": {},
   "outputs": [
    {
     "name": "stdout",
     "output_type": "stream",
     "text": [
      "['/home/physics/rroussel/SLAC_Xopt/lcls/emittance/emittance_optimization', '/usr/local/lcls/tools/python/toolbox', '/usr/local/lcls/package/anaconda/envs/python3.9envs/rhel7/nightly/08-21-2023/lib/python39.zip', '/usr/local/lcls/package/anaconda/envs/python3.9envs/rhel7/nightly/08-21-2023/lib/python3.9', '/usr/local/lcls/package/anaconda/envs/python3.9envs/rhel7/nightly/08-21-2023/lib/python3.9/lib-dynload', '', '/usr/local/lcls/package/anaconda/envs/python3.9envs/rhel7/nightly/08-21-2023/lib/python3.9/site-packages', '../../../', '../../']\n"
     ]
    }
   ],
   "source": [
    "# optionally add scripts location to path\n",
    "if True:\n",
    "    import sys\n",
    "    sys.path.append(\"../../../\")\n",
    "    sys.path.append(\"../../\")\n",
    "\n",
    "run_dir = \"/home/physics/ml_tuning/20230821_LCLS_Injector/\"\n",
    "print(sys.path)\n"
   ]
  },
  {
   "cell_type": "code",
   "execution_count": 2,
   "id": "aeb26adf-e615-4eca-b955-0ee439b76638",
   "metadata": {},
   "outputs": [
    {
     "name": "stdout",
     "output_type": "stream",
     "text": [
      "{screen_name: 'OTRS:IN20:621', array_data_suffix: IMAGE, array_n_cols_suffix: ROI_XNP,\n",
      "  array_n_rows_suffix: ROI_YNP, resolution_suffix: RESOLUTION, beam_shutter_pv: 'IOC:BSY0:MP01:MSHUTCTL',\n",
      "  background_file: /home/physics/ml_tuning/20230821_LCLS_Injector/OTRS_IN20_621_background.npy,\n",
      "  save_image_location: /home/physics/ml_tuning/20230821_LCLS_Injector/, roi: null,\n",
      "  min_log_intensity: 4.0, bounding_box_half_width: 3.0, wait_time: 0.1, n_fitting_restarts: 2,\n",
      "  visualize: false, testing: false}\n",
      "\n"
     ]
    }
   ],
   "source": [
    "from scripts.image import ImageDiagnostic\n",
    "import yaml\n",
    "\n",
    "fname = \"../../OTR3_config.yml\"\n",
    "image_diagnostic = ImageDiagnostic.parse_obj(yaml.safe_load(open(fname)))\n",
    "image_diagnostic.save_image_location = run_dir\n",
    "image_diagnostic.n_fitting_restarts = 2\n",
    "image_diagnostic.visualize = False\n",
    "image_diagnostic.background_file = run_dir + \"OTRS_IN20_621_background.npy\"\n",
    "print(image_diagnostic.yaml())"
   ]
  },
  {
   "cell_type": "code",
   "execution_count": 3,
   "id": "e1ff1274-8d28-4247-a9ee-68e40058109b",
   "metadata": {},
   "outputs": [],
   "source": [
    "from scripts.automatic_emittance import ScreenEmittanceMeasurement, BeamlineConfig\n",
    "\n",
    "drift_length = 4.17\n",
    "beamline_config = BeamlineConfig(\n",
    "    scan_quad_pv=\"QUAD:IN20:525:BCTRL\",\n",
    "    scan_quad_range=[-7.0, 7.0],\n",
    "    scan_quad_length=0.1068,\n",
    "    transport_matrix_x =[[1.0,    drift_length],\n",
    "        [ 0.0,    1.0]],\n",
    "    transport_matrix_y = [[1.0,    drift_length],\n",
    "        [ 0.0,    1.0]],\n",
    "    beam_energy=0.135,\n",
    ")\n",
    "\n",
    "\n",
    "measurement = ScreenEmittanceMeasurement(\n",
    "    image_diagnostic=image_diagnostic,\n",
    "    beamline_config=beamline_config,\n",
    "    run_dir=run_dir,\n",
    "    minimum_log_intensity=5.0,\n",
    "    wait_time=5.0,\n",
    "    n_shots=5,\n",
    "    n_iterations=10,\n",
    "    visualize=True\n",
    ")\n",
    "\n",
    "measurement.dump_yaml()"
   ]
  },
  {
   "cell_type": "code",
   "execution_count": 4,
   "id": "3f3be462-0a6c-4cf6-8b15-dcde610b06f4",
   "metadata": {},
   "outputs": [],
   "source": [
    "from epics import caput\n",
    "from time import sleep\n",
    "def eval_emittance(inputs):\n",
    "    global measurement\n",
    "    # set PVs\n",
    "    for k, v in inputs.items():\n",
    "        print(f'CAPUT {k} {v}')\n",
    "        caput(k, v)\n",
    "\n",
    "    sleep(5.0)\n",
    "    print(\"starting emittance measurement\")\n",
    "    results, emit_x = measurement.run()\n",
    "\n",
    "    results[\"geo_mean_emit\"] = np.sqrt(results[\"x_emittance_median\"]*results[\"y_emittance_median\"])\n",
    "\n",
    "    return results\n",
    "    "
   ]
  },
  {
   "cell_type": "code",
   "execution_count": 5,
   "id": "05e6cdf4-e119-4b72-b0b8-f6b18eacb94b",
   "metadata": {},
   "outputs": [
    {
     "name": "stdout",
     "output_type": "stream",
     "text": [
      "variables={'SOLN:IN20:121:BCTRL': [0.377, 0.498], 'QUAD:IN20:121:BCTRL': [-0.021, 0.021], 'QUAD:IN20:122:BCTRL': [-0.021, 0.021]} constraints={} objectives={'geo_mean_emit': 'MINIMIZE'} constants={} observables=[]\n"
     ]
    }
   ],
   "source": [
    "import pandas as pd\n",
    "filename = \"../../variables.csv\"\n",
    "VARIABLE_RANGES = pd.read_csv(filename, index_col=0, header=None).T.to_dict(orient='list')\n",
    "\n",
    "from xopt import VOCS\n",
    "VARIABLES = [\"SOLN:IN20:121:BCTRL\", \"QUAD:IN20:121:BCTRL\",\"QUAD:IN20:122:BCTRL\"]\n",
    "vocs = VOCS(\n",
    "        variables = {ele: VARIABLE_RANGES[ele] for ele in VARIABLES},\n",
    "        objectives = {\"geo_mean_emit\": \"MINIMIZE\"},\n",
    "    )\n",
    "print(vocs)"
   ]
  },
  {
   "cell_type": "code",
   "execution_count": 6,
   "id": "ab771efc-d5f3-4dba-8a70-4e948aed5b00",
   "metadata": {},
   "outputs": [
    {
     "data": {
      "text/plain": [
       "\n",
       "            Xopt\n",
       "________________________________\n",
       "Version: 2.0a1+74.g9067c79\n",
       "Data size: 0\n",
       "Config as YAML:\n",
       "xopt: {asynch: false, strict: true, dump_file: /home/physics/ml_tuning/20230821_LCLS_Injector/emittance_optimization.yml,\n",
       "  max_evaluations: null}\n",
       "generator:\n",
       "  name: upper_confidence_bound\n",
       "  model: null\n",
       "  turbo_controller:\n",
       "    dim: 3\n",
       "    batch_size: 1\n",
       "    length: 0.25\n",
       "    length_min: 0.0078125\n",
       "    length_max: 2.0\n",
       "    failure_counter: 0\n",
       "    failure_tolerance: 2\n",
       "    success_counter: 0\n",
       "    success_tolerance: 2\n",
       "    center_x: null\n",
       "    scale_factor: 2.0\n",
       "    tkwargs: {dtype: torch.float64}\n",
       "    minimize: true\n",
       "    best_value: null\n",
       "  use_cuda: false\n",
       "  model_constructor:\n",
       "    name: standard\n",
       "    use_low_noise_prior: false\n",
       "    covar_modules: {}\n",
       "    mean_modules: {}\n",
       "    trainable_mean_keys: []\n",
       "  numerical_optimizer: {name: LBFGS, n_raw_samples: 20, n_restarts: 20, max_iter: 200}\n",
       "  max_travel_distances: null\n",
       "  fixed_features: null\n",
       "  computation_time: {}\n",
       "  n_candidates: 1\n",
       "  n_monte_carlo_samples: 128\n",
       "  beta: 2.0\n",
       "evaluator:\n",
       "  function: __main__.eval_emittance\n",
       "  max_workers: 1\n",
       "  function_kwargs: {}\n",
       "  vectorized: false\n",
       "vocs:\n",
       "  variables:\n",
       "    SOLN:IN20:121:BCTRL: [0.377, 0.498]\n",
       "    QUAD:IN20:121:BCTRL: [-0.021, 0.021]\n",
       "    QUAD:IN20:122:BCTRL: [-0.021, 0.021]\n",
       "  constraints: {}\n",
       "  objectives: {geo_mean_emit: MINIMIZE}\n",
       "  constants: {}\n",
       "  observables: []\n"
      ]
     },
     "execution_count": 6,
     "metadata": {},
     "output_type": "execute_result"
    }
   ],
   "source": [
    "from xopt import Xopt, VOCS\n",
    "from xopt.evaluator import Evaluator\n",
    "from xopt.numerical_optimizer import LBFGSOptimizer\n",
    "from xopt.generators import UpperConfidenceBoundGenerator\n",
    "from xopt.generators.bayesian.models.standard import StandardModelConstructor\n",
    "\n",
    "# remember to set use low noise prior to false!!!\n",
    "model_constructor = StandardModelConstructor(use_low_noise_prior=False)\n",
    "generator = UpperConfidenceBoundGenerator(\n",
    "    vocs=vocs,\n",
    "    model_constructor=model_constructor,\n",
    "    turbo_controller=\"optimize\"\n",
    ")\n",
    "generator.numerical_optimizer.max_iter = 200\n",
    "# generator.max_travel_distances = [0.1] * len(vocs.variable_names)\n",
    "evaluator = Evaluator(function=eval_emittance)\n",
    "X = Xopt(generator=generator, evaluator=evaluator, vocs=vocs)\n",
    "X.options.dump_file = run_dir + \"emittance_optimization.yml\"\n",
    "X"
   ]
  },
  {
   "cell_type": "code",
   "execution_count": 8,
   "id": "65956c30-c472-4a83-a410-c53c4bf51d94",
   "metadata": {},
   "outputs": [
    {
     "name": "stdout",
     "output_type": "stream",
     "text": [
      "CAPUT SOLN:IN20:121:BCTRL 0.474877290758955\n",
      "CAPUT QUAD:IN20:121:BCTRL -0.0048398437\n",
      "CAPUT QUAD:IN20:122:BCTRL 0.0018\n",
      "starting emittance measurement\n",
      "CAPUT QUAD:IN20:525:BCTRL -1.2461705135320407\n",
      "CAPUT QUAD:IN20:525:BCTRL -4.2203540957596335\n"
     ]
    },
    {
     "ename": "XoptError",
     "evalue": "Xopt evaluator caught exception(s):\n\nEvaluation index 0:\nTraceback (most recent call last):\n  File \"/usr/local/lcls/package/anaconda/envs/python3.9envs/rhel7/nightly/08-21-2023/lib/python3.9/site-packages/xopt/utils.py\", line 137, in safe_call\n    result = func(*args, **kwargs)\n  File \"/home/physics/rroussel/SLAC_Xopt/lcls/emittance/emittance_optimization/../../../scripts/automatic_emittance.py\", line 63, in eval_beamsize\n    sleep(self.wait_time)\nKeyboardInterrupt\n\nDuring handling of the above exception, another exception occurred:\n\nTraceback (most recent call last):\n  File \"/usr/local/lcls/package/anaconda/envs/python3.9envs/rhel7/nightly/08-21-2023/lib/python3.9/site-packages/xopt/utils.py\", line 137, in safe_call\n    result = func(*args, **kwargs)\n  File \"/tmp/ipykernel_1297464/2187975396.py\", line 12, in eval_emittance\n    results, emit_x = measurement.run()\n  File \"/home/physics/rroussel/SLAC_Xopt/lcls/emittance/emittance_optimization/../../../scripts/automatic_emittance.py\", line 105, in run\n    emit_results, emit_Xopt = characterize_emittance(\n  File \"/home/physics/rroussel/SLAC_Xopt/lcls/emittance/emittance_optimization/../../../scripts/characterize_emittance.py\", line 132, in characterize_emittance\n    X.random_evaluate(n_initial)\n  File \"/usr/local/lcls/package/anaconda/envs/python3.9envs/rhel7/nightly/08-21-2023/lib/python3.9/site-packages/xopt/base.py\", line 433, in random_evaluate\n    result = self.evaluate_data(random_inputs[self.vocs.variable_names])\n  File \"/usr/local/lcls/package/anaconda/envs/python3.9envs/rhel7/nightly/08-21-2023/lib/python3.9/site-packages/xopt/base.py\", line 140, in evaluate_data\n    output_data = self.evaluator.evaluate_data(input_data)\n  File \"/usr/local/lcls/package/anaconda/envs/python3.9envs/rhel7/nightly/08-21-2023/lib/python3.9/site-packages/xopt/evaluator.py\", line 114, in evaluate_data\n    return pd.DataFrame(output_data, index=input_data.index)\n  File \"/usr/local/lcls/package/anaconda/envs/python3.9envs/rhel7/nightly/08-21-2023/lib/python3.9/site-packages/pandas/core/frame.py\", line 774, in __init__\n    data = list(data)\n  File \"/usr/local/lcls/package/anaconda/envs/python3.9envs/rhel7/nightly/08-21-2023/lib/python3.9/site-packages/xopt/evaluator.py\", line 165, in safe_function1_for_map\n    return safe_function(function, inputs, **kwargs)\n  File \"/usr/local/lcls/package/anaconda/envs/python3.9envs/rhel7/nightly/08-21-2023/lib/python3.9/site-packages/xopt/evaluator.py\", line 169, in safe_function\n    safe_outputs = safe_call(function, *args, **kwargs)\n  File \"/usr/local/lcls/package/anaconda/envs/python3.9envs/rhel7/nightly/08-21-2023/lib/python3.9/site-packages/xopt/utils.py\", line 148, in safe_call\n    outputs[\"result\"] = result\nUnboundLocalError: local variable 'result' referenced before assignment\n\n",
     "output_type": "error",
     "traceback": [
      "\u001b[0;31m---------------------------------------------------------------------------\u001b[0m",
      "\u001b[0;31mXoptError\u001b[0m                                 Traceback (most recent call last)",
      "Cell \u001b[0;32mIn[8], line 6\u001b[0m\n\u001b[1;32m      1\u001b[0m default \u001b[38;5;241m=\u001b[39m {\u001b[38;5;124m'\u001b[39m\u001b[38;5;124mSOLN:IN20:121:BCTRL\u001b[39m\u001b[38;5;124m'\u001b[39m: \u001b[38;5;241m0.474877290758955\u001b[39m,\n\u001b[1;32m      2\u001b[0m  \u001b[38;5;124m'\u001b[39m\u001b[38;5;124mQUAD:IN20:121:BCTRL\u001b[39m\u001b[38;5;124m'\u001b[39m: \u001b[38;5;241m-\u001b[39m\u001b[38;5;241m0.0048398437\u001b[39m,\n\u001b[1;32m      3\u001b[0m  \u001b[38;5;124m'\u001b[39m\u001b[38;5;124mQUAD:IN20:122:BCTRL\u001b[39m\u001b[38;5;124m'\u001b[39m: \u001b[38;5;241m0.0018\u001b[39m,\n\u001b[1;32m      4\u001b[0m }\n\u001b[0;32m----> 6\u001b[0m \u001b[43mX\u001b[49m\u001b[38;5;241;43m.\u001b[39;49m\u001b[43mevaluate_data\u001b[49m\u001b[43m(\u001b[49m\u001b[43mpd\u001b[49m\u001b[38;5;241;43m.\u001b[39;49m\u001b[43mDataFrame\u001b[49m\u001b[43m(\u001b[49m\u001b[43mdefault\u001b[49m\u001b[43m,\u001b[49m\u001b[43m \u001b[49m\u001b[43mindex\u001b[49m\u001b[38;5;241;43m=\u001b[39;49m\u001b[43m[\u001b[49m\u001b[38;5;241;43m0\u001b[39;49m\u001b[43m]\u001b[49m\u001b[43m)\u001b[49m\u001b[43m)\u001b[49m\n",
      "File \u001b[0;32m/usr/local/lcls/package/anaconda/envs/python3.9envs/rhel7/nightly/08-21-2023/lib/python3.9/site-packages/xopt/base.py:143\u001b[0m, in \u001b[0;36mXopt.evaluate_data\u001b[0;34m(self, input_data)\u001b[0m\n\u001b[1;32m    140\u001b[0m output_data \u001b[38;5;241m=\u001b[39m \u001b[38;5;28mself\u001b[39m\u001b[38;5;241m.\u001b[39mevaluator\u001b[38;5;241m.\u001b[39mevaluate_data(input_data)\n\u001b[1;32m    142\u001b[0m \u001b[38;5;28;01mif\u001b[39;00m \u001b[38;5;28mself\u001b[39m\u001b[38;5;241m.\u001b[39moptions\u001b[38;5;241m.\u001b[39mstrict:\n\u001b[0;32m--> 143\u001b[0m     \u001b[43mvalidate_outputs\u001b[49m\u001b[43m(\u001b[49m\u001b[43moutput_data\u001b[49m\u001b[43m)\u001b[49m\n\u001b[1;32m    144\u001b[0m new_data \u001b[38;5;241m=\u001b[39m pd\u001b[38;5;241m.\u001b[39mconcat([input_data, output_data], axis\u001b[38;5;241m=\u001b[39m\u001b[38;5;241m1\u001b[39m)\n\u001b[1;32m    146\u001b[0m \u001b[38;5;66;03m# explode any list like results if all of the output names exist\u001b[39;00m\n",
      "File \u001b[0;32m/usr/local/lcls/package/anaconda/envs/python3.9envs/rhel7/nightly/08-21-2023/lib/python3.9/site-packages/xopt/evaluator.py:222\u001b[0m, in \u001b[0;36mvalidate_outputs\u001b[0;34m(outputs)\u001b[0m\n\u001b[1;32m    219\u001b[0m     error_string \u001b[38;5;241m+\u001b[39m\u001b[38;5;241m=\u001b[39m outputs[\u001b[38;5;124m\"\u001b[39m\u001b[38;5;124mxopt_error_str\u001b[39m\u001b[38;5;124m\"\u001b[39m]\u001b[38;5;241m.\u001b[39miloc[i]\n\u001b[1;32m    220\u001b[0m     error_string \u001b[38;5;241m+\u001b[39m\u001b[38;5;241m=\u001b[39m \u001b[38;5;124m\"\u001b[39m\u001b[38;5;130;01m\\n\u001b[39;00m\u001b[38;5;124m\"\u001b[39m\n\u001b[0;32m--> 222\u001b[0m \u001b[38;5;28;01mraise\u001b[39;00m XoptError(error_string)\n",
      "\u001b[0;31mXoptError\u001b[0m: Xopt evaluator caught exception(s):\n\nEvaluation index 0:\nTraceback (most recent call last):\n  File \"/usr/local/lcls/package/anaconda/envs/python3.9envs/rhel7/nightly/08-21-2023/lib/python3.9/site-packages/xopt/utils.py\", line 137, in safe_call\n    result = func(*args, **kwargs)\n  File \"/home/physics/rroussel/SLAC_Xopt/lcls/emittance/emittance_optimization/../../../scripts/automatic_emittance.py\", line 63, in eval_beamsize\n    sleep(self.wait_time)\nKeyboardInterrupt\n\nDuring handling of the above exception, another exception occurred:\n\nTraceback (most recent call last):\n  File \"/usr/local/lcls/package/anaconda/envs/python3.9envs/rhel7/nightly/08-21-2023/lib/python3.9/site-packages/xopt/utils.py\", line 137, in safe_call\n    result = func(*args, **kwargs)\n  File \"/tmp/ipykernel_1297464/2187975396.py\", line 12, in eval_emittance\n    results, emit_x = measurement.run()\n  File \"/home/physics/rroussel/SLAC_Xopt/lcls/emittance/emittance_optimization/../../../scripts/automatic_emittance.py\", line 105, in run\n    emit_results, emit_Xopt = characterize_emittance(\n  File \"/home/physics/rroussel/SLAC_Xopt/lcls/emittance/emittance_optimization/../../../scripts/characterize_emittance.py\", line 132, in characterize_emittance\n    X.random_evaluate(n_initial)\n  File \"/usr/local/lcls/package/anaconda/envs/python3.9envs/rhel7/nightly/08-21-2023/lib/python3.9/site-packages/xopt/base.py\", line 433, in random_evaluate\n    result = self.evaluate_data(random_inputs[self.vocs.variable_names])\n  File \"/usr/local/lcls/package/anaconda/envs/python3.9envs/rhel7/nightly/08-21-2023/lib/python3.9/site-packages/xopt/base.py\", line 140, in evaluate_data\n    output_data = self.evaluator.evaluate_data(input_data)\n  File \"/usr/local/lcls/package/anaconda/envs/python3.9envs/rhel7/nightly/08-21-2023/lib/python3.9/site-packages/xopt/evaluator.py\", line 114, in evaluate_data\n    return pd.DataFrame(output_data, index=input_data.index)\n  File \"/usr/local/lcls/package/anaconda/envs/python3.9envs/rhel7/nightly/08-21-2023/lib/python3.9/site-packages/pandas/core/frame.py\", line 774, in __init__\n    data = list(data)\n  File \"/usr/local/lcls/package/anaconda/envs/python3.9envs/rhel7/nightly/08-21-2023/lib/python3.9/site-packages/xopt/evaluator.py\", line 165, in safe_function1_for_map\n    return safe_function(function, inputs, **kwargs)\n  File \"/usr/local/lcls/package/anaconda/envs/python3.9envs/rhel7/nightly/08-21-2023/lib/python3.9/site-packages/xopt/evaluator.py\", line 169, in safe_function\n    safe_outputs = safe_call(function, *args, **kwargs)\n  File \"/usr/local/lcls/package/anaconda/envs/python3.9envs/rhel7/nightly/08-21-2023/lib/python3.9/site-packages/xopt/utils.py\", line 148, in safe_call\n    outputs[\"result\"] = result\nUnboundLocalError: local variable 'result' referenced before assignment\n\n"
     ]
    }
   ],
   "source": [
    "default = {'SOLN:IN20:121:BCTRL': 0.474877290758955,\n",
    " 'QUAD:IN20:121:BCTRL': -0.0048398437,\n",
    " 'QUAD:IN20:122:BCTRL': 0.0018,\n",
    "}\n",
    "\n",
    "X.evaluate_data(pd.DataFrame(default, index=[0]))"
   ]
  },
  {
   "cell_type": "code",
   "execution_count": null,
   "id": "50d8a9c7-dd63-4859-a134-1e6b4f17cb30",
   "metadata": {},
   "outputs": [],
   "source": [
    "for i in range(10):\n",
    "    print(i)\n",
    "    X.step()"
   ]
  },
  {
   "cell_type": "code",
   "execution_count": null,
   "id": "cc2dda9e-4696-48be-8397-2126e7206d91",
   "metadata": {},
   "outputs": [],
   "source": []
  }
 ],
 "metadata": {
  "kernelspec": {
   "display_name": "Python 3 (ipykernel)",
   "language": "python",
   "name": "python3"
  },
  "language_info": {
   "codemirror_mode": {
    "name": "ipython",
    "version": 3
   },
   "file_extension": ".py",
   "mimetype": "text/x-python",
   "name": "python",
   "nbconvert_exporter": "python",
   "pygments_lexer": "ipython3",
   "version": "3.9.17"
  }
 },
 "nbformat": 4,
 "nbformat_minor": 5
}
