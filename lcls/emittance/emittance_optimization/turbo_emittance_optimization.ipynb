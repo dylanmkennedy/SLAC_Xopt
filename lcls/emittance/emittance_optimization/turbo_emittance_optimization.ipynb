{
 "cells": [
  {
   "cell_type": "markdown",
   "id": "2c2f960b-913e-4247-b858-32b1d969908b",
   "metadata": {},
   "source": [
    "## turbo emittance optimization"
   ]
  },
  {
   "cell_type": "code",
   "execution_count": null,
   "id": "aecb0032-85c5-47e7-8fa2-7e8d02d51ef3",
   "metadata": {},
   "outputs": [],
   "source": [
    "# optionally add scripts location to path\n",
    "if True:\n",
    "    import sys\n",
    "    sys.path.append(\"../../\")\n",
    "    sys.path.append(\"../\")\n",
    "\n",
    "run_dir = \"/home/physics3/ml_tuning/20230818_LCLS_optimize/\"\n",
    "print(sys.path)\n"
   ]
  },
  {
   "cell_type": "code",
   "execution_count": null,
   "id": "aeb26adf-e615-4eca-b955-0ee439b76638",
   "metadata": {},
   "outputs": [],
   "source": [
    "from scripts.image import ImageDiagnostic\n",
    "import yaml\n",
    "\n",
    "fname = \"../OTR3_config.yml\"\n",
    "image_diagnostic = ImageDiagnostic.parse_obj(yaml.safe_load(open(fname)))\n",
    "image_diagnostic.save_image_location = run_dir\n",
    "image_diagnostic.n_fitting_restarts = 2\n",
    "image_diagnostic.visualize = False\n",
    "image_diagnostic.background_file = run_dir + \"OTRS_IN20_621_background.npy\"\n",
    "print(image_diagnostic.yaml())"
   ]
  },
  {
   "cell_type": "code",
   "execution_count": null,
   "id": "e1ff1274-8d28-4247-a9ee-68e40058109b",
   "metadata": {},
   "outputs": [],
   "source": [
    "from scripts.automatic_emittance import ScreenEmittanceMeasurement, BeamlineConfig\n",
    "\n",
    "drift_length = 2.2\n",
    "beamline_config = BeamlineConfig(\n",
    "    scan_quad_pv=\"QUAD:IN20:525:BCTRL\",\n",
    "    scan_quad_range=[-2.0, 2.0],\n",
    "    scan_quad_length=0.1068,\n",
    "    transport_matrix_x =[[2.29099365,    13.24790498],\n",
    "        [ -0.20459861,    -0.74662055]],\n",
    "    transport_matrix_y = [[0.82340723,   -10.58404798],\n",
    "        [0.04426516,     0.64548308]],\n",
    "    beam_energy=0.135,\n",
    ")\n",
    "\n",
    "\n",
    "measurement = ScreenEmittanceMeasurement(\n",
    "    image_diagnostic=image_diagnostic,\n",
    "    beamline_config=beamline_config,\n",
    "    run_dir=run_dir,\n",
    "    visualize=True\n",
    ")\n",
    "\n",
    "measurement.dump_yaml()"
   ]
  },
  {
   "cell_type": "code",
   "execution_count": null,
   "id": "05e6cdf4-e119-4b72-b0b8-f6b18eacb94b",
   "metadata": {},
   "outputs": [],
   "source": [
    "def evaluate_emittance(inputs):\n",
    "    global measurement\n",
    "    # set PVs\n",
    "    for k, v in inputs.items():\n",
    "        print(f'CAPUT {k} {v}')\n",
    "        caput(k, v)\n",
    "\n",
    "    sleep(2.0)\n",
    "\n",
    "    # get beam sizes from image diagnostic\n",
    "    metadata = inputs\n",
    "    results, emit_xopt = measurement.run()\n"
   ]
  }
 ],
 "metadata": {
  "kernelspec": {
   "display_name": "Python 3 (ipykernel)",
   "language": "python",
   "name": "python3"
  },
  "language_info": {
   "codemirror_mode": {
    "name": "ipython",
    "version": 3
   },
   "file_extension": ".py",
   "mimetype": "text/x-python",
   "name": "python",
   "nbconvert_exporter": "python",
   "pygments_lexer": "ipython3",
   "version": "3.9.17"
  }
 },
 "nbformat": 4,
 "nbformat_minor": 5
}
