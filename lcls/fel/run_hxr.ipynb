{
 "cells": [
  {
   "cell_type": "markdown",
   "source": [
    "# Run optimization of HXR"
   ],
   "metadata": {
    "collapsed": false
   }
  },
  {
   "cell_type": "code",
   "execution_count": null,
   "outputs": [],
   "source": [
    "# set up env for running on SLAC production servers\n",
    "import os\n",
    "os.environ['OMP_NUM_THREADS']=str(6)"
   ],
   "metadata": {
    "collapsed": false
   }
  },
  {
   "cell_type": "markdown",
   "source": [
    "## Read pv info from YAML files"
   ],
   "metadata": {
    "collapsed": false
   }
  },
  {
   "cell_type": "code",
   "execution_count": 1,
   "outputs": [],
   "source": [
    "import sys\n",
    "import yaml\n",
    "sys.path.append(\"../\")\n",
    "\n",
    "from common import get_pv_objects, save_reference_point, set_magnet_strengths, \\\n",
    "    measure_pvs"
   ],
   "metadata": {
    "collapsed": false,
    "ExecuteTime": {
     "end_time": "2024-02-05T20:42:38.781081900Z",
     "start_time": "2024-02-05T20:42:38.652051500Z"
    }
   }
  },
  {
   "cell_type": "code",
   "execution_count": 3,
   "outputs": [],
   "source": [
    "pv_bounds = yaml.safe_load(open(\"../pv_bounds.yml\"))\n",
    "pv_objects = get_pv_objects(\"../tracked_pvs.yml\")"
   ],
   "metadata": {
    "collapsed": false,
    "ExecuteTime": {
     "end_time": "2024-02-05T20:42:44.730450500Z",
     "start_time": "2024-02-05T20:42:44.706422200Z"
    }
   }
  },
  {
   "cell_type": "code",
   "execution_count": 4,
   "outputs": [
    {
     "data": {
      "text/plain": "{'QUAD:IN20:121:BCTRL': [-0.021, 0.021],\n 'QUAD:IN20:122:BCTRL': [-0.021, 0.021],\n 'QUAD:IN20:361:BCTRL': [-4.32, -1.08],\n 'QUAD:IN20:371:BCTRL': [1.09, 4.31],\n 'QUAD:IN20:425:BCTRL': [-7.56, -1.08],\n 'QUAD:IN20:441:BCTRL': [-1.08, 7.56],\n 'QUAD:IN20:511:BCTRL': [-1.08, 7.56],\n 'QUAD:IN20:525:BCTRL': [-7.56, -1.08],\n 'QUAD:LI26:201:BCTRL': [10.2, 12.3],\n 'QUAD:LI26:301:BCTRL': [-12.5, -5.7],\n 'QUAD:LI26:401:BCTRL': [8.8, 12.2],\n 'QUAD:LI26:501:BCTRL': [-4.5, -3.7],\n 'QUAD:LI26:601:BCTRL': [11.2, 12.8],\n 'QUAD:LI26:701:BCTRL': [-14.5, -13.0],\n 'QUAD:LI26:801:BCTRL': [12.2, 14.1],\n 'QUAD:LI26:901:BCTRL': [-10.0, -6.8],\n 'SOLN:IN20:121:BCTRL': [0.377, 0.498]}"
     },
     "execution_count": 4,
     "metadata": {},
     "output_type": "execute_result"
    }
   ],
   "source": [
    "pv_bounds"
   ],
   "metadata": {
    "collapsed": false,
    "ExecuteTime": {
     "end_time": "2024-02-05T20:42:48.829623500Z",
     "start_time": "2024-02-05T20:42:48.819601300Z"
    }
   }
  },
  {
   "cell_type": "markdown",
   "source": [
    "## load reference point\n",
    "Also define a function to write the reference values to the pvs"
   ],
   "metadata": {
    "collapsed": false
   }
  },
  {
   "cell_type": "code",
   "execution_count": null,
   "outputs": [],
   "source": [
    "reference = yaml.safe_load(open(\"reference.yml\"))\n",
    "\n",
    "def reset_pvs():\n",
    "    set_magnet_strengths(reference, pv_objects, validate=False)"
   ],
   "metadata": {
    "collapsed": false
   }
  },
  {
   "cell_type": "markdown",
   "source": [
    "## define measurement function"
   ],
   "metadata": {
    "collapsed": false
   }
  },
  {
   "cell_type": "code",
   "execution_count": null,
   "outputs": [],
   "source": [
    "import numpy as np\n",
    "import time\n",
    "def do_measurement(inputs):\n",
    "\n",
    "    # set pvs and wait for BACT to settle to correct values (validate=True)\n",
    "    set_magnet_strengths(inputs, validate=True)\n",
    "\n",
    "    # measure all pvs - except for names in inputs\n",
    "    results = measure_pvs(\n",
    "        [name for name in pv_objects.keys() if name not in inputs]\n",
    "    )\n",
    "\n",
    "    # do some calculations\n",
    "    fel_measure_time = inputs[\"FEL_ACCUMULATION_TIME_SEC\"]\n",
    "    gmd = results[\"GDET:FEE1:241:ENRCHSTCUHBR\"][-120*fel_measure_time:]\n",
    "    gmd = gmd[~np.isnan(gmd)]\n",
    "\n",
    "    # get averaged pulse intensity for HXR\n",
    "    results[\"hxr_pulse_intensity\"] = np.percentile(gmd, 80.0)#-np.nanmean(gmd)\n",
    "    #data[\"NEG_HXR_AVG_INTENSITY_var\"]=np.nanstd(gmd)\n",
    "    results[\"time\"] = time.time()\n",
    "\n",
    "    return results"
   ],
   "metadata": {
    "collapsed": false
   }
  },
  {
   "cell_type": "markdown",
   "source": [
    "### test measurement function"
   ],
   "metadata": {
    "collapsed": false
   }
  },
  {
   "cell_type": "code",
   "execution_count": null,
   "outputs": [],
   "source": [
    "do_measurement({})"
   ],
   "metadata": {
    "collapsed": false
   }
  },
  {
   "cell_type": "markdown",
   "source": [
    "## Set up optimization"
   ],
   "metadata": {
    "collapsed": false
   }
  },
  {
   "cell_type": "code",
   "execution_count": null,
   "outputs": [],
   "source": [
    "from xopt import Xopt, VOCS\n",
    "import pandas as pd\n",
    "import matplotlib.pyplot as plt\n",
    "from copy import deepcopy\n",
    "from xopt import Xopt, Evaluator\n",
    "from xopt.generators.bayesian import BayesianExplorationGenerator, ExpectedImprovementGenerator,UpperConfidenceBoundGenerator\n",
    "from xopt.utils import get_local_region"
   ],
   "metadata": {
    "collapsed": false
   }
  },
  {
   "cell_type": "markdown",
   "source": [
    "### VOCS"
   ],
   "metadata": {
    "collapsed": false
   }
  },
  {
   "cell_type": "code",
   "execution_count": null,
   "outputs": [],
   "source": [
    "### set vocs according to pv_bounds file\n",
    "vocs = VOCS(\n",
    "    variables= pv_bounds,\n",
    "    objectives={'hxr_pulse_intensity': 'MAXIMIZE'},\n",
    "    constraints={'hxr_pulse_intensity': ['GREATER_THAN', 0.1]}\n",
    ")"
   ],
   "metadata": {
    "collapsed": false
   }
  },
  {
   "cell_type": "markdown",
   "source": [
    "### Generator"
   ],
   "metadata": {
    "collapsed": false
   }
  },
  {
   "cell_type": "code",
   "execution_count": null,
   "outputs": [],
   "source": [
    "NUM_RESTARTS = 20\n",
    "NUM_MC_SAMPLES = 120\n",
    "generator = UpperConfidenceBoundGenerator(vocs=vocs,turbo_controller='safety')\n",
    "generator.numerical_optimizer.n_restarts = NUM_RESTARTS\n",
    "generator.numerical_optimizer.max_time = 10\n",
    "generator.n_monte_carlo_samples = NUM_MC_SAMPLES\n",
    "generator.n_interpolate_points = 5\n",
    "generator.gp_constructor.use_low_noise_prior = False"
   ],
   "metadata": {
    "collapsed": false
   }
  },
  {
   "cell_type": "markdown",
   "source": [
    "### Evaluator"
   ],
   "metadata": {
    "collapsed": false
   }
  },
  {
   "cell_type": "code",
   "execution_count": null,
   "outputs": [],
   "source": [
    "evaluator = Evaluator(function=do_measurement)"
   ],
   "metadata": {
    "collapsed": false
   }
  },
  {
   "cell_type": "markdown",
   "source": [
    "### Xopt"
   ],
   "metadata": {
    "collapsed": false
   }
  },
  {
   "cell_type": "code",
   "execution_count": null,
   "outputs": [],
   "source": [
    "X = Xopt(generator=generator, vocs=vocs, evaluator=evaluator)\n",
    "ts = time.time()\n",
    "X.dump_file = './'+str(ts)+'_BO_FEL.yml'"
   ],
   "metadata": {
    "collapsed": false
   }
  },
  {
   "cell_type": "markdown",
   "source": [
    "## Perform optimization"
   ],
   "metadata": {
    "collapsed": false
   }
  },
  {
   "cell_type": "code",
   "execution_count": null,
   "outputs": [],
   "source": [
    "# reset pvs\n",
    "reset_pvs()"
   ],
   "metadata": {
    "collapsed": false
   }
  },
  {
   "cell_type": "code",
   "execution_count": null,
   "outputs": [],
   "source": [
    "# set up random sampling in a local region\n",
    "# local region around reference\n",
    "reference_local_region = get_local_region(reference, vocs, fraction=0.1)\n",
    "\n",
    "# local region around current\n",
    "#current_local_region = get_local_region(\n",
    "#    measure_pvs(vocs.variable_names), vocs, fraction=0.1\n",
    "#)"
   ],
   "metadata": {
    "collapsed": false
   }
  },
  {
   "cell_type": "code",
   "execution_count": 5,
   "outputs": [],
   "source": [
    "# optionally load data from file\n",
    "# from common import load_data\n",
    "# fname =\n",
    "# X.add_data(load_data(fname))"
   ],
   "metadata": {
    "collapsed": false,
    "ExecuteTime": {
     "end_time": "2024-02-05T21:13:54.562148500Z",
     "start_time": "2024-02-05T21:13:54.536119300Z"
    }
   }
  },
  {
   "cell_type": "code",
   "execution_count": null,
   "outputs": [],
   "source": [
    "# optional random evaluate\n",
    "# X.random_evaluate(5, custom_bounds=reference_local_region)"
   ],
   "metadata": {
    "collapsed": false
   }
  },
  {
   "cell_type": "code",
   "execution_count": null,
   "outputs": [],
   "source": [
    "# step xopt\n",
    "n_steps = 10\n",
    "for i in range(n_steps):\n",
    "    print(i)\n",
    "    X.step()"
   ],
   "metadata": {
    "collapsed": false
   }
  },
  {
   "cell_type": "code",
   "execution_count": null,
   "outputs": [],
   "source": [
    "# visualize\n",
    "o = X.data.hist(X.vocs.variable_names,figsize =(20,20))"
   ],
   "metadata": {
    "collapsed": false
   }
  }
 ],
 "metadata": {
  "kernelspec": {
   "display_name": "Python 3",
   "language": "python",
   "name": "python3"
  },
  "language_info": {
   "codemirror_mode": {
    "name": "ipython",
    "version": 2
   },
   "file_extension": ".py",
   "mimetype": "text/x-python",
   "name": "python",
   "nbconvert_exporter": "python",
   "pygments_lexer": "ipython2",
   "version": "2.7.6"
  }
 },
 "nbformat": 4,
 "nbformat_minor": 0
}
