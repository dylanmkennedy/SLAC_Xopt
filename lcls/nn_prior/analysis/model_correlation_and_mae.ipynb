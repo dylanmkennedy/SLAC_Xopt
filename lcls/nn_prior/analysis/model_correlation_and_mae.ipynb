{
 "cells": [
  {
   "cell_type": "code",
   "execution_count": 1,
   "metadata": {},
   "outputs": [],
   "source": [
    "import yaml\n",
    "\n",
    "import torch\n",
    "import pandas as pd\n",
    "\n",
    "from xopt import Xopt\n",
    "from lume_model.utils import variables_from_yaml\n",
    "from lume_model.torch import PyTorchModel, LUMEModule"
   ]
  },
  {
   "cell_type": "markdown",
   "metadata": {},
   "source": [
    "## Load Data from BO and BE Runs"
   ]
  },
  {
   "cell_type": "code",
   "execution_count": 2,
   "metadata": {},
   "outputs": [],
   "source": [
    "data_dir = \"../../data/\"\n",
    "\n",
    "bo_files = [\n",
    "    \"../../optimization/optimization_results.yml\",\n",
    "    data_dir + \"20230818_LCLS_optimize/nn_optimization.yml\",\n",
    "    data_dir + \"20230821_LCLS_Injector/normal_optimization.yml\",\n",
    "    data_dir + \"20230821_LCLS_Injector/nn_optimization.yml\",\n",
    "    data_dir + \"20230821_LCLS_Injector/turbo_optimization.yml\",\n",
    "    data_dir + \"20230821_LCLS_Injector/turbo_optimization_2.yml\",\n",
    "    data_dir + \"20230821_LCLS_Injector/turbo_optimization_3.yml\",\n",
    "\n",
    "    data_dir + \"20230825_LCLS_Injector/nn_optimization_vanilla.yml\",\n",
    "    data_dir + \"20230825_LCLS_Injector/nn_optimization.yml\",\n",
    "    data_dir + \"20230825_LCLS_Injector/nn_optimization_1.yml\",\n",
    "    data_dir + \"20230825_LCLS_Injector/nn_optimization_cal_high_reg.yml\",\n",
    "    data_dir + \"20230825_LCLS_Injector/nn_optimization_cal_high_reg_adj_bounds.yml\",\n",
    "    data_dir + \"20230825_LCLS_Injector/nn_optimization_cal_low_reg_adj_bounds.yml\",\n",
    "    data_dir + \"20230825_LCLS_Injector/nn_optimization_cal_low_reg_adj_bounds_1.yml\",\n",
    "    data_dir + \"20230825_LCLS_Injector/nn_optimization_cal_low_reg_constraint_prior.yml\",    \n",
    "]\n",
    "\n",
    "be_files = [\n",
    "    \"../../optimization/be_results.yml\",\n",
    "    data_dir + \"20230821_LCLS_Injector/BE_2.yml\",\n",
    "]"
   ]
  },
  {
   "cell_type": "code",
   "execution_count": 3,
   "metadata": {},
   "outputs": [
    {
     "data": {
      "text/plain": [
       "834"
      ]
     },
     "execution_count": 3,
     "metadata": {},
     "output_type": "execute_result"
    }
   ],
   "source": [
    "# BO data\n",
    "dfs_bo, vocs_bo = [], []\n",
    "for filename in bo_files:\n",
    "    with open(filename) as f:\n",
    "        d = yaml.safe_load(f)\n",
    "    dfs_bo.append(pd.DataFrame(d[\"data\"]).dropna())\n",
    "    vocs_bo.append(d[\"vocs\"])\n",
    "df_bo = pd.concat(dfs_bo)\n",
    "len(df_bo)"
   ]
  },
  {
   "cell_type": "code",
   "execution_count": 4,
   "metadata": {},
   "outputs": [
    {
     "data": {
      "text/plain": [
       "137"
      ]
     },
     "execution_count": 4,
     "metadata": {},
     "output_type": "execute_result"
    }
   ],
   "source": [
    "# BE data\n",
    "dfs_be, vocs_be = [], []\n",
    "for filename in be_files:\n",
    "    with open(filename) as f:\n",
    "        d = yaml.safe_load(f)\n",
    "    dfs_be.append(pd.DataFrame(d[\"data\"]).dropna())\n",
    "    vocs_be.append(d[\"vocs\"])\n",
    "df_be = pd.concat(dfs_be)\n",
    "len(df_be)"
   ]
  },
  {
   "cell_type": "code",
   "execution_count": 5,
   "metadata": {},
   "outputs": [
    {
     "data": {
      "text/plain": [
       "True"
      ]
     },
     "execution_count": 5,
     "metadata": {},
     "output_type": "execute_result"
    }
   ],
   "source": [
    "# check vocs consistency\n",
    "vocs = vocs_bo[0]\n",
    "all([v[\"variables\"].keys() == vocs[\"variables\"].keys() for v in vocs_bo + vocs_be])"
   ]
  },
  {
   "cell_type": "code",
   "execution_count": 6,
   "metadata": {},
   "outputs": [],
   "source": [
    "# full data set\n",
    "df = pd.concat([df_bo, df_be])"
   ]
  },
  {
   "cell_type": "markdown",
   "metadata": {},
   "source": [
    "## Load NN Prior Model"
   ]
  },
  {
   "cell_type": "code",
   "execution_count": 7,
   "metadata": {},
   "outputs": [],
   "source": [
    "model_path = \"../lcls_cu_injector_nn_model/\"\n",
    "\n",
    "# load sim_to_nn transformers\n",
    "input_sim_to_nn = torch.load(model_path + \"model/input_sim_to_nn.pt\")\n",
    "output_sim_to_nn = torch.load(model_path + \"model/output_sim_to_nn.pt\")\n",
    "\n",
    "# load pv_to_sim transformers\n",
    "input_pv_to_sim = torch.load(model_path + \"model/input_pv_to_sim.pt\")\n",
    "output_pv_to_sim = torch.load(model_path + \"model/output_pv_to_sim.pt\")\n",
    "\n",
    "# load in- and output variable specification\n",
    "input_variables, output_variables = variables_from_yaml(open(model_path + \"model/pv_variables.yml\"))\n",
    "\n",
    "# replace keys in input variables\n",
    "input_variables = {name.replace(\"BACT\", \"BCTRL\"): ele for name, ele in input_variables.items()}\n",
    "\n",
    "# create LUME-model\n",
    "lume_model = PyTorchModel(\n",
    "    model_file=model_path + \"model/model.pt\",\n",
    "    input_variables=input_variables,\n",
    "    output_variables=output_variables,\n",
    "    input_transformers=[input_pv_to_sim, input_sim_to_nn],\n",
    "    output_transformers=[output_sim_to_nn, output_pv_to_sim],\n",
    ")\n",
    "\n",
    "# wrap in LUMEModule\n",
    "lume_module = LUMEModule(\n",
    "    model=lume_model,\n",
    "    feature_order=list(vocs[\"variables\"].keys()),\n",
    "    output_order=lume_model.outputs[0:2],\n",
    ")\n",
    "\n",
    "# define objective model\n",
    "class ObjectiveModel(torch.nn.Module):\n",
    "    def __init__(self, model: LUMEModule):\n",
    "        super(ObjectiveModel, self).__init__()\n",
    "        self.model = model\n",
    "\n",
    "    @staticmethod\n",
    "    def function(sigma_x: torch.Tensor, sigma_y: torch.Tensor) -> torch.Tensor:\n",
    "        # using this calculation due to occasional negative values\n",
    "        # return torch.sqrt(torch.abs(sigma_x) * torch.abs(sigma_y))\n",
    "        return torch.sqrt(sigma_x ** 2 + sigma_y ** 2)\n",
    "\n",
    "    def forward(self, x) -> torch.Tensor:\n",
    "        idx_sigma_x = self.model.output_order.index(\"OTRS:IN20:571:XRMS\")\n",
    "        idx_sigma_y = self.model.output_order.index(\"OTRS:IN20:571:YRMS\")\n",
    "        sigma_x = self.model(x)[..., idx_sigma_x]\n",
    "        sigma_y = self.model(x)[..., idx_sigma_y]\n",
    "        return self.function(sigma_x, sigma_y)\n",
    "\n",
    "\n",
    "objective_model = ObjectiveModel(lume_module)"
   ]
  },
  {
   "cell_type": "markdown",
   "metadata": {},
   "source": [
    "## Load Calibrated NN Prior Models"
   ]
  },
  {
   "cell_type": "code",
   "execution_count": 8,
   "metadata": {},
   "outputs": [],
   "source": [
    "calibration_path = \"../../nn_prior/calibration/\"\n",
    "\n",
    "regs, cal_models = [\"low\", \"high\"], []\n",
    "for reg in regs:\n",
    "    # load nn_to_cal transformers\n",
    "    input_nn_to_cal = torch.load(calibration_path + f\"input_nn_to_cal_{reg}_reg.pt\")\n",
    "    output_nn_to_cal = torch.load(calibration_path + f\"output_nn_to_cal_{reg}_reg.pt\")\n",
    "    \n",
    "    # create LUME-model\n",
    "    cal_lume_model = PyTorchModel(\n",
    "        model_file=model_path + \"model/model.pt\",\n",
    "        input_variables=input_variables,\n",
    "        output_variables=output_variables,\n",
    "        input_transformers=[input_pv_to_sim, input_sim_to_nn, input_nn_to_cal],\n",
    "        output_transformers=[output_nn_to_cal, output_sim_to_nn, output_pv_to_sim],\n",
    "    )\n",
    "    \n",
    "    # wrap in LUMEModule\n",
    "    cal_lume_module = LUMEModule(\n",
    "        model=cal_lume_model,\n",
    "        feature_order=list(vocs[\"variables\"].keys()),\n",
    "        output_order=cal_lume_model.outputs[0:2],\n",
    "    )\n",
    "    \n",
    "    cal_models.append(ObjectiveModel(cal_lume_module))"
   ]
  },
  {
   "cell_type": "markdown",
   "metadata": {},
   "source": [
    "## Calculate Correlations and MAEs"
   ]
  },
  {
   "cell_type": "code",
   "execution_count": 9,
   "metadata": {},
   "outputs": [],
   "source": [
    "# define calculation of correlation\n",
    "def calc_corr(a: torch.Tensor, b: torch.Tensor) -> torch.Tensor:\n",
    "    corr = torch.corrcoef(torch.stack([a.squeeze(), b.squeeze()]))\n",
    "    return corr[0, 1]"
   ]
  },
  {
   "cell_type": "code",
   "execution_count": 10,
   "metadata": {},
   "outputs": [],
   "source": [
    "# define calculation of MAE\n",
    "def calc_mae(a: torch.Tensor, b: torch.Tensor) -> torch.Tensor:\n",
    "    return torch.nn.functional.l1_loss(a, b)"
   ]
  },
  {
   "cell_type": "code",
   "execution_count": 11,
   "metadata": {},
   "outputs": [],
   "source": [
    "metrics = pd.DataFrame(columns=[[\"All Data\"] * 2 + [\"BO\"] * 2 + [\"BE\"] * 2, [\"Corr\", \"MAE\"] * 3])\n",
    "for model in [objective_model] + cal_models:\n",
    "    model_metrics = []\n",
    "    for data in [df, df_bo, df_be]:\n",
    "        \n",
    "        # inputs and targets\n",
    "        x = torch.from_numpy(data[lume_module.feature_order].to_numpy())\n",
    "        y = torch.from_numpy(data[list(vocs[\"objectives\"].keys())[0]].to_numpy())\n",
    "        \n",
    "        # predictions\n",
    "        pred = model(x)\n",
    "        \n",
    "        # model metrics\n",
    "        model_metrics.append(\"{:.2f}\".format(calc_corr(pred, y).item()))\n",
    "        model_metrics.append(\"{:.2f}\".format(calc_mae(pred, y).item()))\n",
    "\n",
    "    metrics.loc[len(metrics.index)] = model_metrics\n",
    "metrics.index = [\"Original Model\", \"Calibrated (Low Reg)\", \"Calibrated (High Reg)\"]"
   ]
  },
  {
   "cell_type": "code",
   "execution_count": 12,
   "metadata": {},
   "outputs": [
    {
     "data": {
      "text/html": [
       "<div>\n",
       "<style scoped>\n",
       "    .dataframe tbody tr th:only-of-type {\n",
       "        vertical-align: middle;\n",
       "    }\n",
       "\n",
       "    .dataframe tbody tr th {\n",
       "        vertical-align: top;\n",
       "    }\n",
       "\n",
       "    .dataframe thead tr th {\n",
       "        text-align: left;\n",
       "    }\n",
       "</style>\n",
       "<table border=\"1\" class=\"dataframe\">\n",
       "  <thead>\n",
       "    <tr>\n",
       "      <th></th>\n",
       "      <th colspan=\"2\" halign=\"left\">All Data</th>\n",
       "      <th colspan=\"2\" halign=\"left\">BO</th>\n",
       "      <th colspan=\"2\" halign=\"left\">BE</th>\n",
       "    </tr>\n",
       "    <tr>\n",
       "      <th></th>\n",
       "      <th>Corr</th>\n",
       "      <th>MAE</th>\n",
       "      <th>Corr</th>\n",
       "      <th>MAE</th>\n",
       "      <th>Corr</th>\n",
       "      <th>MAE</th>\n",
       "    </tr>\n",
       "  </thead>\n",
       "  <tbody>\n",
       "    <tr>\n",
       "      <th>Original Model</th>\n",
       "      <td>0.12</td>\n",
       "      <td>372.78</td>\n",
       "      <td>0.09</td>\n",
       "      <td>367.49</td>\n",
       "      <td>0.25</td>\n",
       "      <td>404.98</td>\n",
       "    </tr>\n",
       "    <tr>\n",
       "      <th>Calibrated (Low Reg)</th>\n",
       "      <td>0.21</td>\n",
       "      <td>610.75</td>\n",
       "      <td>0.21</td>\n",
       "      <td>638.24</td>\n",
       "      <td>0.53</td>\n",
       "      <td>443.41</td>\n",
       "    </tr>\n",
       "    <tr>\n",
       "      <th>Calibrated (High Reg)</th>\n",
       "      <td>0.19</td>\n",
       "      <td>262.97</td>\n",
       "      <td>0.18</td>\n",
       "      <td>273.55</td>\n",
       "      <td>0.43</td>\n",
       "      <td>198.55</td>\n",
       "    </tr>\n",
       "  </tbody>\n",
       "</table>\n",
       "</div>"
      ],
      "text/plain": [
       "                      All Data            BO            BE        \n",
       "                          Corr     MAE  Corr     MAE  Corr     MAE\n",
       "Original Model            0.12  372.78  0.09  367.49  0.25  404.98\n",
       "Calibrated (Low Reg)      0.21  610.75  0.21  638.24  0.53  443.41\n",
       "Calibrated (High Reg)     0.19  262.97  0.18  273.55  0.43  198.55"
      ]
     },
     "execution_count": 12,
     "metadata": {},
     "output_type": "execute_result"
    }
   ],
   "source": [
    "metrics"
   ]
  },
  {
   "cell_type": "code",
   "execution_count": null,
   "metadata": {},
   "outputs": [],
   "source": []
  }
 ],
 "metadata": {
  "kernelspec": {
   "display_name": "Python [conda env:nnprior]",
   "language": "python",
   "name": "conda-env-nnprior-py"
  },
  "language_info": {
   "codemirror_mode": {
    "name": "ipython",
    "version": 3
   },
   "file_extension": ".py",
   "mimetype": "text/x-python",
   "name": "python",
   "nbconvert_exporter": "python",
   "pygments_lexer": "ipython3",
   "version": "3.9.16"
  }
 },
 "nbformat": 4,
 "nbformat_minor": 4
}
