{
 "cells": [
  {
   "cell_type": "code",
   "execution_count": null,
   "metadata": {
    "collapsed": false,
    "jupyter": {
     "outputs_hidden": false
    }
   },
   "outputs": [],
   "source": [
    "# optionally add scripts location to path\n",
    "if True:\n",
    "    import sys\n",
    "    sys.path.append(\"/home/physics3/rroussel/SLAC_Xopt/\")\n",
    "    sys.path.append(\"/home/physics3/rroussel/SLAC_Xopt/NN_prior/\")\n",
    "\n",
    "print(sys.path)"
   ]
  },
  {
   "cell_type": "code",
   "execution_count": 1,
   "metadata": {
    "ExecuteTime": {
     "end_time": "2023-04-26T12:20:23.809750Z",
     "start_time": "2023-04-26T12:20:21.653781Z"
    },
    "collapsed": false,
    "jupyter": {
     "outputs_hidden": false
    }
   },
   "outputs": [],
   "source": [
    "import time\n",
    "from typing import Dict\n",
    "\n",
    "import torch\n",
    "import numpy as np\n",
    "import matplotlib.pyplot as plt\n",
    "\n",
    "from scripts.evaluate_function.screen_image import measure_beamsize, measure_background\n",
    "from scripts.optimize_function import optimize_function\n",
    "from scripts.characterize_emittance import characterize_emittance\n",
    "\n",
    "from xopt import Xopt, VOCS\n",
    "from xopt.evaluator import Evaluator\n",
    "from xopt.numerical_optimizer import LBFGSOptimizer\n",
    "from xopt.generators import ExpectedImprovementGenerator\n",
    "from xopt.generators.bayesian.models.standard import StandardModelConstructor\n",
    "from lume_model.utils import variables_from_yaml\n",
    "from lume_model.torch import LUMEModule, PyTorchModel\n",
    "\n",
    "from custom_mean import CustomMean\n",
    "from dynamic_custom_mean import DynamicCustomMean\n",
    "from metric_informed_custom_mean import MetricInformedCustomMean"
   ]
  },
  {
   "cell_type": "markdown",
   "metadata": {
    "collapsed": false,
    "jupyter": {
     "outputs_hidden": false
    }
   },
   "source": [
    "## Initialization"
   ]
  },
  {
   "cell_type": "code",
   "execution_count": null,
   "metadata": {
    "collapsed": false,
    "jupyter": {
     "outputs_hidden": false
    }
   },
   "outputs": [],
   "source": [
    "# set up data saving locations\n",
    "data_dir = \"/home/physics3/ml_tuning/20230729_LCLS_Injector\"\n",
    "\n",
    "run_name = \"be_1\"\n",
    "run_dir = f\"{data_dir}/{run_name}\"\n",
    "import os\n",
    "if not os.path.exists(run_dir):\n",
    "    os.mkdir(run_dir)"
   ]
  },
  {
   "cell_type": "code",
   "execution_count": null,
   "metadata": {
    "collapsed": false,
    "jupyter": {
     "outputs_hidden": false
    }
   },
   "outputs": [],
   "source": [
    "## import variable range\n",
    "import pandas as pd\n",
    "filename = \"../../variables.csv\"\n",
    "VARIABLE_RANGES = pd.read_csv(filename, index_col=0, header=None).T.to_dict(orient='list')\n",
    "SCREEN_NAME = \"OTRS:IN20:621\" # OTR 3"
   ]
  },
  {
   "cell_type": "code",
   "execution_count": null,
   "metadata": {
    "collapsed": false,
    "jupyter": {
     "outputs_hidden": false
    }
   },
   "outputs": [],
   "source": [
    "# set up background\n",
    "BACKGROUND_FILE = f\"{data_dir}/{SCREEN_NAME}_background.npy\".replace(\":\",\"_\")"
   ]
  },
  {
   "cell_type": "markdown",
   "metadata": {
    "collapsed": false,
    "jupyter": {
     "outputs_hidden": false
    }
   },
   "source": [
    "## define evaluate function"
   ]
  },
  {
   "cell_type": "code",
   "execution_count": null,
   "metadata": {
    "collapsed": false,
    "jupyter": {
     "outputs_hidden": false
    }
   },
   "outputs": [],
   "source": [
    "from epics import caget_many\n",
    "import json\n",
    "secondary_observables = [\"SOLN:IN20:121:BACT\",\"QUAD:IN20:121:BACT\",\"QUAD:IN20:122:BACT\",\"QUAD:IN20:361:BACT\",\"QUAD:IN20:371:BACT\",\"QUAD:IN20:425:BACT\",\"QUAD:IN20:441:BACT\",\"QUAD:IN20:511:BACT\",\"QUAD:IN20:525:BACT\",\"SOLN:IN20:121:BCTRL\",\"QUAD:IN20:121:BCTRL\",\"QUAD:IN20:122:BCTRL\",\"QUAD:IN20:361:BCTRL\",\"QUAD:IN20:371:BCTRL\",\"QUAD:IN20:425:BCTRL\",\"QUAD:IN20:441:BCTRL\",\"QUAD:IN20:511:BCTRL\",\"QUAD:IN20:525:BCTRL\",\"IRIS:LR20:130:CONFG_SEL\",\"ACCL:IN20:300:L0A_PDES\",\"ACCL:IN20:300:L0A_ADES\",\"ACCL:IN20:400:L0B_PDES\",\"ACCL:IN20:400:L0B_ADES\",\"ACCL:IN20:300:L0A_S_PV\",\"ACCL:IN20:400:L0B_S_PV\",\"ACCL:IN20:300:L0A_S_AV\",\"ACCL:IN20:400:L0B_S_AV\",\"GUN:IN20:1:GN1_ADES\",\"GUN:IN20:1:GN1_S_AV\",\"GUN:IN20:1:GN1_S_PV\",\"LASR:IN20:196:PWR1H\",\"LASR:IN20:475:PWR1H\",\"SIOC:SYS0:ML01:CALCOUT008\",\"REFS:IN20:751:EDES\",\"CAMR:IN20:186:ZERNIKE_COEFF\",\"FBCK:BCI0:1:CHRG_S\",\"PMTR:LR20:121:PWR\",\"BPMS:IN20:731:X\",\"TCAV:IN20:490:TC0_C_1_TCTL\",\"KLYS:LI20:51:BEAMCODE1_TCTL\",\"LASR:LR20:1:UV_LASER_MODE\",\"LASR:LR20:1:IR_LASER_MODE\",\"IOC:BSY0:MP01:LSHUTCTL\",\"WPLT:LR20:220:LHWP_ANGLE\",\"OTRS:IN20:621:PNEUMATIC\"]\n",
    "\n",
    "# define function to measure the total size on OTR4\n",
    "def eval_beamsize(input_dict):\n",
    "    results = measure_beamsize(input_dict)\n",
    "\n",
    "    # get secondary PV settings/readbacks\n",
    "    secondary_results = caget_many(secondary_observables)\n",
    "    results = results | secondary_results\n",
    "\n",
    "\n",
    "    results[\"S_x_mm\"] = results[\"Sx\"] * 1e3\n",
    "    results[\"S_y_mm\"] = results[\"Sy\"] * 1e3\n",
    "\n",
    "    #add total beam size\n",
    "    results[\"total_size\"] = np.sqrt(results[\"Sx\"]**2 + results[\"Sy\"]**2)\n",
    "    return results"
   ]
  },
  {
   "cell_type": "markdown",
   "metadata": {},
   "source": [
    "## Create model"
   ]
  },
  {
   "cell_type": "markdown",
   "metadata": {},
   "source": [
    "## Build vocs"
   ]
  },
  {
   "cell_type": "code",
   "execution_count": 1,
   "metadata": {
    "ExecuteTime": {
     "end_time": "2023-07-28T19:40:00.531110800Z",
     "start_time": "2023-07-28T19:40:00.523109Z"
    }
   },
   "outputs": [
    {
     "ename": "SyntaxError",
     "evalue": "invalid syntax (1400939419.py, line 13)",
     "output_type": "error",
     "traceback": [
      "\u001b[1;36m  Cell \u001b[1;32mIn[1], line 13\u001b[1;36m\u001b[0m\n\u001b[1;33m    QUAD:IN20:441:BCTRL,-0.0165,-0.0135\u001b[0m\n\u001b[1;37m        ^\u001b[0m\n\u001b[1;31mSyntaxError\u001b[0m\u001b[1;31m:\u001b[0m invalid syntax\n"
     ]
    }
   ],
   "source": [
    "# inputs\n",
    "TUNING_VARIABLES = [\n",
    "    \"SOLN:IN20:121:BCTRL\",\n",
    "    \"QUAD:IN20:121:BCTRL\",\n",
    "    \"QUAD:IN20:122:BCTRL\",\n",
    "    \"QUAD:IN20:361:BCTRL\",\n",
    "    \"QUAD:IN20:371:BCTRL\",\n",
    "    \"QUAD:IN20:425:BCTRL\",\n",
    "    \"QUAD:IN20:441:BCTRL\",\n",
    "    \"QUAD:IN20:511:BCTRL\",\n",
    "    \"QUAD:IN20:525:BCTRL\"\n",
    "]\n",
    "\n",
    "ROI = None\n",
    "THRESHOLD = 3\n",
    "\n",
    "measurement_options = {\n",
    "    \"screen\": SCREEN_NAME,\n",
    "    \"background\": BACKGROUND_FILE,\n",
    "    \"threshold\": THRESHOLD,\n",
    "    \"roi\": ROI,\n",
    "    \"bb_half_width\": 2.0, # half width of the bounding box in terms of std\n",
    "    \"visualize\": False,\n",
    "    \"save_img_location\": run_dir,\n",
    "    \"sleep_time\": 3.0,\n",
    "    \"n_shots\": 5\n",
    "}\n",
    "\n",
    "image_constraints = {\n",
    "    \"bb_penalty\": [\"LESS_THAN\", 0.0],\n",
    "    \"log10_total_intensity\": [\"GREATER_THAN\", 4]\n",
    "}\n",
    "\n",
    "vocs = VOCS(\n",
    "    variables={ele: VARIABLE_RANGES[ele] for ele in TUNING_VARIABLES},\n",
    "    constants=measurement_options,\n",
    "    objectives={\"total_beamsize\": \"MINIMIZE\"},\n",
    "    constraints=image_constraints,\n",
    ")"
   ]
  },
  {
   "cell_type": "code",
   "execution_count": 11,
   "metadata": {},
   "outputs": [
    {
     "name": "stdout",
     "output_type": "stream",
     "text": [
      "variables:\n",
      "  SOLN:IN20:121:BACT: [0.3774080152672698, 0.4983800018349345]\n",
      "  QUAD:IN20:121:BACT: [-0.02098429469554406, 0.020999198106589838]\n",
      "  QUAD:IN20:122:BACT: [-0.020998830517503037, 0.020998929132148195]\n",
      "  QUAD:IN20:361:BACT: [-4.318053641915576, -1.0800430432494976]\n",
      "  QUAD:IN20:371:BACT: [1.0913525514575348, 4.30967984810423]\n",
      "  QUAD:IN20:425:BACT: [-7.559759590824369, -1.080762695815712]\n",
      "  QUAD:IN20:441:BACT: [-1.0782202690353522, 7.559878303179915]\n",
      "  QUAD:IN20:511:BACT: [-1.0792451325247663, 7.5582919025608595]\n",
      "  QUAD:IN20:525:BACT: [-7.557932980106783, -1.0800286565992732]\n",
      "constraints: {}\n",
      "objectives: {sigma_xy: MINIMIZE}\n",
      "constants: {'CAMR:IN20:186:R_DIST': 423.867825, Pulse_length: 1.8550514181818183,\n",
      "  'FBCK:BCI0:1:CHRG_S': 0.25, 'ACCL:IN20:300:L0A_ADES': 58.0, 'ACCL:IN20:300:L0A_PDES': -9.53597349,\n",
      "  'ACCL:IN20:400:L0B_ADES': 70.0, 'ACCL:IN20:400:L0B_PDES': 9.85566222}\n",
      "observables: ['OTRS:IN20:571:XRMS', 'OTRS:IN20:571:YRMS']\n",
      "\n"
     ]
    }
   ],
   "source": [
    "print(vocs.as_yaml())"
   ]
  },
  {
   "cell_type": "markdown",
   "metadata": {},
   "source": [
    "## Define prior mean"
   ]
  },
  {
   "cell_type": "code",
   "execution_count": 14,
   "metadata": {},
   "outputs": [],
   "source": [
    "# define custom mean\n",
    "# wrap in LUMEModule\n",
    "lume_module = LUMEModule(\n",
    "    model=lume_model,\n",
    "    feature_order=vocs.variable_names,\n",
    "    output_order=lume_model.outputs[0:2],\n",
    ")\n",
    "\n",
    "# define objective model\n",
    "class ObjectiveModel(torch.nn.Module):\n",
    "    def __init__(self, model: LUMEModule):\n",
    "        super(ObjectiveModel, self).__init__()\n",
    "        self.model = model\n",
    "\n",
    "    @staticmethod\n",
    "    def function(sigma_x: torch.Tensor, sigma_y: torch.Tensor) -> torch.Tensor:\n",
    "        # using this calculation due to occasional negative values\n",
    "        return torch.sqrt(sigma_x ** 2 + sigma_y ** 2)\n",
    "\n",
    "    def forward(self, x) -> torch.Tensor:\n",
    "        idx_sigma_x = self.model.output_order.index(\"OTRS:IN20:571:XRMS\")\n",
    "        idx_sigma_y = self.model.output_order.index(\"OTRS:IN20:571:YRMS\")\n",
    "        sigma_x = self.model(x)[..., idx_sigma_x]\n",
    "        sigma_y = self.model(x)[..., idx_sigma_y]\n",
    "        return self.function(sigma_x, sigma_y)\n",
    "\n",
    "\n",
    "objective_model = ObjectiveModel(lume_module)\n",
    "\n",
    "print(lume_module.input_order)\n",
    "print(lume_module.output_order)\n",
    "\n",
    "mean_class = CustomMean\n",
    "mean_kwargs = {\"model\": objective_model}"
   ]
  },
  {
   "cell_type": "markdown",
   "metadata": {},
   "source": [
    "## Create Xopt instance"
   ]
  },
  {
   "cell_type": "code",
   "execution_count": 15,
   "metadata": {},
   "outputs": [],
   "source": [
    "# Xopt definition\n",
    "model_constructor = StandardModelConstructor(\n",
    "    mean_modules={\"total_beamsize\": mean_class(**mean_kwargs)},\n",
    "    trainable_mean_keys=[vocs.objective_names[0]],\n",
    ")\n",
    "generator = ExpectedImprovementGenerator(\n",
    "    vocs=vocs,\n",
    "    model_constructor=model_constructor,\n",
    ")\n",
    "evaluator = Evaluator(function=eval_beamsize)\n",
    "X = Xopt(generator=generator, evaluator=evaluator, vocs=vocs)"
   ]
  },
  {
   "cell_type": "markdown",
   "metadata": {},
   "source": [
    "## Create initial samples"
   ]
  },
  {
   "cell_type": "code",
   "execution_count": null,
   "metadata": {},
   "outputs": [],
   "source": [
    "# create initial samples\n",
    "n_init = 3\n",
    "X.random_evaluate(n_samples=n_init)"
   ]
  },
  {
   "cell_type": "markdown",
   "metadata": {},
   "source": [
    "## Run optimization"
   ]
  },
  {
   "cell_type": "code",
   "execution_count": null,
   "metadata": {},
   "outputs": [],
   "source": [
    "n_step = 50\n",
    "for step in range(n_step):\n",
    "    # define prior mean\n",
    "    if issubclass(mean_class, DynamicCustomMean):\n",
    "        mean_kwargs[\"step\"] = step\n",
    "    elif issubclass(mean_class, MetricInformedCustomMean):\n",
    "        if step == 0:\n",
    "            mean_kwargs[\"metrics\"] = {\"correlation\": 1.0}\n",
    "        else:\n",
    "            x_samples = torch.tensor(X.data[vocs.variable_names].values, dtype=torch.double)\n",
    "            y_samples = torch.tensor(X.data[vocs.objective_names].values, dtype=torch.double).squeeze()\n",
    "            y_samples_prior = mean_kwargs[\"model\"](x_samples).squeeze()\n",
    "            correlation = calc_corr(y_samples, y_samples_prior)\n",
    "            mean_kwargs[\"metrics\"] = {\"correlation\": correlation}\n",
    "    X.generator.model_constructor.mean_modules[vocs.objective_names[0]] = mean_class(**mean_kwargs)\n",
    "\n",
    "    # optimization step\n",
    "    t0 = time.time()\n",
    "    X.step()\n",
    "    print(\"Completed step {:d} ({:.2f} sec)\".format(step, time.time() - t0))"
   ]
  }
 ],
 "metadata": {
  "kernelspec": {
   "display_name": "Python 3 (ipykernel)",
   "language": "python",
   "name": "python3"
  },
  "language_info": {
   "codemirror_mode": {
    "name": "ipython",
    "version": 3
   },
   "file_extension": ".py",
   "mimetype": "text/x-python",
   "name": "python",
   "nbconvert_exporter": "python",
   "pygments_lexer": "ipython3",
   "version": "3.9.16"
  }
 },
 "nbformat": 4,
 "nbformat_minor": 4
}
