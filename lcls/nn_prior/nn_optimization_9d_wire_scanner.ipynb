{
 "cells": [
  {
   "cell_type": "markdown",
   "metadata": {
    "collapsed": false,
    "jupyter": {
     "outputs_hidden": false
    }
   },
   "source": [
    "# 2D Injector Optimization with NN Prior at LCLS\n",
    "Aiming to optimize transverse beam size in 2D"
   ]
  },
  {
   "cell_type": "code",
   "execution_count": 1,
   "metadata": {
    "tags": []
   },
   "outputs": [],
   "source": [
    "import os\n",
    "import socket\n",
    "\n",
    "hostname = socket.gethostname()\n",
    "if hostname == \"lcls-srv04\":\n",
    "    os.environ[\"OMP_NUM_THREADS\"] = str(1)\n",
    "elif hostname == \"test-rhel7\":\n",
    "    os.environ[\"OMP_NUM_THREADS\"] = str(6)"
   ]
  },
  {
   "cell_type": "code",
   "execution_count": 2,
   "metadata": {
    "ExecuteTime": {
     "end_time": "2023-08-17T02:42:59.049600800Z",
     "start_time": "2023-08-17T02:42:59.040600400Z"
    },
    "collapsed": false,
    "jupyter": {
     "outputs_hidden": false
    },
    "tags": []
   },
   "outputs": [
    {
     "name": "stdout",
     "output_type": "stream",
     "text": [
      "['/home/physics/rroussel/SLAC_Xopt/lcls/nn_prior', '/usr/local/lcls/tools/python/toolbox', '/usr/local/lcls/package/anaconda/envs/python3.9envs/rhel7/nightly/11-17-2023/lib/python39.zip', '/usr/local/lcls/package/anaconda/envs/python3.9envs/rhel7/nightly/11-17-2023/lib/python3.9', '/usr/local/lcls/package/anaconda/envs/python3.9envs/rhel7/nightly/11-17-2023/lib/python3.9/lib-dynload', '', '/usr/local/lcls/package/anaconda/envs/python3.9envs/rhel7/nightly/11-17-2023/lib/python3.9/site-packages', '../../', '../']\n"
     ]
    }
   ],
   "source": [
    "# optionally add scripts location to path\n",
    "if True:\n",
    "    import sys\n",
    "    sys.path.append(\"../../\")\n",
    "    sys.path.append(\"../\")\n",
    "\n",
    "run_dir = \"/home/physics3/ml_tuning/20231120_LCLS_Injector/\"\n",
    "if not os.path.exists(run_dir):\n",
    "    os.makedirs(run_dir)\n",
    "print(sys.path)"
   ]
  },
  {
   "cell_type": "markdown",
   "metadata": {},
   "source": [
    "## Define VOCS"
   ]
  },
  {
   "cell_type": "code",
   "execution_count": 3,
   "metadata": {},
   "outputs": [],
   "source": [
    "import pandas as pd\n",
    "from xopt import VOCS"
   ]
  },
  {
   "cell_type": "code",
   "execution_count": 4,
   "metadata": {},
   "outputs": [],
   "source": [
    "filename = \"../variables.csv\"\n",
    "VARIABLE_RANGES = pd.read_csv(filename, index_col=0, header=None).T.to_dict(orient='list')"
   ]
  },
  {
   "cell_type": "code",
   "execution_count": 5,
   "metadata": {},
   "outputs": [
    {
     "name": "stdout",
     "output_type": "stream",
     "text": [
      "variables:\n",
      "  SOLN:IN20:121:BCTRL: [0.377, 0.498]\n",
      "  QUAD:IN20:121:BCTRL: [-0.021, 0.021]\n",
      "  QUAD:IN20:122:BCTRL: [-0.021, 0.021]\n",
      "  QUAD:IN20:361:BCTRL: [-4.32, -1.08]\n",
      "  QUAD:IN20:371:BCTRL: [1.09, 4.31]\n",
      "  QUAD:IN20:425:BCTRL: [-7.56, -1.08]\n",
      "  QUAD:IN20:441:BCTRL: [-1.08, 7.56]\n",
      "  QUAD:IN20:511:BCTRL: [-1.08, 7.56]\n",
      "  QUAD:IN20:525:BCTRL: [-7.56, -1.08]\n",
      "constraints:\n",
      "  bad_measurement: [LESS_THAN, 0.5]\n",
      "objectives: {total_size: MINIMIZE}\n",
      "constants: {}\n",
      "observables: []\n",
      "\n"
     ]
    }
   ],
   "source": [
    "VARIABLES = [\"SOLN:IN20:121:BCTRL\", \"QUAD:IN20:121:BCTRL\", \"QUAD:IN20:122:BCTRL\",\n",
    "             \"QUAD:IN20:361:BCTRL\", \"QUAD:IN20:371:BCTRL\", \"QUAD:IN20:425:BCTRL\",\n",
    "             \"QUAD:IN20:441:BCTRL\", \"QUAD:IN20:511:BCTRL\", \"QUAD:IN20:525:BCTRL\"]\n",
    "\n",
    "vocs = VOCS(\n",
    "    variables = {ele: VARIABLE_RANGES[ele] for ele in VARIABLES},\n",
    "    constraints = {\"bad_measurement\": [\"LESS_THAN\", 0.5]},\n",
    "    objectives = {\"total_size\": \"MINIMIZE\"},\n",
    ")\n",
    "print(vocs.as_yaml())"
   ]
  },
  {
   "cell_type": "markdown",
   "metadata": {},
   "source": [
    "## Define evaluate function"
   ]
  },
  {
   "cell_type": "code",
   "execution_count": 6,
   "metadata": {},
   "outputs": [],
   "source": [
    "from time import sleep\n",
    "\n",
    "import torch\n",
    "import numpy as np\n",
    "from epics import caput, caget_many, caget\n",
    "\n",
    "from utils import get_model_predictions, numpy_save"
   ]
  },
  {
   "cell_type": "code",
   "execution_count": 9,
   "metadata": {
    "tags": []
   },
   "outputs": [],
   "source": [
    "objective_scale = 1e-3"
   ]
  },
  {
   "cell_type": "code",
   "execution_count": 11,
   "metadata": {
    "tags": []
   },
   "outputs": [],
   "source": [
    "from time import sleep\n",
    "from epics import caget\n",
    "\n",
    "\n",
    "def eval_beamsize(input_dict, generator = None):\n",
    "    # global image_diagnostic\n",
    "    # set PVs\n",
    "    for k, v in input_dict.items():\n",
    "        print(f'CAPUT {k} {v}')\n",
    "        caput(k, v)\n",
    "\n",
    "    # sleep(5.0)\n",
    "\n",
    "    # # get beam sizes from image diagnostic\n",
    "    # metadata = input_dict\n",
    "    # results = image_diagnostic.measure_beamsize(1, **metadata)\n",
    "    # results[\"S_x_mm\"] = np.array(results[\"Sx\"]) * 1e-3\n",
    "    # results[\"S_y_mm\"] = np.array(results[\"Sy\"]) * 1e-3\n",
    "    \n",
    "    input_str = input()\n",
    "    results = {}\n",
    "    if input_str == \"0\":\n",
    "        results[\"Sx\"] = np.nan\n",
    "        results[\"Sy\"] = np.nan\n",
    "        results[\"bad_measurement\"] = 1.0\n",
    "    else:\n",
    "        results[\"Sx\"] = caget(\"WIRE:IN20:561:XRMS\")  # in micrometer\n",
    "        results[\"Sy\"] = caget(\"WIRE:IN20:561:YRMS\")  # in micrometer\n",
    "        results[\"bad_measurement\"] = 0.0\n",
    "\n",
    "    # get other PV's NOTE: Measurements not synchronous with beamsize measurements!\n",
    "    results = results\n",
    "\n",
    "    # add total beam size\n",
    "    sigma_xy = np.sqrt(np.array(results[\"Sx\"]) ** 2 + np.array(results[\"Sy\"]) ** 2)\n",
    "    roundness = np.abs(np.array(results[\"Sx\"]) - np.array(results[\"Sy\"]))\n",
    "    results[\"sigma_xy\"] = sigma_xy\n",
    "    results[\"total_size\"] = objective_scale * (sigma_xy + roundness)    \n",
    "    # results[\"total_size\"] = np.sqrt(np.abs(np.array(results[\"Sx\"])) * np.array(results[\"Sy\"]))\n",
    "    \n",
    "    # GP model predictions\n",
    "    model_predictions = get_model_predictions(input_dict, generator)\n",
    "    results.update(model_predictions)\n",
    "\n",
    "    # numpy_save()\n",
    "    \n",
    "    return results"
   ]
  },
  {
   "cell_type": "markdown",
   "metadata": {},
   "source": [
    "## Define NN prior"
   ]
  },
  {
   "cell_type": "code",
   "execution_count": 13,
   "metadata": {},
   "outputs": [],
   "source": [
    "from lume_model.utils import variables_from_yaml\n",
    "from lume_model.models import TorchModel, TorchModule\n",
    "\n",
    "sys.path.append(\"calibration/calibration_modules/\")\n",
    "from decoupled_linear import OutputOffset, OutputScale, DecoupledLinearOutput"
   ]
  },
  {
   "cell_type": "code",
   "execution_count": 14,
   "metadata": {},
   "outputs": [],
   "source": [
    "model_path = \"lcls_cu_injector_nn_model/\"\n",
    "\n",
    "# # load nn_to_cal transformers\n",
    "# reg = \"low\"  # \"low\" or \"high\"\n",
    "# input_nn_to_cal = torch.load(f\"calibration/input_nn_to_cal_{reg}_reg.pt\")\n",
    "# output_nn_to_cal = torch.load(f\"calibration/output_nn_to_cal_{reg}_reg.pt\")\n",
    "\n",
    "# load sim_to_nn transformers\n",
    "input_sim_to_nn = torch.load(model_path + \"model/input_sim_to_nn.pt\")\n",
    "output_sim_to_nn = torch.load(model_path + \"model/output_sim_to_nn.pt\")\n",
    "\n",
    "# load pv_to_sim transformers\n",
    "input_pv_to_sim = torch.load(model_path + \"model/input_pv_to_sim.pt\")\n",
    "output_pv_to_sim = torch.load(model_path + \"model/output_pv_to_sim.pt\")\n",
    "\n",
    "# load in- and output variable specification\n",
    "input_variables, output_variables = variables_from_yaml(model_path + \"model/pv_variables.yml\")\n",
    "# input_variables, output_variables = variables_from_yaml(f\"calibration/pv_variables_{reg}_reg_pydantic2.yml\")\n",
    "\n",
    "# replace keys in input variables\n",
    "for var in input_variables:\n",
    "    var.name = var.name.replace(\"BACT\", \"BCTRL\")\n",
    "\n",
    "# create TorchModel\n",
    "lume_model = TorchModel(\n",
    "    model=model_path + \"model/model.pt\",\n",
    "    input_variables=input_variables,\n",
    "    output_variables=output_variables,\n",
    "    input_transformers=[input_pv_to_sim, input_sim_to_nn],\n",
    "    output_transformers=[output_sim_to_nn, output_pv_to_sim],\n",
    "    # input_transformers=[input_pv_to_sim, input_sim_to_nn, input_nn_to_cal],\n",
    "    # output_transformers=[output_nn_to_cal, output_sim_to_nn, output_pv_to_sim],\n",
    ")\n",
    "\n",
    "# wrap in TorchModule\n",
    "lume_module = TorchModule(\n",
    "    model=lume_model,\n",
    "    input_order=vocs.variable_names,\n",
    "    output_order=lume_model.output_names[0:2],\n",
    ")\n",
    "\n",
    "# define objective model\n",
    "class ObjectiveModel(torch.nn.Module):\n",
    "    def __init__(self, model: TorchModule):\n",
    "        super(ObjectiveModel, self).__init__()\n",
    "        self.model = model\n",
    "\n",
    "    @staticmethod\n",
    "    def function(sigma_x: torch.Tensor, sigma_y: torch.Tensor) -> torch.Tensor:\n",
    "        # using this calculation due to occasional negative values\n",
    "        sigma_xy = torch.sqrt(sigma_x ** 2 + sigma_y ** 2)\n",
    "        roundness = torch.abs(sigma_x - sigma_y)\n",
    "        return (sigma_xy + roundness) * objective_scale\n",
    "\n",
    "    def forward(self, x) -> torch.Tensor:\n",
    "        idx_sigma_x = self.model.output_order.index(\"OTRS:IN20:571:XRMS\")\n",
    "        idx_sigma_y = self.model.output_order.index(\"OTRS:IN20:571:YRMS\")\n",
    "        sigma_x = self.model(x)[..., idx_sigma_x]\n",
    "        sigma_y = self.model(x)[..., idx_sigma_y]\n",
    "        return self.function(sigma_x, sigma_y)\n",
    "\n",
    "\n",
    "objective_model = ObjectiveModel(lume_module)"
   ]
  },
  {
   "cell_type": "code",
   "execution_count": 15,
   "metadata": {},
   "outputs": [],
   "source": [
    "# define custom mean\n",
    "objective_model.requires_grad_(False);\n",
    "\n",
    "custom_mean = objective_model\n",
    "# custom_mean = OutputOffset(\n",
    "#     model=objective_model,\n",
    "# )"
   ]
  },
  {
   "cell_type": "markdown",
   "metadata": {},
   "source": [
    "## Restrict ranges based on profile monitor"
   ]
  },
  {
   "cell_type": "code",
   "execution_count": 16,
   "metadata": {},
   "outputs": [
    {
     "name": "stdout",
     "output_type": "stream",
     "text": [
      "variables:\n",
      "  QUAD:IN20:121:BCTRL: [-0.02098429469554406, 0.020999198106589838]\n",
      "  QUAD:IN20:122:BCTRL: [-0.020998830517503037, 0.020998929132148195]\n",
      "  QUAD:IN20:361:BCTRL: [-4.318053641915576, -1.0800430432494976]\n",
      "  QUAD:IN20:371:BCTRL: [1.0913525514575348, 4.30967984810423]\n",
      "  QUAD:IN20:425:BCTRL: [-7.559759590824369, -1.080762695815712]\n",
      "  QUAD:IN20:441:BCTRL: [-1.0782202690353522, 7.559878303179915]\n",
      "  QUAD:IN20:511:BCTRL: [-1.0792451325247663, 7.5582919025608595]\n",
      "  QUAD:IN20:525:BCTRL: [-7.557932980106783, -1.0800286565992732]\n",
      "  SOLN:IN20:121:BCTRL: [0.467, 0.479]\n",
      "constraints:\n",
      "  bad_measurement: [LESS_THAN, 0.5]\n",
      "objectives: {total_size: MINIMIZE}\n",
      "constants: {}\n",
      "observables: []\n",
      "\n"
     ]
    }
   ],
   "source": [
    "vocs.variables = {k: input_variables[lume_model.input_names.index(k)].value_range for k in vocs.variable_names}\n",
    "vocs.variables[\"SOLN:IN20:121:BCTRL\"] = [0.467, 0.479]\n",
    "print(vocs.as_yaml())"
   ]
  },
  {
   "cell_type": "markdown",
   "metadata": {},
   "source": [
    "## Run Xopt"
   ]
  },
  {
   "cell_type": "code",
   "execution_count": 17,
   "metadata": {
    "ExecuteTime": {
     "end_time": "2023-08-17T02:43:02.453721600Z",
     "start_time": "2023-08-17T02:43:02.097709300Z"
    }
   },
   "outputs": [
    {
     "data": {
      "text/plain": [
       "\n",
       "            Xopt\n",
       "________________________________\n",
       "Version: 2.1.0+6.gb4fe9a1\n",
       "Data size: 0\n",
       "Config as YAML:\n",
       "dump_file: /home/physics3/ml_tuning/20231117_LCLS_Injector/nn_optimization_9d_1.yml\n",
       "evaluator:\n",
       "  function: __main__.eval_beamsize\n",
       "  function_kwargs:\n",
       "    generator:\n",
       "      computation_time: null\n",
       "      fixed_features: null\n",
       "      gp_constructor:\n",
       "        covar_modules: {}\n",
       "        mean_modules: {}\n",
       "        name: standard\n",
       "        trainable_mean_keys:\n",
       "        - total_size\n",
       "        use_low_noise_prior: false\n",
       "      log_transform_acquisition_function: false\n",
       "      max_travel_distances: null\n",
       "      model: null\n",
       "      n_candidates: 1\n",
       "      n_monte_carlo_samples: 128\n",
       "      numerical_optimizer:\n",
       "        max_iter: 200\n",
       "        max_time: null\n",
       "        n_restarts: 20\n",
       "        name: LBFGS\n",
       "      supports_batch_generation: true\n",
       "      turbo_controller: null\n",
       "      use_cuda: false\n",
       "  max_workers: 1\n",
       "  vectorized: false\n",
       "generator:\n",
       "  computation_time: null\n",
       "  fixed_features: null\n",
       "  gp_constructor:\n",
       "    covar_modules: {}\n",
       "    mean_modules: {}\n",
       "    name: standard\n",
       "    trainable_mean_keys:\n",
       "    - total_size\n",
       "    use_low_noise_prior: false\n",
       "  log_transform_acquisition_function: false\n",
       "  max_travel_distances: null\n",
       "  model: null\n",
       "  n_candidates: 1\n",
       "  n_monte_carlo_samples: 128\n",
       "  name: expected_improvement\n",
       "  numerical_optimizer:\n",
       "    max_iter: 200\n",
       "    max_time: null\n",
       "    n_restarts: 20\n",
       "    name: LBFGS\n",
       "  supports_batch_generation: true\n",
       "  turbo_controller: null\n",
       "  use_cuda: false\n",
       "max_evaluations: null\n",
       "serialize_inline: false\n",
       "serialize_torch: false\n",
       "strict: true\n",
       "vocs:\n",
       "  constants: {}\n",
       "  constraints:\n",
       "    bad_measurement:\n",
       "    - LESS_THAN\n",
       "    - 0.5\n",
       "  objectives:\n",
       "    total_size: MINIMIZE\n",
       "  observables: []\n",
       "  variables:\n",
       "    QUAD:IN20:121:BCTRL:\n",
       "    - -0.02098429469554406\n",
       "    - 0.020999198106589838\n",
       "    QUAD:IN20:122:BCTRL:\n",
       "    - -0.020998830517503037\n",
       "    - 0.020998929132148195\n",
       "    QUAD:IN20:361:BCTRL:\n",
       "    - -4.318053641915576\n",
       "    - -1.0800430432494976\n",
       "    QUAD:IN20:371:BCTRL:\n",
       "    - 1.0913525514575348\n",
       "    - 4.30967984810423\n",
       "    QUAD:IN20:425:BCTRL:\n",
       "    - -7.559759590824369\n",
       "    - -1.080762695815712\n",
       "    QUAD:IN20:441:BCTRL:\n",
       "    - -1.0782202690353522\n",
       "    - 7.559878303179915\n",
       "    QUAD:IN20:511:BCTRL:\n",
       "    - -1.0792451325247663\n",
       "    - 7.5582919025608595\n",
       "    QUAD:IN20:525:BCTRL:\n",
       "    - -7.557932980106783\n",
       "    - -1.0800286565992732\n",
       "    SOLN:IN20:121:BCTRL:\n",
       "    - 0.467\n",
       "    - 0.479\n"
      ]
     },
     "execution_count": 17,
     "metadata": {},
     "output_type": "execute_result"
    }
   ],
   "source": [
    "from xopt import Xopt, VOCS\n",
    "from xopt.evaluator import Evaluator\n",
    "from xopt.numerical_optimizer import LBFGSOptimizer\n",
    "from xopt.generators.bayesian import ExpectedImprovementGenerator\n",
    "from xopt.generators.bayesian.models.standard import StandardModelConstructor\n",
    "\n",
    "# remember to set use low noise prior to false!!!\n",
    "gp_constructor = StandardModelConstructor(\n",
    "    use_low_noise_prior=False,\n",
    "    mean_modules={\"total_size\": custom_mean},\n",
    "    trainable_mean_keys=[\"total_size\"],\n",
    ")\n",
    "generator = ExpectedImprovementGenerator(\n",
    "    vocs=vocs,\n",
    "    gp_constructor=gp_constructor,\n",
    ")\n",
    "generator.numerical_optimizer.max_iter = 200\n",
    "evaluator = Evaluator(function=eval_beamsize, function_kwargs={\"generator\": generator})\n",
    "X = Xopt(generator=generator, evaluator=evaluator, vocs=vocs)\n",
    "X.evaluator = Evaluator(function=eval_beamsize, function_kwargs={\"generator\": X.generator})\n",
    "X.dump_file = run_dir + \"nn_optimization_9d_1.yml\"\n",
    "X"
   ]
  },
  {
   "cell_type": "code",
   "execution_count": 18,
   "metadata": {},
   "outputs": [
    {
     "name": "stdout",
     "output_type": "stream",
     "text": [
      "CAPUT QUAD:IN20:121:BCTRL 0.001491122802780123\n",
      "CAPUT QUAD:IN20:122:BCTRL -0.009669420653899691\n",
      "CAPUT QUAD:IN20:361:BCTRL -3.1330458663969254\n",
      "CAPUT QUAD:IN20:371:BCTRL 2.494480090078397\n",
      "CAPUT QUAD:IN20:425:BCTRL -1.229420251500529\n",
      "CAPUT QUAD:IN20:441:BCTRL -0.44010171425875877\n",
      "CAPUT QUAD:IN20:511:BCTRL 3.9530509197815658\n",
      "CAPUT QUAD:IN20:525:BCTRL -3.3057518148066687\n",
      "CAPUT SOLN:IN20:121:BCTRL 0.479\n"
     ]
    },
    {
     "name": "stdin",
     "output_type": "stream",
     "text": [
      " 1\n"
     ]
    },
    {
     "name": "stdout",
     "output_type": "stream",
     "text": [
      "CAPUT QUAD:IN20:121:BCTRL -0.0034943563654254764\n",
      "CAPUT QUAD:IN20:122:BCTRL -0.012781407709246531\n",
      "CAPUT QUAD:IN20:361:BCTRL -3.421660782301584\n",
      "CAPUT QUAD:IN20:371:BCTRL 2.917579182326721\n",
      "CAPUT QUAD:IN20:425:BCTRL -1.1595115576843882\n",
      "CAPUT QUAD:IN20:441:BCTRL -0.8516468332481204\n",
      "CAPUT QUAD:IN20:511:BCTRL 3.6695201729481206\n",
      "CAPUT QUAD:IN20:525:BCTRL -2.61158506962792\n",
      "CAPUT SOLN:IN20:121:BCTRL 0.479\n"
     ]
    },
    {
     "name": "stdin",
     "output_type": "stream",
     "text": [
      " 1\n"
     ]
    },
    {
     "name": "stdout",
     "output_type": "stream",
     "text": [
      "CAPUT QUAD:IN20:121:BCTRL -0.0016094617193106425\n",
      "CAPUT QUAD:IN20:122:BCTRL -0.004700280374111592\n",
      "CAPUT QUAD:IN20:361:BCTRL -3.101068570948206\n",
      "CAPUT QUAD:IN20:371:BCTRL 2.799969425548643\n",
      "CAPUT QUAD:IN20:425:BCTRL -1.5315267917384854\n",
      "CAPUT QUAD:IN20:441:BCTRL 0.4138212518417671\n",
      "CAPUT QUAD:IN20:511:BCTRL 3.0705826144653594\n",
      "CAPUT QUAD:IN20:525:BCTRL -2.322330691307872\n",
      "CAPUT SOLN:IN20:121:BCTRL 0.479\n"
     ]
    },
    {
     "name": "stdin",
     "output_type": "stream",
     "text": [
      " 1\n"
     ]
    },
    {
     "name": "stdout",
     "output_type": "stream",
     "text": [
      "CAPUT QUAD:IN20:121:BCTRL 0.004612997604682451\n",
      "CAPUT QUAD:IN20:122:BCTRL -0.010166096277408736\n",
      "CAPUT QUAD:IN20:361:BCTRL -3.2342234413610793\n",
      "CAPUT QUAD:IN20:371:BCTRL 2.599345964166094\n",
      "CAPUT QUAD:IN20:425:BCTRL -1.6272640574688189\n",
      "CAPUT QUAD:IN20:441:BCTRL -1.0390567424630308\n",
      "CAPUT QUAD:IN20:511:BCTRL 2.5875837647228725\n",
      "CAPUT QUAD:IN20:525:BCTRL -3.135550151109924\n",
      "CAPUT SOLN:IN20:121:BCTRL 0.479\n"
     ]
    },
    {
     "name": "stdin",
     "output_type": "stream",
     "text": [
      " 1\n"
     ]
    },
    {
     "name": "stdout",
     "output_type": "stream",
     "text": [
      "CAPUT QUAD:IN20:121:BCTRL -0.002771886622015007\n",
      "CAPUT QUAD:IN20:122:BCTRL -0.010901753152217402\n",
      "CAPUT QUAD:IN20:361:BCTRL -3.503321608369331\n",
      "CAPUT QUAD:IN20:371:BCTRL 2.553589695646995\n",
      "CAPUT QUAD:IN20:425:BCTRL -1.1977362886614964\n",
      "CAPUT QUAD:IN20:441:BCTRL -0.6808805963390623\n",
      "CAPUT QUAD:IN20:511:BCTRL 2.9956120971937854\n",
      "CAPUT QUAD:IN20:525:BCTRL -2.7014800183980676\n",
      "CAPUT SOLN:IN20:121:BCTRL 0.479\n"
     ]
    },
    {
     "name": "stdin",
     "output_type": "stream",
     "text": [
      " 1\n"
     ]
    },
    {
     "data": {
      "text/html": [
       "<div>\n",
       "<style scoped>\n",
       "    .dataframe tbody tr th:only-of-type {\n",
       "        vertical-align: middle;\n",
       "    }\n",
       "\n",
       "    .dataframe tbody tr th {\n",
       "        vertical-align: top;\n",
       "    }\n",
       "\n",
       "    .dataframe thead th {\n",
       "        text-align: right;\n",
       "    }\n",
       "</style>\n",
       "<table border=\"1\" class=\"dataframe\">\n",
       "  <thead>\n",
       "    <tr style=\"text-align: right;\">\n",
       "      <th></th>\n",
       "      <th>QUAD:IN20:121:BCTRL</th>\n",
       "      <th>QUAD:IN20:122:BCTRL</th>\n",
       "      <th>QUAD:IN20:361:BCTRL</th>\n",
       "      <th>QUAD:IN20:371:BCTRL</th>\n",
       "      <th>QUAD:IN20:425:BCTRL</th>\n",
       "      <th>QUAD:IN20:441:BCTRL</th>\n",
       "      <th>QUAD:IN20:511:BCTRL</th>\n",
       "      <th>QUAD:IN20:525:BCTRL</th>\n",
       "      <th>SOLN:IN20:121:BCTRL</th>\n",
       "      <th>Sx</th>\n",
       "      <th>...</th>\n",
       "      <th>sigma_xy</th>\n",
       "      <th>total_size</th>\n",
       "      <th>total_size_prior_mean</th>\n",
       "      <th>total_size_posterior_mean</th>\n",
       "      <th>total_size_posterior_sd</th>\n",
       "      <th>bad_measurement_prior_mean</th>\n",
       "      <th>bad_measurement_posterior_mean</th>\n",
       "      <th>bad_measurement_posterior_sd</th>\n",
       "      <th>xopt_runtime</th>\n",
       "      <th>xopt_error</th>\n",
       "    </tr>\n",
       "  </thead>\n",
       "  <tbody>\n",
       "    <tr>\n",
       "      <th>0</th>\n",
       "      <td>0.001491</td>\n",
       "      <td>-0.009669</td>\n",
       "      <td>-3.133046</td>\n",
       "      <td>2.494480</td>\n",
       "      <td>-1.229420</td>\n",
       "      <td>-0.440102</td>\n",
       "      <td>3.953051</td>\n",
       "      <td>-3.305752</td>\n",
       "      <td>0.479</td>\n",
       "      <td>0.000043</td>\n",
       "      <td>...</td>\n",
       "      <td>0.000107</td>\n",
       "      <td>1.633414e-07</td>\n",
       "      <td>NaN</td>\n",
       "      <td>NaN</td>\n",
       "      <td>NaN</td>\n",
       "      <td>NaN</td>\n",
       "      <td>NaN</td>\n",
       "      <td>NaN</td>\n",
       "      <td>51.753755</td>\n",
       "      <td>False</td>\n",
       "    </tr>\n",
       "    <tr>\n",
       "      <th>1</th>\n",
       "      <td>-0.003494</td>\n",
       "      <td>-0.012781</td>\n",
       "      <td>-3.421661</td>\n",
       "      <td>2.917579</td>\n",
       "      <td>-1.159512</td>\n",
       "      <td>-0.851647</td>\n",
       "      <td>3.669520</td>\n",
       "      <td>-2.611585</td>\n",
       "      <td>0.479</td>\n",
       "      <td>0.000100</td>\n",
       "      <td>...</td>\n",
       "      <td>0.000163</td>\n",
       "      <td>1.920320e-07</td>\n",
       "      <td>NaN</td>\n",
       "      <td>NaN</td>\n",
       "      <td>NaN</td>\n",
       "      <td>NaN</td>\n",
       "      <td>NaN</td>\n",
       "      <td>NaN</td>\n",
       "      <td>26.691138</td>\n",
       "      <td>False</td>\n",
       "    </tr>\n",
       "    <tr>\n",
       "      <th>2</th>\n",
       "      <td>-0.001609</td>\n",
       "      <td>-0.004700</td>\n",
       "      <td>-3.101069</td>\n",
       "      <td>2.799969</td>\n",
       "      <td>-1.531527</td>\n",
       "      <td>0.413821</td>\n",
       "      <td>3.070583</td>\n",
       "      <td>-2.322331</td>\n",
       "      <td>0.479</td>\n",
       "      <td>0.000163</td>\n",
       "      <td>...</td>\n",
       "      <td>0.000224</td>\n",
       "      <td>2.331111e-07</td>\n",
       "      <td>NaN</td>\n",
       "      <td>NaN</td>\n",
       "      <td>NaN</td>\n",
       "      <td>NaN</td>\n",
       "      <td>NaN</td>\n",
       "      <td>NaN</td>\n",
       "      <td>34.373869</td>\n",
       "      <td>False</td>\n",
       "    </tr>\n",
       "    <tr>\n",
       "      <th>3</th>\n",
       "      <td>0.004613</td>\n",
       "      <td>-0.010166</td>\n",
       "      <td>-3.234223</td>\n",
       "      <td>2.599346</td>\n",
       "      <td>-1.627264</td>\n",
       "      <td>-1.039057</td>\n",
       "      <td>2.587584</td>\n",
       "      <td>-3.135550</td>\n",
       "      <td>0.479</td>\n",
       "      <td>0.000211</td>\n",
       "      <td>...</td>\n",
       "      <td>0.000240</td>\n",
       "      <td>3.372625e-07</td>\n",
       "      <td>NaN</td>\n",
       "      <td>NaN</td>\n",
       "      <td>NaN</td>\n",
       "      <td>NaN</td>\n",
       "      <td>NaN</td>\n",
       "      <td>NaN</td>\n",
       "      <td>50.847615</td>\n",
       "      <td>False</td>\n",
       "    </tr>\n",
       "    <tr>\n",
       "      <th>4</th>\n",
       "      <td>-0.002772</td>\n",
       "      <td>-0.010902</td>\n",
       "      <td>-3.503322</td>\n",
       "      <td>2.553590</td>\n",
       "      <td>-1.197736</td>\n",
       "      <td>-0.680881</td>\n",
       "      <td>2.995612</td>\n",
       "      <td>-2.701480</td>\n",
       "      <td>0.479</td>\n",
       "      <td>0.000122</td>\n",
       "      <td>...</td>\n",
       "      <td>0.000139</td>\n",
       "      <td>1.958441e-07</td>\n",
       "      <td>NaN</td>\n",
       "      <td>NaN</td>\n",
       "      <td>NaN</td>\n",
       "      <td>NaN</td>\n",
       "      <td>NaN</td>\n",
       "      <td>NaN</td>\n",
       "      <td>40.709359</td>\n",
       "      <td>False</td>\n",
       "    </tr>\n",
       "  </tbody>\n",
       "</table>\n",
       "<p>5 rows × 22 columns</p>\n",
       "</div>"
      ],
      "text/plain": [
       "   QUAD:IN20:121:BCTRL  QUAD:IN20:122:BCTRL  QUAD:IN20:361:BCTRL  \\\n",
       "0             0.001491            -0.009669            -3.133046   \n",
       "1            -0.003494            -0.012781            -3.421661   \n",
       "2            -0.001609            -0.004700            -3.101069   \n",
       "3             0.004613            -0.010166            -3.234223   \n",
       "4            -0.002772            -0.010902            -3.503322   \n",
       "\n",
       "   QUAD:IN20:371:BCTRL  QUAD:IN20:425:BCTRL  QUAD:IN20:441:BCTRL  \\\n",
       "0             2.494480            -1.229420            -0.440102   \n",
       "1             2.917579            -1.159512            -0.851647   \n",
       "2             2.799969            -1.531527             0.413821   \n",
       "3             2.599346            -1.627264            -1.039057   \n",
       "4             2.553590            -1.197736            -0.680881   \n",
       "\n",
       "   QUAD:IN20:511:BCTRL  QUAD:IN20:525:BCTRL  SOLN:IN20:121:BCTRL        Sx  \\\n",
       "0             3.953051            -3.305752                0.479  0.000043   \n",
       "1             3.669520            -2.611585                0.479  0.000100   \n",
       "2             3.070583            -2.322331                0.479  0.000163   \n",
       "3             2.587584            -3.135550                0.479  0.000211   \n",
       "4             2.995612            -2.701480                0.479  0.000122   \n",
       "\n",
       "   ...  sigma_xy    total_size  total_size_prior_mean  \\\n",
       "0  ...  0.000107  1.633414e-07                    NaN   \n",
       "1  ...  0.000163  1.920320e-07                    NaN   \n",
       "2  ...  0.000224  2.331111e-07                    NaN   \n",
       "3  ...  0.000240  3.372625e-07                    NaN   \n",
       "4  ...  0.000139  1.958441e-07                    NaN   \n",
       "\n",
       "   total_size_posterior_mean  total_size_posterior_sd  \\\n",
       "0                        NaN                      NaN   \n",
       "1                        NaN                      NaN   \n",
       "2                        NaN                      NaN   \n",
       "3                        NaN                      NaN   \n",
       "4                        NaN                      NaN   \n",
       "\n",
       "   bad_measurement_prior_mean  bad_measurement_posterior_mean  \\\n",
       "0                         NaN                             NaN   \n",
       "1                         NaN                             NaN   \n",
       "2                         NaN                             NaN   \n",
       "3                         NaN                             NaN   \n",
       "4                         NaN                             NaN   \n",
       "\n",
       "   bad_measurement_posterior_sd  xopt_runtime  xopt_error  \n",
       "0                           NaN     51.753755       False  \n",
       "1                           NaN     26.691138       False  \n",
       "2                           NaN     34.373869       False  \n",
       "3                           NaN     50.847615       False  \n",
       "4                           NaN     40.709359       False  \n",
       "\n",
       "[5 rows x 22 columns]"
      ]
     },
     "execution_count": 18,
     "metadata": {},
     "output_type": "execute_result"
    }
   ],
   "source": [
    "from xopt.utils import get_local_region\n",
    "\n",
    "# get current point\n",
    "current_value = {'SOLN:IN20:121:BCTRL': 0.4811964507056114,\n",
    " 'QUAD:IN20:121:BCTRL': 0.00066783437,\n",
    " 'QUAD:IN20:122:BCTRL': -0.008649478074999996,\n",
    " 'QUAD:IN20:361:BCTRL': -3.3494902000000004,\n",
    " 'QUAD:IN20:371:BCTRL': 2.6127829,\n",
    " 'QUAD:IN20:425:BCTRL': -1.0063387,\n",
    " 'QUAD:IN20:441:BCTRL': -0.2840484,\n",
    " 'QUAD:IN20:511:BCTRL': 3.2541227,\n",
    " 'QUAD:IN20:525:BCTRL': -2.7533598\n",
    "}\n",
    "\n",
    "# get small region around current point to sample\n",
    "random_sample_region = get_local_region(current_value, X.vocs, fraction=0.1)\n",
    "\n",
    "# random sample in a local region\n",
    "X.random_evaluate(5, custom_bounds=random_sample_region)"
   ]
  },
  {
   "cell_type": "code",
   "execution_count": 19,
   "metadata": {},
   "outputs": [
    {
     "data": {
      "text/plain": [
       "Index(['QUAD:IN20:121:BCTRL', 'QUAD:IN20:122:BCTRL', 'QUAD:IN20:361:BCTRL',\n",
       "       'QUAD:IN20:371:BCTRL', 'QUAD:IN20:425:BCTRL', 'QUAD:IN20:441:BCTRL',\n",
       "       'QUAD:IN20:511:BCTRL', 'QUAD:IN20:525:BCTRL', 'SOLN:IN20:121:BCTRL',\n",
       "       'Sx', 'Sy', 'bad_measurement', 'sigma_xy', 'total_size',\n",
       "       'total_size_prior_mean', 'total_size_posterior_mean',\n",
       "       'total_size_posterior_sd', 'bad_measurement_prior_mean',\n",
       "       'bad_measurement_posterior_mean', 'bad_measurement_posterior_sd',\n",
       "       'xopt_runtime', 'xopt_error'],\n",
       "      dtype='object')"
      ]
     },
     "execution_count": 19,
     "metadata": {},
     "output_type": "execute_result"
    }
   ],
   "source": [
    "X.data.keys()"
   ]
  },
  {
   "cell_type": "code",
   "execution_count": 22,
   "metadata": {},
   "outputs": [
    {
     "name": "stdout",
     "output_type": "stream",
     "text": [
      "CAPUT QUAD:IN20:121:BCTRL -0.017980356583352522\n",
      "CAPUT QUAD:IN20:122:BCTRL -0.02079727297502174\n",
      "CAPUT QUAD:IN20:361:BCTRL -3.27483851477981\n",
      "CAPUT QUAD:IN20:371:BCTRL 2.712470492327434\n",
      "CAPUT QUAD:IN20:425:BCTRL -4.453715448152963\n",
      "CAPUT QUAD:IN20:441:BCTRL 5.538904994748951\n",
      "CAPUT QUAD:IN20:511:BCTRL 6.045144527392791\n",
      "CAPUT QUAD:IN20:525:BCTRL -5.336652182989161\n",
      "CAPUT SOLN:IN20:121:BCTRL 0.47524178312394216\n"
     ]
    },
    {
     "name": "stdin",
     "output_type": "stream",
     "text": [
      " \n"
     ]
    },
    {
     "name": "stdout",
     "output_type": "stream",
     "text": [
      "CAPUT QUAD:IN20:121:BCTRL 0.0011336086827636368\n",
      "CAPUT QUAD:IN20:122:BCTRL -0.0012715812105641277\n",
      "CAPUT QUAD:IN20:361:BCTRL -3.355893276619567\n",
      "CAPUT QUAD:IN20:371:BCTRL 1.7961798081516958\n",
      "CAPUT QUAD:IN20:425:BCTRL -3.6982749679637426\n",
      "CAPUT QUAD:IN20:441:BCTRL 0.9788019208376055\n",
      "CAPUT QUAD:IN20:511:BCTRL 0.36653703335949794\n",
      "CAPUT QUAD:IN20:525:BCTRL -1.522867669087575\n",
      "CAPUT SOLN:IN20:121:BCTRL 0.4749728060410773\n"
     ]
    },
    {
     "ename": "UnboundLocalError",
     "evalue": "local variable 'result' referenced before assignment",
     "output_type": "error",
     "traceback": [
      "\u001b[0;31m---------------------------------------------------------------------------\u001b[0m",
      "\u001b[0;31mKeyboardInterrupt\u001b[0m                         Traceback (most recent call last)",
      "File \u001b[0;32m/usr/local/lcls/package/anaconda/envs/python3.9envs/rhel7/nightly/11-17-2023/lib/python3.9/site-packages/xopt/utils.py:137\u001b[0m, in \u001b[0;36msafe_call\u001b[0;34m(func, *args, **kwargs)\u001b[0m\n\u001b[1;32m    136\u001b[0m \u001b[38;5;28;01mtry\u001b[39;00m:\n\u001b[0;32m--> 137\u001b[0m     result \u001b[38;5;241m=\u001b[39m \u001b[43mfunc\u001b[49m\u001b[43m(\u001b[49m\u001b[38;5;241;43m*\u001b[39;49m\u001b[43margs\u001b[49m\u001b[43m,\u001b[49m\u001b[43m \u001b[49m\u001b[38;5;241;43m*\u001b[39;49m\u001b[38;5;241;43m*\u001b[39;49m\u001b[43mkwargs\u001b[49m\u001b[43m)\u001b[49m\n\u001b[1;32m    138\u001b[0m     outputs[\u001b[38;5;124m\"\u001b[39m\u001b[38;5;124mexception\u001b[39m\u001b[38;5;124m\"\u001b[39m] \u001b[38;5;241m=\u001b[39m \u001b[38;5;28;01mNone\u001b[39;00m\n",
      "Cell \u001b[0;32mIn[14], line 20\u001b[0m, in \u001b[0;36meval_beamsize\u001b[0;34m(input_dict, generator)\u001b[0m\n\u001b[1;32m     12\u001b[0m \u001b[38;5;66;03m# sleep(5.0)\u001b[39;00m\n\u001b[1;32m     13\u001b[0m \n\u001b[1;32m     14\u001b[0m \u001b[38;5;66;03m# # get beam sizes from image diagnostic\u001b[39;00m\n\u001b[0;32m   (...)\u001b[0m\n\u001b[1;32m     17\u001b[0m \u001b[38;5;66;03m# results[\"S_x_mm\"] = np.array(results[\"Sx\"]) * 1e-3\u001b[39;00m\n\u001b[1;32m     18\u001b[0m \u001b[38;5;66;03m# results[\"S_y_mm\"] = np.array(results[\"Sy\"]) * 1e-3\u001b[39;00m\n\u001b[0;32m---> 20\u001b[0m \u001b[38;5;28;43minput\u001b[39;49m\u001b[43m(\u001b[49m\u001b[43m)\u001b[49m\n\u001b[1;32m     21\u001b[0m results \u001b[38;5;241m=\u001b[39m {}\n",
      "File \u001b[0;32m/usr/local/lcls/package/anaconda/envs/python3.9envs/rhel7/nightly/11-17-2023/lib/python3.9/site-packages/ipykernel/kernelbase.py:1251\u001b[0m, in \u001b[0;36mKernel.raw_input\u001b[0;34m(self, prompt)\u001b[0m\n\u001b[1;32m   1250\u001b[0m     \u001b[38;5;28;01mraise\u001b[39;00m StdinNotImplementedError(msg)\n\u001b[0;32m-> 1251\u001b[0m \u001b[38;5;28;01mreturn\u001b[39;00m \u001b[38;5;28;43mself\u001b[39;49m\u001b[38;5;241;43m.\u001b[39;49m\u001b[43m_input_request\u001b[49m\u001b[43m(\u001b[49m\n\u001b[1;32m   1252\u001b[0m \u001b[43m    \u001b[49m\u001b[38;5;28;43mstr\u001b[39;49m\u001b[43m(\u001b[49m\u001b[43mprompt\u001b[49m\u001b[43m)\u001b[49m\u001b[43m,\u001b[49m\n\u001b[1;32m   1253\u001b[0m \u001b[43m    \u001b[49m\u001b[38;5;28;43mself\u001b[39;49m\u001b[38;5;241;43m.\u001b[39;49m\u001b[43m_parent_ident\u001b[49m\u001b[43m[\u001b[49m\u001b[38;5;124;43m\"\u001b[39;49m\u001b[38;5;124;43mshell\u001b[39;49m\u001b[38;5;124;43m\"\u001b[39;49m\u001b[43m]\u001b[49m\u001b[43m,\u001b[49m\n\u001b[1;32m   1254\u001b[0m \u001b[43m    \u001b[49m\u001b[38;5;28;43mself\u001b[39;49m\u001b[38;5;241;43m.\u001b[39;49m\u001b[43mget_parent\u001b[49m\u001b[43m(\u001b[49m\u001b[38;5;124;43m\"\u001b[39;49m\u001b[38;5;124;43mshell\u001b[39;49m\u001b[38;5;124;43m\"\u001b[39;49m\u001b[43m)\u001b[49m\u001b[43m,\u001b[49m\n\u001b[1;32m   1255\u001b[0m \u001b[43m    \u001b[49m\u001b[43mpassword\u001b[49m\u001b[38;5;241;43m=\u001b[39;49m\u001b[38;5;28;43;01mFalse\u001b[39;49;00m\u001b[43m,\u001b[49m\n\u001b[1;32m   1256\u001b[0m \u001b[43m\u001b[49m\u001b[43m)\u001b[49m\n",
      "File \u001b[0;32m/usr/local/lcls/package/anaconda/envs/python3.9envs/rhel7/nightly/11-17-2023/lib/python3.9/site-packages/ipykernel/kernelbase.py:1295\u001b[0m, in \u001b[0;36mKernel._input_request\u001b[0;34m(self, prompt, ident, parent, password)\u001b[0m\n\u001b[1;32m   1294\u001b[0m     msg \u001b[38;5;241m=\u001b[39m \u001b[38;5;124m\"\u001b[39m\u001b[38;5;124mInterrupted by user\u001b[39m\u001b[38;5;124m\"\u001b[39m\n\u001b[0;32m-> 1295\u001b[0m     \u001b[38;5;28;01mraise\u001b[39;00m \u001b[38;5;167;01mKeyboardInterrupt\u001b[39;00m(msg) \u001b[38;5;28;01mfrom\u001b[39;00m \u001b[38;5;28;01mNone\u001b[39;00m\n\u001b[1;32m   1296\u001b[0m \u001b[38;5;28;01mexcept\u001b[39;00m \u001b[38;5;167;01mException\u001b[39;00m:\n",
      "\u001b[0;31mKeyboardInterrupt\u001b[0m: Interrupted by user",
      "\nDuring handling of the above exception, another exception occurred:\n",
      "\u001b[0;31mUnboundLocalError\u001b[0m                         Traceback (most recent call last)",
      "Cell \u001b[0;32mIn[22], line 3\u001b[0m\n\u001b[1;32m      1\u001b[0m initial_data_file \u001b[38;5;241m=\u001b[39m run_dir \u001b[38;5;241m+\u001b[39m \u001b[38;5;124m\"\u001b[39m\u001b[38;5;124moptimization_9d_initial_data.csv\u001b[39m\u001b[38;5;124m\"\u001b[39m\n\u001b[0;32m----> 3\u001b[0m \u001b[43mX\u001b[49m\u001b[38;5;241;43m.\u001b[39;49m\u001b[43mrandom_evaluate\u001b[49m\u001b[43m(\u001b[49m\u001b[38;5;241;43m10\u001b[39;49m\u001b[43m)\u001b[49m\n\u001b[1;32m      4\u001b[0m X\u001b[38;5;241m.\u001b[39mdata\u001b[38;5;241m.\u001b[39mto_csv(initial_data_file, index\u001b[38;5;241m=\u001b[39m\u001b[38;5;28;01mFalse\u001b[39;00m)\n\u001b[1;32m      6\u001b[0m \u001b[38;5;66;03m# initial_data = pd.read_csv(initial_data_file)\u001b[39;00m\n\u001b[1;32m      7\u001b[0m \u001b[38;5;66;03m# X.add_data(initial_data)\u001b[39;00m\n",
      "File \u001b[0;32m/usr/local/lcls/package/anaconda/envs/python3.9envs/rhel7/nightly/11-17-2023/lib/python3.9/site-packages/xopt/base.py:392\u001b[0m, in \u001b[0;36mXopt.random_evaluate\u001b[0;34m(self, n_samples, seed, **kwargs)\u001b[0m\n\u001b[1;32m    369\u001b[0m \u001b[38;5;250m\u001b[39m\u001b[38;5;124;03m\"\"\"\u001b[39;00m\n\u001b[1;32m    370\u001b[0m \u001b[38;5;124;03mConvenience method to generate random inputs using VOCs and evaluate them.\u001b[39;00m\n\u001b[1;32m    371\u001b[0m \n\u001b[0;32m   (...)\u001b[0m\n\u001b[1;32m    389\u001b[0m \n\u001b[1;32m    390\u001b[0m \u001b[38;5;124;03m\"\"\"\u001b[39;00m\n\u001b[1;32m    391\u001b[0m random_inputs \u001b[38;5;241m=\u001b[39m \u001b[38;5;28mself\u001b[39m\u001b[38;5;241m.\u001b[39mvocs\u001b[38;5;241m.\u001b[39mrandom_inputs(n_samples, seed\u001b[38;5;241m=\u001b[39mseed, \u001b[38;5;241m*\u001b[39m\u001b[38;5;241m*\u001b[39mkwargs)\n\u001b[0;32m--> 392\u001b[0m result \u001b[38;5;241m=\u001b[39m \u001b[38;5;28;43mself\u001b[39;49m\u001b[38;5;241;43m.\u001b[39;49m\u001b[43mevaluate_data\u001b[49m\u001b[43m(\u001b[49m\u001b[43mrandom_inputs\u001b[49m\u001b[43m)\u001b[49m\n\u001b[1;32m    393\u001b[0m \u001b[38;5;28;01mreturn\u001b[39;00m result\n",
      "File \u001b[0;32m/usr/local/lcls/package/anaconda/envs/python3.9envs/rhel7/nightly/11-17-2023/lib/python3.9/site-packages/xopt/base.py:318\u001b[0m, in \u001b[0;36mXopt.evaluate_data\u001b[0;34m(self, input_data)\u001b[0m\n\u001b[1;32m    316\u001b[0m logger\u001b[38;5;241m.\u001b[39mdebug(\u001b[38;5;124mf\u001b[39m\u001b[38;5;124m\"\u001b[39m\u001b[38;5;124mEvaluating \u001b[39m\u001b[38;5;132;01m{\u001b[39;00m\u001b[38;5;28mlen\u001b[39m(input_data)\u001b[38;5;132;01m}\u001b[39;00m\u001b[38;5;124m inputs\u001b[39m\u001b[38;5;124m\"\u001b[39m)\n\u001b[1;32m    317\u001b[0m \u001b[38;5;28mself\u001b[39m\u001b[38;5;241m.\u001b[39mvocs\u001b[38;5;241m.\u001b[39mvalidate_input_data(input_data)\n\u001b[0;32m--> 318\u001b[0m output_data \u001b[38;5;241m=\u001b[39m \u001b[38;5;28;43mself\u001b[39;49m\u001b[38;5;241;43m.\u001b[39;49m\u001b[43mevaluator\u001b[49m\u001b[38;5;241;43m.\u001b[39;49m\u001b[43mevaluate_data\u001b[49m\u001b[43m(\u001b[49m\u001b[43minput_data\u001b[49m\u001b[43m)\u001b[49m\n\u001b[1;32m    320\u001b[0m \u001b[38;5;28;01mif\u001b[39;00m \u001b[38;5;28mself\u001b[39m\u001b[38;5;241m.\u001b[39mstrict:\n\u001b[1;32m    321\u001b[0m     validate_outputs(output_data)\n",
      "File \u001b[0;32m/usr/local/lcls/package/anaconda/envs/python3.9envs/rhel7/nightly/11-17-2023/lib/python3.9/site-packages/xopt/evaluator.py:124\u001b[0m, in \u001b[0;36mEvaluator.evaluate_data\u001b[0;34m(self, input_data)\u001b[0m\n\u001b[1;32m    115\u001b[0m     kwargs \u001b[38;5;241m=\u001b[39m [\u001b[38;5;28mself\u001b[39m\u001b[38;5;241m.\u001b[39mfunction_kwargs] \u001b[38;5;241m*\u001b[39m \u001b[38;5;28mlen\u001b[39m(inputs)\n\u001b[1;32m    117\u001b[0m     output_data \u001b[38;5;241m=\u001b[39m \u001b[38;5;28mself\u001b[39m\u001b[38;5;241m.\u001b[39mexecutor\u001b[38;5;241m.\u001b[39mmap(\n\u001b[1;32m    118\u001b[0m         safe_function1_for_map,\n\u001b[1;32m    119\u001b[0m         funcs,\n\u001b[1;32m    120\u001b[0m         inputs,\n\u001b[1;32m    121\u001b[0m         kwargs,\n\u001b[1;32m    122\u001b[0m     )\n\u001b[0;32m--> 124\u001b[0m \u001b[38;5;28;01mreturn\u001b[39;00m \u001b[43mDataFrame\u001b[49m\u001b[43m(\u001b[49m\u001b[43moutput_data\u001b[49m\u001b[43m,\u001b[49m\u001b[43m \u001b[49m\u001b[43mindex\u001b[49m\u001b[38;5;241;43m=\u001b[39;49m\u001b[43minput_data\u001b[49m\u001b[38;5;241;43m.\u001b[39;49m\u001b[43mindex\u001b[49m\u001b[43m)\u001b[49m\n",
      "File \u001b[0;32m/usr/local/lcls/package/anaconda/envs/python3.9envs/rhel7/nightly/11-17-2023/lib/python3.9/site-packages/pandas/core/frame.py:798\u001b[0m, in \u001b[0;36mDataFrame.__init__\u001b[0;34m(self, data, index, columns, dtype, copy)\u001b[0m\n\u001b[1;32m    796\u001b[0m         data \u001b[38;5;241m=\u001b[39m np\u001b[38;5;241m.\u001b[39masarray(data)\n\u001b[1;32m    797\u001b[0m     \u001b[38;5;28;01melse\u001b[39;00m:\n\u001b[0;32m--> 798\u001b[0m         data \u001b[38;5;241m=\u001b[39m \u001b[38;5;28;43mlist\u001b[39;49m\u001b[43m(\u001b[49m\u001b[43mdata\u001b[49m\u001b[43m)\u001b[49m\n\u001b[1;32m    799\u001b[0m \u001b[38;5;28;01mif\u001b[39;00m \u001b[38;5;28mlen\u001b[39m(data) \u001b[38;5;241m>\u001b[39m \u001b[38;5;241m0\u001b[39m:\n\u001b[1;32m    800\u001b[0m     \u001b[38;5;28;01mif\u001b[39;00m is_dataclass(data[\u001b[38;5;241m0\u001b[39m]):\n",
      "File \u001b[0;32m/usr/local/lcls/package/anaconda/envs/python3.9envs/rhel7/nightly/11-17-2023/lib/python3.9/site-packages/xopt/evaluator.py:175\u001b[0m, in \u001b[0;36msafe_function1_for_map\u001b[0;34m(function, inputs, kwargs)\u001b[0m\n\u001b[1;32m    171\u001b[0m \u001b[38;5;28;01mdef\u001b[39;00m \u001b[38;5;21msafe_function1_for_map\u001b[39m(function, inputs, kwargs):\n\u001b[1;32m    172\u001b[0m \u001b[38;5;250m    \u001b[39m\u001b[38;5;124;03m\"\"\"\u001b[39;00m\n\u001b[1;32m    173\u001b[0m \u001b[38;5;124;03m    Safely call the function, handling exceptions.\u001b[39;00m\n\u001b[1;32m    174\u001b[0m \u001b[38;5;124;03m    \"\"\"\u001b[39;00m\n\u001b[0;32m--> 175\u001b[0m     \u001b[38;5;28;01mreturn\u001b[39;00m \u001b[43msafe_function\u001b[49m\u001b[43m(\u001b[49m\u001b[43mfunction\u001b[49m\u001b[43m,\u001b[49m\u001b[43m \u001b[49m\u001b[43minputs\u001b[49m\u001b[43m,\u001b[49m\u001b[43m \u001b[49m\u001b[38;5;241;43m*\u001b[39;49m\u001b[38;5;241;43m*\u001b[39;49m\u001b[43mkwargs\u001b[49m\u001b[43m)\u001b[49m\n",
      "File \u001b[0;32m/usr/local/lcls/package/anaconda/envs/python3.9envs/rhel7/nightly/11-17-2023/lib/python3.9/site-packages/xopt/evaluator.py:179\u001b[0m, in \u001b[0;36msafe_function\u001b[0;34m(function, *args, **kwargs)\u001b[0m\n\u001b[1;32m    178\u001b[0m \u001b[38;5;28;01mdef\u001b[39;00m \u001b[38;5;21msafe_function\u001b[39m(function, \u001b[38;5;241m*\u001b[39margs, \u001b[38;5;241m*\u001b[39m\u001b[38;5;241m*\u001b[39mkwargs):\n\u001b[0;32m--> 179\u001b[0m     safe_outputs \u001b[38;5;241m=\u001b[39m \u001b[43msafe_call\u001b[49m\u001b[43m(\u001b[49m\u001b[43mfunction\u001b[49m\u001b[43m,\u001b[49m\u001b[43m \u001b[49m\u001b[38;5;241;43m*\u001b[39;49m\u001b[43margs\u001b[49m\u001b[43m,\u001b[49m\u001b[43m \u001b[49m\u001b[38;5;241;43m*\u001b[39;49m\u001b[38;5;241;43m*\u001b[39;49m\u001b[43mkwargs\u001b[49m\u001b[43m)\u001b[49m\n\u001b[1;32m    180\u001b[0m     \u001b[38;5;28;01mreturn\u001b[39;00m process_safe_outputs(safe_outputs)\n",
      "File \u001b[0;32m/usr/local/lcls/package/anaconda/envs/python3.9envs/rhel7/nightly/11-17-2023/lib/python3.9/site-packages/xopt/utils.py:148\u001b[0m, in \u001b[0;36msafe_call\u001b[0;34m(func, *args, **kwargs)\u001b[0m\n\u001b[1;32m    146\u001b[0m     outputs[\u001b[38;5;124m\"\u001b[39m\u001b[38;5;124mtraceback\u001b[39m\u001b[38;5;124m\"\u001b[39m] \u001b[38;5;241m=\u001b[39m error_str\n\u001b[1;32m    147\u001b[0m \u001b[38;5;28;01mfinally\u001b[39;00m:\n\u001b[0;32m--> 148\u001b[0m     outputs[\u001b[38;5;124m\"\u001b[39m\u001b[38;5;124mresult\u001b[39m\u001b[38;5;124m\"\u001b[39m] \u001b[38;5;241m=\u001b[39m \u001b[43mresult\u001b[49m\n\u001b[1;32m    149\u001b[0m     outputs[\u001b[38;5;124m\"\u001b[39m\u001b[38;5;124mruntime\u001b[39m\u001b[38;5;124m\"\u001b[39m] \u001b[38;5;241m=\u001b[39m time\u001b[38;5;241m.\u001b[39mperf_counter() \u001b[38;5;241m-\u001b[39m t\n\u001b[1;32m    150\u001b[0m \u001b[38;5;28;01mreturn\u001b[39;00m outputs\n",
      "\u001b[0;31mUnboundLocalError\u001b[0m: local variable 'result' referenced before assignment"
     ]
    }
   ],
   "source": [
    "n_init = 10\n",
    "initial_data_file = os.path.join(run_dir, f\"optimization_9d_initial_data_n={n_init}.csv\")\n",
    "\n",
    "if os.path.isfile(initial_data_file):\n",
    "    initial_data = pd.read_csv(initial_data_file)\n",
    "    X.add_data(initial_data)\n",
    "else:\n",
    "    X.random_evaluate(n_init)\n",
    "    X.data.to_csv(initial_data_file, index=False)\n",
    "\n",
    "X.data"
   ]
  },
  {
   "cell_type": "code",
   "execution_count": 21,
   "metadata": {},
   "outputs": [
    {
     "name": "stdout",
     "output_type": "stream",
     "text": [
      "0\n"
     ]
    },
    {
     "name": "stderr",
     "output_type": "stream",
     "text": [
      "/usr/local/lcls/package/anaconda/envs/python3.9envs/rhel7/nightly/11-17-2023/lib/python3.9/site-packages/botorch/optim/fit.py:102: OptimizationWarning: `scipy_minimize` terminated with status 3, displaying original message from `scipy.optimize.minimize`: ABNORMAL_TERMINATION_IN_LNSRCH\n",
      "  warn(\n",
      "/usr/local/lcls/package/anaconda/envs/python3.9envs/rhel7/nightly/11-17-2023/lib/python3.9/site-packages/botorch/optim/fit.py:102: OptimizationWarning: `scipy_minimize` terminated with status 3, displaying original message from `scipy.optimize.minimize`: ABNORMAL_TERMINATION_IN_LNSRCH\n",
      "  warn(\n",
      "/usr/local/lcls/package/anaconda/envs/python3.9envs/rhel7/nightly/11-17-2023/lib/python3.9/site-packages/botorch/optim/fit.py:102: OptimizationWarning: `scipy_minimize` terminated with status 3, displaying original message from `scipy.optimize.minimize`: ABNORMAL_TERMINATION_IN_LNSRCH\n",
      "  warn(\n",
      "/usr/local/lcls/package/anaconda/envs/python3.9envs/rhel7/nightly/11-17-2023/lib/python3.9/site-packages/botorch/optim/fit.py:102: OptimizationWarning: `scipy_minimize` terminated with status 3, displaying original message from `scipy.optimize.minimize`: ABNORMAL_TERMINATION_IN_LNSRCH\n",
      "  warn(\n",
      "/usr/local/lcls/package/anaconda/envs/python3.9envs/rhel7/nightly/11-17-2023/lib/python3.9/site-packages/botorch/optim/fit.py:102: OptimizationWarning: `scipy_minimize` terminated with status 3, displaying original message from `scipy.optimize.minimize`: ABNORMAL_TERMINATION_IN_LNSRCH\n",
      "  warn(\n"
     ]
    },
    {
     "ename": "ModelFittingError",
     "evalue": "All attempts to fit the model have failed. For more information, try enabling botorch.settings.debug mode.",
     "output_type": "error",
     "traceback": [
      "\u001b[0;31m---------------------------------------------------------------------------\u001b[0m",
      "\u001b[0;31mModelFittingError\u001b[0m                         Traceback (most recent call last)",
      "File \u001b[0;32m<timed exec>:3\u001b[0m\n",
      "File \u001b[0;32m/usr/local/lcls/package/anaconda/envs/python3.9envs/rhel7/nightly/11-17-2023/lib/python3.9/site-packages/xopt/base.py:240\u001b[0m, in \u001b[0;36mXopt.step\u001b[0;34m(self)\u001b[0m\n\u001b[1;32m    238\u001b[0m \u001b[38;5;66;03m# generate samples and submit to evaluator\u001b[39;00m\n\u001b[1;32m    239\u001b[0m logger\u001b[38;5;241m.\u001b[39mdebug(\u001b[38;5;124mf\u001b[39m\u001b[38;5;124m\"\u001b[39m\u001b[38;5;124mGenerating \u001b[39m\u001b[38;5;132;01m{\u001b[39;00mn_generate\u001b[38;5;132;01m}\u001b[39;00m\u001b[38;5;124m candidates\u001b[39m\u001b[38;5;124m\"\u001b[39m)\n\u001b[0;32m--> 240\u001b[0m new_samples \u001b[38;5;241m=\u001b[39m \u001b[38;5;28;43mself\u001b[39;49m\u001b[38;5;241;43m.\u001b[39;49m\u001b[43mgenerator\u001b[49m\u001b[38;5;241;43m.\u001b[39;49m\u001b[43mgenerate\u001b[49m\u001b[43m(\u001b[49m\u001b[43mn_generate\u001b[49m\u001b[43m)\u001b[49m\n\u001b[1;32m    242\u001b[0m \u001b[38;5;28;01mif\u001b[39;00m new_samples \u001b[38;5;129;01mis\u001b[39;00m \u001b[38;5;129;01mnot\u001b[39;00m \u001b[38;5;28;01mNone\u001b[39;00m:\n\u001b[1;32m    243\u001b[0m     \u001b[38;5;66;03m# Evaluate data\u001b[39;00m\n\u001b[1;32m    244\u001b[0m     \u001b[38;5;28mself\u001b[39m\u001b[38;5;241m.\u001b[39mevaluate_data(new_samples)\n",
      "File \u001b[0;32m/usr/local/lcls/package/anaconda/envs/python3.9envs/rhel7/nightly/11-17-2023/lib/python3.9/site-packages/xopt/generators/bayesian/bayesian_generator.py:306\u001b[0m, in \u001b[0;36mBayesianGenerator.generate\u001b[0;34m(self, n_candidates)\u001b[0m\n\u001b[1;32m    304\u001b[0m \u001b[38;5;66;03m# update internal model with internal data\u001b[39;00m\n\u001b[1;32m    305\u001b[0m start_time \u001b[38;5;241m=\u001b[39m time\u001b[38;5;241m.\u001b[39mperf_counter()\n\u001b[0;32m--> 306\u001b[0m model \u001b[38;5;241m=\u001b[39m \u001b[38;5;28;43mself\u001b[39;49m\u001b[38;5;241;43m.\u001b[39;49m\u001b[43mtrain_model\u001b[49m\u001b[43m(\u001b[49m\u001b[38;5;28;43mself\u001b[39;49m\u001b[38;5;241;43m.\u001b[39;49m\u001b[43mdata\u001b[49m\u001b[43m)\u001b[49m\n\u001b[1;32m    307\u001b[0m timing_results[\u001b[38;5;124m\"\u001b[39m\u001b[38;5;124mtraining\u001b[39m\u001b[38;5;124m\"\u001b[39m] \u001b[38;5;241m=\u001b[39m time\u001b[38;5;241m.\u001b[39mperf_counter() \u001b[38;5;241m-\u001b[39m start_time\n\u001b[1;32m    309\u001b[0m \u001b[38;5;66;03m# propose candidates given model\u001b[39;00m\n",
      "File \u001b[0;32m/usr/local/lcls/package/anaconda/envs/python3.9envs/rhel7/nightly/11-17-2023/lib/python3.9/site-packages/xopt/generators/bayesian/bayesian_generator.py:358\u001b[0m, in \u001b[0;36mBayesianGenerator.train_model\u001b[0;34m(self, data, update_internal)\u001b[0m\n\u001b[1;32m    355\u001b[0m                 bounds[\u001b[38;5;241m1\u001b[39m] \u001b[38;5;241m=\u001b[39m bounds[\u001b[38;5;241m0\u001b[39m] \u001b[38;5;241m+\u001b[39m \u001b[38;5;241m1e-8\u001b[39m\n\u001b[1;32m    356\u001b[0m             variable_bounds[key] \u001b[38;5;241m=\u001b[39m bounds\n\u001b[0;32m--> 358\u001b[0m _model \u001b[38;5;241m=\u001b[39m \u001b[38;5;28;43mself\u001b[39;49m\u001b[38;5;241;43m.\u001b[39;49m\u001b[43mgp_constructor\u001b[49m\u001b[38;5;241;43m.\u001b[39;49m\u001b[43mbuild_model\u001b[49m\u001b[43m(\u001b[49m\n\u001b[1;32m    359\u001b[0m \u001b[43m    \u001b[49m\u001b[38;5;28;43mself\u001b[39;49m\u001b[38;5;241;43m.\u001b[39;49m\u001b[43mmodel_input_names\u001b[49m\u001b[43m,\u001b[49m\n\u001b[1;32m    360\u001b[0m \u001b[43m    \u001b[49m\u001b[38;5;28;43mself\u001b[39;49m\u001b[38;5;241;43m.\u001b[39;49m\u001b[43mvocs\u001b[49m\u001b[38;5;241;43m.\u001b[39;49m\u001b[43moutput_names\u001b[49m\u001b[43m,\u001b[49m\n\u001b[1;32m    361\u001b[0m \u001b[43m    \u001b[49m\u001b[43mdata\u001b[49m\u001b[43m,\u001b[49m\n\u001b[1;32m    362\u001b[0m \u001b[43m    \u001b[49m\u001b[43m{\u001b[49m\u001b[43mname\u001b[49m\u001b[43m:\u001b[49m\u001b[43m \u001b[49m\u001b[43mvariable_bounds\u001b[49m\u001b[43m[\u001b[49m\u001b[43mname\u001b[49m\u001b[43m]\u001b[49m\u001b[43m \u001b[49m\u001b[38;5;28;43;01mfor\u001b[39;49;00m\u001b[43m \u001b[49m\u001b[43mname\u001b[49m\u001b[43m \u001b[49m\u001b[38;5;129;43;01min\u001b[39;49;00m\u001b[43m \u001b[49m\u001b[38;5;28;43mself\u001b[39;49m\u001b[38;5;241;43m.\u001b[39;49m\u001b[43mmodel_input_names\u001b[49m\u001b[43m}\u001b[49m\u001b[43m,\u001b[49m\n\u001b[1;32m    363\u001b[0m \u001b[43m    \u001b[49m\u001b[38;5;241;43m*\u001b[39;49m\u001b[38;5;241;43m*\u001b[39;49m\u001b[38;5;28;43mself\u001b[39;49m\u001b[38;5;241;43m.\u001b[39;49m\u001b[43m_tkwargs\u001b[49m\u001b[43m,\u001b[49m\n\u001b[1;32m    364\u001b[0m \u001b[43m\u001b[49m\u001b[43m)\u001b[49m\n\u001b[1;32m    366\u001b[0m \u001b[38;5;28;01mif\u001b[39;00m update_internal:\n\u001b[1;32m    367\u001b[0m     \u001b[38;5;28mself\u001b[39m\u001b[38;5;241m.\u001b[39mmodel \u001b[38;5;241m=\u001b[39m _model\n",
      "File \u001b[0;32m/usr/local/lcls/package/anaconda/envs/python3.9envs/rhel7/nightly/11-17-2023/lib/python3.9/site-packages/xopt/generators/bayesian/models/standard.py:181\u001b[0m, in \u001b[0;36mStandardModelConstructor.build_model\u001b[0;34m(self, input_names, outcome_names, data, input_bounds, dtype, device)\u001b[0m\n\u001b[1;32m    171\u001b[0m kwargs \u001b[38;5;241m=\u001b[39m {\n\u001b[1;32m    172\u001b[0m     \u001b[38;5;124m\"\u001b[39m\u001b[38;5;124minput_transform\u001b[39m\u001b[38;5;124m\"\u001b[39m: input_transform,\n\u001b[1;32m    173\u001b[0m     \u001b[38;5;124m\"\u001b[39m\u001b[38;5;124moutcome_transform\u001b[39m\u001b[38;5;124m\"\u001b[39m: outcome_transform,\n\u001b[1;32m    174\u001b[0m     \u001b[38;5;124m\"\u001b[39m\u001b[38;5;124mcovar_module\u001b[39m\u001b[38;5;124m\"\u001b[39m: covar_module,\n\u001b[1;32m    175\u001b[0m     \u001b[38;5;124m\"\u001b[39m\u001b[38;5;124mmean_module\u001b[39m\u001b[38;5;124m\"\u001b[39m: mean_module,\n\u001b[1;32m    176\u001b[0m }\n\u001b[1;32m    178\u001b[0m \u001b[38;5;28;01mif\u001b[39;00m train_Yvar \u001b[38;5;129;01mis\u001b[39;00m \u001b[38;5;28;01mNone\u001b[39;00m:\n\u001b[1;32m    179\u001b[0m     \u001b[38;5;66;03m# train basic single-task-gp model\u001b[39;00m\n\u001b[1;32m    180\u001b[0m     models\u001b[38;5;241m.\u001b[39mappend(\n\u001b[0;32m--> 181\u001b[0m         \u001b[38;5;28;43mself\u001b[39;49m\u001b[38;5;241;43m.\u001b[39;49m\u001b[43mbuild_single_task_gp\u001b[49m\u001b[43m(\u001b[49m\n\u001b[1;32m    182\u001b[0m \u001b[43m            \u001b[49m\u001b[43mtrain_X\u001b[49m\u001b[38;5;241;43m.\u001b[39;49m\u001b[43mto\u001b[49m\u001b[43m(\u001b[49m\u001b[38;5;241;43m*\u001b[39;49m\u001b[38;5;241;43m*\u001b[39;49m\u001b[43mtkwargs\u001b[49m\u001b[43m)\u001b[49m\u001b[43m,\u001b[49m\n\u001b[1;32m    183\u001b[0m \u001b[43m            \u001b[49m\u001b[43mtrain_Y\u001b[49m\u001b[38;5;241;43m.\u001b[39;49m\u001b[43mto\u001b[49m\u001b[43m(\u001b[49m\u001b[38;5;241;43m*\u001b[39;49m\u001b[38;5;241;43m*\u001b[39;49m\u001b[43mtkwargs\u001b[49m\u001b[43m)\u001b[49m\u001b[43m,\u001b[49m\n\u001b[1;32m    184\u001b[0m \u001b[43m            \u001b[49m\u001b[43mlikelihood\u001b[49m\u001b[38;5;241;43m=\u001b[39;49m\u001b[38;5;28;43mself\u001b[39;49m\u001b[38;5;241;43m.\u001b[39;49m\u001b[43mlikelihood\u001b[49m\u001b[43m,\u001b[49m\n\u001b[1;32m    185\u001b[0m \u001b[43m            \u001b[49m\u001b[38;5;241;43m*\u001b[39;49m\u001b[38;5;241;43m*\u001b[39;49m\u001b[43mkwargs\u001b[49m\n\u001b[1;32m    186\u001b[0m \u001b[43m        \u001b[49m\u001b[43m)\u001b[49m\n\u001b[1;32m    187\u001b[0m     )\n\u001b[1;32m    188\u001b[0m \u001b[38;5;28;01melse\u001b[39;00m:\n\u001b[1;32m    189\u001b[0m     \u001b[38;5;66;03m# train heteroskedastic single-task-gp model\u001b[39;00m\n\u001b[1;32m    190\u001b[0m     \u001b[38;5;66;03m# turn off warnings\u001b[39;00m\n\u001b[1;32m    191\u001b[0m     models\u001b[38;5;241m.\u001b[39mappend(\n\u001b[1;32m    192\u001b[0m         \u001b[38;5;28mself\u001b[39m\u001b[38;5;241m.\u001b[39mbuild_heteroskedastic_gp(\n\u001b[1;32m    193\u001b[0m             train_X\u001b[38;5;241m.\u001b[39mto(\u001b[38;5;241m*\u001b[39m\u001b[38;5;241m*\u001b[39mtkwargs),\n\u001b[0;32m   (...)\u001b[0m\n\u001b[1;32m    197\u001b[0m         )\n\u001b[1;32m    198\u001b[0m     )\n",
      "File \u001b[0;32m/usr/local/lcls/package/anaconda/envs/python3.9envs/rhel7/nightly/11-17-2023/lib/python3.9/site-packages/xopt/generators/bayesian/base_model.py:149\u001b[0m, in \u001b[0;36mModelConstructor.build_single_task_gp\u001b[0;34m(train_X, train_Y, **kwargs)\u001b[0m\n\u001b[1;32m    146\u001b[0m model \u001b[38;5;241m=\u001b[39m SingleTaskGP(train_X, train_Y, \u001b[38;5;241m*\u001b[39m\u001b[38;5;241m*\u001b[39mkwargs)\n\u001b[1;32m    148\u001b[0m mll \u001b[38;5;241m=\u001b[39m ExactMarginalLogLikelihood(model\u001b[38;5;241m.\u001b[39mlikelihood, model)\n\u001b[0;32m--> 149\u001b[0m \u001b[43mfit_gpytorch_mll\u001b[49m\u001b[43m(\u001b[49m\u001b[43mmll\u001b[49m\u001b[43m)\u001b[49m\n\u001b[1;32m    150\u001b[0m \u001b[38;5;28;01mreturn\u001b[39;00m model\n",
      "File \u001b[0;32m/usr/local/lcls/package/anaconda/envs/python3.9envs/rhel7/nightly/11-17-2023/lib/python3.9/site-packages/botorch/fit.py:105\u001b[0m, in \u001b[0;36mfit_gpytorch_mll\u001b[0;34m(mll, closure, optimizer, closure_kwargs, optimizer_kwargs, **kwargs)\u001b[0m\n\u001b[1;32m    102\u001b[0m \u001b[38;5;28;01mif\u001b[39;00m optimizer \u001b[38;5;129;01mis\u001b[39;00m \u001b[38;5;129;01mnot\u001b[39;00m \u001b[38;5;28;01mNone\u001b[39;00m:  \u001b[38;5;66;03m# defer to per-method defaults\u001b[39;00m\n\u001b[1;32m    103\u001b[0m     kwargs[\u001b[38;5;124m\"\u001b[39m\u001b[38;5;124moptimizer\u001b[39m\u001b[38;5;124m\"\u001b[39m] \u001b[38;5;241m=\u001b[39m optimizer\n\u001b[0;32m--> 105\u001b[0m \u001b[38;5;28;01mreturn\u001b[39;00m \u001b[43mFitGPyTorchMLL\u001b[49m\u001b[43m(\u001b[49m\n\u001b[1;32m    106\u001b[0m \u001b[43m    \u001b[49m\u001b[43mmll\u001b[49m\u001b[43m,\u001b[49m\n\u001b[1;32m    107\u001b[0m \u001b[43m    \u001b[49m\u001b[38;5;28;43mtype\u001b[39;49m\u001b[43m(\u001b[49m\u001b[43mmll\u001b[49m\u001b[38;5;241;43m.\u001b[39;49m\u001b[43mlikelihood\u001b[49m\u001b[43m)\u001b[49m\u001b[43m,\u001b[49m\n\u001b[1;32m    108\u001b[0m \u001b[43m    \u001b[49m\u001b[38;5;28;43mtype\u001b[39;49m\u001b[43m(\u001b[49m\u001b[43mmll\u001b[49m\u001b[38;5;241;43m.\u001b[39;49m\u001b[43mmodel\u001b[49m\u001b[43m)\u001b[49m\u001b[43m,\u001b[49m\n\u001b[1;32m    109\u001b[0m \u001b[43m    \u001b[49m\u001b[43mclosure\u001b[49m\u001b[38;5;241;43m=\u001b[39;49m\u001b[43mclosure\u001b[49m\u001b[43m,\u001b[49m\n\u001b[1;32m    110\u001b[0m \u001b[43m    \u001b[49m\u001b[43mclosure_kwargs\u001b[49m\u001b[38;5;241;43m=\u001b[39;49m\u001b[43mclosure_kwargs\u001b[49m\u001b[43m,\u001b[49m\n\u001b[1;32m    111\u001b[0m \u001b[43m    \u001b[49m\u001b[43moptimizer_kwargs\u001b[49m\u001b[38;5;241;43m=\u001b[39;49m\u001b[43moptimizer_kwargs\u001b[49m\u001b[43m,\u001b[49m\n\u001b[1;32m    112\u001b[0m \u001b[43m    \u001b[49m\u001b[38;5;241;43m*\u001b[39;49m\u001b[38;5;241;43m*\u001b[39;49m\u001b[43mkwargs\u001b[49m\u001b[43m,\u001b[49m\n\u001b[1;32m    113\u001b[0m \u001b[43m\u001b[49m\u001b[43m)\u001b[49m\n",
      "File \u001b[0;32m/usr/local/lcls/package/anaconda/envs/python3.9envs/rhel7/nightly/11-17-2023/lib/python3.9/site-packages/botorch/utils/dispatcher.py:93\u001b[0m, in \u001b[0;36mDispatcher.__call__\u001b[0;34m(self, *args, **kwargs)\u001b[0m\n\u001b[1;32m     91\u001b[0m func \u001b[38;5;241m=\u001b[39m \u001b[38;5;28mself\u001b[39m\u001b[38;5;241m.\u001b[39m\u001b[38;5;21m__getitem__\u001b[39m(types\u001b[38;5;241m=\u001b[39mtypes)\n\u001b[1;32m     92\u001b[0m \u001b[38;5;28;01mtry\u001b[39;00m:\n\u001b[0;32m---> 93\u001b[0m     \u001b[38;5;28;01mreturn\u001b[39;00m \u001b[43mfunc\u001b[49m\u001b[43m(\u001b[49m\u001b[38;5;241;43m*\u001b[39;49m\u001b[43margs\u001b[49m\u001b[43m,\u001b[49m\u001b[43m \u001b[49m\u001b[38;5;241;43m*\u001b[39;49m\u001b[38;5;241;43m*\u001b[39;49m\u001b[43mkwargs\u001b[49m\u001b[43m)\u001b[49m\n\u001b[1;32m     94\u001b[0m \u001b[38;5;28;01mexcept\u001b[39;00m MDNotImplementedError:\n\u001b[1;32m     95\u001b[0m     \u001b[38;5;66;03m# Traverses registered methods in order, yields whenever a match is found\u001b[39;00m\n\u001b[1;32m     96\u001b[0m     funcs \u001b[38;5;241m=\u001b[39m \u001b[38;5;28mself\u001b[39m\u001b[38;5;241m.\u001b[39mdispatch_iter(\u001b[38;5;241m*\u001b[39mtypes)\n",
      "File \u001b[0;32m/usr/local/lcls/package/anaconda/envs/python3.9envs/rhel7/nightly/11-17-2023/lib/python3.9/site-packages/botorch/fit.py:283\u001b[0m, in \u001b[0;36m_fit_fallback\u001b[0;34m(mll, _, __, closure, optimizer, closure_kwargs, optimizer_kwargs, max_attempts, warning_handler, caught_exception_types, **ignore)\u001b[0m\n\u001b[1;32m    280\u001b[0m \u001b[38;5;28;01mif\u001b[39;00m debug\u001b[38;5;241m.\u001b[39moff():\n\u001b[1;32m    281\u001b[0m     msg \u001b[38;5;241m=\u001b[39m msg \u001b[38;5;241m+\u001b[39m \u001b[38;5;124m\"\u001b[39m\u001b[38;5;124m For more information, try enabling botorch.settings.debug mode.\u001b[39m\u001b[38;5;124m\"\u001b[39m\n\u001b[0;32m--> 283\u001b[0m \u001b[38;5;28;01mraise\u001b[39;00m ModelFittingError(msg)\n",
      "\u001b[0;31mModelFittingError\u001b[0m: All attempts to fit the model have failed. For more information, try enabling botorch.settings.debug mode."
     ]
    }
   ],
   "source": [
    "%%time\n",
    "for i in range(10):\n",
    "    print(i)\n",
    "    X.step()"
   ]
  },
  {
   "cell_type": "code",
   "execution_count": 20,
   "metadata": {},
   "outputs": [
    {
     "data": {
      "text/plain": [
       "<Axes: >"
      ]
     },
     "execution_count": 20,
     "metadata": {},
     "output_type": "execute_result"
    },
    {
     "data": {
      "image/png": "[encoded data removed]",
      "text/plain": [
       "<Figure size 640x480 with 1 Axes>"
      ]
     },
     "metadata": {},
     "output_type": "display_data"
    }
   ],
   "source": [
    "X.data.plot(y=\"total_size\")"
   ]
  },
  {
   "cell_type": "code",
   "execution_count": null,
   "metadata": {},
   "outputs": [],
   "source": [
    "X.data.plot(y=X.vocs.variable_names)"
   ]
  },
  {
   "cell_type": "code",
   "execution_count": null,
   "metadata": {},
   "outputs": [],
   "source": [
    "X.generator.computation_time[[\"training\", \"acquisition_optimization\"]].plot();"
   ]
  },
  {
   "cell_type": "code",
   "execution_count": null,
   "metadata": {},
   "outputs": [],
   "source": [
    "# running minimum\n",
    "running_min = []\n",
    "for i in range(len(X.data)):\n",
    "    running_min.append(X.data[vocs.objective_names[0]].iloc[:i+1].min())\n",
    "\n",
    "fig, ax = plt.subplots(1, 1, figsize=(6, 4))\n",
    "ax.plot(X.data.index.values, X.data[vocs.objective_names[0]].values, label=\"BO Sequence\")\n",
    "ax.plot(X.data.index.values, running_min, label=\"Running Minimum\")\n",
    "ax.set_ylabel(f\"{vocs.objective_names[0]}\")\n",
    "ax.legend()\n",
    "fig.tight_layout()"
   ]
  },
  {
   "cell_type": "markdown",
   "metadata": {},
   "source": [
    "## Display GP model predictions"
   ]
  },
  {
   "cell_type": "code",
   "execution_count": null,
   "metadata": {},
   "outputs": [],
   "source": [
    "X.data[[\"total_size\" + k for k in [\"\", \"_prior_mean\", \"_posterior_mean\", \"_posterior_sd\"]]].plot();"
   ]
  },
  {
   "cell_type": "code",
   "execution_count": null,
   "metadata": {},
   "outputs": [],
   "source": [
    "X.generator.visualize_model(\n",
    "    variable_names=[\"SOLN:IN20:121:BCTRL\"],\n",
    "    show_prior_mean=True,\n",
    "    show_feasibility=True,\n",
    ");"
   ]
  },
  {
   "cell_type": "code",
   "execution_count": null,
   "metadata": {},
   "outputs": [],
   "source": []
  }
 ],
 "metadata": {
  "kernelspec": {
   "display_name": "Python 3 (ipykernel)",
   "language": "python",
   "name": "python3"
  },
  "language_info": {
   "codemirror_mode": {
    "name": "ipython",
    "version": 3
   },
   "file_extension": ".py",
   "mimetype": "text/x-python",
   "name": "python",
   "nbconvert_exporter": "python",
   "pygments_lexer": "ipython3",
   "version": "3.10.12"
  }
 },
 "nbformat": 4,
 "nbformat_minor": 4
}
