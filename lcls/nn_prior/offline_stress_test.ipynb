{
 "cells": [
  {
   "cell_type": "code",
   "execution_count": 1,
   "id": "c0be709c-4b8e-45ac-8673-9e156b78b242",
   "metadata": {},
   "outputs": [],
   "source": [
    "import os\n",
    "\n",
    "os.environ[\"OMP_NUM_THREADS\"] = str(6)"
   ]
  },
  {
   "cell_type": "code",
   "execution_count": 2,
   "id": "8ec7ce95-c6a7-439f-9f48-33ff67b5e77f",
   "metadata": {},
   "outputs": [],
   "source": [
    "import sys\n",
    "\n",
    "import pandas as pd\n",
    "import torch\n",
    "\n",
    "from xopt import VOCS\n",
    "\n",
    "sys.path.append(\"../\")\n",
    "from utils import load_model"
   ]
  },
  {
   "cell_type": "code",
   "execution_count": 3,
   "id": "90a7d631-ca83-4752-bc28-f700e4643c3a",
   "metadata": {},
   "outputs": [],
   "source": [
    "objective_model = load_model(\n",
    "    model_path=\"lcls_cu_injector_nn_model/\",\n",
    ")\n",
    "lume_model = objective_model.model.model\n",
    "vocs = VOCS(variables = {v.name: v.value_range for v in lume_model.input_variables})"
   ]
  },
  {
   "cell_type": "code",
   "execution_count": 4,
   "id": "091e0bdd-882d-4eb8-84d5-5ccc263c806a",
   "metadata": {},
   "outputs": [
    {
     "name": "stdout",
     "output_type": "stream",
     "text": [
      "CPU times: user 56.5 s, sys: 5.24 s, total: 1min 1s\n",
      "Wall time: 32.4 s\n"
     ]
    }
   ],
   "source": [
    "%%time\n",
    "batch_size = 100\n",
    "for i in range(5000):\n",
    "    x = torch.from_numpy(pd.DataFrame(vocs.random_inputs(batch_size)).values)\n",
    "    y = objective_model(x)"
   ]
  },
  {
   "cell_type": "code",
   "execution_count": null,
   "id": "d33d7b36-a123-40dd-af76-240add6f2149",
   "metadata": {},
   "outputs": [],
   "source": []
  }
 ],
 "metadata": {
  "kernelspec": {
   "display_name": "Python [conda env:nnprior]",
   "language": "python",
   "name": "conda-env-nnprior-py"
  },
  "language_info": {
   "codemirror_mode": {
    "name": "ipython",
    "version": 3
   },
   "file_extension": ".py",
   "mimetype": "text/x-python",
   "name": "python",
   "nbconvert_exporter": "python",
   "pygments_lexer": "ipython3",
   "version": "3.9.18"
  }
 },
 "nbformat": 4,
 "nbformat_minor": 5
}
