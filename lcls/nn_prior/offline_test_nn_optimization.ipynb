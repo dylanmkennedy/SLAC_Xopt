{
 "cells": [
  {
   "cell_type": "code",
   "execution_count": 1,
   "metadata": {},
   "outputs": [],
   "source": [
    "n_threads = 14"
   ]
  },
  {
   "cell_type": "code",
   "execution_count": 2,
   "metadata": {},
   "outputs": [],
   "source": [
    "import os\n",
    "if n_threads is not None:\n",
    "    os.environ[\"OMP_NUM_THREADS\"] = str(n_threads)"
   ]
  },
  {
   "cell_type": "code",
   "execution_count": 3,
   "metadata": {},
   "outputs": [],
   "source": [
    "import torch\n",
    "if n_threads is not None:\n",
    "    torch.set_num_threads(n_threads)"
   ]
  },
  {
   "cell_type": "code",
   "execution_count": 4,
   "metadata": {},
   "outputs": [],
   "source": [
    "import yaml\n",
    "\n",
    "import numpy as np\n",
    "import pandas as pd\n",
    "import matplotlib.pyplot as plt\n",
    "from gpytorch.means import ConstantMean\n",
    "\n",
    "from xopt import Xopt, VOCS\n",
    "from xopt.evaluator import Evaluator\n",
    "from xopt.numerical_optimizer import LBFGSOptimizer\n",
    "from xopt.generators import UpperConfidenceBoundGenerator\n",
    "from xopt.generators.bayesian.models.standard import StandardModelConstructor\n",
    "from lume_model.utils import variables_from_yaml\n",
    "from lume_model.torch import LUMEModule, PyTorchModel"
   ]
  },
  {
   "cell_type": "markdown",
   "metadata": {},
   "source": [
    "## Define VOCS"
   ]
  },
  {
   "cell_type": "code",
   "execution_count": 5,
   "metadata": {},
   "outputs": [
    {
     "name": "stdout",
     "output_type": "stream",
     "text": [
      "variables:\n",
      "  SOLN:IN20:121:BCTRL: [0.377, 0.498]\n",
      "  QUAD:IN20:121:BCTRL: [-0.021, 0.021]\n",
      "  QUAD:IN20:122:BCTRL: [-0.021, 0.021]\n",
      "  QUAD:IN20:361:BCTRL: [-4.32, -1.08]\n",
      "  QUAD:IN20:371:BCTRL: [1.09, 4.31]\n",
      "  QUAD:IN20:425:BCTRL: [-7.56, -1.08]\n",
      "  QUAD:IN20:441:BCTRL: [-1.08, 7.56]\n",
      "  QUAD:IN20:511:BCTRL: [-1.08, 7.56]\n",
      "  QUAD:IN20:525:BCTRL: [-7.56, -1.08]\n",
      "constraints: {}\n",
      "objectives: {total_size: MINIMIZE}\n",
      "constants: {}\n",
      "observables: []\n",
      "\n"
     ]
    }
   ],
   "source": [
    "filename = \"../variables.csv\"\n",
    "VARIABLE_RANGES = pd.read_csv(filename, index_col=0, header=None).T.to_dict(orient='list')\n",
    "VARIABLES = [\"SOLN:IN20:121:BCTRL\", \"QUAD:IN20:121:BCTRL\", \"QUAD:IN20:122:BCTRL\",\n",
    "             \"QUAD:IN20:361:BCTRL\", \"QUAD:IN20:371:BCTRL\", \"QUAD:IN20:425:BCTRL\",\n",
    "             \"QUAD:IN20:441:BCTRL\", \"QUAD:IN20:511:BCTRL\", \"QUAD:IN20:525:BCTRL\"]\n",
    "vocs = VOCS(\n",
    "    variables = {ele: VARIABLE_RANGES[ele] for ele in VARIABLES},\n",
    "    objectives = {\"total_size\": \"MINIMIZE\"},\n",
    ")\n",
    "print(vocs.as_yaml())"
   ]
  },
  {
   "cell_type": "markdown",
   "metadata": {},
   "source": [
    "## Define NN prior"
   ]
  },
  {
   "cell_type": "code",
   "execution_count": 6,
   "metadata": {},
   "outputs": [],
   "source": [
    "model_path = \"lcls_cu_injector_nn_model/\"\n",
    "\n",
    "# load sim_to_nn transformers\n",
    "input_sim_to_nn = torch.load(model_path + \"model/input_sim_to_nn.pt\")\n",
    "output_sim_to_nn = torch.load(model_path + \"model/output_sim_to_nn.pt\")\n",
    "\n",
    "# load pv_to_sim transformers\n",
    "input_pv_to_sim = torch.load(model_path + \"model/input_pv_to_sim.pt\")\n",
    "output_pv_to_sim = torch.load(model_path + \"model/output_pv_to_sim.pt\")\n",
    "\n",
    "# load in- and output variable specification\n",
    "input_variables, output_variables = variables_from_yaml(open(model_path + \"model/pv_variables.yml\"))\n",
    "\n",
    "# replace keys in input variables\n",
    "input_variables = {name.replace(\"BACT\", \"BCTRL\"): ele for name, ele in input_variables.items()}\n",
    "\n",
    "# create LUME-model\n",
    "lume_model = PyTorchModel(\n",
    "    model_file=model_path + \"model/model.pt\",\n",
    "    input_variables=input_variables,\n",
    "    output_variables=output_variables,\n",
    "    input_transformers=[input_pv_to_sim, input_sim_to_nn],\n",
    "    output_transformers=[output_sim_to_nn, output_pv_to_sim],\n",
    ")\n",
    "\n",
    "# wrap in LUMEModule\n",
    "lume_module = LUMEModule(\n",
    "    model=lume_model,\n",
    "    feature_order=vocs.variable_names,\n",
    "    output_order=lume_model.outputs[0:2],\n",
    ")\n",
    "\n",
    "# define objective model\n",
    "class ObjectiveModel(torch.nn.Module):\n",
    "    def __init__(self, model: LUMEModule):\n",
    "        super(ObjectiveModel, self).__init__()\n",
    "        self.model = model\n",
    "\n",
    "    @staticmethod\n",
    "    def function(sigma_x: torch.Tensor, sigma_y: torch.Tensor) -> torch.Tensor:\n",
    "        # using this calculation due to occasional negative values\n",
    "        return torch.sqrt(sigma_x ** 2 + sigma_y ** 2)\n",
    "\n",
    "    def forward(self, x) -> torch.Tensor:\n",
    "        idx_sigma_x = self.model.output_order.index(\"OTRS:IN20:571:XRMS\")\n",
    "        idx_sigma_y = self.model.output_order.index(\"OTRS:IN20:571:YRMS\")\n",
    "        sigma_x = self.model(x)[..., idx_sigma_x]\n",
    "        sigma_y = self.model(x)[..., idx_sigma_y]\n",
    "        return self.function(sigma_x, sigma_y)\n",
    "\n",
    "\n",
    "objective_model = ObjectiveModel(lume_module)"
   ]
  },
  {
   "cell_type": "markdown",
   "metadata": {},
   "source": [
    "## Define Evaluate Function"
   ]
  },
  {
   "cell_type": "code",
   "execution_count": 7,
   "metadata": {},
   "outputs": [],
   "source": [
    "# Xopt evaluator function\n",
    "def evaluate(input_dict):\n",
    "    model_result = lume_model.evaluate(input_dict)\n",
    "    sigma_xy = objective_model.function(model_result[\"OTRS:IN20:571:XRMS\"], model_result[\"OTRS:IN20:571:YRMS\"])\n",
    "    return {vocs.objective_names[0]: sigma_xy.detach().item()}"
   ]
  },
  {
   "cell_type": "markdown",
   "metadata": {},
   "source": [
    "## Run Xopt"
   ]
  },
  {
   "cell_type": "code",
   "execution_count": 8,
   "metadata": {
    "ExecuteTime": {
     "end_time": "2023-08-17T02:43:02.453721600Z",
     "start_time": "2023-08-17T02:43:02.097709300Z"
    }
   },
   "outputs": [],
   "source": [
    "# remember to set use low noise prior to false!!!\n",
    "model_constructor = StandardModelConstructor(\n",
    "    use_low_noise_prior=False,\n",
    "    mean_modules={\"total_size\": objective_model},\n",
    ")\n",
    "generator = UpperConfidenceBoundGenerator(\n",
    "    vocs=vocs,\n",
    "    model_constructor=model_constructor,\n",
    ")\n",
    "generator.numerical_optimizer.max_iter = 200\n",
    "evaluator = Evaluator(function=evaluate)\n",
    "X = Xopt(generator=generator, evaluator=evaluator, vocs=vocs)"
   ]
  },
  {
   "cell_type": "code",
   "execution_count": 9,
   "metadata": {},
   "outputs": [
    {
     "data": {
      "text/html": [
       "<div>\n",
       "<style scoped>\n",
       "    .dataframe tbody tr th:only-of-type {\n",
       "        vertical-align: middle;\n",
       "    }\n",
       "\n",
       "    .dataframe tbody tr th {\n",
       "        vertical-align: top;\n",
       "    }\n",
       "\n",
       "    .dataframe thead th {\n",
       "        text-align: right;\n",
       "    }\n",
       "</style>\n",
       "<table border=\"1\" class=\"dataframe\">\n",
       "  <thead>\n",
       "    <tr style=\"text-align: right;\">\n",
       "      <th></th>\n",
       "      <th>SOLN:IN20:121:BCTRL</th>\n",
       "      <th>QUAD:IN20:121:BCTRL</th>\n",
       "      <th>QUAD:IN20:122:BCTRL</th>\n",
       "      <th>QUAD:IN20:361:BCTRL</th>\n",
       "      <th>QUAD:IN20:371:BCTRL</th>\n",
       "      <th>QUAD:IN20:425:BCTRL</th>\n",
       "      <th>QUAD:IN20:441:BCTRL</th>\n",
       "      <th>QUAD:IN20:511:BCTRL</th>\n",
       "      <th>QUAD:IN20:525:BCTRL</th>\n",
       "      <th>total_size</th>\n",
       "      <th>xopt_runtime</th>\n",
       "      <th>xopt_error</th>\n",
       "    </tr>\n",
       "  </thead>\n",
       "  <tbody>\n",
       "    <tr>\n",
       "      <th>1</th>\n",
       "      <td>0.472622</td>\n",
       "      <td>-0.00484</td>\n",
       "      <td>0.0018</td>\n",
       "      <td>-3.16</td>\n",
       "      <td>2.53527</td>\n",
       "      <td>-1.5</td>\n",
       "      <td>-0.81186</td>\n",
       "      <td>3.649406</td>\n",
       "      <td>-3.252219</td>\n",
       "      <td>344.779441</td>\n",
       "      <td>0.00185</td>\n",
       "      <td>False</td>\n",
       "    </tr>\n",
       "  </tbody>\n",
       "</table>\n",
       "</div>"
      ],
      "text/plain": [
       "   SOLN:IN20:121:BCTRL  QUAD:IN20:121:BCTRL  QUAD:IN20:122:BCTRL  \\\n",
       "1             0.472622             -0.00484               0.0018   \n",
       "\n",
       "   QUAD:IN20:361:BCTRL  QUAD:IN20:371:BCTRL  QUAD:IN20:425:BCTRL  \\\n",
       "1                -3.16              2.53527                 -1.5   \n",
       "\n",
       "   QUAD:IN20:441:BCTRL  QUAD:IN20:511:BCTRL  QUAD:IN20:525:BCTRL  total_size  \\\n",
       "1             -0.81186             3.649406            -3.252219  344.779441   \n",
       "\n",
       "   xopt_runtime  xopt_error  \n",
       "1       0.00185       False  "
      ]
     },
     "execution_count": 9,
     "metadata": {},
     "output_type": "execute_result"
    }
   ],
   "source": [
    "default = {\n",
    "    \"SOLN:IN20:121:BCTRL\": 0.4726221999999998,\n",
    "    \"QUAD:IN20:121:BCTRL\": -0.0048398437,\n",
    "    \"QUAD:IN20:122:BCTRL\": 0.0018000000000000004,\n",
    "    \"QUAD:IN20:361:BCTRL\": -3.16,\n",
    "    \"QUAD:IN20:371:BCTRL\": 2.5352702,\n",
    "    \"QUAD:IN20:425:BCTRL\": -1.5,\n",
    "    \"QUAD:IN20:441:BCTRL\": -0.8118599,\n",
    "    \"QUAD:IN20:511:BCTRL\": 3.6494056,\n",
    "    \"QUAD:IN20:525:BCTRL\": -3.2522187,\n",
    "}\n",
    "\n",
    "X.evaluate_data(pd.DataFrame(default, index=[0]))"
   ]
  },
  {
   "cell_type": "code",
   "execution_count": 10,
   "metadata": {},
   "outputs": [
    {
     "name": "stdout",
     "output_type": "stream",
     "text": [
      "OMP_NUM_THREADS: 14\n",
      "torch num_threads: 14\n"
     ]
    }
   ],
   "source": [
    "env_variable = \"OMP_NUM_THREADS\"\n",
    "if env_variable in os.environ.keys():\n",
    "    print(\"{}: {}\".format(env_variable, os.environ[env_variable]))\n",
    "\n",
    "print(\"torch num_threads: {:d}\".format(torch.get_num_threads()))"
   ]
  },
  {
   "cell_type": "code",
   "execution_count": 11,
   "metadata": {},
   "outputs": [
    {
     "name": "stdout",
     "output_type": "stream",
     "text": [
      "CPU times: user 5min 42s, sys: 59.2 s, total: 6min 42s\n",
      "Wall time: 3min 17s\n"
     ]
    }
   ],
   "source": [
    "%%time\n",
    "for i in range(50):\n",
    "    X.step()"
   ]
  },
  {
   "cell_type": "code",
   "execution_count": 12,
   "metadata": {},
   "outputs": [
    {
     "data": {
      "text/plain": [
       "<Axes: >"
      ]
     },
     "execution_count": 12,
     "metadata": {},
     "output_type": "execute_result"
    },
    {
     "data": {
      "image/png": "[encoded data removed]",
      "text/plain": [
       "<Figure size 640x480 with 1 Axes>"
      ]
     },
     "metadata": {},
     "output_type": "display_data"
    }
   ],
   "source": [
    "X.data.plot(y=\"total_size\")"
   ]
  },
  {
   "cell_type": "code",
   "execution_count": 13,
   "metadata": {},
   "outputs": [
    {
     "name": "stdout",
     "output_type": "stream",
     "text": [
      "training: 0.04 +- 0.01 sec\n",
      "acquisition_optimization: 3.90 +- 1.44 sec\n"
     ]
    }
   ],
   "source": [
    "for key in X.generator.computation_time.columns:\n",
    "    mean = X.generator.computation_time[key].mean()\n",
    "    std = X.generator.computation_time[key].std()\n",
    "    print(\"{}: {:.2f} +- {:.2f} sec\".format(key, mean, std))"
   ]
  },
  {
   "cell_type": "code",
   "execution_count": null,
   "metadata": {},
   "outputs": [],
   "source": []
  }
 ],
 "metadata": {
  "kernelspec": {
   "display_name": "Python [conda env:nnprior]",
   "language": "python",
   "name": "conda-env-nnprior-py"
  },
  "language_info": {
   "codemirror_mode": {
    "name": "ipython",
    "version": 3
   },
   "file_extension": ".py",
   "mimetype": "text/x-python",
   "name": "python",
   "nbconvert_exporter": "python",
   "pygments_lexer": "ipython3",
   "version": "3.9.16"
  }
 },
 "nbformat": 4,
 "nbformat_minor": 4
}
