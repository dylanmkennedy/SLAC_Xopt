{
 "cells": [
  {
   "cell_type": "code",
   "execution_count": null,
   "id": "757edff3-c3d5-4d06-9756-bcc4a1ed5e6b",
   "metadata": {},
   "outputs": [],
   "source": [
    "from epics import caget, caput, caget_many"
   ]
  },
  {
   "cell_type": "markdown",
   "id": "5f97cd4c-8ead-48e4-b954-74506b432c5f",
   "metadata": {},
   "source": [
    "## Read and Restore PVs"
   ]
  },
  {
   "cell_type": "code",
   "execution_count": null,
   "id": "02dff822-ebec-432f-b05b-3df9618dea8b",
   "metadata": {},
   "outputs": [],
   "source": [
    "pv_names = [\n",
    "    \"SOLN:IN20:121:BCTRL\", \"QUAD:IN20:121:BCTRL\", \"QUAD:IN20:122:BCTRL\",\n",
    "    \"QUAD:IN20:361:BCTRL\", \"QUAD:IN20:371:BCTRL\", \"QUAD:IN20:425:BCTRL\",\n",
    "    \"QUAD:IN20:441:BCTRL\", \"QUAD:IN20:511:BCTRL\", \"QUAD:IN20:525:BCTRL\",\n",
    "]"
   ]
  },
  {
   "cell_type": "code",
   "execution_count": null,
   "id": "26713a90-f95c-4fec-9904-f51151857245",
   "metadata": {},
   "outputs": [],
   "source": [
    "def read_pvs(names: list[str]) -> dict[str, float]:\n",
    "    return {name: caget(name) for name in names}"
   ]
  },
  {
   "cell_type": "code",
   "execution_count": null,
   "id": "b8637abd-2d2f-47e7-bd82-4d5c88439f56",
   "metadata": {},
   "outputs": [],
   "source": [
    "defaults = read_pvs(pv_names)\n",
    "defaults"
   ]
  },
  {
   "cell_type": "code",
   "execution_count": null,
   "id": "b1c987d2-23ee-43f5-9e65-f3ae533db712",
   "metadata": {},
   "outputs": [],
   "source": [
    "\"\"\"backup\n",
    "\n",
    "{'SOLN:IN20:121:BCTRL': 0.4811964507056114,\n",
    " 'QUAD:IN20:121:BCTRL': 0.00066783437,\n",
    " 'QUAD:IN20:122:BCTRL': -0.008649478074999996,\n",
    " 'QUAD:IN20:361:BCTRL': -3.3494902000000004,\n",
    " 'QUAD:IN20:371:BCTRL': 2.6127829,\n",
    " 'QUAD:IN20:425:BCTRL': -1.0063387,\n",
    " 'QUAD:IN20:441:BCTRL': -0.2840484,\n",
    " 'QUAD:IN20:511:BCTRL': 3.2541227,\n",
    " 'QUAD:IN20:525:BCTRL': -2.7533598}\n",
    "\"\"\""
   ]
  },
  {
   "cell_type": "code",
   "execution_count": null,
   "id": "eb9bae7c-0479-437c-8855-2b875fde34b1",
   "metadata": {},
   "outputs": [],
   "source": [
    "def restore_pvs(values: dict[str, float]):\n",
    "    for k, v in values.items():\n",
    "        caput(k, v)"
   ]
  },
  {
   "cell_type": "code",
   "execution_count": null,
   "id": "d90f50a5-3fbd-4cb0-8b77-3e2543cc7036",
   "metadata": {},
   "outputs": [],
   "source": [
    "restore_pvs(defaults)\n",
    "read_pvs(pv_names)"
   ]
  },
  {
   "cell_type": "markdown",
   "id": "cd148da2-d22f-4f11-8162-2c31b927d566",
   "metadata": {},
   "source": [
    "## Read OTR3 Image"
   ]
  },
  {
   "cell_type": "code",
   "execution_count": null,
   "id": "4cffb00b-c675-4f13-8c86-7bb3b7f94453",
   "metadata": {},
   "outputs": [],
   "source": [
    "caget(\"OTRS:IN20:621:IMAGE\")"
   ]
  },
  {
   "cell_type": "code",
   "execution_count": null,
   "id": "253e180f-8b76-488e-8273-6495e0f31fe2",
   "metadata": {},
   "outputs": [],
   "source": [
    "for i in range(10):\n",
    "    img = caget(\"OTRS:IN20:621:IMAGE\")\n",
    "    if img is not None:\n",
    "        print(\"image received\")"
   ]
  },
  {
   "cell_type": "code",
   "execution_count": null,
   "id": "2bae270e-ee63-4745-987d-63179d797e98",
   "metadata": {},
   "outputs": [],
   "source": []
  }
 ],
 "metadata": {
  "kernelspec": {
   "display_name": "Python [conda env:nnprior]",
   "language": "python",
   "name": "conda-env-nnprior-py"
  },
  "language_info": {
   "codemirror_mode": {
    "name": "ipython",
    "version": 3
   },
   "file_extension": ".py",
   "mimetype": "text/x-python",
   "name": "python",
   "nbconvert_exporter": "python",
   "pygments_lexer": "ipython3",
   "version": "3.9.18"
  }
 },
 "nbformat": 4,
 "nbformat_minor": 5
}
