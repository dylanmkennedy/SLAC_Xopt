{
 "cells": [
  {
   "cell_type": "code",
   "execution_count": 1,
   "id": "a9b87e6a-f13d-4b0b-969a-0e516b1647be",
   "metadata": {},
   "outputs": [],
   "source": [
    "n_threads = 16"
   ]
  },
  {
   "cell_type": "code",
   "execution_count": 2,
   "id": "c0be709c-4b8e-45ac-8673-9e156b78b242",
   "metadata": {},
   "outputs": [],
   "source": [
    "import os\n",
    "if n_threads is not None:\n",
    "    os.environ[\"OMP_NUM_THREADS\"] = str(n_threads)"
   ]
  },
  {
   "cell_type": "code",
   "execution_count": 3,
   "id": "1d99c919-d3c2-4b23-9ecb-53eb73f3b2db",
   "metadata": {},
   "outputs": [],
   "source": [
    "import torch\n",
    "if n_threads is not None:\n",
    "    torch.set_num_threads(n_threads)"
   ]
  },
  {
   "cell_type": "code",
   "execution_count": 4,
   "id": "8ec7ce95-c6a7-439f-9f48-33ff67b5e77f",
   "metadata": {},
   "outputs": [],
   "source": [
    "import pandas as pd\n",
    "\n",
    "from xopt import VOCS\n",
    "from lume_model.utils import variables_from_yaml\n",
    "from lume_model.torch import LUMEModule, PyTorchModel"
   ]
  },
  {
   "cell_type": "code",
   "execution_count": 5,
   "id": "aef2e18b-20a1-4328-9d0d-188a9e77dda1",
   "metadata": {},
   "outputs": [],
   "source": [
    "model_path = \"lcls_cu_injector_nn_model/\"\n",
    "\n",
    "# load sim_to_nn transformers\n",
    "input_sim_to_nn = torch.load(model_path + \"model/input_sim_to_nn.pt\")\n",
    "output_sim_to_nn = torch.load(model_path + \"model/output_sim_to_nn.pt\")\n",
    "\n",
    "# load pv_to_sim transformers\n",
    "input_pv_to_sim = torch.load(model_path + \"model/input_pv_to_sim.pt\")\n",
    "output_pv_to_sim = torch.load(model_path + \"model/output_pv_to_sim.pt\")\n",
    "\n",
    "# load in- and output variable specification\n",
    "input_variables, output_variables = variables_from_yaml(open(model_path + \"model/pv_variables.yml\"))\n",
    "\n",
    "# create LUME-model\n",
    "lume_model = PyTorchModel(\n",
    "    model_file=model_path + \"model/model.pt\",\n",
    "    input_variables=input_variables,\n",
    "    output_variables=output_variables,\n",
    "    input_transformers=[input_pv_to_sim, input_sim_to_nn],\n",
    "    output_transformers=[output_sim_to_nn, output_pv_to_sim],\n",
    ")\n",
    "\n",
    "# wrap in LUMEModule\n",
    "lume_module = LUMEModule(\n",
    "    model=lume_model,\n",
    "    feature_order=lume_model.features,\n",
    "    output_order=lume_model.outputs,\n",
    ")"
   ]
  },
  {
   "cell_type": "code",
   "execution_count": 6,
   "id": "9fdefb9f-f006-45cd-85a7-2c86ced95c44",
   "metadata": {},
   "outputs": [],
   "source": [
    "vocs = VOCS(variables = {k: v.value_range for k, v in input_variables.items()})"
   ]
  },
  {
   "cell_type": "code",
   "execution_count": 7,
   "id": "25dae50c-de30-4b40-b510-a0f53e0bf688",
   "metadata": {},
   "outputs": [
    {
     "name": "stdout",
     "output_type": "stream",
     "text": [
      "OMP_NUM_THREADS: 16\n",
      "torch num_threads: 16\n"
     ]
    }
   ],
   "source": [
    "env_variable = \"OMP_NUM_THREADS\"\n",
    "if env_variable in os.environ.keys():\n",
    "    print(\"{}: {}\".format(env_variable, os.environ[env_variable]))\n",
    "\n",
    "print(\"torch num_threads: {:d}\".format(torch.get_num_threads()))"
   ]
  },
  {
   "cell_type": "code",
   "execution_count": 8,
   "id": "be9615c4-e103-405c-a7e1-a9562f1231b4",
   "metadata": {},
   "outputs": [
    {
     "name": "stdout",
     "output_type": "stream",
     "text": [
      "CPU times: user 8.85 s, sys: 25.1 ms, total: 8.87 s\n",
      "Wall time: 8.88 s\n"
     ]
    }
   ],
   "source": [
    "%%time\n",
    "batch_size = 100\n",
    "for i in range(5000):\n",
    "    x = torch.from_numpy(pd.DataFrame(vocs.random_inputs(batch_size)).to_numpy())\n",
    "    y = lume_module(x)"
   ]
  },
  {
   "cell_type": "code",
   "execution_count": null,
   "id": "091e0bdd-882d-4eb8-84d5-5ccc263c806a",
   "metadata": {},
   "outputs": [],
   "source": []
  }
 ],
 "metadata": {
  "kernelspec": {
   "display_name": "Python [conda env:nnprior]",
   "language": "python",
   "name": "conda-env-nnprior-py"
  },
  "language_info": {
   "codemirror_mode": {
    "name": "ipython",
    "version": 3
   },
   "file_extension": ".py",
   "mimetype": "text/x-python",
   "name": "python",
   "nbconvert_exporter": "python",
   "pygments_lexer": "ipython3",
   "version": "3.9.16"
  }
 },
 "nbformat": 4,
 "nbformat_minor": 5
}
