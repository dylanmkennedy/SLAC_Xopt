{
 "cells": [
  {
   "cell_type": "code",
   "execution_count": 1,
   "metadata": {},
   "outputs": [],
   "source": [
    "import yaml\n",
    "\n",
    "import torch\n",
    "import pandas as pd\n",
    "\n",
    "from xopt import Xopt\n",
    "from lume_model.utils import variables_from_yaml\n",
    "from lume_model.torch import PyTorchModel, LUMEModule"
   ]
  },
  {
   "cell_type": "markdown",
   "metadata": {},
   "source": [
    "## Load Data from BO and BE Runs"
   ]
  },
  {
   "cell_type": "code",
   "execution_count": 2,
   "metadata": {},
   "outputs": [],
   "source": [
    "# X = Xopt(\"optimization_results.yml\")"
   ]
  },
  {
   "cell_type": "code",
   "execution_count": 3,
   "metadata": {},
   "outputs": [],
   "source": [
    "# BO data\n",
    "with open(\"optimization_results.yml\") as f:\n",
    "    d = yaml.safe_load(f)\n",
    "df_bo = pd.DataFrame(d[\"data\"])\n",
    "vocs = d[\"vocs\"]"
   ]
  },
  {
   "cell_type": "code",
   "execution_count": 4,
   "metadata": {},
   "outputs": [],
   "source": [
    "# BE data\n",
    "with open(\"be_results.yml\") as f:\n",
    "    d = yaml.safe_load(f)\n",
    "df_be = pd.DataFrame(d[\"data\"])"
   ]
  },
  {
   "cell_type": "code",
   "execution_count": 5,
   "metadata": {},
   "outputs": [],
   "source": [
    "# full data set\n",
    "df = pd.concat([df_bo, df_be])"
   ]
  },
  {
   "cell_type": "markdown",
   "metadata": {},
   "source": [
    "## Load NN Prior Model"
   ]
  },
  {
   "cell_type": "code",
   "execution_count": 6,
   "metadata": {},
   "outputs": [
    {
     "name": "stdout",
     "output_type": "stream",
     "text": [
      "['QUAD:IN20:121:BCTRL', 'QUAD:IN20:122:BCTRL', 'QUAD:IN20:361:BCTRL', 'QUAD:IN20:371:BCTRL', 'QUAD:IN20:425:BCTRL', 'QUAD:IN20:441:BCTRL', 'QUAD:IN20:511:BCTRL', 'QUAD:IN20:525:BCTRL', 'SOLN:IN20:121:BCTRL']\n",
      "['OTRS:IN20:571:XRMS', 'OTRS:IN20:571:YRMS']\n"
     ]
    }
   ],
   "source": [
    "model_path = \"../nn_prior/lcls_cu_injector_nn_model/\"\n",
    "\n",
    "# load sim_to_nn transformers\n",
    "input_sim_to_nn = torch.load(model_path + \"model/input_sim_to_nn.pt\")\n",
    "output_sim_to_nn = torch.load(model_path + \"model/output_sim_to_nn.pt\")\n",
    "\n",
    "# load pv_to_sim transformers\n",
    "input_pv_to_sim = torch.load(model_path + \"model/input_pv_to_sim.pt\")\n",
    "output_pv_to_sim = torch.load(model_path + \"model/output_pv_to_sim.pt\")\n",
    "\n",
    "# load in- and output variable specification\n",
    "input_variables, output_variables = variables_from_yaml(open(model_path + \"model/pv_variables.yml\"))\n",
    "\n",
    "# replace keys in input variables\n",
    "input_variables = {name.replace(\"BACT\", \"BCTRL\"): ele for name, ele in input_variables.items()}\n",
    "\n",
    "# create LUME-model\n",
    "lume_model = PyTorchModel(\n",
    "    model_file=model_path + \"model/model.pt\",\n",
    "    input_variables=input_variables,\n",
    "    output_variables=output_variables,\n",
    "    input_transformers=[input_pv_to_sim, input_sim_to_nn],\n",
    "    output_transformers=[output_sim_to_nn, output_pv_to_sim],\n",
    ")\n",
    "\n",
    "# wrap in LUMEModule\n",
    "lume_module = LUMEModule(\n",
    "    model=lume_model,\n",
    "    feature_order=list(vocs[\"variables\"].keys()),\n",
    "    output_order=lume_model.outputs[0:2],\n",
    ")\n",
    "\n",
    "# define objective model\n",
    "class ObjectiveModel(torch.nn.Module):\n",
    "    def __init__(self, model: LUMEModule):\n",
    "        super(ObjectiveModel, self).__init__()\n",
    "        self.model = model\n",
    "\n",
    "    @staticmethod\n",
    "    def function(sigma_x: torch.Tensor, sigma_y: torch.Tensor) -> torch.Tensor:\n",
    "        # using this calculation due to occasional negative values\n",
    "        return torch.sqrt(sigma_x ** 2 + sigma_y ** 2)\n",
    "\n",
    "    def forward(self, x) -> torch.Tensor:\n",
    "        idx_sigma_x = self.model.output_order.index(\"OTRS:IN20:571:XRMS\")\n",
    "        idx_sigma_y = self.model.output_order.index(\"OTRS:IN20:571:YRMS\")\n",
    "        sigma_x = self.model(x)[..., idx_sigma_x]\n",
    "        sigma_y = self.model(x)[..., idx_sigma_y]\n",
    "        return self.function(sigma_x, sigma_y)\n",
    "\n",
    "\n",
    "objective_model = ObjectiveModel(lume_module)\n",
    "\n",
    "print(lume_module.feature_order)\n",
    "print(lume_module.output_order)"
   ]
  },
  {
   "cell_type": "markdown",
   "metadata": {},
   "source": [
    "## Load Calibrated NN Prior Models"
   ]
  },
  {
   "cell_type": "code",
   "execution_count": 7,
   "metadata": {},
   "outputs": [],
   "source": [
    "calibration_path = \"../nn_prior/calibration/\"\n",
    "\n",
    "regs, cal_models = [\"low\", \"high\"], []\n",
    "for reg in regs:\n",
    "    # load nn_to_cal transformers\n",
    "    input_nn_to_cal = torch.load(calibration_path + f\"input_nn_to_cal_{reg}_reg.pt\")\n",
    "    output_nn_to_cal = torch.load(calibration_path + f\"output_nn_to_cal_{reg}_reg.pt\")\n",
    "    \n",
    "    # create LUME-model\n",
    "    cal_lume_model = PyTorchModel(\n",
    "        model_file=model_path + \"model/model.pt\",\n",
    "        input_variables=input_variables,\n",
    "        output_variables=output_variables,\n",
    "        input_transformers=[input_pv_to_sim, input_sim_to_nn, input_nn_to_cal],\n",
    "        output_transformers=[output_nn_to_cal, output_sim_to_nn, output_pv_to_sim],\n",
    "    )\n",
    "    \n",
    "    # wrap in LUMEModule\n",
    "    cal_lume_module = LUMEModule(\n",
    "        model=cal_lume_model,\n",
    "        feature_order=list(vocs[\"variables\"].keys()),\n",
    "        output_order=cal_lume_model.outputs[0:2],\n",
    "    )\n",
    "    \n",
    "    cal_models.append(ObjectiveModel(cal_lume_module))"
   ]
  },
  {
   "cell_type": "markdown",
   "metadata": {},
   "source": [
    "## Calculate Correlations and MAEs"
   ]
  },
  {
   "cell_type": "code",
   "execution_count": 8,
   "metadata": {},
   "outputs": [],
   "source": [
    "# define calculation of correlation\n",
    "def calc_corr(a: torch.Tensor, b: torch.Tensor) -> torch.Tensor:\n",
    "    corr = torch.corrcoef(torch.stack([a.squeeze(), b.squeeze()]))\n",
    "    return corr[0, 1]"
   ]
  },
  {
   "cell_type": "code",
   "execution_count": 9,
   "metadata": {},
   "outputs": [],
   "source": [
    "# define calculation of MAE\n",
    "def calc_mae(a: torch.Tensor, b: torch.Tensor) -> torch.Tensor:\n",
    "    return torch.nn.functional.l1_loss(a, b)"
   ]
  },
  {
   "cell_type": "code",
   "execution_count": 10,
   "metadata": {},
   "outputs": [],
   "source": [
    "metrics = pd.DataFrame(columns=[[\"All Data\"] * 2 + [\"BO\"] * 2 + [\"BE\"] * 2, [\"Corr\", \"MAE\"] * 3])\n",
    "for model in [objective_model] + cal_models:\n",
    "    model_metrics = []\n",
    "    for df_data in [df, df_bo, df_be]:\n",
    "        \n",
    "        # get valid inputs and outputs\n",
    "        data = df_data.dropna()\n",
    "        x = torch.from_numpy(data[lume_module.feature_order].to_numpy())\n",
    "        y = torch.from_numpy(data[list(vocs[\"objectives\"].keys())[0]].to_numpy())\n",
    "        \n",
    "        # predictions\n",
    "        pred = model(x)\n",
    "        \n",
    "        # get model metrics\n",
    "        model_metrics.append(\"{:.2f}\".format(calc_corr(pred, y).item()))\n",
    "        model_metrics.append(\"{:.2f}\".format(calc_mae(pred, y).item()))\n",
    "\n",
    "    metrics.loc[len(metrics.index)] = model_metrics\n",
    "metrics.index = [\"Original Model\", \"Calibrated (Low Reg)\", \"Calibrated (High Reg)\"]"
   ]
  },
  {
   "cell_type": "code",
   "execution_count": 11,
   "metadata": {},
   "outputs": [
    {
     "data": {
      "text/html": [
       "<div>\n",
       "<style scoped>\n",
       "    .dataframe tbody tr th:only-of-type {\n",
       "        vertical-align: middle;\n",
       "    }\n",
       "\n",
       "    .dataframe tbody tr th {\n",
       "        vertical-align: top;\n",
       "    }\n",
       "\n",
       "    .dataframe thead tr th {\n",
       "        text-align: left;\n",
       "    }\n",
       "</style>\n",
       "<table border=\"1\" class=\"dataframe\">\n",
       "  <thead>\n",
       "    <tr>\n",
       "      <th></th>\n",
       "      <th colspan=\"2\" halign=\"left\">All Data</th>\n",
       "      <th colspan=\"2\" halign=\"left\">BO</th>\n",
       "      <th colspan=\"2\" halign=\"left\">BE</th>\n",
       "    </tr>\n",
       "    <tr>\n",
       "      <th></th>\n",
       "      <th>Corr</th>\n",
       "      <th>MAE</th>\n",
       "      <th>Corr</th>\n",
       "      <th>MAE</th>\n",
       "      <th>Corr</th>\n",
       "      <th>MAE</th>\n",
       "    </tr>\n",
       "  </thead>\n",
       "  <tbody>\n",
       "    <tr>\n",
       "      <th>Original Model</th>\n",
       "      <td>0.50</td>\n",
       "      <td>360.10</td>\n",
       "      <td>0.67</td>\n",
       "      <td>347.93</td>\n",
       "      <td>0.34</td>\n",
       "      <td>391.18</td>\n",
       "    </tr>\n",
       "    <tr>\n",
       "      <th>Calibrated (Low Reg)</th>\n",
       "      <td>0.43</td>\n",
       "      <td>208.65</td>\n",
       "      <td>0.04</td>\n",
       "      <td>120.42</td>\n",
       "      <td>0.39</td>\n",
       "      <td>433.88</td>\n",
       "    </tr>\n",
       "    <tr>\n",
       "      <th>Calibrated (High Reg)</th>\n",
       "      <td>0.41</td>\n",
       "      <td>114.61</td>\n",
       "      <td>-0.31</td>\n",
       "      <td>66.31</td>\n",
       "      <td>0.33</td>\n",
       "      <td>237.90</td>\n",
       "    </tr>\n",
       "  </tbody>\n",
       "</table>\n",
       "</div>"
      ],
      "text/plain": [
       "                      All Data             BO            BE        \n",
       "                          Corr     MAE   Corr     MAE  Corr     MAE\n",
       "Original Model            0.50  360.10   0.67  347.93  0.34  391.18\n",
       "Calibrated (Low Reg)      0.43  208.65   0.04  120.42  0.39  433.88\n",
       "Calibrated (High Reg)     0.41  114.61  -0.31   66.31  0.33  237.90"
      ]
     },
     "execution_count": 11,
     "metadata": {},
     "output_type": "execute_result"
    }
   ],
   "source": [
    "metrics"
   ]
  },
  {
   "cell_type": "code",
   "execution_count": null,
   "metadata": {},
   "outputs": [],
   "source": []
  }
 ],
 "metadata": {
  "kernelspec": {
   "display_name": "Python [conda env:nnprior]",
   "language": "python",
   "name": "conda-env-nnprior-py"
  },
  "language_info": {
   "codemirror_mode": {
    "name": "ipython",
    "version": 3
   },
   "file_extension": ".py",
   "mimetype": "text/x-python",
   "name": "python",
   "nbconvert_exporter": "python",
   "pygments_lexer": "ipython3",
   "version": "3.9.16"
  }
 },
 "nbformat": 4,
 "nbformat_minor": 4
}
