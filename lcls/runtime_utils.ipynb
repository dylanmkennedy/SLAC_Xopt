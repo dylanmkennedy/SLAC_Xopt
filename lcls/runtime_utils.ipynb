{
 "cells": [
  {
   "cell_type": "code",
   "execution_count": null,
   "id": "eda6f2d1-09cd-414f-9c63-afab4858f7a0",
   "metadata": {},
   "outputs": [],
   "source": [
    "# save reference point\n",
    "from common import save_reference_point, get_pv_objects\n",
    "pv_objects = get_pv_objects(\"tracked_pvs.yml\")\n",
    "ref = save_reference_point(pv_objects)\n",
    "ref"
   ]
  }
 ],
 "metadata": {
  "kernelspec": {
   "display_name": "Python 3 (ipykernel)",
   "language": "python",
   "name": "python3"
  },
  "language_info": {
   "codemirror_mode": {
    "name": "ipython",
    "version": 3
   },
   "file_extension": ".py",
   "mimetype": "text/x-python",
   "name": "python",
   "nbconvert_exporter": "python",
   "pygments_lexer": "ipython3",
   "version": "3.9.18"
  }
 },
 "nbformat": 4,
 "nbformat_minor": 5
}
