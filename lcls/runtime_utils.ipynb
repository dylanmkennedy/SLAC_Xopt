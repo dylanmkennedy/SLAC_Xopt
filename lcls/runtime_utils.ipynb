{
 "cells": [
  {
   "cell_type": "code",
   "execution_count": 6,
   "id": "f95b37b3-7462-498b-9626-8105f7ac7f83",
   "metadata": {},
   "outputs": [],
   "source": [
    "from epics import caput,caget, caget_many"
   ]
  },
  {
   "cell_type": "code",
   "execution_count": 2,
   "id": "f566189f-deea-4337-8f1d-521d1988835c",
   "metadata": {},
   "outputs": [],
   "source": [
    "pv_name = \"MPS:IN20:200:MSHT1_IN_MPS\""
   ]
  },
  {
   "cell_type": "code",
   "execution_count": 3,
   "id": "67336fcf-fcd9-4521-aa22-c8e7726f1955",
   "metadata": {},
   "outputs": [
    {
     "data": {
      "text/plain": [
       "0"
      ]
     },
     "execution_count": 3,
     "metadata": {},
     "output_type": "execute_result"
    }
   ],
   "source": [
    "caget(pv_name)"
   ]
  },
  {
   "cell_type": "markdown",
   "source": [
    "## Get defaults"
   ],
   "metadata": {
    "collapsed": false
   }
  },
  {
   "cell_type": "code",
   "execution_count": 7,
   "id": "586480fe-034c-4a93-a83a-05df408757c3",
   "metadata": {},
   "outputs": [],
   "source": [
    "\n",
    "TUNING_VARIABLES = [\n",
    "    \"SOLN:IN20:121:BCTRL\",\n",
    "    \"QUAD:IN20:121:BCTRL\",\n",
    "    \"QUAD:IN20:122:BCTRL\",\n",
    "    \"QUAD:IN20:361:BCTRL\",\n",
    "    \"QUAD:IN20:371:BCTRL\",\n",
    "    \"QUAD:IN20:425:BCTRL\",\n",
    "    \"QUAD:IN20:441:BCTRL\",\n",
    "    \"QUAD:IN20:511:BCTRL\",\n",
    "    \"QUAD:IN20:525:BCTRL\"\n",
    "]\n",
    "\n",
    "results = dict(zip(TUNING_VARIABLES,caget_many(TUNING_VARIABLES)))"
   ]
  },
  {
   "cell_type": "code",
   "execution_count": 8,
   "id": "f066cd0d-9457-492a-93aa-8bef595971a6",
   "metadata": {},
   "outputs": [
    {
     "data": {
      "text/plain": [
       "{'SOLN:IN20:121:BCTRL': 0.4726221999999998,\n",
       " 'QUAD:IN20:121:BCTRL': -0.0048398437,\n",
       " 'QUAD:IN20:122:BCTRL': 0.0018000000000000004,\n",
       " 'QUAD:IN20:361:BCTRL': -3.16,\n",
       " 'QUAD:IN20:371:BCTRL': 2.5352702,\n",
       " 'QUAD:IN20:425:BCTRL': -0.2036325,\n",
       " 'QUAD:IN20:441:BCTRL': -0.8118599,\n",
       " 'QUAD:IN20:511:BCTRL': 3.6494056,\n",
       " 'QUAD:IN20:525:BCTRL': -3.2522187}"
      ]
     },
     "execution_count": 8,
     "metadata": {},
     "output_type": "execute_result"
    }
   ],
   "source": [
    "results"
   ]
  },
  {
   "cell_type": "markdown",
   "source": [
    "## Restore defaults"
   ],
   "metadata": {
    "collapsed": false
   }
  },
  {
   "cell_type": "code",
   "execution_count": 11,
   "id": "d965ab54-c638-4033-a056-58b32918a25a",
   "metadata": {},
   "outputs": [],
   "source": [
    "default = {'SOLN:IN20:121:BCTRL': 0.4726221999999998,\n",
    " 'QUAD:IN20:121:BCTRL': -0.0048398437,\n",
    " 'QUAD:IN20:122:BCTRL': 0.0018000000000000004,\n",
    " 'QUAD:IN20:361:BCTRL': -3.16,\n",
    " 'QUAD:IN20:371:BCTRL': 2.5352702,\n",
    " 'QUAD:IN20:425:BCTRL': -0.2036325,\n",
    " 'QUAD:IN20:441:BCTRL': -0.8118599,\n",
    " 'QUAD:IN20:511:BCTRL': 3.6494056,\n",
    " 'QUAD:IN20:525:BCTRL': -3.2522187}\n",
    "\n",
    "## Restore defaults\n",
    "for name,val in default.items():\n",
    "    caput(name, val)"
   ]
  },
  {
   "cell_type": "code",
   "execution_count": null,
   "id": "e487d8a3-e340-4b3d-967b-6e4a3aa25ee2",
   "metadata": {},
   "outputs": [],
   "source": []
  }
 ],
 "metadata": {
  "kernelspec": {
   "display_name": "Python 3 (ipykernel)",
   "language": "python",
   "name": "python3"
  },
  "language_info": {
   "codemirror_mode": {
    "name": "ipython",
    "version": 3
   },
   "file_extension": ".py",
   "mimetype": "text/x-python",
   "name": "python",
   "nbconvert_exporter": "python",
   "pygments_lexer": "ipython3",
   "version": "3.9.17"
  }
 },
 "nbformat": 4,
 "nbformat_minor": 5
}
