{
 "cells": [
  {
   "cell_type": "code",
   "execution_count": 3,
   "id": "f95b37b3-7462-498b-9626-8105f7ac7f83",
   "metadata": {
    "tags": []
   },
   "outputs": [],
   "source": [
    "from epics import caput, caget, caget_many"
   ]
  },
  {
   "cell_type": "code",
   "execution_count": 18,
   "id": "f566189f-deea-4337-8f1d-521d1988835c",
   "metadata": {},
   "outputs": [],
   "source": [
    "pv_name = \"IOC:BSY0:MP01:MSHUTCTL\""
   ]
  },
  {
   "cell_type": "code",
   "execution_count": 19,
   "id": "67336fcf-fcd9-4521-aa22-c8e7726f1955",
   "metadata": {},
   "outputs": [
    {
     "data": {
      "text/plain": [
       "1"
      ]
     },
     "execution_count": 19,
     "metadata": {},
     "output_type": "execute_result"
    }
   ],
   "source": [
    "caget(pv_name)"
   ]
  },
  {
   "cell_type": "code",
   "execution_count": 16,
   "id": "16d1abea-1acc-4819-ac9a-6c6b1cfb900a",
   "metadata": {},
   "outputs": [
    {
     "data": {
      "text/plain": [
       "1"
      ]
     },
     "execution_count": 16,
     "metadata": {},
     "output_type": "execute_result"
    }
   ],
   "source": [
    "caput(pv_name, 1)"
   ]
  },
  {
   "cell_type": "code",
   "execution_count": 22,
   "id": "fbcf70e1-dc25-4b1e-b6d9-503b3f6f001b",
   "metadata": {},
   "outputs": [
    {
     "data": {
      "text/plain": [
       "1"
      ]
     },
     "execution_count": 22,
     "metadata": {},
     "output_type": "execute_result"
    }
   ],
   "source": [
    "caput(\"IOC:BSY0:MP01:MSHUTCTL\", 1)"
   ]
  },
  {
   "cell_type": "markdown",
   "id": "bedb9fef",
   "metadata": {
    "collapsed": false,
    "jupyter": {
     "outputs_hidden": false
    }
   },
   "source": [
    "## Get defaults"
   ]
  },
  {
   "cell_type": "code",
   "execution_count": 4,
   "id": "586480fe-034c-4a93-a83a-05df408757c3",
   "metadata": {},
   "outputs": [],
   "source": [
    "\n",
    "TUNING_VARIABLES = [\n",
    "    \"SOLN:IN20:121:BCTRL\",\n",
    "    \"QUAD:IN20:121:BCTRL\",\n",
    "    \"QUAD:IN20:122:BCTRL\",\n",
    "    \"QUAD:IN20:361:BCTRL\",\n",
    "    \"QUAD:IN20:371:BCTRL\",\n",
    "    \"QUAD:IN20:425:BCTRL\",\n",
    "    \"QUAD:IN20:441:BCTRL\",\n",
    "    \"QUAD:IN20:511:BCTRL\",\n",
    "    \"QUAD:IN20:525:BCTRL\"\n",
    "]\n",
    "\n",
    "results = dict(zip(TUNING_VARIABLES,caget_many(TUNING_VARIABLES)))"
   ]
  },
  {
   "cell_type": "code",
   "execution_count": 5,
   "id": "f066cd0d-9457-492a-93aa-8bef595971a6",
   "metadata": {},
   "outputs": [
    {
     "data": {
      "text/plain": [
       "{'SOLN:IN20:121:BCTRL': 0.4755556,\n",
       " 'QUAD:IN20:121:BCTRL': -5.4210109e-20,\n",
       " 'QUAD:IN20:122:BCTRL': 0.0032420044,\n",
       " 'QUAD:IN20:361:BCTRL': -3.1695391,\n",
       " 'QUAD:IN20:371:BCTRL': 2.6302482,\n",
       " 'QUAD:IN20:425:BCTRL': -0.3048029,\n",
       " 'QUAD:IN20:441:BCTRL': -0.6233053,\n",
       " 'QUAD:IN20:511:BCTRL': 4.2917846,\n",
       " 'QUAD:IN20:525:BCTRL': -4.8686214}"
      ]
     },
     "execution_count": 5,
     "metadata": {},
     "output_type": "execute_result"
    }
   ],
   "source": [
    "results"
   ]
  },
  {
   "cell_type": "markdown",
   "id": "8423d376",
   "metadata": {
    "collapsed": false,
    "jupyter": {
     "outputs_hidden": false
    }
   },
   "source": [
    "## Restore defaults"
   ]
  },
  {
   "cell_type": "code",
   "execution_count": 28,
   "id": "d965ab54-c638-4033-a056-58b32918a25a",
   "metadata": {
    "tags": []
   },
   "outputs": [],
   "source": [
    "default = {\n",
    " 'SOLN:IN20:121:BCTRL': 0.4755556,\n",
    " 'QUAD:IN20:121:BCTRL': -5.4210109e-20,\n",
    " 'QUAD:IN20:122:BCTRL': 0.0032420044,\n",
    " 'QUAD:IN20:361:BCTRL': -3.1695391,\n",
    " 'QUAD:IN20:371:BCTRL': 2.6302482,\n",
    " 'QUAD:IN20:425:BCTRL': -0.3048029,\n",
    " 'QUAD:IN20:441:BCTRL': -0.6233053,\n",
    " 'QUAD:IN20:511:BCTRL': 4.2917846,\n",
    " 'QUAD:IN20:525:BCTRL': -4.8686214\n",
    "}\n",
    "\n",
    "## Restore defaults\n",
    "for name,val in default.items():\n",
    "    caput(name, val)"
   ]
  },
  {
   "cell_type": "code",
   "execution_count": 1,
   "id": "e487d8a3-e340-4b3d-967b-6e4a3aa25ee2",
   "metadata": {
    "tags": []
   },
   "outputs": [],
   "source": [
    "import xopt"
   ]
  },
  {
   "cell_type": "code",
   "execution_count": 2,
   "id": "e362bd8f-5056-4100-acdf-705c06df90d1",
   "metadata": {
    "tags": []
   },
   "outputs": [
    {
     "data": {
      "text/plain": [
       "'2.0a1+78.gd113821'"
      ]
     },
     "execution_count": 2,
     "metadata": {},
     "output_type": "execute_result"
    }
   ],
   "source": [
    "xopt.__version__"
   ]
  },
  {
   "cell_type": "code",
   "execution_count": 6,
   "id": "e36bdfd5-8f5e-45ff-85a3-e8f37452c0c3",
   "metadata": {},
   "outputs": [
    {
     "data": {
      "text/plain": [
       "'/usr/local/lcls/package/anaconda/envs/python3.9envs/rhel7/nightly/08-21-2023/lib/python3.9/site-packages/xopt/__init__.py'"
      ]
     },
     "execution_count": 6,
     "metadata": {},
     "output_type": "execute_result"
    }
   ],
   "source": [
    "xopt.__file__"
   ]
  },
  {
   "cell_type": "code",
   "execution_count": null,
   "id": "03f36c00-dd66-4b2a-9e9c-09acfe2d2651",
   "metadata": {},
   "outputs": [],
   "source": [
    "## get beam energy"
   ]
  },
  {
   "cell_type": "code",
   "execution_count": 8,
   "id": "4fc4ac1c-0049-48d8-92bf-569b139e8846",
   "metadata": {},
   "outputs": [
    {
     "data": {
      "text/plain": [
       "0.135"
      ]
     },
     "execution_count": 8,
     "metadata": {},
     "output_type": "execute_result"
    }
   ],
   "source": [
    "caget(\"REFS:IN20:751:EDES\")"
   ]
  },
  {
   "cell_type": "code",
   "execution_count": null,
   "id": "eda6f2d1-09cd-414f-9c63-afab4858f7a0",
   "metadata": {},
   "outputs": [],
   "source": []
  }
 ],
 "metadata": {
  "kernelspec": {
   "display_name": "Python 3 (ipykernel)",
   "language": "python",
   "name": "python3"
  },
  "language_info": {
   "codemirror_mode": {
    "name": "ipython",
    "version": 3
   },
   "file_extension": ".py",
   "mimetype": "text/x-python",
   "name": "python",
   "nbconvert_exporter": "python",
   "pygments_lexer": "ipython3",
   "version": "3.9.17"
  }
 },
 "nbformat": 4,
 "nbformat_minor": 5
}
