{
 "cells": [
  {
   "cell_type": "markdown",
   "source": [
    "## Define evaluate function"
   ],
   "metadata": {
    "collapsed": false
   }
  },
  {
   "cell_type": "code",
   "execution_count": 1,
   "outputs": [],
   "source": [
    "import epics\n",
    "import time\n",
    "import numpy as np\n",
    "\n",
    "def do_measurement(inputs):\n",
    "    \"\"\"use pyepics to set input pvs, wait a few seconds and then do a measurement\"\"\"\n",
    "\n",
    "    mean_charge = 2.61e2  # gun charge in pC\n",
    "    charge_dev = 0.1  # factional charge deviation\n",
    "\n",
    "    # set values\n",
    "    for name, val in inputs.items():\n",
    "        epics.caput(name, val)\n",
    "\n",
    "    # wait\n",
    "    time.sleep(10.0)\n",
    "\n",
    "    data = {}\n",
    "\n",
    "    # calculate total losses\n",
    "    hard_cblm_indexes = range(13, 46)\n",
    "    hard_loss_PVS = [f\"CBLM:UNDH:{ele}75:I1_LOSS\" for ele in hard_cblm_indexes]\n",
    "\n",
    "    data[\"TMITH\"] = epics.caget(\"BPMS:LI30:201:TMITCUH1H\") / 1e9\n",
    "\n",
    "    losses = epics.caget_many(hard_loss_PVS)\n",
    "\n",
    "    data[\"TOTAL_HARD_LOSSES\"] = np.sum(losses)\n",
    "\n",
    "    # get averaged pulse intensity for HXR\n",
    "    data[\"NEG_HXR_AVG_INTENSITY\"] = -epics.caget(\n",
    "        \"EM2K0:XGMD:HPS:AvgPulseIntensity\"\n",
    "    )\n",
    "\n",
    "    data[\"time\"] = time.time()\n",
    "\n",
    "    return data"
   ],
   "metadata": {
    "collapsed": false,
    "ExecuteTime": {
     "end_time": "2023-09-13T20:20:53.108273300Z",
     "start_time": "2023-09-13T20:20:53.013297400Z"
    }
   }
  },
  {
   "cell_type": "markdown",
   "source": [
    "## Define VOCS"
   ],
   "metadata": {
    "collapsed": false
   }
  },
  {
   "cell_type": "code",
   "execution_count": 2,
   "outputs": [
    {
     "data": {
      "text/plain": "VOCS(variables={'QUAD:LI26:201:BCTRL': [10.2, 12.3], 'QUAD:LI26:301:BCTRL': [-12.5, -5.7], 'QUAD:LI26:401:BCTRL': [8.8, 12.2], 'QUAD:LI26:501:BCTRL': [-4.5, -3.7], 'QUAD:LI26:601:BCTRL': [11.2, 12.8], 'QUAD:LI26:701:BCTRL': [-14.5, -13.0], 'QUAD:LI26:801:BCTRL': [12.2, 14.1], 'QUAD:LI26:901:BCTRL': [-10.0, -6.8]}, constraints={}, objectives={'HXR_AVG_INTENSITY': 'MAXIMIZE'}, constants={}, observables=[])"
     },
     "execution_count": 2,
     "metadata": {},
     "output_type": "execute_result"
    }
   ],
   "source": [
    "import pandas as pd\n",
    "from xopt import VOCS\n",
    "filename = \"../variables.csv\"\n",
    "VARIABLE_RANGES = pd.read_csv(filename, index_col=0, header=None).T.to_dict(orient='list')\n",
    "\n",
    "variable_names = [f\"QUAD:LI26:{i}01:BCTRL\" for i in range(2,10)]\n",
    "\n",
    "vocs = VOCS(\n",
    "    variables={ele: VARIABLE_RANGES[ele] for ele in variable_names},\n",
    "    objectives={\"NEG_HXR_AVG_INTENSITY\": \"MINIMIZE\"},\n",
    ")\n",
    "vocs"
   ],
   "metadata": {
    "collapsed": false,
    "ExecuteTime": {
     "end_time": "2023-09-13T20:20:56.054775100Z",
     "start_time": "2023-09-13T20:20:53.112273400Z"
    }
   }
  },
  {
   "cell_type": "markdown",
   "source": [
    "## Define generator, evaluator and Xopt object"
   ],
   "metadata": {
    "collapsed": false
   }
  },
  {
   "cell_type": "code",
   "execution_count": 3,
   "outputs": [
    {
     "data": {
      "text/plain": "\n            Xopt\n________________________________\nVersion: 2.0a1+104.g9e7df7c9.dirty\nData size: 0\nConfig as YAML:\ndump_file: null\nevaluator:\n  function: __main__.do_measurement\n  function_kwargs: {}\n  max_workers: 1\n  vectorized: false\ngenerator:\n  beta: 2.0\n  computation_time: null\n  fixed_features: null\n  max_travel_distances: null\n  model: null\n  model_constructor:\n    covar_modules: {}\n    mean_modules: {}\n    name: standard\n    trainable_mean_keys: []\n    use_low_noise_prior: false\n  n_candidates: 1\n  n_monte_carlo_samples: 128\n  name: upper_confidence_bound\n  numerical_optimizer:\n    max_iter: 2000\n    n_raw_samples: 20\n    n_restarts: 20\n    name: LBFGS\n  turbo_controller:\n    batch_size: 1\n    best_value: null\n    center_x: null\n    dim: 8\n    failure_counter: 0\n    failure_tolerance: 4\n    length: 0.25\n    length_max: 2.0\n    length_min: 0.0078125\n    minimize: false\n    scale_factor: 2.0\n    success_counter: 0\n    success_tolerance: 4\n    tkwargs:\n      dtype: torch.float64\n  use_cuda: false\nmax_evaluations: null\nserialize_torch: false\nstrict: true\nvocs:\n  constants: {}\n  constraints: {}\n  objectives:\n    HXR_AVG_INTENSITY: MAXIMIZE\n  observables: []\n  variables:\n    QUAD:LI26:201:BCTRL:\n    - 10.2\n    - 12.3\n    QUAD:LI26:301:BCTRL:\n    - -12.5\n    - -5.7\n    QUAD:LI26:401:BCTRL:\n    - 8.8\n    - 12.2\n    QUAD:LI26:501:BCTRL:\n    - -4.5\n    - -3.7\n    QUAD:LI26:601:BCTRL:\n    - 11.2\n    - 12.8\n    QUAD:LI26:701:BCTRL:\n    - -14.5\n    - -13.0\n    QUAD:LI26:801:BCTRL:\n    - 12.2\n    - 14.1\n    QUAD:LI26:901:BCTRL:\n    - -10.0\n    - -6.8\n"
     },
     "execution_count": 3,
     "metadata": {},
     "output_type": "execute_result"
    }
   ],
   "source": [
    "from xopt.evaluator import Evaluator\n",
    "from xopt.generators.bayesian import UpperConfidenceBoundGenerator\n",
    "from xopt import Xopt\n",
    "\n",
    "\n",
    "evaluator = Evaluator(function=do_measurement)\n",
    "generator = UpperConfidenceBoundGenerator(\n",
    "    vocs=vocs, turbo_controller=\"optimize\"\n",
    ")\n",
    "# for experiments\n",
    "generator.model_constructor.use_low_noise_prior = False\n",
    "\n",
    "X = Xopt(evaluator=evaluator, generator=generator, vocs=vocs)\n",
    "X"
   ],
   "metadata": {
    "collapsed": false,
    "ExecuteTime": {
     "end_time": "2023-09-13T20:20:56.110807200Z",
     "start_time": "2023-09-13T20:20:56.054775100Z"
    }
   }
  },
  {
   "cell_type": "markdown",
   "source": [
    "## Evaluate initial point(s) and view data"
   ],
   "metadata": {
    "collapsed": false
   }
  },
  {
   "cell_type": "code",
   "execution_count": 4,
   "outputs": [
    {
     "ename": "KeyError",
     "evalue": "'QUAD:LI26:201:BCTRL'",
     "output_type": "error",
     "traceback": [
      "\u001B[1;31m---------------------------------------------------------------------------\u001B[0m",
      "\u001B[1;31mKeyError\u001B[0m                                  Traceback (most recent call last)",
      "Cell \u001B[1;32mIn[4], line 2\u001B[0m\n\u001B[0;32m      1\u001B[0m initial_points \u001B[38;5;241m=\u001B[39m {}\n\u001B[1;32m----> 2\u001B[0m \u001B[43mX\u001B[49m\u001B[38;5;241;43m.\u001B[39;49m\u001B[43mevaluate_data\u001B[49m\u001B[43m(\u001B[49m\u001B[43minitial_points\u001B[49m\u001B[43m)\u001B[49m\n",
      "File \u001B[1;32mc:\\users\\ryan roussel\\documents\\github\\xopt\\xopt\\base.py:151\u001B[0m, in \u001B[0;36mXopt.evaluate_data\u001B[1;34m(self, input_data)\u001B[0m\n\u001B[0;32m    148\u001B[0m         input_data \u001B[38;5;241m=\u001B[39m DataFrame(input_data, index\u001B[38;5;241m=\u001B[39m[\u001B[38;5;241m0\u001B[39m])\n\u001B[0;32m    150\u001B[0m logger\u001B[38;5;241m.\u001B[39mdebug(\u001B[38;5;124mf\u001B[39m\u001B[38;5;124m\"\u001B[39m\u001B[38;5;124mEvaluating \u001B[39m\u001B[38;5;132;01m{\u001B[39;00m\u001B[38;5;28mlen\u001B[39m(input_data)\u001B[38;5;132;01m}\u001B[39;00m\u001B[38;5;124m inputs\u001B[39m\u001B[38;5;124m\"\u001B[39m)\n\u001B[1;32m--> 151\u001B[0m \u001B[38;5;28;43mself\u001B[39;49m\u001B[38;5;241;43m.\u001B[39;49m\u001B[43mvocs\u001B[49m\u001B[38;5;241;43m.\u001B[39;49m\u001B[43mvalidate_input_data\u001B[49m\u001B[43m(\u001B[49m\u001B[43minput_data\u001B[49m\u001B[43m)\u001B[49m\n\u001B[0;32m    152\u001B[0m output_data \u001B[38;5;241m=\u001B[39m \u001B[38;5;28mself\u001B[39m\u001B[38;5;241m.\u001B[39mevaluator\u001B[38;5;241m.\u001B[39mevaluate_data(input_data)\n\u001B[0;32m    154\u001B[0m \u001B[38;5;28;01mif\u001B[39;00m \u001B[38;5;28mself\u001B[39m\u001B[38;5;241m.\u001B[39mstrict:\n",
      "File \u001B[1;32mc:\\users\\ryan roussel\\documents\\github\\xopt\\xopt\\vocs.py:372\u001B[0m, in \u001B[0;36mVOCS.validate_input_data\u001B[1;34m(self, input_points)\u001B[0m\n\u001B[0;32m    358\u001B[0m \u001B[38;5;28;01mdef\u001B[39;00m \u001B[38;5;21mvalidate_input_data\u001B[39m(\u001B[38;5;28mself\u001B[39m, input_points: pd\u001B[38;5;241m.\u001B[39mDataFrame) \u001B[38;5;241m-\u001B[39m\u001B[38;5;241m>\u001B[39m \u001B[38;5;28;01mNone\u001B[39;00m:\n\u001B[0;32m    359\u001B[0m \u001B[38;5;250m    \u001B[39m\u001B[38;5;124;03m\"\"\"\u001B[39;00m\n\u001B[0;32m    360\u001B[0m \u001B[38;5;124;03m    Validates input data. Raises an error if the input data does not satisfy\u001B[39;00m\n\u001B[0;32m    361\u001B[0m \u001B[38;5;124;03m    requirements given by vocs.\u001B[39;00m\n\u001B[1;32m   (...)\u001B[0m\n\u001B[0;32m    370\u001B[0m \u001B[38;5;124;03m        ValueError: if input data does not satisfy requirements.\u001B[39;00m\n\u001B[0;32m    371\u001B[0m \u001B[38;5;124;03m    \"\"\"\u001B[39;00m\n\u001B[1;32m--> 372\u001B[0m     \u001B[43mvalidate_input_data\u001B[49m\u001B[43m(\u001B[49m\u001B[38;5;28;43mself\u001B[39;49m\u001B[43m,\u001B[49m\u001B[43m \u001B[49m\u001B[43minput_points\u001B[49m\u001B[43m)\u001B[49m\n",
      "File \u001B[1;32mc:\\users\\ryan roussel\\documents\\github\\xopt\\xopt\\vocs.py:556\u001B[0m, in \u001B[0;36mvalidate_input_data\u001B[1;34m(vocs, data)\u001B[0m\n\u001B[0;32m    553\u001B[0m lower \u001B[38;5;241m=\u001B[39m vocs\u001B[38;5;241m.\u001B[39mvariables[name][\u001B[38;5;241m0\u001B[39m]\n\u001B[0;32m    554\u001B[0m upper \u001B[38;5;241m=\u001B[39m vocs\u001B[38;5;241m.\u001B[39mvariables[name][\u001B[38;5;241m1\u001B[39m]\n\u001B[1;32m--> 556\u001B[0m d \u001B[38;5;241m=\u001B[39m \u001B[43mdata\u001B[49m\u001B[43m[\u001B[49m\u001B[43mname\u001B[49m\u001B[43m]\u001B[49m\n\u001B[0;32m    558\u001B[0m \u001B[38;5;66;03m# see if points violate limits\u001B[39;00m\n\u001B[0;32m    559\u001B[0m is_out_of_bounds \u001B[38;5;241m=\u001B[39m pd\u001B[38;5;241m.\u001B[39mDataFrame((d \u001B[38;5;241m<\u001B[39m lower, d \u001B[38;5;241m>\u001B[39m upper))\u001B[38;5;241m.\u001B[39many(axis\u001B[38;5;241m=\u001B[39m\u001B[38;5;241m0\u001B[39m)\n",
      "File \u001B[1;32m~\\mambaforge\\envs\\emittance_bax\\lib\\site-packages\\pandas\\core\\frame.py:3761\u001B[0m, in \u001B[0;36mDataFrame.__getitem__\u001B[1;34m(self, key)\u001B[0m\n\u001B[0;32m   3759\u001B[0m \u001B[38;5;28;01mif\u001B[39;00m \u001B[38;5;28mself\u001B[39m\u001B[38;5;241m.\u001B[39mcolumns\u001B[38;5;241m.\u001B[39mnlevels \u001B[38;5;241m>\u001B[39m \u001B[38;5;241m1\u001B[39m:\n\u001B[0;32m   3760\u001B[0m     \u001B[38;5;28;01mreturn\u001B[39;00m \u001B[38;5;28mself\u001B[39m\u001B[38;5;241m.\u001B[39m_getitem_multilevel(key)\n\u001B[1;32m-> 3761\u001B[0m indexer \u001B[38;5;241m=\u001B[39m \u001B[38;5;28;43mself\u001B[39;49m\u001B[38;5;241;43m.\u001B[39;49m\u001B[43mcolumns\u001B[49m\u001B[38;5;241;43m.\u001B[39;49m\u001B[43mget_loc\u001B[49m\u001B[43m(\u001B[49m\u001B[43mkey\u001B[49m\u001B[43m)\u001B[49m\n\u001B[0;32m   3762\u001B[0m \u001B[38;5;28;01mif\u001B[39;00m is_integer(indexer):\n\u001B[0;32m   3763\u001B[0m     indexer \u001B[38;5;241m=\u001B[39m [indexer]\n",
      "File \u001B[1;32m~\\mambaforge\\envs\\emittance_bax\\lib\\site-packages\\pandas\\core\\indexes\\range.py:349\u001B[0m, in \u001B[0;36mRangeIndex.get_loc\u001B[1;34m(self, key)\u001B[0m\n\u001B[0;32m    347\u001B[0m         \u001B[38;5;28;01mraise\u001B[39;00m \u001B[38;5;167;01mKeyError\u001B[39;00m(key) \u001B[38;5;28;01mfrom\u001B[39;00m \u001B[38;5;21;01merr\u001B[39;00m\n\u001B[0;32m    348\u001B[0m \u001B[38;5;28;01mif\u001B[39;00m \u001B[38;5;28misinstance\u001B[39m(key, Hashable):\n\u001B[1;32m--> 349\u001B[0m     \u001B[38;5;28;01mraise\u001B[39;00m \u001B[38;5;167;01mKeyError\u001B[39;00m(key)\n\u001B[0;32m    350\u001B[0m \u001B[38;5;28mself\u001B[39m\u001B[38;5;241m.\u001B[39m_check_indexing_error(key)\n\u001B[0;32m    351\u001B[0m \u001B[38;5;28;01mraise\u001B[39;00m \u001B[38;5;167;01mKeyError\u001B[39;00m(key)\n",
      "\u001B[1;31mKeyError\u001B[0m: 'QUAD:LI26:201:BCTRL'"
     ]
    }
   ],
   "source": [
    "initial_points = {}\n",
    "X.evaluate_data(initial_points)"
   ],
   "metadata": {
    "collapsed": false,
    "ExecuteTime": {
     "end_time": "2023-09-13T20:20:57.281962Z",
     "start_time": "2023-09-13T20:20:56.084775100Z"
    }
   }
  },
  {
   "cell_type": "code",
   "execution_count": null,
   "outputs": [],
   "source": [
    "X.data"
   ],
   "metadata": {
    "collapsed": false
   }
  },
  {
   "cell_type": "markdown",
   "source": [
    "## Run optimization"
   ],
   "metadata": {
    "collapsed": false
   }
  },
  {
   "cell_type": "code",
   "execution_count": null,
   "outputs": [],
   "source": [
    "for n in range(5):\n",
    "    print(n)\n",
    "    X.step()"
   ],
   "metadata": {
    "collapsed": false
   }
  }
 ],
 "metadata": {
  "kernelspec": {
   "display_name": "Python 3",
   "language": "python",
   "name": "python3"
  },
  "language_info": {
   "codemirror_mode": {
    "name": "ipython",
    "version": 2
   },
   "file_extension": ".py",
   "mimetype": "text/x-python",
   "name": "python",
   "nbconvert_exporter": "python",
   "pygments_lexer": "ipython2",
   "version": "2.7.6"
  }
 },
 "nbformat": 4,
 "nbformat_minor": 0
}
