{
 "cells": [
  {
   "cell_type": "markdown",
   "source": [
    "## imports / setup"
   ],
   "metadata": {
    "collapsed": false
   }
  },
  {
   "cell_type": "code",
   "execution_count": 1,
   "outputs": [],
   "source": [
    "import epics\n",
    "import time\n",
    "import numpy as np"
   ],
   "metadata": {
    "collapsed": false,
    "ExecuteTime": {
     "end_time": "2023-11-01T18:50:00.016187800Z",
     "start_time": "2023-11-01T18:49:59.891078500Z"
    }
   }
  },
  {
   "cell_type": "markdown",
   "source": [
    "## PVs"
   ],
   "metadata": {
    "collapsed": false
   }
  },
  {
   "cell_type": "code",
   "execution_count": 2,
   "outputs": [],
   "source": [
    "pv_list_all = ['QUAD:LI26:201:BCTRL',\n",
    "    'QUAD:LI26:301:BCTRL',\n",
    "    'QUAD:LI26:401:BCTRL',\n",
    "    'QUAD:LI26:501:BCTRL',\n",
    "    'QUAD:LI26:601:BCTRL',\n",
    "    'QUAD:LI26:701:BCTRL',\n",
    "    'QUAD:LI26:801:BCTRL',\n",
    "    'QUAD:LI26:901:BCTRL',\n",
    "\n",
    "    'TDLY:LI21:1:ADelaySet', #1115.6*10**-9 +/- 7e-9\n",
    "    'MKB:SYS0:3:VAL',  #-0.1 to 0.1\n",
    "    'TDLY:LI21:1:CDelaySet', #1106.1*10**-9 +/- 7e-9\n",
    "    'MKB:SYS0:4:VAL', #-0.1 to 0.1\n",
    "    'SIOC:SYS0:ML07:AO736', #pulse 1\n",
    "    'SIOC:SYS0:ML07:AO737', #pulse 2\n",
    "    #'SIOC:SYS0:ML07:AO738', #pulse 3\n",
    "    #'SIOC:SYS0:ML07:AO739', #pulse 4\n",
    "\n",
    "    'QUAD:LTUH:620:BCTRL',\n",
    "    'QUAD:LTUH:640:BCTRL',\n",
    "    'QUAD:LTUH:660:BCTRL',\n",
    "    'QUAD:LTUH:680:BCTRL',\n",
    "\n",
    "    'QUAD:LI21:221:BCTRL',\n",
    "    'QUAD:LI21:251:BCTRL',\n",
    "    'QUAD:LI24:740:BCTRL',\n",
    "    'QUAD:LI24:860:BCTRL',\n",
    "    'QUAD:LTUH:440:BCTRL',\n",
    "    'QUAD:LTUH:460:BCTRL']\n",
    "\n",
    "pv_list_read = ['DIAG:FEE1:202:241:Data',\n",
    "                'SIOC:SYS0:ML07:AO736', #pulse 1\n",
    "                'SIOC:SYS0:ML07:AO737',\n",
    "                'GDET:FEE1:241:ENRC',\n",
    "               'GUN:IN20:1:GUN_WF',\n",
    "                'ACCL:IN20:300:L0A_WF',\n",
    "                'ACCL:IN20:400:L0B_WF',\n",
    "                'ACCL:LI21:1:L1S_WF',\n",
    "                'ACCL:LI21:180:L1X_WF',\n",
    "                'TCAV:DMPH:360:TCA_WF',\n",
    "                'ACCL:LI24:100:KLY_WF',\n",
    "                'ACCL:LI24:200:KLY_WF',\n",
    "                'ACCL:LI24:300:KLY_EF' ]"
   ],
   "metadata": {
    "collapsed": false,
    "ExecuteTime": {
     "end_time": "2023-11-01T18:50:00.018105800Z",
     "start_time": "2023-11-01T18:50:00.016187800Z"
    }
   }
  },
  {
   "cell_type": "code",
   "execution_count": 3,
   "outputs": [
    {
     "name": "stdout",
     "output_type": "stream",
     "text": [
      "{'DIAG:FEE1:202:241:Data': None, 'SIOC:SYS0:ML07:AO736': None, 'SIOC:SYS0:ML07:AO737': None, 'GDET:FEE1:241:ENRC': None, 'GUN:IN20:1:GUN_WF': None, 'ACCL:IN20:300:L0A_WF': None, 'ACCL:IN20:400:L0B_WF': None, 'ACCL:LI21:1:L1S_WF': None, 'ACCL:LI21:180:L1X_WF': None, 'TCAV:DMPH:360:TCA_WF': None, 'ACCL:LI24:100:KLY_WF': None, 'ACCL:LI24:200:KLY_WF': None, 'ACCL:LI24:300:KLY_EF': None}\n"
     ]
    }
   ],
   "source": [
    "current_values = dict(zip(pv_list_read, epics.caget_many(pv_list_read)))\n",
    "print(current_values)"
   ],
   "metadata": {
    "collapsed": false,
    "ExecuteTime": {
     "end_time": "2023-11-01T18:50:05.072396100Z",
     "start_time": "2023-11-01T18:50:00.019105600Z"
    }
   }
  },
  {
   "cell_type": "markdown",
   "source": [
    "### evaluate definition"
   ],
   "metadata": {
    "collapsed": false
   }
  },
  {
   "cell_type": "code",
   "execution_count": 4,
   "outputs": [],
   "source": [
    "def do_measurement(inputs):\n",
    "\n",
    "    sett = True\n",
    "    # set values\n",
    "    if sett is True:\n",
    "        for name, val in inputs.items():\n",
    "\n",
    "            if name == 'TDLY:LI21:1:ADelaySet':\n",
    "                val=val*10**-5\n",
    "                print(val)\n",
    "            if name == 'TDLY:LI21:1:CDelaySet':\n",
    "                val=val*10**-5\n",
    "                print(val)\n",
    "          # if name == 'MKB:SYS0:3:VAL':\n",
    "          #     val=val*10**-6\n",
    "          #     print(val)\n",
    "          # if name == 'MKB:SYS0:4:VAL':\n",
    "          #     val=val*10**-6\n",
    "          #     print(val)\n",
    "            epics.caput(name, val)\n",
    "\n",
    "        ## wait\n",
    "        time.sleep(8.0)\n",
    "\n",
    "\n",
    "    # get measured values and settings\n",
    "    data_list = epics.caget_many(pv_list_read)\n",
    "\n",
    "    data = dict(zip(pv_list_read, data_list))\n",
    "\n",
    "    # can replace this with new way of getting gas detector, but also don't technically need it if the individual pulse intensity metrics are working\n",
    "    thresh = 0.0001\n",
    "    obj = epics.caget('GDET:FEE1:241:ENRCHSTCUHBR')\n",
    "    obj = obj[obj > thresh]\n",
    "    counter = 0\n",
    "    meanobj = np.nanmean(obj)\n",
    "    while obj.shape[0] == 0 or meanobj <thresh:\n",
    "        obj = epics.caget('GDET:FEE1:241:ENRCHSTCUHBR')\n",
    "        obj = obj[obj > thresh]\n",
    "        meanobj = np.nanmean(obj)\n",
    "        counter = counter + 1\n",
    "        #print('catching gdet < 0.1')\n",
    "        time.sleep(0.0001)\n",
    "        if counter > 200:\n",
    "            break\n",
    "    obj0 = np.nanmean(obj)\n",
    "\n",
    "    #these are the 1st and 2nd pulse -- PV will change and need to get from Alex or have Alex change\n",
    "    obj2 =  epics.caget('SIOC:SYS0:ML07:AO737')\n",
    "    obj1 =  epics.caget('SIOC:SYS0:ML07:AO736')\n",
    "    obj_sum = obj1 + obj2\n",
    "\n",
    "    print('obj ', obj0)\n",
    "    print('obj_sum ', obj_sum)\n",
    "    print('obj1 ', obj1)\n",
    "    print('obj2 ', obj2)\n",
    "\n",
    "\n",
    "    #for including losses in constraints, calculate total losses, or look at charge\n",
    "    #soft_cblm_indexes = range(26, 48)\n",
    "    hard_cblm_indexes = range(13, 46)\n",
    "    #soft_loss_PVS = [f\"CBLM:UNDS:{ele}10:I1_LOSS\" for ele in soft_cblm_indexes]\n",
    "    hard_loss_PVS = [f\"CBLM:UNDH:{ele}75:I1_LOSS\" for ele in hard_cblm_indexes]\n",
    "\n",
    "    data[\"TMITH\"] = epics.caget(\"BPMS:LI30:201:TMITCUH1H\") / 1e9\n",
    "    #data[\"TMITS\"] = epics.caget(\"BPMS:LI30:201:TMITCUS1H\") / 1e9\n",
    "\n",
    "    losses = epics.caget_many(hard_loss_PVS)\n",
    "    #data[\"TOTAL_SOFT_LOSSES\"] = np.sum(losses[:len(soft_loss_PVS)])\n",
    "    #data[\"TOTAL_HARD_LOSSES\"] = np.sum(losses)\n",
    "\n",
    "\n",
    "    data[\"GDET\"] = np.nanmean(obj0)\n",
    "    data[\"SIOC:SYS0:ML07:AO737\"] = obj2\n",
    "    data[\"SIOC:SYS0:ML07:AO736\"] = obj1\n",
    "    data[\"obj_sum\"]= obj_sum\n",
    "    data[\"GDET_constraint_check\"] = np.nanmean(obj0)\n",
    "    data[\"obj_sum_constraint\"]= obj_sum\n",
    "    data[\"SIOC:SYS0:ML07:AO737_constraint\"] = obj2\n",
    "    data[\"SIOC:SYS0:ML07:AO736_constraint\"] = obj1\n",
    "\n",
    "    data[\"time\"] = time.time()\n",
    "\n",
    "    return data"
   ],
   "metadata": {
    "collapsed": false,
    "ExecuteTime": {
     "end_time": "2023-11-01T18:50:05.125454300Z",
     "start_time": "2023-11-01T18:50:05.082418300Z"
    }
   }
  },
  {
   "cell_type": "markdown",
   "source": [
    "## Create Xopt object"
   ],
   "metadata": {
    "collapsed": false
   }
  },
  {
   "cell_type": "code",
   "execution_count": 5,
   "outputs": [
    {
     "ename": "ImportError",
     "evalue": "cannot import name 'field_validator' from 'pydantic' (C:\\Users\\Ryan Roussel\\mambaforge\\envs\\emittance_bax\\lib\\site-packages\\pydantic\\__init__.cp39-win_amd64.pyd)",
     "output_type": "error",
     "traceback": [
      "\u001B[1;31m---------------------------------------------------------------------------\u001B[0m",
      "\u001B[1;31mImportError\u001B[0m                               Traceback (most recent call last)",
      "Cell \u001B[1;32mIn[5], line 1\u001B[0m\n\u001B[1;32m----> 1\u001B[0m \u001B[38;5;28;01mfrom\u001B[39;00m \u001B[38;5;21;01mxopt\u001B[39;00m \u001B[38;5;28;01mimport\u001B[39;00m VOCS\n\u001B[0;32m      2\u001B[0m \u001B[38;5;66;03m# define YAML\u001B[39;00m\n\u001B[0;32m      4\u001B[0m Y \u001B[38;5;241m=\u001B[39m\u001B[38;5;124m\"\"\"\u001B[39m\n\u001B[0;32m      5\u001B[0m \u001B[38;5;124mvariables:\u001B[39m\n\u001B[0;32m      6\u001B[0m \u001B[38;5;124m    TDLY:LI21:1:ADelaySet: [0,1] #will update later\u001B[39m\n\u001B[1;32m   (...)\u001B[0m\n\u001B[0;32m     19\u001B[0m \u001B[38;5;124m    SIOC:SYS0:ML07:AO736_constraint: [GREATER_THAN, 0.001]\u001B[39m\n\u001B[0;32m     20\u001B[0m \u001B[38;5;124m\"\"\"\u001B[39m\n",
      "File \u001B[1;32m~\\Documents\\GitHub\\Xopt\\xopt\\__init__.py:2\u001B[0m\n\u001B[0;32m      1\u001B[0m \u001B[38;5;28;01mfrom\u001B[39;00m \u001B[38;5;21;01mxopt\u001B[39;00m \u001B[38;5;28;01mimport\u001B[39;00m _version\n\u001B[1;32m----> 2\u001B[0m \u001B[38;5;28;01mfrom\u001B[39;00m \u001B[38;5;21;01mxopt\u001B[39;00m\u001B[38;5;21;01m.\u001B[39;00m\u001B[38;5;21;01masynchronous\u001B[39;00m \u001B[38;5;28;01mimport\u001B[39;00m AsynchronousXopt\n\u001B[0;32m      3\u001B[0m \u001B[38;5;28;01mfrom\u001B[39;00m \u001B[38;5;21;01mxopt\u001B[39;00m\u001B[38;5;21;01m.\u001B[39;00m\u001B[38;5;21;01mbase\u001B[39;00m \u001B[38;5;28;01mimport\u001B[39;00m Xopt\n\u001B[0;32m      4\u001B[0m \u001B[38;5;28;01mfrom\u001B[39;00m \u001B[38;5;21;01mxopt\u001B[39;00m\u001B[38;5;21;01m.\u001B[39;00m\u001B[38;5;21;01mevaluator\u001B[39;00m \u001B[38;5;28;01mimport\u001B[39;00m Evaluator\n",
      "File \u001B[1;32m~\\Documents\\GitHub\\Xopt\\xopt\\asynchronous.py:9\u001B[0m\n\u001B[0;32m      6\u001B[0m \u001B[38;5;28;01mfrom\u001B[39;00m \u001B[38;5;21;01mpandas\u001B[39;00m \u001B[38;5;28;01mimport\u001B[39;00m DataFrame\n\u001B[0;32m      7\u001B[0m \u001B[38;5;28;01mfrom\u001B[39;00m \u001B[38;5;21;01mpydantic\u001B[39;00m \u001B[38;5;28;01mimport\u001B[39;00m Field\n\u001B[1;32m----> 9\u001B[0m \u001B[38;5;28;01mfrom\u001B[39;00m \u001B[38;5;21;01mxopt\u001B[39;00m\u001B[38;5;21;01m.\u001B[39;00m\u001B[38;5;21;01mbase\u001B[39;00m \u001B[38;5;28;01mimport\u001B[39;00m logger, Xopt\n\u001B[0;32m     10\u001B[0m \u001B[38;5;28;01mfrom\u001B[39;00m \u001B[38;5;21;01mxopt\u001B[39;00m\u001B[38;5;21;01m.\u001B[39;00m\u001B[38;5;21;01mevaluator\u001B[39;00m \u001B[38;5;28;01mimport\u001B[39;00m validate_outputs\n\u001B[0;32m     13\u001B[0m \u001B[38;5;28;01mclass\u001B[39;00m \u001B[38;5;21;01mAsynchronousXopt\u001B[39;00m(Xopt):\n",
      "File \u001B[1;32m~\\Documents\\GitHub\\Xopt\\xopt\\base.py:9\u001B[0m\n\u001B[0;32m      7\u001B[0m \u001B[38;5;28;01mimport\u001B[39;00m \u001B[38;5;21;01myaml\u001B[39;00m\n\u001B[0;32m      8\u001B[0m \u001B[38;5;28;01mfrom\u001B[39;00m \u001B[38;5;21;01mpandas\u001B[39;00m \u001B[38;5;28;01mimport\u001B[39;00m DataFrame\n\u001B[1;32m----> 9\u001B[0m \u001B[38;5;28;01mfrom\u001B[39;00m \u001B[38;5;21;01mpydantic\u001B[39;00m \u001B[38;5;28;01mimport\u001B[39;00m (\n\u001B[0;32m     10\u001B[0m     Field,\n\u001B[0;32m     11\u001B[0m     field_validator,\n\u001B[0;32m     12\u001B[0m     model_validator,\n\u001B[0;32m     13\u001B[0m     SerializeAsAny,\n\u001B[0;32m     14\u001B[0m     ValidationInfo,\n\u001B[0;32m     15\u001B[0m )\n\u001B[0;32m     17\u001B[0m \u001B[38;5;28;01mfrom\u001B[39;00m \u001B[38;5;21;01mxopt\u001B[39;00m \u001B[38;5;28;01mimport\u001B[39;00m _version\n\u001B[0;32m     18\u001B[0m \u001B[38;5;28;01mfrom\u001B[39;00m \u001B[38;5;21;01mxopt\u001B[39;00m\u001B[38;5;21;01m.\u001B[39;00m\u001B[38;5;21;01mevaluator\u001B[39;00m \u001B[38;5;28;01mimport\u001B[39;00m Evaluator, validate_outputs\n",
      "\u001B[1;31mImportError\u001B[0m: cannot import name 'field_validator' from 'pydantic' (C:\\Users\\Ryan Roussel\\mambaforge\\envs\\emittance_bax\\lib\\site-packages\\pydantic\\__init__.cp39-win_amd64.pyd)"
     ]
    }
   ],
   "source": [
    "from xopt import VOCS\n",
    "# define YAML\n",
    "\n",
    "Y =\"\"\"\n",
    "variables:\n",
    "    TDLY:LI21:1:ADelaySet: [0,1] #will update later\n",
    "    MKB:SYS0:3:VAL: [0,1]\n",
    "    TDLY:LI21:1:CDelaySet: [0,1]\n",
    "    MKB:SYS0:4:VAL: [0,1]\n",
    "    #will add more automatically below\n",
    "\n",
    "\n",
    "objectives:\n",
    "    obj_sum: MAXIMIZE\n",
    "\n",
    "constraints:\n",
    "    GDET_constraint_check: [GREATER_THAN, 0.001]\n",
    "    SIOC:SYS0:ML07:AO737_constraint: [GREATER_THAN, 0.001]\n",
    "    SIOC:SYS0:ML07:AO736_constraint: [GREATER_THAN, 0.001]\n",
    "\"\"\"\n",
    "\n",
    "vocs = VOCS.from_yaml(Y)"
   ],
   "metadata": {
    "collapsed": false,
    "ExecuteTime": {
     "end_time": "2023-11-01T18:50:05.936529800Z",
     "start_time": "2023-11-01T18:50:05.101386100Z"
    }
   }
  },
  {
   "cell_type": "code",
   "execution_count": 7,
   "outputs": [
    {
     "ename": "ImportError",
     "evalue": "cannot import name 'field_validator' from 'pydantic' (C:\\Users\\Ryan Roussel\\mambaforge\\envs\\emittance_bax\\lib\\site-packages\\pydantic\\__init__.cp39-win_amd64.pyd)",
     "output_type": "error",
     "traceback": [
      "\u001B[1;31m---------------------------------------------------------------------------\u001B[0m",
      "\u001B[1;31mImportError\u001B[0m                               Traceback (most recent call last)",
      "Cell \u001B[1;32mIn[7], line 1\u001B[0m\n\u001B[1;32m----> 1\u001B[0m \u001B[38;5;28;01mfrom\u001B[39;00m \u001B[38;5;21;01mxopt\u001B[39;00m \u001B[38;5;28;01mimport\u001B[39;00m Evaluator, Xopt\n\u001B[0;32m      2\u001B[0m \u001B[38;5;28;01mfrom\u001B[39;00m \u001B[38;5;21;01mxopt\u001B[39;00m\u001B[38;5;21;01m.\u001B[39;00m\u001B[38;5;21;01mgenerators\u001B[39;00m \u001B[38;5;28;01mimport\u001B[39;00m ExpectedImprovementGenerator\n\u001B[0;32m      4\u001B[0m evaluator \u001B[38;5;241m=\u001B[39m Evaluator(function\u001B[38;5;241m=\u001B[39mdo_measurement)\n",
      "File \u001B[1;32m~\\Documents\\GitHub\\Xopt\\xopt\\__init__.py:2\u001B[0m\n\u001B[0;32m      1\u001B[0m \u001B[38;5;28;01mfrom\u001B[39;00m \u001B[38;5;21;01mxopt\u001B[39;00m \u001B[38;5;28;01mimport\u001B[39;00m _version\n\u001B[1;32m----> 2\u001B[0m \u001B[38;5;28;01mfrom\u001B[39;00m \u001B[38;5;21;01mxopt\u001B[39;00m\u001B[38;5;21;01m.\u001B[39;00m\u001B[38;5;21;01masynchronous\u001B[39;00m \u001B[38;5;28;01mimport\u001B[39;00m AsynchronousXopt\n\u001B[0;32m      3\u001B[0m \u001B[38;5;28;01mfrom\u001B[39;00m \u001B[38;5;21;01mxopt\u001B[39;00m\u001B[38;5;21;01m.\u001B[39;00m\u001B[38;5;21;01mbase\u001B[39;00m \u001B[38;5;28;01mimport\u001B[39;00m Xopt\n\u001B[0;32m      4\u001B[0m \u001B[38;5;28;01mfrom\u001B[39;00m \u001B[38;5;21;01mxopt\u001B[39;00m\u001B[38;5;21;01m.\u001B[39;00m\u001B[38;5;21;01mevaluator\u001B[39;00m \u001B[38;5;28;01mimport\u001B[39;00m Evaluator\n",
      "File \u001B[1;32m~\\Documents\\GitHub\\Xopt\\xopt\\asynchronous.py:9\u001B[0m\n\u001B[0;32m      6\u001B[0m \u001B[38;5;28;01mfrom\u001B[39;00m \u001B[38;5;21;01mpandas\u001B[39;00m \u001B[38;5;28;01mimport\u001B[39;00m DataFrame\n\u001B[0;32m      7\u001B[0m \u001B[38;5;28;01mfrom\u001B[39;00m \u001B[38;5;21;01mpydantic\u001B[39;00m \u001B[38;5;28;01mimport\u001B[39;00m Field\n\u001B[1;32m----> 9\u001B[0m \u001B[38;5;28;01mfrom\u001B[39;00m \u001B[38;5;21;01mxopt\u001B[39;00m\u001B[38;5;21;01m.\u001B[39;00m\u001B[38;5;21;01mbase\u001B[39;00m \u001B[38;5;28;01mimport\u001B[39;00m logger, Xopt\n\u001B[0;32m     10\u001B[0m \u001B[38;5;28;01mfrom\u001B[39;00m \u001B[38;5;21;01mxopt\u001B[39;00m\u001B[38;5;21;01m.\u001B[39;00m\u001B[38;5;21;01mevaluator\u001B[39;00m \u001B[38;5;28;01mimport\u001B[39;00m validate_outputs\n\u001B[0;32m     13\u001B[0m \u001B[38;5;28;01mclass\u001B[39;00m \u001B[38;5;21;01mAsynchronousXopt\u001B[39;00m(Xopt):\n",
      "File \u001B[1;32m~\\Documents\\GitHub\\Xopt\\xopt\\base.py:9\u001B[0m\n\u001B[0;32m      7\u001B[0m \u001B[38;5;28;01mimport\u001B[39;00m \u001B[38;5;21;01myaml\u001B[39;00m\n\u001B[0;32m      8\u001B[0m \u001B[38;5;28;01mfrom\u001B[39;00m \u001B[38;5;21;01mpandas\u001B[39;00m \u001B[38;5;28;01mimport\u001B[39;00m DataFrame\n\u001B[1;32m----> 9\u001B[0m \u001B[38;5;28;01mfrom\u001B[39;00m \u001B[38;5;21;01mpydantic\u001B[39;00m \u001B[38;5;28;01mimport\u001B[39;00m (\n\u001B[0;32m     10\u001B[0m     Field,\n\u001B[0;32m     11\u001B[0m     field_validator,\n\u001B[0;32m     12\u001B[0m     model_validator,\n\u001B[0;32m     13\u001B[0m     SerializeAsAny,\n\u001B[0;32m     14\u001B[0m     ValidationInfo,\n\u001B[0;32m     15\u001B[0m )\n\u001B[0;32m     17\u001B[0m \u001B[38;5;28;01mfrom\u001B[39;00m \u001B[38;5;21;01mxopt\u001B[39;00m \u001B[38;5;28;01mimport\u001B[39;00m _version\n\u001B[0;32m     18\u001B[0m \u001B[38;5;28;01mfrom\u001B[39;00m \u001B[38;5;21;01mxopt\u001B[39;00m\u001B[38;5;21;01m.\u001B[39;00m\u001B[38;5;21;01mevaluator\u001B[39;00m \u001B[38;5;28;01mimport\u001B[39;00m Evaluator, validate_outputs\n",
      "\u001B[1;31mImportError\u001B[0m: cannot import name 'field_validator' from 'pydantic' (C:\\Users\\Ryan Roussel\\mambaforge\\envs\\emittance_bax\\lib\\site-packages\\pydantic\\__init__.cp39-win_amd64.pyd)"
     ]
    }
   ],
   "source": [
    "from xopt import Evaluator, Xopt\n",
    "from xopt.generators import ExpectedImprovementGenerator\n",
    "\n",
    "evaluator = Evaluator(function=do_measurement)\n",
    "generator = ExpectedImprovementGenerator(\n",
    "    vocs=vocs, turbo_controller=\"optimize\"\n",
    ")\n",
    "# for experiments\n",
    "generator.gp_constructor.use_low_noise_prior = False\n",
    "\n",
    "X = Xopt(evaluator=evaluator, generator=generator, vocs=vocs)\n",
    "X\n"
   ],
   "metadata": {
    "collapsed": false,
    "ExecuteTime": {
     "end_time": "2023-11-01T18:50:17.830442900Z",
     "start_time": "2023-11-01T18:50:17.754337Z"
    }
   }
  },
  {
   "cell_type": "code",
   "execution_count": null,
   "outputs": [],
   "source": [
    "## generate random initial samples near current set point\n",
    "from xopt.utils import get_local_region\n",
    "\n",
    "# get current values that match vocs\n",
    "center_values = {name: current_values[name] for name in vocs.variable_names}\n",
    "init_region = get_local_region(center_values, vocs, fraction=0.1)\n",
    "\n",
    "# evaluate random points near current setting\n",
    "X.random_evaluate(3, custom_bounds=init_region)\n"
   ],
   "metadata": {
    "collapsed": false
   }
  },
  {
   "cell_type": "markdown",
   "source": [
    "## run optimization"
   ],
   "metadata": {
    "collapsed": false
   }
  },
  {
   "cell_type": "code",
   "execution_count": null,
   "outputs": [],
   "source": [
    "n_steps = 10\n",
    "for i in range(n_steps):\n",
    "    X.step()"
   ],
   "metadata": {
    "collapsed": false
   }
  },
  {
   "cell_type": "markdown",
   "source": [
    "## plot results"
   ],
   "metadata": {
    "collapsed": false
   }
  },
  {
   "cell_type": "code",
   "execution_count": null,
   "outputs": [],
   "source": [
    "# plot variables\n",
    "X.vocs.normalize_inputs(X.data).plot(X.vocs.variable_names)"
   ],
   "metadata": {
    "collapsed": false
   }
  },
  {
   "cell_type": "code",
   "execution_count": null,
   "outputs": [],
   "source": [
    "# plot objective\n",
    "X.data.plot(X.vocs.objective_names)"
   ],
   "metadata": {
    "collapsed": false
   }
  }
 ],
 "metadata": {
  "kernelspec": {
   "display_name": "Python 3",
   "language": "python",
   "name": "python3"
  },
  "language_info": {
   "codemirror_mode": {
    "name": "ipython",
    "version": 2
   },
   "file_extension": ".py",
   "mimetype": "text/x-python",
   "name": "python",
   "nbconvert_exporter": "python",
   "pygments_lexer": "ipython2",
   "version": "2.7.6"
  }
 },
 "nbformat": 4,
 "nbformat_minor": 0
}
