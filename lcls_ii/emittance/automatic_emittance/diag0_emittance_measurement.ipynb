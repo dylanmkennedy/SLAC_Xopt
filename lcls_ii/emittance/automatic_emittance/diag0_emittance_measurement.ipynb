{
 "cells": [
  {
   "cell_type": "markdown",
   "id": "bc399a5e-9758-40fe-b849-0c39c7f8691a",
   "metadata": {},
   "source": [
    "# Minimize beam size and measure emittance on DIAG0"
   ]
  },
  {
   "cell_type": "code",
   "execution_count": null,
   "id": "6f1f8362-b364-4630-a35d-faf2bb3899e9",
   "metadata": {},
   "outputs": [],
   "source": [
    "# set up env for running on SLAC production servers\n",
    "import os\n",
    "os.environ['OMP_NUM_THREADS']=str(6)"
   ]
  },
  {
   "cell_type": "code",
   "execution_count": null,
   "id": "62d0c11c-3e6b-4f9c-ba17-1a9a5a7eef35",
   "metadata": {},
   "outputs": [],
   "source": [
    "run_dir = '/home/physics/ml_tuning/20241114_DIAG0'"
   ]
  },
  {
   "cell_type": "markdown",
   "id": "f9ac5f37-63eb-4f6a-bf4d-e8e19999d790",
   "metadata": {},
   "source": [
    "# Read pv info from YAML files"
   ]
  },
  {
   "cell_type": "code",
   "execution_count": null,
   "id": "da3944b8-d503-4caa-811d-66bba1a83079",
   "metadata": {},
   "outputs": [],
   "source": [
    "import sys\n",
    "import yaml\n",
    "# sys.path.append(\"../../\")\n",
    "sys.path.append(\"../\")\n",
    "\n",
    "from common import get_pv_objects, save_reference_point, set_magnet_strengths, \\\n",
    "    measure_pvs"
   ]
  },
  {
   "cell_type": "code",
   "execution_count": null,
   "id": "99fca483-fbc6-4500-8122-5375dc6642e5",
   "metadata": {},
   "outputs": [],
   "source": [
    "pv_bounds = yaml.safe_load(open(\"../../pv_bounds.yml\"))\n",
    "pv_objects = get_pv_objects(\"../../tracked_pvs.yml\")"
   ]
  },
  {
   "cell_type": "code",
   "execution_count": null,
   "id": "3b457361-4c77-4d8e-9b69-e0a2d95fb07c",
   "metadata": {},
   "outputs": [],
   "source": [
    "pv_bounds"
   ]
  },
  {
   "cell_type": "code",
   "execution_count": null,
   "id": "71f131d2-2fe7-4a8d-8b71-da870b173ceb",
   "metadata": {},
   "outputs": [],
   "source": [
    "reference = yaml.safe_load(open(\"reference.yml\"))\n",
    "\n",
    "def reset_pvs():\n",
    "    set_magnet_strengths(reference, pv_objects, validate=False)"
   ]
  },
  {
   "cell_type": "code",
   "execution_count": null,
   "id": "c6ccb209-0c6b-4116-9a20-c98aa66743cd",
   "metadata": {},
   "outputs": [],
   "source": [
    "reference"
   ]
  },
  {
   "cell_type": "code",
   "execution_count": null,
   "id": "8b53dfc3-f806-4493-a048-056330ae2e6a",
   "metadata": {},
   "outputs": [],
   "source": [
    "reset_pvs()"
   ]
  },
  {
   "cell_type": "code",
   "execution_count": 1,
   "id": "d77a2e43-97fc-4ff9-9a33-385d3693f215",
   "metadata": {},
   "outputs": [
    {
     "ename": "ModuleNotFoundError",
     "evalue": "No module named 'h5py'",
     "output_type": "error",
     "traceback": [
      "\u001b[1;31m---------------------------------------------------------------------------\u001b[0m",
      "\u001b[1;31mModuleNotFoundError\u001b[0m                       Traceback (most recent call last)",
      "Cell \u001b[1;32mIn[1], line 1\u001b[0m\n\u001b[1;32m----> 1\u001b[0m \u001b[38;5;28;01mfrom\u001b[39;00m \u001b[38;5;21;01mlcls_tools\u001b[39;00m\u001b[38;5;21;01m.\u001b[39;00m\u001b[38;5;21;01mcommon\u001b[39;00m\u001b[38;5;21;01m.\u001b[39;00m\u001b[38;5;21;01mdevices\u001b[39;00m\u001b[38;5;21;01m.\u001b[39;00m\u001b[38;5;21;01mreader\u001b[39;00m \u001b[38;5;28;01mimport\u001b[39;00m create_screen, create_magnet\n\u001b[0;32m      2\u001b[0m \u001b[38;5;28;01mfrom\u001b[39;00m \u001b[38;5;21;01mlcls_tools\u001b[39;00m\u001b[38;5;21;01m.\u001b[39;00m\u001b[38;5;21;01mcommon\u001b[39;00m\u001b[38;5;21;01m.\u001b[39;00m\u001b[38;5;21;01mmeasurements\u001b[39;00m\u001b[38;5;21;01m.\u001b[39;00m\u001b[38;5;21;01mscreen_profile\u001b[39;00m \u001b[38;5;28;01mimport\u001b[39;00m ScreenBeamProfileMeasurement\n\u001b[0;32m      4\u001b[0m screen \u001b[38;5;241m=\u001b[39m create_screen(area\u001b[38;5;241m=\u001b[39m\u001b[38;5;124m'\u001b[39m\u001b[38;5;124mDIAG0\u001b[39m\u001b[38;5;124m'\u001b[39m, name\u001b[38;5;241m=\u001b[39m\u001b[38;5;124m'\u001b[39m\u001b[38;5;124mOTRDG02\u001b[39m\u001b[38;5;124m'\u001b[39m)\n",
      "File \u001b[1;32mc:\\users\\dylan\\slac\\lcls-tools\\lcls_tools\\common\\devices\\reader.py:5\u001b[0m\n\u001b[0;32m      3\u001b[0m \u001b[38;5;28;01mfrom\u001b[39;00m \u001b[38;5;21;01mtyping\u001b[39;00m \u001b[38;5;28;01mimport\u001b[39;00m Union, Optional, Any, Dict\n\u001b[0;32m      4\u001b[0m \u001b[38;5;28;01mfrom\u001b[39;00m \u001b[38;5;21;01mpydantic\u001b[39;00m \u001b[38;5;28;01mimport\u001b[39;00m ValidationError\n\u001b[1;32m----> 5\u001b[0m \u001b[38;5;28;01mfrom\u001b[39;00m \u001b[38;5;21;01mlcls_tools\u001b[39;00m\u001b[38;5;21;01m.\u001b[39;00m\u001b[38;5;21;01mcommon\u001b[39;00m\u001b[38;5;21;01m.\u001b[39;00m\u001b[38;5;21;01mdevices\u001b[39;00m\u001b[38;5;21;01m.\u001b[39;00m\u001b[38;5;21;01mscreen\u001b[39;00m \u001b[38;5;28;01mimport\u001b[39;00m Screen, ScreenCollection\n\u001b[0;32m      6\u001b[0m \u001b[38;5;28;01mfrom\u001b[39;00m \u001b[38;5;21;01mlcls_tools\u001b[39;00m\u001b[38;5;21;01m.\u001b[39;00m\u001b[38;5;21;01mcommon\u001b[39;00m\u001b[38;5;21;01m.\u001b[39;00m\u001b[38;5;21;01mdevices\u001b[39;00m\u001b[38;5;21;01m.\u001b[39;00m\u001b[38;5;21;01mmagnet\u001b[39;00m \u001b[38;5;28;01mimport\u001b[39;00m Magnet, MagnetCollection\n\u001b[0;32m      7\u001b[0m \u001b[38;5;28;01mfrom\u001b[39;00m \u001b[38;5;21;01mlcls_tools\u001b[39;00m\u001b[38;5;21;01m.\u001b[39;00m\u001b[38;5;21;01mcommon\u001b[39;00m\u001b[38;5;21;01m.\u001b[39;00m\u001b[38;5;21;01mdevices\u001b[39;00m\u001b[38;5;21;01m.\u001b[39;00m\u001b[38;5;21;01mwire\u001b[39;00m \u001b[38;5;28;01mimport\u001b[39;00m Wire, WireCollection\n",
      "File \u001b[1;32mc:\\users\\dylan\\slac\\lcls-tools\\lcls_tools\\common\\devices\\screen.py:19\u001b[0m\n\u001b[0;32m     10\u001b[0m \u001b[38;5;28;01mfrom\u001b[39;00m \u001b[38;5;21;01mlcls_tools\u001b[39;00m\u001b[38;5;21;01m.\u001b[39;00m\u001b[38;5;21;01mcommon\u001b[39;00m\u001b[38;5;21;01m.\u001b[39;00m\u001b[38;5;21;01mdevices\u001b[39;00m\u001b[38;5;21;01m.\u001b[39;00m\u001b[38;5;21;01mdevice\u001b[39;00m \u001b[38;5;28;01mimport\u001b[39;00m (\n\u001b[0;32m     11\u001b[0m     Device,\n\u001b[0;32m     12\u001b[0m     ControlInformation,\n\u001b[1;32m   (...)\u001b[0m\n\u001b[0;32m     15\u001b[0m     PVSet,\n\u001b[0;32m     16\u001b[0m )\n\u001b[0;32m     18\u001b[0m \u001b[38;5;28;01mfrom\u001b[39;00m \u001b[38;5;21;01mepics\u001b[39;00m \u001b[38;5;28;01mimport\u001b[39;00m PV\n\u001b[1;32m---> 19\u001b[0m \u001b[38;5;28;01mimport\u001b[39;00m \u001b[38;5;21;01mh5py\u001b[39;00m\n\u001b[0;32m     20\u001b[0m \u001b[38;5;28;01mfrom\u001b[39;00m \u001b[38;5;21;01mpydantic\u001b[39;00m \u001b[38;5;28;01mimport\u001b[39;00m (\n\u001b[0;32m     21\u001b[0m     Field,\n\u001b[0;32m     22\u001b[0m     SerializeAsAny,\n\u001b[0;32m     23\u001b[0m     field_validator,\n\u001b[0;32m     24\u001b[0m )\n\u001b[0;32m     25\u001b[0m \u001b[38;5;28;01mimport\u001b[39;00m \u001b[38;5;21;01mnumpy\u001b[39;00m \u001b[38;5;28;01mas\u001b[39;00m \u001b[38;5;21;01mnp\u001b[39;00m\n",
      "\u001b[1;31mModuleNotFoundError\u001b[0m: No module named 'h5py'"
     ]
    }
   ],
   "source": [
    "from lcls_tools.common.devices.reader import create_screen, create_magnet\n",
    "from lcls_tools.common.measurements.screen_profile import ScreenBeamProfileMeasurement\n",
    "\n",
    "screen = create_screen(area='DIAG0', name='OTRDG02')\n",
    "beamsize_measurement = ScreenBeamProfileMeasurement(device=screen)"
   ]
  },
  {
   "cell_type": "markdown",
   "id": "8885c05b-fd67-4bfa-8b81-f265fc068f8f",
   "metadata": {},
   "source": [
    "# Test screen measurement"
   ]
  },
  {
   "cell_type": "code",
   "execution_count": null,
   "id": "537d95d8-37d9-4af0-af98-29dece37e120",
   "metadata": {},
   "outputs": [],
   "source": [
    "from matplotlib import pyplot as plt\n",
    "results = beamsize_measurement.measure()\n",
    "plt.imshow(results[\"raw_image\"])\n",
    "plt.imshow(results[\"processed_image\"])"
   ]
  },
  {
   "cell_type": "markdown",
   "id": "a6b1ee41-4a71-43e8-95b8-5357b484da17",
   "metadata": {},
   "source": [
    "# Quad Scan Emittance"
   ]
  },
  {
   "cell_type": "code",
   "execution_count": null,
   "id": "709d1a64-63d1-4cc1-9d48-24ab40be19ad",
   "metadata": {},
   "outputs": [],
   "source": [
    "magnet = create_magnet(area=\"DIAG0\", name=\"QDG009\")\n",
    "magnet.metadata.length = 1.0 # placeholder value\n",
    "energy = 3.0e9 # placeholder value\n",
    "scan_values = [-6.0, -3.0, -0.0] # placeholder values\n",
    "\n",
    "quad_scan = QuadScanEmittance(\n",
    "    beamline = 'SC_DIAG0',\n",
    "    energy = energy, \n",
    "    magnet = magnet,\n",
    "    scan_values = scan_values, \n",
    "    beamsize_measurement = beamsize_measurement,\n",
    "    design_twiss = ,\n",
    "    rmat = ,\n",
    "\n",
    ")\n",
    "\n",
    "result_dict = quad_scan.measure()"
   ]
  },
  {
   "cell_type": "code",
   "execution_count": null,
   "id": "7a130791-7523-47af-8c73-52103e43fb84",
   "metadata": {},
   "outputs": [],
   "source": [
    "result"
   ]
  }
 ],
 "metadata": {
  "kernelspec": {
   "display_name": "Python 3 (ipykernel)",
   "language": "python",
   "name": "python3"
  },
  "language_info": {
   "codemirror_mode": {
    "name": "ipython",
    "version": 3
   },
   "file_extension": ".py",
   "mimetype": "text/x-python",
   "name": "python",
   "nbconvert_exporter": "python",
   "pygments_lexer": "ipython3",
   "version": "3.12.4"
  }
 },
 "nbformat": 4,
 "nbformat_minor": 5
}
