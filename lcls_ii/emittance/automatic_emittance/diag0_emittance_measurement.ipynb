{
 "cells": [
  {
   "cell_type": "markdown",
   "id": "bc399a5e-9758-40fe-b849-0c39c7f8691a",
   "metadata": {},
   "source": [
    "# Minimize beam size and measure emittance on DIAG0"
   ]
  },
  {
   "cell_type": "code",
   "execution_count": null,
   "id": "6f1f8362-b364-4630-a35d-faf2bb3899e9",
   "metadata": {},
   "outputs": [],
   "source": [
    "# set up env for running on SLAC production servers\n",
    "import os\n",
    "os.environ['OMP_NUM_THREADS']=str(6)"
   ]
  },
  {
   "cell_type": "code",
   "execution_count": null,
   "id": "62d0c11c-3e6b-4f9c-ba17-1a9a5a7eef35",
   "metadata": {},
   "outputs": [],
   "source": [
    "run_dir = '/home/physics/ml_tuning/20241114_DIAG0'"
   ]
  },
  {
   "cell_type": "markdown",
   "id": "f9ac5f37-63eb-4f6a-bf4d-e8e19999d790",
   "metadata": {},
   "source": [
    "# Read pv info from YAML files"
   ]
  },
  {
   "cell_type": "code",
   "execution_count": null,
   "id": "da3944b8-d503-4caa-811d-66bba1a83079",
   "metadata": {},
   "outputs": [],
   "source": [
    "import sys\n",
    "import yaml\n",
    "# sys.path.append(\"../../\")\n",
    "sys.path.append(\"../\")\n",
    "\n",
    "from common import get_pv_objects, save_reference_point, set_magnet_strengths, \\\n",
    "    measure_pvs"
   ]
  },
  {
   "cell_type": "code",
   "execution_count": null,
   "id": "99fca483-fbc6-4500-8122-5375dc6642e5",
   "metadata": {},
   "outputs": [],
   "source": [
    "pv_bounds = yaml.safe_load(open(\"../../pv_bounds.yml\"))\n",
    "pv_objects = get_pv_objects(\"../../tracked_pvs.yml\")"
   ]
  },
  {
   "cell_type": "code",
   "execution_count": null,
   "id": "3b457361-4c77-4d8e-9b69-e0a2d95fb07c",
   "metadata": {},
   "outputs": [],
   "source": [
    "pv_bounds"
   ]
  },
  {
   "cell_type": "code",
   "execution_count": null,
   "id": "71f131d2-2fe7-4a8d-8b71-da870b173ceb",
   "metadata": {},
   "outputs": [],
   "source": [
    "reference = yaml.safe_load(open(\"reference.yml\"))\n",
    "\n",
    "def reset_pvs():\n",
    "    set_magnet_strengths(reference, pv_objects, validate=False)"
   ]
  },
  {
   "cell_type": "code",
   "execution_count": null,
   "id": "c6ccb209-0c6b-4116-9a20-c98aa66743cd",
   "metadata": {},
   "outputs": [],
   "source": [
    "reference"
   ]
  },
  {
   "cell_type": "code",
   "execution_count": null,
   "id": "8b53dfc3-f806-4493-a048-056330ae2e6a",
   "metadata": {},
   "outputs": [],
   "source": [
    "reset_pvs()"
   ]
  },
  {
   "cell_type": "markdown",
   "id": "8838e830-c05c-41c2-bcd9-bf1eaea218b3",
   "metadata": {},
   "source": [
    "# Get model live rmats, design Twiss, and measurement quad length"
   ]
  },
  {
   "cell_type": "code",
   "execution_count": null,
   "id": "5d4844bb-158a-477c-b090-76c7fd92ed7f",
   "metadata": {},
   "outputs": [],
   "source": [
    "from meme.model import Model\n",
    "import numpy as np\n",
    "\n",
    "m = Model('SC_DIAG0', use_design=True)\n",
    "magnet_length = m.get_zpos('DDG009A') - m.get_zpos('QDG009')\n",
    "design_twiss = m.get_twiss('OTRDG02')\n",
    "\n",
    "m = Model('SC_DIAG0', use_design=False)\n",
    "rmat = m.get_rmat(from_device='DDG009A', to_device='OTRDG02')\n",
    "rmat = np.stack([rmat[0:2, 0:2], rmat[2:4, 2:4]])\n",
    "\n",
    "print('Magnet length:', magnet_length)\n",
    "print('Design twiss:', design_twiss)\n",
    "print('rmat:', rmat)"
   ]
  },
  {
   "cell_type": "markdown",
   "id": "e7348752-2d32-4647-a4d2-06fb1e8f3cce",
   "metadata": {},
   "source": [
    "# Test screen measurement"
   ]
  },
  {
   "cell_type": "code",
   "execution_count": 5,
   "id": "d77a2e43-97fc-4ff9-9a33-385d3693f215",
   "metadata": {},
   "outputs": [],
   "source": [
    "from lcls_tools.common.devices.reader import create_screen, create_magnet\n",
    "from lcls_tools.common.measurements.screen_profile import ScreenBeamProfileMeasurement\n",
    "\n",
    "screen = create_screen(area='DIAG0', name='OTRDG02')\n",
    "beamsize_measurement = ScreenBeamProfileMeasurement(device=screen)"
   ]
  },
  {
   "cell_type": "code",
   "execution_count": null,
   "id": "537d95d8-37d9-4af0-af98-29dece37e120",
   "metadata": {},
   "outputs": [],
   "source": [
    "from matplotlib import pyplot as plt\n",
    "results = beamsize_measurement.measure()\n",
    "plt.imshow(results[\"raw_image\"])\n",
    "plt.imshow(results[\"processed_image\"])"
   ]
  },
  {
   "cell_type": "markdown",
   "id": "4e2db9fa-cd6f-419d-bada-38ddba1d3e81",
   "metadata": {},
   "source": [
    "# Test magnet.scan() method"
   ]
  },
  {
   "cell_type": "code",
   "execution_count": null,
   "id": "1174e14e-72a2-4c75-b64d-71ebcff4f9bc",
   "metadata": {},
   "outputs": [],
   "source": [
    "magnet = create_magnet(area=\"DIAG0\", name=\"QDG009\")\n",
    "magnet.metadata.length = magnet_length\n",
    "scan_values = [-6.0, -3.0, -0.0] # placeholder values\n",
    "magnet.scan(scan_settings=scan_values)"
   ]
  },
  {
   "cell_type": "markdown",
   "id": "a6b1ee41-4a71-43e8-95b8-5357b484da17",
   "metadata": {},
   "source": [
    "# Quad Scan Emittance"
   ]
  },
  {
   "cell_type": "code",
   "execution_count": null,
   "id": "709d1a64-63d1-4cc1-9d48-24ab40be19ad",
   "metadata": {},
   "outputs": [],
   "source": [
    "energy = 3.0e9 # placeholder value\n",
    "magnet\n",
    "quad_scan = QuadScanEmittance(\n",
    "    energy = energy, \n",
    "    magnet = magnet,\n",
    "    scan_values = scan_values, \n",
    "    beamsize_measurement = beamsize_measurement,\n",
    "    design_twiss = design_twiss,\n",
    "    rmat = rmat,\n",
    "\n",
    ")\n",
    "\n",
    "result_dict = quad_scan.measure()"
   ]
  },
  {
   "cell_type": "code",
   "execution_count": null,
   "id": "7a130791-7523-47af-8c73-52103e43fb84",
   "metadata": {},
   "outputs": [],
   "source": [
    "result"
   ]
  }
 ],
 "metadata": {
  "kernelspec": {
   "display_name": "Python 3 (ipykernel)",
   "language": "python",
   "name": "python3"
  },
  "language_info": {
   "codemirror_mode": {
    "name": "ipython",
    "version": 3
   },
   "file_extension": ".py",
   "mimetype": "text/x-python",
   "name": "python",
   "nbconvert_exporter": "python",
   "pygments_lexer": "ipython3",
   "version": "3.12.4"
  }
 },
 "nbformat": 4,
 "nbformat_minor": 5
}
