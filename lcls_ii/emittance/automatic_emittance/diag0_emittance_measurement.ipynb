{
 "cells": [
  {
   "cell_type": "markdown",
   "id": "bc399a5e-9758-40fe-b849-0c39c7f8691a",
   "metadata": {},
   "source": [
    "# Minimize beam size and measure emittance on DIAG0"
   ]
  },
  {
   "cell_type": "code",
   "execution_count": null,
   "id": "6f1f8362-b364-4630-a35d-faf2bb3899e9",
   "metadata": {},
   "outputs": [],
   "source": [
    "# set up env for running on SLAC production servers\n",
    "import os\n",
    "os.environ['OMP_NUM_THREADS']=str(6)"
   ]
  },
  {
   "cell_type": "code",
   "execution_count": null,
   "id": "62d0c11c-3e6b-4f9c-ba17-1a9a5a7eef35",
   "metadata": {},
   "outputs": [],
   "source": [
    "run_dir = '/home/physics/ml_tuning/20241111_DIAG0'"
   ]
  },
  {
   "cell_type": "markdown",
   "id": "f9ac5f37-63eb-4f6a-bf4d-e8e19999d790",
   "metadata": {},
   "source": [
    "# Read pv info from YAML files"
   ]
  },
  {
   "cell_type": "code",
   "execution_count": null,
   "id": "da3944b8-d503-4caa-811d-66bba1a83079",
   "metadata": {},
   "outputs": [],
   "source": [
    "import sys\n",
    "import yaml\n",
    "# sys.path.append(\"../../\")\n",
    "sys.path.append(\"../\")\n",
    "\n",
    "from common import get_pv_objects, save_reference_point, set_magnet_strengths, \\\n",
    "    measure_pvs"
   ]
  },
  {
   "cell_type": "code",
   "execution_count": null,
   "id": "df0d8b97-09c2-4d06-b4b3-a608cc98430a",
   "metadata": {},
   "outputs": [],
   "source": [
    "pv_bounds = yaml.safe_load(open(\"pv_bounds.yml\"))\n",
    "pv_objects = get_pv_objects(\"tracked_pvs.yml\")"
   ]
  },
  {
   "cell_type": "code",
   "execution_count": null,
   "id": "17b34d18-6115-410c-863b-74295897509f",
   "metadata": {},
   "outputs": [],
   "source": [
    "pv_bounds"
   ]
  },
  {
   "cell_type": "markdown",
   "id": "e99a1647-87e2-4eb7-a6f2-b59f13d06634",
   "metadata": {},
   "source": [
    "# load reference point\n",
    "Also define a function to write the reference values to the pvs"
   ]
  },
  {
   "cell_type": "code",
   "execution_count": null,
   "id": "71f131d2-2fe7-4a8d-8b71-da870b173ceb",
   "metadata": {},
   "outputs": [],
   "source": [
    "reference = yaml.safe_load(open(\"reference.yml\"))\n",
    "\n",
    "def reset_pvs():\n",
    "    set_magnet_strengths(reference, pv_objects, validate=False)"
   ]
  },
  {
   "cell_type": "code",
   "execution_count": null,
   "id": "c6ccb209-0c6b-4116-9a20-c98aa66743cd",
   "metadata": {},
   "outputs": [],
   "source": [
    "reference"
   ]
  },
  {
   "cell_type": "code",
   "execution_count": null,
   "id": "8b53dfc3-f806-4493-a048-056330ae2e6a",
   "metadata": {},
   "outputs": [],
   "source": [
    "reset_pvs()"
   ]
  },
  {
   "cell_type": "code",
   "execution_count": null,
   "id": "c26117c0-6edd-496e-b3a9-3910ddf09871",
   "metadata": {},
   "outputs": [],
   "source": []
  },
  {
   "cell_type": "code",
   "execution_count": null,
   "id": "d77a2e43-97fc-4ff9-9a33-385d3693f215",
   "metadata": {},
   "outputs": [],
   "source": [
    "from lcls_tools.common.devices.reader import create_screen, create_magnet\n",
    "from lcls_tools.common.measurements.screen_profile import ScreenBeamProfileMeasurement\n",
    "\n",
    "screen = create_screen(area='DIAG0', name='OTRDG02')\n",
    "device_measurement = ScreenBeamProfileMeasurement(device=screen)"
   ]
  },
  {
   "cell_type": "markdown",
   "id": "8885c05b-fd67-4bfa-8b81-f265fc068f8f",
   "metadata": {},
   "source": [
    "# Test screen measurement"
   ]
  },
  {
   "cell_type": "code",
   "execution_count": null,
   "id": "537d95d8-37d9-4af0-af98-29dece37e120",
   "metadata": {},
   "outputs": [],
   "source": [
    "from matplotlib import pyplot as plt\n",
    "results = device_measurement.measure()\n",
    "plt.imshow(results[\"raw_image\"])\n",
    "plt.imshow(results[\"processed_image\"])"
   ]
  },
  {
   "cell_type": "markdown",
   "id": "ce8e26ba-739e-495a-a7ad-c587a68d8545",
   "metadata": {},
   "source": [
    "# Imports"
   ]
  },
  {
   "cell_type": "code",
   "execution_count": null,
   "id": "c269571d-cf71-4f7b-8708-da989e6db502",
   "metadata": {},
   "outputs": [],
   "source": [
    "# Ignore all warnings\n",
    "import warnings\n",
    "warnings.filterwarnings(\"ignore\")\n",
    "import torch\n",
    "from xopt import Xopt\n",
    "from xopt.vocs import VOCS\n",
    "from xopt.evaluator import Evaluator\n",
    "from xopt.numerical_optimizer import LBFGSOptimizer\n",
    "from xopt.generators import UpperConfidenceBoundGenerator\n",
    "from xopt.generators.bayesian.models.standard import StandardModelConstructor\n",
    "import numpy as np\n",
    "import random"
   ]
  },
  {
   "cell_type": "markdown",
   "id": "a2e6cc6f-2006-40e4-86fe-7bb1c960dbe8",
   "metadata": {},
   "source": [
    "# Evaluator"
   ]
  },
  {
   "cell_type": "code",
   "execution_count": null,
   "id": "66e20fd9-865d-4837-8f0c-5556f0d12317",
   "metadata": {},
   "outputs": [],
   "source": [
    "import time\n",
    "# define function to measure the total size on OTR4\n",
    "def eval_beamsize(inputs):\n",
    "    \n",
    "    # set pvs and wait for BACT to settle to correct values (validate=True)\n",
    "    set_magnet_strengths(inputs, pv_objects, validate=True)\n",
    "    time.sleep(0.5)\n",
    "    # measure all pvs - except for names in inputs\n",
    "    results = measure_pvs(\n",
    "        [name for name in pv_objects.keys() if name not in inputs], pv_objects \n",
    "    )\n",
    "\n",
    "    # do some calculations\n",
    "    results[\"time\"] = time.time()\n",
    "\n",
    "    # add beam size measurement to results dict\n",
    "    beamsize_results = device_measurement.measure()\n",
    "    results[\"Sx_mm\"] = np.array(np.mean(beamsize_results[\"Sx\"])) * 1e-3\n",
    "    results[\"Sy_mm\"] = np.array(np.mean(beamsize_results[\"Sy\"])) * 1e-3\n",
    "\n",
    "    #add beam size squared (mm^2) and total size (mm^2)\n",
    "    results[\"xrms_sq\"] = results[\"Sx_mm\"]**2\n",
    "    results[\"yrms_sq\"] = results[\"Sy_mm\"]**2\n",
    "    results[\"total_size\"] = np.sqrt(results[\"xrms_sq\"] * results[\"yrms_sq\"])\n",
    "    results = beamsize_results | results\n",
    "    return results\n",
    "\n",
    "evaluator = Evaluator(function=eval_beamsize)"
   ]
  },
  {
   "cell_type": "code",
   "execution_count": null,
   "id": "3e5a0a38-8fc7-44ad-a7ec-4ab89994750c",
   "metadata": {},
   "outputs": [],
   "source": [
    "eval_beamsize({})"
   ]
  },
  {
   "cell_type": "markdown",
   "id": "9a8b819f-0dc2-45ed-b289-c7211d8a0c79",
   "metadata": {},
   "source": [
    "# Vocs"
   ]
  },
  {
   "cell_type": "code",
   "execution_count": null,
   "id": "d8ccdc32-1f6f-46c5-b2c4-18f7f1379a49",
   "metadata": {},
   "outputs": [],
   "source": [
    "IMAGE_CONSTRAINTS = {\n",
    "            \"bb_penalty\": [\"LESS_THAN\", 0.0],\n",
    "        }\n",
    "\n",
    "vocs = VOCS(\n",
    "    variables = { # STOP!! NEED TO GET ACCURATE RANGES!!!!! THESE ARE PLACEHOLDER VALUES!!\n",
    "        # 'QUAD:DIAG0:230:BCTRL': [-0.005, 0.005],\n",
    "        # 'QUAD:DIAG0:270:BCTRL': [-0.005, 0.005],\n",
    "        # 'QUAD:DIAG0:285:BCTRL': [-0.005, 0.005],\n",
    "        # 'QUAD:DIAG0:300:BCTRL': [-0.005, 0.005],\n",
    "        # 'QUAD:DIAG0:360:BCTRL': [-0.005, 0.005],\n",
    "        # 'QUAD:DIAG0:370:BCTRL': [-0.005, 0.005],\n",
    "        # 'QUAD:DIAG0:390:BCTRL': [-0.005, 0.005],\n",
    "    },\n",
    "    constraints = IMAGE_CONSTRAINTS,\n",
    "    objectives = {\"total_size\": \"MINIMIZE\"},\n",
    ")\n",
    "vocs.variable_names"
   ]
  },
  {
   "cell_type": "markdown",
   "id": "da09d80d-6517-4fb1-85bc-fed31ad70dd4",
   "metadata": {},
   "source": [
    "# UCB generator"
   ]
  },
  {
   "cell_type": "code",
   "execution_count": null,
   "id": "13eda6e2-c855-43da-9cdc-ce9813140b4e",
   "metadata": {},
   "outputs": [],
   "source": [
    "# remember to set use low noise prior to false!!!\n",
    "model_constructor = StandardModelConstructor(use_low_noise_prior=False)\n",
    "generator = UpperConfidenceBoundGenerator(\n",
    "    vocs=vocs,\n",
    "    model_constructor=model_constructor,\n",
    ")\n",
    "generator.numerical_optimizer.max_iter = 200\n",
    "# generator.max_travel_distances = [0.1] * len(vocs.variable_names)\n",
    "evaluator = Evaluator(function=eval_beamsize)\n",
    "X = Xopt(generator=generator, evaluator=evaluator, vocs=vocs)\n",
    "X.options.dump_file = run_dir + \"beamsize_minimization.yml\"\n",
    "X"
   ]
  },
  {
   "cell_type": "markdown",
   "id": "c26ec4b8-4e88-498a-a2be-9aa9635b18c8",
   "metadata": {},
   "source": [
    "# Run Bayesian optimization to minimize beamsize"
   ]
  },
  {
   "cell_type": "code",
   "execution_count": null,
   "id": "ee2d05e3-31eb-4e6a-8bc2-b63c39eef51e",
   "metadata": {},
   "outputs": [],
   "source": [
    "for i in range(10):\n",
    "    print(i)\n",
    "    X.step()"
   ]
  },
  {
   "cell_type": "markdown",
   "id": "a6b1ee41-4a71-43e8-95b8-5357b484da17",
   "metadata": {},
   "source": [
    "# Quad Scan Emittance"
   ]
  },
  {
   "cell_type": "code",
   "execution_count": null,
   "id": "709d1a64-63d1-4cc1-9d48-24ab40be19ad",
   "metadata": {},
   "outputs": [],
   "source": [
    "magnet_collection = create_magnet(area=\"DIAG0\")\n",
    "magnet_length = 1.0 # placeholder value\n",
    "energy = 3.0e9 # placeholder values\n",
    "scan_values = [-6.0, -3.0, -0.0] # placeholder values\n",
    "\n",
    "quad_scan = QuadScanEmittance(\n",
    "    beamline = 'SC_DIAG0',\n",
    "    energy = energy, \n",
    "    magnet_collection = magnet_collection\n",
    "    magnet_name = \"QDG009\"\n",
    "    magnet_length = magnet_length\n",
    "    scan_values = scan_values, \n",
    "    device_measurement = device_measurement\n",
    ")\n",
    "\n",
    "result_dict = quad_scan.measure()"
   ]
  },
  {
   "cell_type": "code",
   "execution_count": null,
   "id": "7a130791-7523-47af-8c73-52103e43fb84",
   "metadata": {},
   "outputs": [],
   "source": [
    "result"
   ]
  }
 ],
 "metadata": {
  "kernelspec": {
   "display_name": "Python 3 (ipykernel)",
   "language": "python",
   "name": "python3"
  },
  "language_info": {
   "codemirror_mode": {
    "name": "ipython",
    "version": 3
   },
   "file_extension": ".py",
   "mimetype": "text/x-python",
   "name": "python",
   "nbconvert_exporter": "python",
   "pygments_lexer": "ipython3",
   "version": "3.12.4"
  }
 },
 "nbformat": 4,
 "nbformat_minor": 5
}
