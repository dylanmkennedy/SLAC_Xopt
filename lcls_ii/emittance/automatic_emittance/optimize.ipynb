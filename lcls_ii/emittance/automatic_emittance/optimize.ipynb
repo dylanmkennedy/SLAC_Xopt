{
 "cells": [
  {
   "cell_type": "markdown",
   "source": [
    "# Automatic emittance measurement at LCLS-II\n",
    "In this case we have 4 quadrupoles, 3 that are used to minimize the incoming beam and\n",
    " the fourth to perform the quad scan measurement."
   ],
   "metadata": {
    "collapsed": false
   }
  },
  {
   "cell_type": "code",
   "execution_count": 9,
   "outputs": [],
   "source": [
    "# optionally add scripts location to path\n",
    "if True:\n",
    "    import sys\n",
    "    sys.path.append(\"../../../\")\n",
    "\n",
    "import xopt\n",
    "print(xopt.__version__)\n",
    "\n",
    "# set up data saving locations\n",
    "data_dir = \"/home/physics3/ml_tuning/20230729_LCLS_Injector\"\n",
    "\n",
    "run_name = \"optimize_1\"\n",
    "run_dir = f\"{data_dir}/{run_name}\"\n",
    "import os\n",
    "if not os.path.exists(run_dir):\n",
    "    os.mkdir(run_dir)"
   ],
   "metadata": {
    "collapsed": false,
    "ExecuteTime": {
     "end_time": "2023-07-17T17:15:44.808515800Z",
     "start_time": "2023-07-17T17:15:44.804490500Z"
    }
   }
  },
  {
   "cell_type": "code",
   "execution_count": null,
   "outputs": [],
   "source": [
    "from scripts.evaluate_function.screen_image import measure_background\n",
    "from scripts.optimize_function import optimize_function\n",
    "from scripts.characterize_emittance import characterize_emittance"
   ],
   "metadata": {
    "collapsed": false
   }
  },
  {
   "cell_type": "code",
   "execution_count": null,
   "outputs": [],
   "source": [
    "from utils import VARIABLE_RANGES, SCAN_VARIABLE, \\\n",
    "    MEASUREMENT_OPTIONS, IMAGE_CONSTRAINTS, TUNING_VARIABLES, SCREEN_NAME, eval_beamsize"
   ],
   "metadata": {
    "collapsed": false
   }
  },
  {
   "cell_type": "markdown",
   "source": [
    "## (Optional) Measure background image"
   ],
   "metadata": {
    "collapsed": false
   }
  },
  {
   "cell_type": "code",
   "execution_count": null,
   "outputs": [],
   "source": [
    "MEASURE_BACKGROUND = True\n",
    "BACKGROUND_FILE = f\"{SCREEN_NAME}_background.npy\".replace(\":\",\"_\")\n",
    "\n",
    "if MEASURE_BACKGROUND:\n",
    "    measure_background(SCREEN_NAME)\n",
    "\n",
    "MEASUREMENT_OPTIONS[\"background\"] = BACKGROUND_FILE\n"
   ],
   "metadata": {
    "collapsed": false
   }
  },
  {
   "cell_type": "code",
   "execution_count": null,
   "outputs": [],
   "source": [
    "# verify background image\n",
    "import numpy as np\n",
    "import matplotlib.pyplot as plt\n",
    "plt.imshow(np.load(BACKGROUND_FILE))"
   ],
   "metadata": {
    "collapsed": false
   }
  },
  {
   "cell_type": "markdown",
   "source": [
    "## Optimize upstream beam parameters to minimze beamsize\n",
    "Note that the scan variable is fixed at zero for maximum range quadrupole scan."
   ],
   "metadata": {
    "collapsed": false
   }
  },
  {
   "cell_type": "code",
   "execution_count": null,
   "outputs": [],
   "source": [
    "from xopt import VOCS\n",
    "opt_vocs = VOCS(\n",
    "        variables = {ele: VARIABLE_RANGES[ele] for ele in TUNING_VARIABLES},\n",
    "        constants = {SCAN_VARIABLE: 0.0} | MEASUREMENT_OPTIONS,\n",
    "        constraints = IMAGE_CONSTRAINTS,\n",
    "        objectives = {\"total_size\": \"MINIMIZE\"}\n",
    "    )\n",
    "\n",
    "opt_x = optimize_function(\n",
    "    opt_vocs, eval_beamsize, n_iterations=1,\n",
    ")"
   ],
   "metadata": {
    "collapsed": false
   }
  },
  {
   "cell_type": "code",
   "execution_count": null,
   "outputs": [],
   "source": [
    "opt_x.data"
   ],
   "metadata": {
    "collapsed": false
   }
  }
 ],
 "metadata": {
  "kernelspec": {
   "display_name": "Python 3",
   "language": "python",
   "name": "python3"
  },
  "language_info": {
   "codemirror_mode": {
    "name": "ipython",
    "version": 2
   },
   "file_extension": ".py",
   "mimetype": "text/x-python",
   "name": "python",
   "nbconvert_exporter": "python",
   "pygments_lexer": "ipython2",
   "version": "2.7.6"
  }
 },
 "nbformat": 4,
 "nbformat_minor": 0
}
