{
 "cells": [
  {
   "cell_type": "markdown",
   "metadata": {},
   "source": [
    "# UTILS"
   ]
  },
  {
   "cell_type": "code",
   "execution_count": 1,
   "metadata": {
    "collapsed": false,
    "jupyter": {
     "outputs_hidden": false
    },
    "ExecuteTime": {
     "end_time": "2023-08-13T21:05:10.197881100Z",
     "start_time": "2023-08-13T21:05:01.991558500Z"
    }
   },
   "outputs": [
    {
     "name": "stdout",
     "output_type": "stream",
     "text": [
      "2.0a1+19.g208c72e\n"
     ]
    }
   ],
   "source": [
    "# optionally add scripts location to path\n",
    "if True:\n",
    "    import sys\n",
    "    sys.path.append(\"../../../\")\n",
    "\n",
    "import xopt\n",
    "print(xopt.__version__)\n",
    "\n",
    "# set up data saving locations\n",
    "data_dir = \"/home/physics3/ml_tuning/20230729_LCLS_Injector\"\n"
   ]
  },
  {
   "cell_type": "code",
   "execution_count": 2,
   "metadata": {
    "collapsed": false,
    "jupyter": {
     "outputs_hidden": false
    },
    "ExecuteTime": {
     "end_time": "2023-08-13T21:05:11.249489500Z",
     "start_time": "2023-08-13T21:05:10.200880500Z"
    }
   },
   "outputs": [],
   "source": [
    "from scripts.evaluate_function.screen_image import measure_beamsize, measure_background\n",
    "from scripts.optimize_function import optimize_function\n",
    "from scripts.characterize_emittance import characterize_emittance"
   ]
  },
  {
   "cell_type": "code",
   "execution_count": 3,
   "metadata": {
    "collapsed": false,
    "jupyter": {
     "outputs_hidden": false
    },
    "ExecuteTime": {
     "end_time": "2023-08-13T21:05:11.283489700Z",
     "start_time": "2023-08-13T21:05:11.251489500Z"
    }
   },
   "outputs": [],
   "source": [
    "## import variable ranges\n",
    "from utils import VARIABLE_RANGES, SCAN_VARIABLE, \\\n",
    "    MEASUREMENT_OPTIONS, IMAGE_CONSTRAINTS, TUNING_VARIABLES, SCREEN_NAME, eval_beamsize"
   ]
  },
  {
   "cell_type": "markdown",
   "metadata": {},
   "source": [
    "## (Optional) Measure background image"
   ]
  },
  {
   "cell_type": "code",
   "execution_count": 4,
   "metadata": {
    "collapsed": false,
    "jupyter": {
     "outputs_hidden": false
    },
    "ExecuteTime": {
     "end_time": "2023-08-13T21:05:11.294544400Z",
     "start_time": "2023-08-13T21:05:11.281489700Z"
    }
   },
   "outputs": [],
   "source": [
    "MEASURE_BACKGROUND = False\n",
    "BACKGROUND_FILE = f\"{data_dir}/{SCREEN_NAME}_background.npy\".replace(\":\",\"_\")\n",
    "\n",
    "if MEASURE_BACKGROUND:\n",
    "    measure_background(SCREEN_NAME, filename=BACKGROUND_FILE)\n"
   ]
  },
  {
   "cell_type": "code",
   "execution_count": 5,
   "metadata": {
    "collapsed": false,
    "jupyter": {
     "outputs_hidden": false
    },
    "ExecuteTime": {
     "end_time": "2023-08-13T21:05:12.077491600Z",
     "start_time": "2023-08-13T21:05:11.296489600Z"
    }
   },
   "outputs": [
    {
     "ename": "FileNotFoundError",
     "evalue": "[Errno 2] No such file or directory: '/home/physics3/ml_tuning/20230729_LCLS_Injector/OTRS_HTR_330_background.npy'",
     "output_type": "error",
     "traceback": [
      "\u001B[1;31m---------------------------------------------------------------------------\u001B[0m",
      "\u001B[1;31mFileNotFoundError\u001B[0m                         Traceback (most recent call last)",
      "Cell \u001B[1;32mIn[5], line 4\u001B[0m\n\u001B[0;32m      2\u001B[0m \u001B[38;5;28;01mimport\u001B[39;00m \u001B[38;5;21;01mnumpy\u001B[39;00m \u001B[38;5;28;01mas\u001B[39;00m \u001B[38;5;21;01mnp\u001B[39;00m\n\u001B[0;32m      3\u001B[0m \u001B[38;5;28;01mimport\u001B[39;00m \u001B[38;5;21;01mmatplotlib\u001B[39;00m\u001B[38;5;21;01m.\u001B[39;00m\u001B[38;5;21;01mpyplot\u001B[39;00m \u001B[38;5;28;01mas\u001B[39;00m \u001B[38;5;21;01mplt\u001B[39;00m\n\u001B[1;32m----> 4\u001B[0m plt\u001B[38;5;241m.\u001B[39mimshow(\u001B[43mnp\u001B[49m\u001B[38;5;241;43m.\u001B[39;49m\u001B[43mload\u001B[49m\u001B[43m(\u001B[49m\u001B[43mBACKGROUND_FILE\u001B[49m\u001B[43m)\u001B[49m,origin\u001B[38;5;241m=\u001B[39m\u001B[38;5;124m\"\u001B[39m\u001B[38;5;124mlower\u001B[39m\u001B[38;5;124m\"\u001B[39m)\n",
      "File \u001B[1;32m~\\mambaforge\\envs\\emittance_bax\\lib\\site-packages\\numpy\\lib\\npyio.py:405\u001B[0m, in \u001B[0;36mload\u001B[1;34m(file, mmap_mode, allow_pickle, fix_imports, encoding, max_header_size)\u001B[0m\n\u001B[0;32m    403\u001B[0m     own_fid \u001B[38;5;241m=\u001B[39m \u001B[38;5;28;01mFalse\u001B[39;00m\n\u001B[0;32m    404\u001B[0m \u001B[38;5;28;01melse\u001B[39;00m:\n\u001B[1;32m--> 405\u001B[0m     fid \u001B[38;5;241m=\u001B[39m stack\u001B[38;5;241m.\u001B[39menter_context(\u001B[38;5;28;43mopen\u001B[39;49m\u001B[43m(\u001B[49m\u001B[43mos_fspath\u001B[49m\u001B[43m(\u001B[49m\u001B[43mfile\u001B[49m\u001B[43m)\u001B[49m\u001B[43m,\u001B[49m\u001B[43m \u001B[49m\u001B[38;5;124;43m\"\u001B[39;49m\u001B[38;5;124;43mrb\u001B[39;49m\u001B[38;5;124;43m\"\u001B[39;49m\u001B[43m)\u001B[49m)\n\u001B[0;32m    406\u001B[0m     own_fid \u001B[38;5;241m=\u001B[39m \u001B[38;5;28;01mTrue\u001B[39;00m\n\u001B[0;32m    408\u001B[0m \u001B[38;5;66;03m# Code to distinguish from NumPy binary files and pickles.\u001B[39;00m\n",
      "\u001B[1;31mFileNotFoundError\u001B[0m: [Errno 2] No such file or directory: '/home/physics3/ml_tuning/20230729_LCLS_Injector/OTRS_HTR_330_background.npy'"
     ]
    }
   ],
   "source": [
    "# verify background image\n",
    "import numpy as np\n",
    "import matplotlib.pyplot as plt\n",
    "plt.imshow(np.load(BACKGROUND_FILE),origin=\"lower\")"
   ]
  },
  {
   "cell_type": "markdown",
   "metadata": {},
   "source": [
    "## reset point"
   ]
  },
  {
   "cell_type": "code",
   "execution_count": null,
   "metadata": {
    "collapsed": false,
    "jupyter": {
     "outputs_hidden": false
    },
    "ExecuteTime": {
     "start_time": "2023-08-13T21:05:12.075489200Z"
    }
   },
   "outputs": [],
   "source": [
    "# get reset point\n",
    "from epics import caget_many, caput\n",
    "reset_dict = {\n",
    "'SOLN:IN20:121:BCTRL': 0.4762021,\n",
    " 'QUAD:IN20:121:BCTRL': 0.0078884391,\n",
    " 'QUAD:IN20:122:BCTRL': -0.0019310605,\n",
    " 'QUAD:IN20:361:BCTRL': -2.6188653,\n",
    " 'QUAD:IN20:371:BCTRL': 2.1427768,\n",
    " 'QUAD:IN20:425:BCTRL': 0.01,\n",
    " 'QUAD:IN20:441:BCTRL': 0.5044999999999993,\n",
    " 'QUAD:IN20:511:BCTRL': 2.7346698,\n",
    " 'QUAD:IN20:525:BCTRL': -3.1\n",
    "}\n",
    "\n",
    "#for name, val in reset_dict.items():\n",
    "#    caput(name, val)"
   ]
  },
  {
   "cell_type": "markdown",
   "metadata": {},
   "source": [
    "## test measurement"
   ]
  },
  {
   "cell_type": "code",
   "execution_count": 7,
   "metadata": {
    "ExecuteTime": {
     "end_time": "2023-08-13T21:05:24.140701800Z",
     "start_time": "2023-08-13T21:05:23.082959500Z"
    }
   },
   "outputs": [
    {
     "ename": "OSError",
     "evalue": "[Errno 22] Invalid argument: 'OTRS:HTR:330'",
     "output_type": "error",
     "traceback": [
      "\u001B[1;31m---------------------------------------------------------------------------\u001B[0m",
      "\u001B[1;31mOSError\u001B[0m                                   Traceback (most recent call last)",
      "Cell \u001B[1;32mIn[7], line 2\u001B[0m\n\u001B[0;32m      1\u001B[0m \u001B[38;5;28;01mimport\u001B[39;00m \u001B[38;5;21;01mpandas\u001B[39;00m \u001B[38;5;28;01mas\u001B[39;00m \u001B[38;5;21;01mpd\u001B[39;00m\n\u001B[1;32m----> 2\u001B[0m res \u001B[38;5;241m=\u001B[39m \u001B[43mmeasure_beamsize\u001B[49m\u001B[43m(\u001B[49m\u001B[43m{\u001B[49m\n\u001B[0;32m      3\u001B[0m \u001B[43m    \u001B[49m\u001B[38;5;124;43m\"\u001B[39;49m\u001B[38;5;124;43mscreen\u001B[39;49m\u001B[38;5;124;43m\"\u001B[39;49m\u001B[43m:\u001B[49m\u001B[43mSCREEN_NAME\u001B[49m\u001B[43m,\u001B[49m\u001B[43m \u001B[49m\n\u001B[0;32m      4\u001B[0m \u001B[43m    \u001B[49m\u001B[38;5;124;43m\"\u001B[39;49m\u001B[38;5;124;43mvisualize\u001B[39;49m\u001B[38;5;124;43m\"\u001B[39;49m\u001B[43m:\u001B[49m\u001B[43m \u001B[49m\u001B[38;5;28;43;01mTrue\u001B[39;49;00m\u001B[43m,\u001B[49m\u001B[43m \u001B[49m\n\u001B[0;32m      5\u001B[0m \u001B[43m    \u001B[49m\u001B[38;5;66;43;03m#\"background\":BACKGROUND_FILE, \u001B[39;49;00m\n\u001B[0;32m      6\u001B[0m \u001B[43m    \u001B[49m\u001B[38;5;124;43m\"\u001B[39;49m\u001B[38;5;124;43mn_shots\u001B[39;49m\u001B[38;5;124;43m\"\u001B[39;49m\u001B[43m:\u001B[49m\u001B[38;5;241;43m4\u001B[39;49m\u001B[43m,\u001B[49m\n\u001B[0;32m      7\u001B[0m \u001B[43m    \u001B[49m\u001B[38;5;124;43m\"\u001B[39;49m\u001B[38;5;124;43mmin_log_intensity\u001B[39;49m\u001B[38;5;124;43m\"\u001B[39;49m\u001B[43m:\u001B[49m\u001B[38;5;241;43m4.0\u001B[39;49m\n\u001B[0;32m      8\u001B[0m \u001B[43m}\u001B[49m\u001B[43m)\u001B[49m\n\u001B[0;32m      9\u001B[0m pd\u001B[38;5;241m.\u001B[39mDataFrame(res)\n",
      "File \u001B[1;32m~\\Documents\\GitHub\\SLAC_Xopt\\scripts\\evaluate_function\\screen_image.py:86\u001B[0m, in \u001B[0;36mmeasure_beamsize\u001B[1;34m(inputs)\u001B[0m\n\u001B[0;32m     84\u001B[0m start_time \u001B[38;5;241m=\u001B[39m time\u001B[38;5;241m.\u001B[39mtime()\n\u001B[0;32m     85\u001B[0m \u001B[38;5;28;01mfor\u001B[39;00m _ \u001B[38;5;129;01min\u001B[39;00m \u001B[38;5;28mrange\u001B[39m(n_shots):\n\u001B[1;32m---> 86\u001B[0m     img, resolution \u001B[38;5;241m=\u001B[39m \u001B[43mget_raw_image\u001B[49m\u001B[43m(\u001B[49m\u001B[43mscreen\u001B[49m\u001B[43m)\u001B[49m\n\u001B[0;32m     88\u001B[0m     \u001B[38;5;66;03m# reshape image and subtract background image (set negative values to zero)\u001B[39;00m\n\u001B[0;32m     89\u001B[0m     \u001B[38;5;28;01mif\u001B[39;00m background_image \u001B[38;5;129;01mis\u001B[39;00m \u001B[38;5;129;01mnot\u001B[39;00m \u001B[38;5;28;01mNone\u001B[39;00m:\n",
      "File \u001B[1;32m~\\Documents\\GitHub\\SLAC_Xopt\\scripts\\evaluate_function\\screen_image.py:19\u001B[0m, in \u001B[0;36mget_raw_image\u001B[1;34m(screen_name)\u001B[0m\n\u001B[0;32m     16\u001B[0m \u001B[38;5;28;01mdef\u001B[39;00m \u001B[38;5;21mget_raw_image\u001B[39m(screen_name):\n\u001B[0;32m     17\u001B[0m     \u001B[38;5;66;03m# get image data\u001B[39;00m\n\u001B[0;32m     18\u001B[0m     \u001B[38;5;28;01mif\u001B[39;00m TESTING:\n\u001B[1;32m---> 19\u001B[0m         img \u001B[38;5;241m=\u001B[39m \u001B[43mnp\u001B[49m\u001B[38;5;241;43m.\u001B[39;49m\u001B[43mload\u001B[49m\u001B[43m(\u001B[49m\u001B[43mscreen_name\u001B[49m\u001B[43m)\u001B[49m\n\u001B[0;32m     20\u001B[0m         resolution \u001B[38;5;241m=\u001B[39m \u001B[38;5;241m1.0\u001B[39m\n\u001B[0;32m     21\u001B[0m     \u001B[38;5;28;01melse\u001B[39;00m:\n",
      "File \u001B[1;32m~\\mambaforge\\envs\\emittance_bax\\lib\\site-packages\\numpy\\lib\\npyio.py:405\u001B[0m, in \u001B[0;36mload\u001B[1;34m(file, mmap_mode, allow_pickle, fix_imports, encoding, max_header_size)\u001B[0m\n\u001B[0;32m    403\u001B[0m     own_fid \u001B[38;5;241m=\u001B[39m \u001B[38;5;28;01mFalse\u001B[39;00m\n\u001B[0;32m    404\u001B[0m \u001B[38;5;28;01melse\u001B[39;00m:\n\u001B[1;32m--> 405\u001B[0m     fid \u001B[38;5;241m=\u001B[39m stack\u001B[38;5;241m.\u001B[39menter_context(\u001B[38;5;28;43mopen\u001B[39;49m\u001B[43m(\u001B[49m\u001B[43mos_fspath\u001B[49m\u001B[43m(\u001B[49m\u001B[43mfile\u001B[49m\u001B[43m)\u001B[49m\u001B[43m,\u001B[49m\u001B[43m \u001B[49m\u001B[38;5;124;43m\"\u001B[39;49m\u001B[38;5;124;43mrb\u001B[39;49m\u001B[38;5;124;43m\"\u001B[39;49m\u001B[43m)\u001B[49m)\n\u001B[0;32m    406\u001B[0m     own_fid \u001B[38;5;241m=\u001B[39m \u001B[38;5;28;01mTrue\u001B[39;00m\n\u001B[0;32m    408\u001B[0m \u001B[38;5;66;03m# Code to distinguish from NumPy binary files and pickles.\u001B[39;00m\n",
      "\u001B[1;31mOSError\u001B[0m: [Errno 22] Invalid argument: 'OTRS:HTR:330'"
     ]
    }
   ],
   "source": [
    "import pandas as pd\n",
    "res = measure_beamsize({\n",
    "    \"screen\":SCREEN_NAME, \n",
    "    \"visualize\": True, \n",
    "    #\"background\":BACKGROUND_FILE,\n",
    "    \"n_shots\":4,\n",
    "    \"min_log_intensity\":4.0\n",
    "})\n",
    "pd.DataFrame(res)"
   ]
  },
  {
   "cell_type": "code",
   "execution_count": null,
   "metadata": {},
   "outputs": [],
   "source": []
  }
 ],
 "metadata": {
  "kernelspec": {
   "display_name": "Python 3 (ipykernel)",
   "language": "python",
   "name": "python3"
  },
  "language_info": {
   "codemirror_mode": {
    "name": "ipython",
    "version": 3
   },
   "file_extension": ".py",
   "mimetype": "text/x-python",
   "name": "python",
   "nbconvert_exporter": "python",
   "pygments_lexer": "ipython3",
   "version": "3.9.16"
  }
 },
 "nbformat": 4,
 "nbformat_minor": 4
}
