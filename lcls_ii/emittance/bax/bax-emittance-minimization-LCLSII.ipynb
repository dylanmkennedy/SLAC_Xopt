{
 "cells": [
  {
   "cell_type": "markdown",
   "id": "90ac8fe9",
   "metadata": {},
   "source": [
    "# BAX Emittance Minimization (LCLS-II)\n",
    "In this notebook, we hope to demonstrate Bayesian Algorithm Execution (BAX) in Xopt as a means of minimizing the emittance at LCLS-II. BAX is a generalization of Bayesian Optimization that seeks to acquire observations that provide our model with maximal information about our property of interest. In this example, our property of interest is the minimal emittance and its location in tuning-parameter-space. See https://arxiv.org/pdf/2209.04587.pdf for details."
   ]
  },
  {
   "cell_type": "code",
   "execution_count": null,
   "id": "0f901aea-8a61-43a9-a56e-b779cb4b50cd",
   "metadata": {},
   "outputs": [],
   "source": [
    "# set up env for running on SLAC production servers\n",
    "import os\n",
    "os.environ['OMP_NUM_THREADS']=str(6)"
   ]
  },
  {
   "cell_type": "code",
   "execution_count": null,
   "id": "c0f7d21a-befd-49c2-adc8-00c9181ee9fb",
   "metadata": {},
   "outputs": [],
   "source": [
    "run_dir = '/home/physics/ml_tuning/20240225_LCLS_II_Injector'"
   ]
  },
  {
   "cell_type": "markdown",
   "id": "ae54f77f-accf-4a8b-865a-dd551d109056",
   "metadata": {},
   "source": [
    "# Read pv info from YAML files"
   ]
  },
  {
   "cell_type": "code",
   "execution_count": null,
   "id": "1ac39a8d-6121-4364-a95f-4434029f3823",
   "metadata": {},
   "outputs": [],
   "source": [
    "import sys\n",
    "import yaml\n",
    "sys.path.append(\"../../\")\n",
    "sys.path.append(\"../../../\")\n",
    "\n",
    "from common import get_pv_objects, save_reference_point, set_magnet_strengths, \\\n",
    "    measure_pvs"
   ]
  },
  {
   "cell_type": "code",
   "execution_count": null,
   "id": "d4931c75-c7ee-40d5-9e46-21e48c1490a0",
   "metadata": {},
   "outputs": [],
   "source": [
    "pv_bounds = yaml.safe_load(open(\"../../pv_bounds.yml\"))\n",
    "pv_objects = get_pv_objects(\"../../tracked_pvs.yml\")"
   ]
  },
  {
   "cell_type": "code",
   "execution_count": null,
   "id": "96815817-ef55-48d2-b644-bc5cfb0109c4",
   "metadata": {},
   "outputs": [],
   "source": [
    "pv_bounds"
   ]
  },
  {
   "cell_type": "markdown",
   "id": "233f6120-ae42-49a5-9a60-121623d1896b",
   "metadata": {},
   "source": [
    "# load reference point\n",
    "Also define a function to write the reference values to the pvs"
   ]
  },
  {
   "cell_type": "code",
   "execution_count": null,
   "id": "d9a8bac5-61fd-4e57-96d2-607d7d3ff663",
   "metadata": {},
   "outputs": [],
   "source": [
    "reference = yaml.safe_load(open(\"../../reference.yml\"))\n",
    "\n",
    "def reset_pvs():\n",
    "    set_magnet_strengths(reference, pv_objects, validate=False)"
   ]
  },
  {
   "cell_type": "code",
   "execution_count": null,
   "id": "6afcad32-e37d-4f06-8aef-b320f8498920",
   "metadata": {},
   "outputs": [],
   "source": [
    "reset_pvs()"
   ]
  },
  {
   "cell_type": "code",
   "execution_count": null,
   "id": "4da91877-1dbe-4714-9d14-b921ecc0f9ec",
   "metadata": {},
   "outputs": [],
   "source": [
    "from scripts.image import ImageDiagnostic\n",
    "import yaml\n",
    "\n",
    "fname = 'otr_diagnostic.yml' #run_dir + \"OTRS_HTR_330_config.yml\"\n",
    "\n",
    "image_diagnostic = ImageDiagnostic.parse_obj(yaml.safe_load(open(fname)))\n",
    "\n",
    "image_diagnostic.min_log_intensity = 3.0\n",
    "image_diagnostic.save_image_location = run_dir\n",
    "image_diagnostic.n_fitting_restarts = 2\n",
    "image_diagnostic.visualize = False\n",
    "print(image_diagnostic.yaml())\n"
   ]
  },
  {
   "cell_type": "code",
   "execution_count": null,
   "id": "8cb72307-f463-4a48-8d60-28fb5f765015",
   "metadata": {},
   "outputs": [],
   "source": [
    "image_diagnostic.measure_background()"
   ]
  },
  {
   "cell_type": "code",
   "execution_count": null,
   "id": "a8753930-b779-4681-953b-46f087fae4ae",
   "metadata": {},
   "outputs": [],
   "source": [
    "import matplotlib.pyplot as plt"
   ]
  },
  {
   "cell_type": "code",
   "execution_count": null,
   "id": "f42d87d4-00d9-4ea5-8db0-22c05cac67c1",
   "metadata": {},
   "outputs": [],
   "source": [
    "plt.imshow(image_diagnostic.background_image)"
   ]
  },
  {
   "cell_type": "code",
   "execution_count": null,
   "id": "4ba5bc9a-db47-434b-8248-7f4043caa582",
   "metadata": {},
   "outputs": [],
   "source": [
    "image_diagnostic.resolution"
   ]
  },
  {
   "cell_type": "code",
   "execution_count": null,
   "id": "b24fad9f-c729-47de-869f-d274a69628bb",
   "metadata": {},
   "outputs": [],
   "source": [
    "from epics import caget"
   ]
  },
  {
   "cell_type": "code",
   "execution_count": null,
   "id": "f6dd4823-f249-4dfe-8157-6d792366837a",
   "metadata": {},
   "outputs": [],
   "source": [
    "caget('OTRS:HTR:330:RESOLUTION')"
   ]
  },
  {
   "cell_type": "code",
   "execution_count": null,
   "id": "5f87d094-694f-4537-a212-4b8fd19e5037",
   "metadata": {},
   "outputs": [],
   "source": [
    "image_diagnostic.test_measurement()"
   ]
  },
  {
   "cell_type": "markdown",
   "id": "7a2666c7",
   "metadata": {},
   "source": [
    "# Imports"
   ]
  },
  {
   "cell_type": "code",
   "execution_count": null,
   "id": "0b2005f9",
   "metadata": {},
   "outputs": [],
   "source": [
    "# Ignore all warnings\n",
    "import warnings\n",
    "warnings.filterwarnings(\"ignore\")\n",
    "import torch\n",
    "from xopt import Xopt\n",
    "from xopt.vocs import VOCS\n",
    "from xopt.evaluator import Evaluator\n",
    "import numpy as np\n",
    "import random"
   ]
  },
  {
   "cell_type": "markdown",
   "id": "0c1f6014",
   "metadata": {},
   "source": [
    "# General settings"
   ]
  },
  {
   "cell_type": "code",
   "execution_count": null,
   "id": "8ac800f8",
   "metadata": {},
   "outputs": [],
   "source": [
    "# general settings\n",
    "\n",
    "\n",
    "\n",
    "# random seeds for reproducibility\n",
    "rand_seed = 2\n",
    "torch.manual_seed(rand_seed)\n",
    "np.random.seed(rand_seed) # only(?) affects initial random observations through Xopt \n",
    "random.seed(rand_seed)"
   ]
  },
  {
   "cell_type": "markdown",
   "id": "dff54ffc",
   "metadata": {},
   "source": [
    "# Evaluator"
   ]
  },
  {
   "cell_type": "code",
   "execution_count": null,
   "id": "0115f5fa",
   "metadata": {},
   "outputs": [],
   "source": [
    "import time\n",
    "# define function to measure the total size on OTR4\n",
    "def eval_beamsize(inputs):\n",
    "    \n",
    "    # set pvs and wait for BACT to settle to correct values (validate=True)\n",
    "    set_magnet_strengths(inputs, pv_objects, validate=False)\n",
    "    time.sleep(2)\n",
    "    # measure all pvs - except for names in inputs\n",
    "    results = measure_pvs(\n",
    "        [name for name in pv_objects.keys() if name not in inputs], pv_objects \n",
    "    )\n",
    "\n",
    "    # do some calculations\n",
    "    results[\"time\"] = time.time()\n",
    "\n",
    "    # add beam size measurement to results dict\n",
    "    beamsize_results = image_diagnostic.measure_beamsize()\n",
    "    results[\"Sx_mm\"] = beamsize_results[\"Sx\"] * 1e-2\n",
    "    results[\"Sy_mm\"] = beamsize_results[\"Sy\"] * 1e-2\n",
    "\n",
    "    #add beam size squared (mm^2)\n",
    "    results[\"xrms_sq\"] = results[\"Sx_mm\"]**2\n",
    "    results[\"yrms_sq\"] = results[\"Sy_mm\"]**2\n",
    "    results = beamsize_results | results\n",
    "    return results\n",
    "\n",
    "evaluator = Evaluator(function=eval_beamsize)\n"
   ]
  },
  {
   "cell_type": "code",
   "execution_count": null,
   "id": "055cdec3-7f4b-4081-b9ba-ea3720da3f05",
   "metadata": {},
   "outputs": [],
   "source": [
    "eval_beamsize({})"
   ]
  },
  {
   "cell_type": "markdown",
   "id": "667e38d3",
   "metadata": {},
   "source": [
    "## VOCS"
   ]
  },
  {
   "cell_type": "code",
   "execution_count": null,
   "id": "faa0b19a",
   "metadata": {},
   "outputs": [],
   "source": [
    "# create Xopt objects\n",
    "from xopt import VOCS\n",
    "\n",
    "IMAGE_CONSTRAINTS = {\n",
    "            \"bb_penalty\": [\"LESS_THAN\", 0.0],\n",
    "        }\n",
    "\n",
    "vocs = VOCS(\n",
    "    variables = {\n",
    "        'SOLN:GUNB:212:BCTRL': [0.044, 0.044574],\n",
    "        'QUAD:HTR:120:BCTRL': [-4.46919, 4.4792]\n",
    "    },\n",
    "    constraints = IMAGE_CONSTRAINTS,\n",
    "    observables = [\"xrms_sq\", \"yrms_sq\"],\n",
    ")\n",
    "vocs.variable_names"
   ]
  },
  {
   "cell_type": "markdown",
   "source": [
    "# Run Bayesian Exploration on a grid"
   ],
   "metadata": {
    "collapsed": false
   }
  },
  {
   "cell_type": "code",
   "execution_count": null,
   "outputs": [],
   "source": [
    "from gpytorch.kernels import MaternKernel, PolynomialKernel, ScaleKernel\n",
    "from xopt.generators.bayesian.bayesian_exploration import BayesianExplorationGenerator\n",
    "from xopt.numerical_optimizer import GridOptimizer\n",
    "from xopt.generators.bayesian.models.standard import StandardModelConstructor\n",
    "from copy import deepcopy\n",
    "sys.path.append(\"../../emitopt/\")\n",
    "\n",
    "meas_dim = 0\n",
    "tuning_dims = [1]\n",
    "\n",
    "covar_module = (MaternKernel(ard_num_dims=len(tuning_dims),\n",
    "                              active_dims=tuning_dims,\n",
    "                              lengthscale_prior=None) *\n",
    "                              PolynomialKernel(power=2, active_dims=[meas_dim])\n",
    "                 )\n",
    "scaled_covar_module = ScaleKernel(covar_module)\n",
    "\n",
    "# prepare options for Xopt generator\n",
    "covar_module_dict = {\n",
    "    'xrms_sq': scaled_covar_module,\n",
    "    \"yrms_sq\": deepcopy(scaled_covar_module)\n",
    "}\n",
    "# covar_module_dict = {}\n",
    "model_constructor = StandardModelConstructor(\n",
    "    covar_modules=covar_module_dict, use_low_noise_prior=True\n",
    ")\n",
    "\n",
    "generator = BayesianExplorationGenerator(\n",
    "    vocs=vocs,\n",
    "    gp_constructor=model_constructor,\n",
    "    numerical_optimizer=GridOptimizer(n_grid_points=10)\n",
    ")\n",
    "\n",
    "from xopt import Xopt\n",
    "X_bayes_exp = Xopt(\n",
    "    vocs=vocs,\n",
    "    generator=generator,\n",
    "    evaluator=evaluator,\n",
    "    strict=True\n",
    ")"
   ],
   "metadata": {
    "collapsed": false
   }
  },
  {
   "cell_type": "markdown",
   "source": [
    "## sample in local area around reference point"
   ],
   "metadata": {
    "collapsed": false
   }
  },
  {
   "cell_type": "code",
   "execution_count": null,
   "outputs": [],
   "source": [
    "from epics import caget_many\n",
    "from xopt.utils import get_local_region\n",
    "\n",
    "reset_pvs()\n",
    "current_value = dict(\n",
    "    zip(\n",
    "        X_bayes_exp.vocs.variable_names,\n",
    "        caget_many(X_bayes_exp.vocs.variable_names)\n",
    "    )\n",
    ")\n",
    "print(current_value)\n",
    "\n",
    "\n",
    "random_sample_region = get_local_region(current_value,X_bayes_exp.vocs, fraction=0.1)\n",
    "X_bayes_exp.random_evaluate(10, custom_bounds=random_sample_region)"
   ],
   "metadata": {
    "collapsed": false
   }
  },
  {
   "cell_type": "code",
   "execution_count": null,
   "outputs": [],
   "source": [
    "for i in range(40):\n",
    "    X_bayes_exp.step()"
   ],
   "metadata": {
    "collapsed": false
   }
  },
  {
   "cell_type": "markdown",
   "source": [
    "## Visualize model/data"
   ],
   "metadata": {
    "collapsed": false
   }
  },
  {
   "cell_type": "code",
   "execution_count": null,
   "outputs": [],
   "source": [
    "from xopt.generators.bayesian.visualize import visualize_generator_model\n",
    "fig,ax = visualize_generator_model(\n",
    "    X_bayes_exp.generator,\n",
    "    variable_names=['SOLN:GUNB:212:BCTRL','QUAD:HTR:120:BCTRL'],\n",
    "    output_names=[\"xrms_sq\",\"yrms_sq\",\"bb_penalty\"],\n",
    ")\n"
   ],
   "metadata": {
    "collapsed": false
   }
  },
  {
   "cell_type": "markdown",
   "source": [
    "# Run BAX"
   ],
   "metadata": {
    "collapsed": false
   }
  },
  {
   "cell_type": "code",
   "execution_count": null,
   "id": "262c3b64",
   "metadata": {},
   "outputs": [],
   "source": [
    "from gpytorch.kernels import MaternKernel, PolynomialKernel, ScaleKernel\n",
    "from xopt.generators.bayesian.models.standard import StandardModelConstructor\n",
    "from copy import deepcopy\n",
    "sys.path.append(\"../../emitopt/\")\n",
    "import torch\n",
    "from emitopt.algorithms import ScipyMinimizeEmittanceXY\n",
    "\n",
    "meas_dim = 0\n",
    "tuning_dims = [1]\n",
    "\n",
    "covar_module = (MaternKernel(ard_num_dims=len(tuning_dims),\n",
    "                              active_dims=tuning_dims,\n",
    "                              lengthscale_prior=None) *\n",
    "                              PolynomialKernel(power=2, active_dims=[meas_dim])\n",
    "                 )\n",
    "scaled_covar_module = ScaleKernel(covar_module)\n",
    "\n",
    "# prepare options for Xopt generator\n",
    "covar_module_dict = {'Sx_squared': scaled_covar_module, \"Sy_squared\": deepcopy(scaled_covar_module)}\n",
    "model_constructor = StandardModelConstructor(\n",
    "    covar_modules=covar_module_dict, use_low_noise_prior=True\n",
    ")\n",
    "\n",
    "QUAD_LENGTH = 0.124 # m\n",
    "RMAT_X =  [\n",
    "    [-1.4591, 2.9814],\n",
    "    [-0.4998, 0.3358]\n",
    "]\n",
    "RMAT_Y = [\n",
    "    [4.8650, 8.5737],\n",
    "    [-0.1597, -0.0758]\n",
    "]\n",
    "THICK_QUAD = False\n",
    "BEAM_ENERGY = 0.088 # GeV\n",
    "SCALE_FACTOR = 2.74 # multiplicative factor to convert from measurement quad PV units to geometric focusing strength\n",
    "\n",
    "algo_kwargs = {\n",
    "        'x_key': \"xrms_sq\",\n",
    "        'y_key': \"yrms_sq\",\n",
    "        'scale_factor': SCALE_FACTOR,\n",
    "        'q_len': QUAD_LENGTH,\n",
    "        'rmat_x': torch.tensor(RMAT_X),\n",
    "        'rmat_y': torch.tensor(RMAT_Y),\n",
    "        'n_samples': 10,\n",
    "        'meas_dim': [0],\n",
    "        'n_steps_measurement_param': 11,\n",
    "        'thick_quad': THICK_QUAD\n",
    "        }\n",
    "algo = ScipyMinimizeEmittanceXY(**algo_kwargs)"
   ]
  },
  {
   "cell_type": "markdown",
   "id": "bd586df8",
   "metadata": {},
   "source": [
    "# Initialize Xopt Optimizer"
   ]
  },
  {
   "cell_type": "code",
   "execution_count": null,
   "id": "7623bc33",
   "metadata": {},
   "outputs": [],
   "source": [
    "from xopt.generators.bayesian.bax_generator import BaxGenerator\n",
    "\n",
    "\n",
    "#construct BAX generator\n",
    "generator = BaxGenerator(\n",
    "    vocs=vocs,\n",
    "    gp_constructor=model_constructor,\n",
    "    algorithm=algo,\n",
    "    numerical_optimizer=GridOptimizer(n_grid_points=10)\n",
    ")\n",
    "\n",
    "#construct Xopt optimizer and add data\n",
    "X_bax = Xopt(\n",
    "    evaluator=evaluator,\n",
    "    generator=generator,\n",
    "    vocs=vocs,\n",
    "    dump_file=\"BAX_run_be.yml\"\n",
    ")\n",
    "X_bax.add_data(X_bayes_exp.data)"
   ]
  },
  {
   "cell_type": "code",
   "execution_count": null,
   "outputs": [],
   "source": [
    "for i in range(10):\n",
    "    X_bax.step()"
   ],
   "metadata": {
    "collapsed": false
   }
  },
  {
   "cell_type": "markdown",
   "source": [
    "## view data and model"
   ],
   "metadata": {
    "collapsed": false
   }
  },
  {
   "cell_type": "code",
   "execution_count": null,
   "outputs": [],
   "source": [
    "from emitopt.plot_utils import plot_virtual_emittance_vs_tuning\n",
    "plot_virtual_emittance_vs_tuning(X_bax, torch.tensor([[0.0,450.,200]]), n_points=50)"
   ],
   "metadata": {
    "collapsed": false
   }
  },
  {
   "cell_type": "markdown",
   "source": [],
   "metadata": {
    "collapsed": false
   }
  },
  {
   "cell_type": "code",
   "execution_count": null,
   "id": "434fc746",
   "metadata": {},
   "outputs": [],
   "source": [
    "from emitopt.plot_utils import plot_sample_optima_convergence_inputs\n",
    "fig, axs = plot_sample_optima_convergence_inputs(results, show_valid_only=False)"
   ]
  },
  {
   "cell_type": "code",
   "execution_count": null,
   "id": "ff93a579-2e07-48f5-aca9-b1da59c4722e",
   "metadata": {},
   "outputs": [],
   "source": [
    "from xopt.generators.bayesian.visualize import visualize_generator_model\n",
    "visualize_generator_model(\n",
    "    X_bax.generator,\n",
    "    variable_names=['QUAD:HTR:120:BCTRL']\n",
    ")\n"
   ]
  }
 ],
 "metadata": {
  "kernelspec": {
   "display_name": "Python 3 (ipykernel)",
   "language": "python",
   "name": "python3"
  },
  "language_info": {
   "codemirror_mode": {
    "name": "ipython",
    "version": 3
   },
   "file_extension": ".py",
   "mimetype": "text/x-python",
   "name": "python",
   "nbconvert_exporter": "python",
   "pygments_lexer": "ipython3",
   "version": "3.9.18"
  }
 },
 "nbformat": 4,
 "nbformat_minor": 5
}
