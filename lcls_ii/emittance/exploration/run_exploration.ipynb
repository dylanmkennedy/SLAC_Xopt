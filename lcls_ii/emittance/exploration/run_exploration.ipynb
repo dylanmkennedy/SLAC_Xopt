{
 "cells": [
  {
   "cell_type": "markdown",
   "source": [
    "## Bayesian Exploration of beam emittance at LCLS-II"
   ],
   "metadata": {
    "collapsed": false
   }
  },
  {
   "cell_type": "code",
   "execution_count": 5,
   "outputs": [],
   "source": [
    "from scripts.evaluate_function.screen_image import measure_beamsize, measure_background\n",
    "from scripts.characterize_emittance import characterize_emittance"
   ],
   "metadata": {
    "collapsed": false,
    "ExecuteTime": {
     "end_time": "2023-08-13T23:28:58.580721700Z",
     "start_time": "2023-08-13T23:28:58.571733200Z"
    }
   }
  },
  {
   "cell_type": "code",
   "execution_count": 6,
   "outputs": [
    {
     "name": "stdout",
     "output_type": "stream",
     "text": [
      "2.0a1+19.g208c72e\n"
     ]
    }
   ],
   "source": [
    "# optionally add scripts location to path\n",
    "if True:\n",
    "    import sys\n",
    "    sys.path.append(\"../../../\")\n",
    "    sys.path.append(\"../\")\n",
    "\n",
    "import xopt\n",
    "print(xopt.__version__)\n",
    "\n",
    "\n",
    "# set up data saving locations\n",
    "#data_dir = \"/home/physics3/ml_tuning/20230729_LCLS_Injector\"\n",
    "\n",
    "#run_name = \"optimize_1\"\n",
    "#run_dir = f\"{data_dir}/{run_name}\"\n",
    "#import os\n",
    "#if not os.path.exists(run_dir):\n",
    "#    os.mkdir(run_dir)"
   ],
   "metadata": {
    "collapsed": false,
    "ExecuteTime": {
     "end_time": "2023-08-13T23:28:59.234084600Z",
     "start_time": "2023-08-13T23:28:59.218084200Z"
    }
   }
  },
  {
   "cell_type": "code",
   "execution_count": 7,
   "outputs": [],
   "source": [
    "from utils import VARIABLE_RANGES, SCAN_VARIABLE, \\\n",
    "    MEASUREMENT_OPTIONS, IMAGE_CONSTRAINTS, SCREEN_NAME, BEAM_ENERGY, QUAD_LENGTH, \\\n",
    "    PV_TO_INTEGRATED_GRADIENT, DRIFT_LENGTH"
   ],
   "metadata": {
    "collapsed": false,
    "ExecuteTime": {
     "end_time": "2023-08-13T23:28:59.797004500Z",
     "start_time": "2023-08-13T23:28:59.789001100Z"
    }
   }
  },
  {
   "cell_type": "markdown",
   "source": [
    "## (Optional) Measure background image"
   ],
   "metadata": {
    "collapsed": false
   }
  },
  {
   "cell_type": "code",
   "execution_count": null,
   "outputs": [],
   "source": [
    "MEASURE_BACKGROUND = True\n",
    "if MEASURE_BACKGROUND:\n",
    "    measure_background(SCREEN_NAME)\n",
    "    BACKGROUND_FILE = f\"{SCREEN_NAME}_background.npy\".replace(\":\",\"_\")\n",
    "else:\n",
    "    BACKGROUND_FILE = None"
   ],
   "metadata": {
    "collapsed": false
   }
  },
  {
   "cell_type": "code",
   "execution_count": null,
   "outputs": [],
   "source": [
    "# verify background image\n",
    "import numpy as np\n",
    "import matplotlib.pyplot as plt\n",
    "plt.imshow(np.load(BACKGROUND_FILE))"
   ],
   "metadata": {
    "collapsed": false
   }
  },
  {
   "cell_type": "markdown",
   "source": [
    "## Define measurement parameters"
   ],
   "metadata": {
    "collapsed": false
   }
  },
  {
   "cell_type": "code",
   "execution_count": null,
   "outputs": [],
   "source": [
    "from xopt import VOCS\n",
    "import numpy as np\n",
    "from emitopt.utils import get_quad_strength_conversion_factor\n",
    "\n",
    "\n",
    "EXPLORATION_VARIABLES = [\"QUAD:GUNB:212:1:BCTRL\",\"QUAD:GUNB:212:2:BCTRL\",\n",
    "                         \"SOLN:GUNB:212:BCTRL\",\"SOLN:GUNB:823:BCTRL\"]\n",
    "\n",
    "\n",
    "# create conversion factor from PV value to geometric focusing strength\n",
    "integrated_gradient_to_geometric_focusing_strength = get_quad_strength_conversion_factor(\n",
    "        BEAM_ENERGY, QUAD_LENGTH\n",
    "    )\n",
    "QUAD_STRENGTH_SCALE =  PV_TO_INTEGRATED_GRADIENT * \\\n",
    "           integrated_gradient_to_geometric_focusing_strength\n",
    "\n",
    "ROI = None\n",
    "SCAN_NUMBER = 0\n",
    "\n",
    "MEASUREMENT_OPTIONS[\"background\"] = BACKGROUND_FILE\n",
    "\n",
    "\n",
    "# define function to measure the total size on OTR4\n",
    "def eval_beamsize(input_dict):\n",
    "    results = measure_beamsize(input_dict)\n",
    "    results[\"S_x_mm\"] = results[\"Sx\"] * 1e3\n",
    "    results[\"S_y_mm\"] = results[\"Sy\"] * 1e3\n",
    "\n",
    "    #add total beam size\n",
    "    results[\"total_size\"] = np.sqrt(results[\"Sx\"]**2 + results[\"Sy\"]**2)\n",
    "    return results\n",
    "\n",
    "def eval_emittance(inputs: dict):\n",
    "    global SCAN_NUMBER\n",
    "\n",
    "    emit_vocs = VOCS(\n",
    "        variables = {SCAN_VARIABLE: VARIABLE_RANGES[SCAN_VARIABLE]},\n",
    "        constants = inputs,\n",
    "        observables = [\"total_size\"],\n",
    "        constraints = IMAGE_CONSTRAINTS\n",
    "    )\n",
    "\n",
    "    print(f\"running emittance characterization scan number {SCAN_NUMBER}\")\n",
    "    results = characterize_emittance(\n",
    "        emit_vocs,\n",
    "        eval_beamsize,\n",
    "        quad_length=QUAD_LENGTH,\n",
    "        drift_length=DRIFT_LENGTH,\n",
    "        beam_energy=BEAM_ENERGY,\n",
    "        quad_strength_scale_factor=QUAD_STRENGTH_SCALE,\n",
    "        quad_strength_key=SCAN_VARIABLE,\n",
    "        rms_x_key=\"S_x_mm\",\n",
    "        rms_y_key=\"S_y_mm\",\n",
    "        n_initial=3,\n",
    "        dump_file=f\"data/scan_{SCAN_NUMBER}.yml\"\n",
    "    )\n",
    "\n",
    "    SCAN_NUMBER += 1\n",
    "    return results"
   ],
   "metadata": {
    "collapsed": false
   }
  },
  {
   "cell_type": "markdown",
   "source": [
    "## Set up exploration"
   ],
   "metadata": {
    "collapsed": false
   }
  },
  {
   "cell_type": "code",
   "execution_count": null,
   "outputs": [],
   "source": [
    "from xopt.evaluator import Evaluator\n",
    "from xopt.generators import BayesianExplorationGenerator\n",
    "from xopt import Xopt\n",
    "\n",
    "vocs = VOCS(\n",
    "        variables = {ele: VARIABLE_RANGES[ele] for ele in EXPLORATION_VARIABLES},\n",
    "        constants = MEASUREMENT_OPTIONS,\n",
    "        observables = [\"x_emittance_median\"],\n",
    "    )\n",
    "\n",
    "evaluator = Evaluator(function=eval_emittance)\n",
    "generator = BayesianExplorationGenerator(vocs=vocs)\n",
    "\n",
    "# reset SCAN_NUMBER\n",
    "SCAN_NUMBER = 0\n",
    "\n",
    "X = Xopt(vocs=vocs, generator=generator, evaluator=evaluator)\n",
    "X"
   ],
   "metadata": {
    "collapsed": false
   }
  },
  {
   "cell_type": "code",
   "execution_count": null,
   "outputs": [],
   "source": [
    "## Evaluate initial points\n",
    "initial_points = []\n",
    "X.evaluate_data(initial_points)"
   ],
   "metadata": {
    "collapsed": false
   }
  },
  {
   "cell_type": "code",
   "execution_count": null,
   "outputs": [],
   "source": [
    "## run exploration\n",
    "n_steps = 10\n",
    "for i in range(n_steps):\n",
    "    X.step()"
   ],
   "metadata": {
    "collapsed": false
   }
  }
 ],
 "metadata": {
  "kernelspec": {
   "display_name": "Python 3",
   "language": "python",
   "name": "python3"
  },
  "language_info": {
   "codemirror_mode": {
    "name": "ipython",
    "version": 2
   },
   "file_extension": ".py",
   "mimetype": "text/x-python",
   "name": "python",
   "nbconvert_exporter": "python",
   "pygments_lexer": "ipython2",
   "version": "2.7.6"
  }
 },
 "nbformat": 4,
 "nbformat_minor": 0
}
