{
 "cells": [
  {
   "cell_type": "code",
   "execution_count": 19,
   "metadata": {
    "ExecuteTime": {
     "end_time": "2024-02-05T20:51:31.008629100Z",
     "start_time": "2024-02-05T20:51:31.000591200Z"
    },
    "collapsed": false,
    "jupyter": {
     "outputs_hidden": false
    }
   },
   "outputs": [],
   "source": [
    "tracked_pvs = ['QUAD:HTR:140:BCTRL',\n",
    "                'QUAD:HTR:300:BCTRL',\n",
    "                'QUAD:HTR:320:BCTRL',\n",
    "                \"SOLN:GUNB:212:BCTRL\", #SOL\n",
    "                \"QUAD:GUNB:212:1:BCTRL\", #CQ1\n",
    "                \"QUAD:GUNB:212:2:BCTRL\", #SQ1\n",
    "                \"SOLN:GUNB:823:BCTRL\", #BUCK\n",
    "                \"QUAD:GUNB:823:1:BCTRL\",# CQ2\n",
    "                \"QUAD:GUNB:823:2:BCTRL\",#SQ2\n",
    "                \"ACCL:GUNB:455:PDES\", #buncher phase +/- 20 deg range\n",
    "                \"ACCL:L0B:0110:ADES\", #+/- 3 MV\n",
    "                \"ACCL:L0B:0110:PDES\", #+/-10\n",
    "                \"ACCL:L0B:0130:PDES\", #+/-10\n",
    "                \"QUAD:HTR:120:BCTRL\"] #scanning quad]\n",
    "\n",
    "import yaml\n",
    "yaml.dump(tracked_pvs,open(\"tracked_pvs.yml\",\"w\"))"
   ]
  },
  {
   "cell_type": "code",
   "execution_count": 20,
   "metadata": {
    "ExecuteTime": {
     "end_time": "2024-02-05T20:36:30.812103600Z",
     "start_time": "2024-02-05T20:36:30.803075500Z"
    },
    "collapsed": false,
    "jupyter": {
     "outputs_hidden": false
    }
   },
   "outputs": [],
   "source": [
    "import pandas as pd\n",
    "data = pd.read_csv(\"variables.csv\")"
   ]
  },
  {
   "cell_type": "code",
   "execution_count": 21,
   "metadata": {
    "ExecuteTime": {
     "end_time": "2024-02-05T20:38:12.981389400Z",
     "start_time": "2024-02-05T20:38:12.964361400Z"
    },
    "collapsed": false,
    "jupyter": {
     "outputs_hidden": false
    }
   },
   "outputs": [],
   "source": [
    "data = data.to_dict(\"list\")"
   ]
  },
  {
   "cell_type": "code",
   "execution_count": 22,
   "metadata": {
    "ExecuteTime": {
     "end_time": "2024-02-05T20:40:03.219077Z",
     "start_time": "2024-02-05T20:40:03.209047400Z"
    },
    "collapsed": false,
    "jupyter": {
     "outputs_hidden": false
    }
   },
   "outputs": [
    {
     "data": {
      "text/plain": [
       "{'name': ['SOLN:GUNB:212:BCTRL',\n",
       "  'SOLN:GUNB:823:BCTRL',\n",
       "  'QUAD:GUNB:212:1:BCTRL',\n",
       "  'QUAD:GUNB:212:2:BCTRL',\n",
       "  'QUAD:GUNB:823:1:BCTRL',\n",
       "  'QUAD:GUNB:823:2:BCTRL',\n",
       "  'QUAD:HTR:120:BCTRL',\n",
       "  'QUAD:HTR:140:BCTRL',\n",
       "  'QUAD:HTR:300:BCTRL',\n",
       "  'QUAD:HTR:320:BCTRL'],\n",
       " ' lower': [0.044,\n",
       "  0.021,\n",
       "  -0.005,\n",
       "  -0.005,\n",
       "  -0.005,\n",
       "  -0.005,\n",
       "  -4.48035,\n",
       "  -4.4778,\n",
       "  -4.46035,\n",
       "  -4.46919],\n",
       " ' upper': [0.044574,\n",
       "  0.0255,\n",
       "  0.005,\n",
       "  0.005,\n",
       "  0.005,\n",
       "  0.005,\n",
       "  4.479,\n",
       "  4.4762,\n",
       "  4.4692,\n",
       "  4.4792]}"
      ]
     },
     "execution_count": 22,
     "metadata": {},
     "output_type": "execute_result"
    }
   ],
   "source": [
    "data"
   ]
  },
  {
   "cell_type": "code",
   "execution_count": 23,
   "metadata": {
    "ExecuteTime": {
     "end_time": "2024-02-05T20:40:21.362238300Z",
     "start_time": "2024-02-05T20:40:21.347203600Z"
    },
    "collapsed": false,
    "jupyter": {
     "outputs_hidden": false
    }
   },
   "outputs": [],
   "source": [
    "bounds = [[ele1,ele2] for ele1, ele2 in zip(data[\" lower\"],data[\" upper\"])]"
   ]
  },
  {
   "cell_type": "code",
   "execution_count": 24,
   "metadata": {
    "ExecuteTime": {
     "end_time": "2024-02-05T20:40:26.474996900Z",
     "start_time": "2024-02-05T20:40:26.430998100Z"
    },
    "collapsed": false,
    "jupyter": {
     "outputs_hidden": false
    }
   },
   "outputs": [
    {
     "data": {
      "text/plain": [
       "[[0.044, 0.044574],\n",
       " [0.021, 0.0255],\n",
       " [-0.005, 0.005],\n",
       " [-0.005, 0.005],\n",
       " [-0.005, 0.005],\n",
       " [-0.005, 0.005],\n",
       " [-4.48035, 4.479],\n",
       " [-4.4778, 4.4762],\n",
       " [-4.46035, 4.4692],\n",
       " [-4.46919, 4.4792]]"
      ]
     },
     "execution_count": 24,
     "metadata": {},
     "output_type": "execute_result"
    }
   ],
   "source": [
    "bounds"
   ]
  },
  {
   "cell_type": "code",
   "execution_count": 25,
   "metadata": {
    "ExecuteTime": {
     "end_time": "2024-02-05T20:41:25.230514100Z",
     "start_time": "2024-02-05T20:41:25.225514900Z"
    },
    "collapsed": false,
    "jupyter": {
     "outputs_hidden": false
    }
   },
   "outputs": [],
   "source": [
    "info = {ele:bound for ele, bound in zip(data[\"name\"],bounds)}"
   ]
  },
  {
   "cell_type": "code",
   "execution_count": 26,
   "metadata": {
    "ExecuteTime": {
     "end_time": "2024-02-05T20:41:28.864844400Z",
     "start_time": "2024-02-05T20:41:28.851879500Z"
    },
    "collapsed": false,
    "jupyter": {
     "outputs_hidden": false
    }
   },
   "outputs": [
    {
     "data": {
      "text/plain": [
       "{'SOLN:GUNB:212:BCTRL': [0.044, 0.044574],\n",
       " 'SOLN:GUNB:823:BCTRL': [0.021, 0.0255],\n",
       " 'QUAD:GUNB:212:1:BCTRL': [-0.005, 0.005],\n",
       " 'QUAD:GUNB:212:2:BCTRL': [-0.005, 0.005],\n",
       " 'QUAD:GUNB:823:1:BCTRL': [-0.005, 0.005],\n",
       " 'QUAD:GUNB:823:2:BCTRL': [-0.005, 0.005],\n",
       " 'QUAD:HTR:120:BCTRL': [-4.48035, 4.479],\n",
       " 'QUAD:HTR:140:BCTRL': [-4.4778, 4.4762],\n",
       " 'QUAD:HTR:300:BCTRL': [-4.46035, 4.4692],\n",
       " 'QUAD:HTR:320:BCTRL': [-4.46919, 4.4792]}"
      ]
     },
     "execution_count": 26,
     "metadata": {},
     "output_type": "execute_result"
    }
   ],
   "source": [
    "info"
   ]
  },
  {
   "cell_type": "code",
   "execution_count": 18,
   "metadata": {
    "ExecuteTime": {
     "end_time": "2024-02-05T20:42:01.769509900Z",
     "start_time": "2024-02-05T20:42:01.765531700Z"
    },
    "collapsed": false,
    "jupyter": {
     "outputs_hidden": false
    }
   },
   "outputs": [],
   "source": [
    "yaml.dump(info, open(\"pv_bounds.yml\",\"w\"))"
   ]
  },
  {
   "cell_type": "code",
   "execution_count": null,
   "metadata": {
    "collapsed": false,
    "jupyter": {
     "outputs_hidden": false
    }
   },
   "outputs": [],
   "source": []
  }
 ],
 "metadata": {
  "kernelspec": {
   "display_name": "Python 3 (ipykernel)",
   "language": "python",
   "name": "python3"
  },
  "language_info": {
   "codemirror_mode": {
    "name": "ipython",
    "version": 3
   },
   "file_extension": ".py",
   "mimetype": "text/x-python",
   "name": "python",
   "nbconvert_exporter": "python",
   "pygments_lexer": "ipython3",
   "version": "3.9.18"
  }
 },
 "nbformat": 4,
 "nbformat_minor": 4
}
