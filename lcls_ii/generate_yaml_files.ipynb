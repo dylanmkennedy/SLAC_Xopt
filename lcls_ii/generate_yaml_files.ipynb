{
 "cells": [
  {
   "cell_type": "code",
   "execution_count": 26,
   "metadata": {
    "ExecuteTime": {
     "end_time": "2024-02-05T20:51:31.008629100Z",
     "start_time": "2024-02-05T20:51:31.000591200Z"
    },
    "collapsed": false
   },
   "outputs": [],
   "source": [
    "tracked_pvs = ['QUAD:LI26:201:BCTRL',\n",
    "               'QUAD:LI26:301:BCTRL',\n",
    "               'QUAD:LI26:401:BCTRL',\n",
    "               'QUAD:LI26:501:BCTRL',\n",
    "               'QUAD:LI26:601:BCTRL',\n",
    "               'QUAD:LI26:701:BCTRL',\n",
    "               'QUAD:LI26:801:BCTRL',\n",
    "               'QUAD:LI26:901:BCTRL',\n",
    "               'QUAD:LTUH:620:BCTRL',\n",
    "               'QUAD:LTUH:640:BCTRL',\n",
    "               'QUAD:LTUH:660:BCTRL',\n",
    "               'QUAD:LTUH:680:BCTRL',\n",
    "               'QUAD:LTUH:440:BCTRL',\n",
    "               'QUAD:LTUH:460:BCTRL',\n",
    "               'QUAD:LI21:201:BCTRL',\n",
    "               'QUAD:LI21:211:BCTRL',\n",
    "               'QUAD:LI21:271:BCTRL',\n",
    "               'QUAD:LI21:278:BCTRL',\n",
    "               'QUAD:LI21:221:BCTRL',\n",
    "               'QUAD:LI21:251:BCTRL',\n",
    "               'QUAD:LI24:740:BCTRL',\n",
    "               'QUAD:LI24:860:BCTRL',\n",
    "               'QUAD:IN20:361:BCTRL',\n",
    "               'QUAD:IN20:371:BCTRL',\n",
    "               'QUAD:IN20:425:BCTRL',\n",
    "               'QUAD:IN20:441:BCTRL',\n",
    "               'QUAD:IN20:511:BCTRL',\n",
    "               'QUAD:IN20:525:BCTRL',\n",
    "               'SOLN:IN20:121:BCTRL',\n",
    "               'QUAD:IN20:121:BCTRL',\n",
    "               'QUAD:IN20:122:BCTRL',\n",
    "               'QUAD:LI26:201:BACT',\n",
    "               'QUAD:LI26:301:BACT',\n",
    "               'QUAD:LI26:401:BACT',\n",
    "               'QUAD:LI26:501:BACT',\n",
    "               'QUAD:LI26:601:BACT',\n",
    "               'QUAD:LI26:701:BACT',\n",
    "               'QUAD:LI26:801:BACT',\n",
    "               'QUAD:LI26:901:BACT',\n",
    "               'QUAD:LTUH:620:BACT',\n",
    "               'QUAD:LTUH:640:BACT',\n",
    "               'QUAD:LTUH:660:BACT',\n",
    "               'QUAD:LTUH:680:BACT',\n",
    "               'QUAD:LTUH:440:BACT',\n",
    "               'QUAD:LTUH:460:BACT',\n",
    "               'QUAD:LI21:201:BACT',\n",
    "               'QUAD:LI21:211:BACT',\n",
    "               'QUAD:LI21:271:BACT',\n",
    "               'QUAD:LI21:278:BACT',\n",
    "               'QUAD:LI21:221:BACT',\n",
    "               'QUAD:LI21:251:BACT',\n",
    "               'QUAD:LI24:740:BACT',\n",
    "               'QUAD:LI24:860:BACT',\n",
    "               'QUAD:IN20:361:BACT',\n",
    "               'QUAD:IN20:371:BACT',\n",
    "               'QUAD:IN20:425:BACT',\n",
    "               'QUAD:IN20:441:BACT',\n",
    "               'QUAD:IN20:511:BACT',\n",
    "               'QUAD:IN20:525:BACT',\n",
    "               'SOLN:IN20:121:BACT',\n",
    "               'QUAD:IN20:121:BACT',\n",
    "               'QUAD:IN20:122:BACT',\n",
    "               'BPMS:LI30:201:TMITCUH1H',\n",
    "               'BLEN:LI21:265:AIMAXCUHBR',\n",
    "               # bunch compression 1 in HXR, for SXR 'BLEN:LI21:265:AIMAXCUSBR'\n",
    "               'BLEN:LI24:886:BIMAXCUHBR',\n",
    "               # bunch compression 2 in HXR, for SXR same pattern as above\n",
    "               'TORO:IN20:215:TMIT',\n",
    "               # charge readbacks along the accelerator (useful for cutting on cases where there are beam losses\n",
    "               'TORO:IN20:431:TMIT',\n",
    "               'TORO:LI21:277:TMIT',\n",
    "               'TORO:CLTH:108:TMIT',\n",
    "               'LION:LI24:708:VACT',  # beam loss monitor\n",
    "               'BPMS:LI24:801:X',  # energy BPMS (deviation correlates to energy)\n",
    "               'BPMS:LI24:801:X']\n",
    "\n",
    "hard_cblm_indexes = range(13, 46)\n",
    "hard_loss_PVS = [f\"CBLM:UNDH:{ele}75:I1_LOSS\" for ele in hard_cblm_indexes]\n",
    "tracked_pvs = tracked_pvs + hard_loss_PVS + [\"GDET:FEE1:241:ENRCHSTCUHBR\"]\n",
    "import yaml\n",
    "yaml.dump(tracked_pvs,open(\"tracked_pvs.yml\",\"w\"))"
   ]
  },
  {
   "cell_type": "code",
   "execution_count": 8,
   "metadata": {
    "ExecuteTime": {
     "end_time": "2024-02-05T20:36:30.812103600Z",
     "start_time": "2024-02-05T20:36:30.803075500Z"
    },
    "collapsed": false
   },
   "outputs": [],
   "source": [
    "import pandas as pd\n",
    "data = pd.read_csv(\"variables.csv\")"
   ]
  },
  {
   "cell_type": "code",
   "execution_count": 14,
   "metadata": {
    "ExecuteTime": {
     "end_time": "2024-02-05T20:38:12.981389400Z",
     "start_time": "2024-02-05T20:38:12.964361400Z"
    },
    "collapsed": false
   },
   "outputs": [],
   "source": [
    "data = data.to_dict(\"list\")"
   ]
  },
  {
   "cell_type": "code",
   "execution_count": 18,
   "metadata": {
    "ExecuteTime": {
     "end_time": "2024-02-05T20:40:03.219077Z",
     "start_time": "2024-02-05T20:40:03.209047400Z"
    },
    "collapsed": false
   },
   "outputs": [
    {
     "data": {
      "text/plain": [
       "{'name': ['SOLN:IN20:121:BCTRL',\n",
       "  'QUAD:IN20:121:BCTRL',\n",
       "  'QUAD:IN20:122:BCTRL',\n",
       "  'QUAD:IN20:361:BCTRL',\n",
       "  'QUAD:IN20:371:BCTRL',\n",
       "  'QUAD:IN20:425:BCTRL',\n",
       "  'QUAD:IN20:441:BCTRL',\n",
       "  'QUAD:IN20:511:BCTRL',\n",
       "  'QUAD:IN20:525:BCTRL',\n",
       "  'QUAD:LI26:201:BCTRL',\n",
       "  'QUAD:LI26:301:BCTRL',\n",
       "  'QUAD:LI26:401:BCTRL',\n",
       "  'QUAD:LI26:501:BCTRL',\n",
       "  'QUAD:LI26:601:BCTRL',\n",
       "  'QUAD:LI26:701:BCTRL',\n",
       "  'QUAD:LI26:801:BCTRL',\n",
       "  'QUAD:LI26:901:BCTRL'],\n",
       " ' lower': [0.377,\n",
       "  -0.021,\n",
       "  -0.021,\n",
       "  -4.32,\n",
       "  1.09,\n",
       "  -7.56,\n",
       "  -1.08,\n",
       "  -1.08,\n",
       "  -7.56,\n",
       "  10.2,\n",
       "  -12.5,\n",
       "  8.8,\n",
       "  -4.5,\n",
       "  11.2,\n",
       "  -14.5,\n",
       "  12.2,\n",
       "  -10.0],\n",
       " ' upper': [0.498,\n",
       "  0.021,\n",
       "  0.021,\n",
       "  -1.08,\n",
       "  4.31,\n",
       "  -1.08,\n",
       "  7.56,\n",
       "  7.56,\n",
       "  -1.08,\n",
       "  12.3,\n",
       "  -5.7,\n",
       "  12.2,\n",
       "  -3.7,\n",
       "  12.8,\n",
       "  -13.0,\n",
       "  14.1,\n",
       "  -6.8]}"
      ]
     },
     "execution_count": 18,
     "metadata": {},
     "output_type": "execute_result"
    }
   ],
   "source": [
    "data"
   ]
  },
  {
   "cell_type": "code",
   "execution_count": 19,
   "metadata": {
    "ExecuteTime": {
     "end_time": "2024-02-05T20:40:21.362238300Z",
     "start_time": "2024-02-05T20:40:21.347203600Z"
    },
    "collapsed": false
   },
   "outputs": [],
   "source": [
    "bounds = [[ele1,ele2] for ele1, ele2 in zip(data[\" lower\"],data[\" upper\"])]"
   ]
  },
  {
   "cell_type": "code",
   "execution_count": 20,
   "metadata": {
    "ExecuteTime": {
     "end_time": "2024-02-05T20:40:26.474996900Z",
     "start_time": "2024-02-05T20:40:26.430998100Z"
    },
    "collapsed": false
   },
   "outputs": [
    {
     "data": {
      "text/plain": [
       "[[0.377, 0.498],\n",
       " [-0.021, 0.021],\n",
       " [-0.021, 0.021],\n",
       " [-4.32, -1.08],\n",
       " [1.09, 4.31],\n",
       " [-7.56, -1.08],\n",
       " [-1.08, 7.56],\n",
       " [-1.08, 7.56],\n",
       " [-7.56, -1.08],\n",
       " [10.2, 12.3],\n",
       " [-12.5, -5.7],\n",
       " [8.8, 12.2],\n",
       " [-4.5, -3.7],\n",
       " [11.2, 12.8],\n",
       " [-14.5, -13.0],\n",
       " [12.2, 14.1],\n",
       " [-10.0, -6.8]]"
      ]
     },
     "execution_count": 20,
     "metadata": {},
     "output_type": "execute_result"
    }
   ],
   "source": [
    "bounds"
   ]
  },
  {
   "cell_type": "code",
   "execution_count": 22,
   "metadata": {
    "ExecuteTime": {
     "end_time": "2024-02-05T20:41:25.230514100Z",
     "start_time": "2024-02-05T20:41:25.225514900Z"
    },
    "collapsed": false
   },
   "outputs": [],
   "source": [
    "info = {ele:bound for ele, bound in zip(data[\"name\"],bounds)}"
   ]
  },
  {
   "cell_type": "code",
   "execution_count": 23,
   "metadata": {
    "ExecuteTime": {
     "end_time": "2024-02-05T20:41:28.864844400Z",
     "start_time": "2024-02-05T20:41:28.851879500Z"
    },
    "collapsed": false
   },
   "outputs": [
    {
     "data": {
      "text/plain": [
       "{'SOLN:IN20:121:BCTRL': [0.377, 0.498],\n",
       " 'QUAD:IN20:121:BCTRL': [-0.021, 0.021],\n",
       " 'QUAD:IN20:122:BCTRL': [-0.021, 0.021],\n",
       " 'QUAD:IN20:361:BCTRL': [-4.32, -1.08],\n",
       " 'QUAD:IN20:371:BCTRL': [1.09, 4.31],\n",
       " 'QUAD:IN20:425:BCTRL': [-7.56, -1.08],\n",
       " 'QUAD:IN20:441:BCTRL': [-1.08, 7.56],\n",
       " 'QUAD:IN20:511:BCTRL': [-1.08, 7.56],\n",
       " 'QUAD:IN20:525:BCTRL': [-7.56, -1.08],\n",
       " 'QUAD:LI26:201:BCTRL': [10.2, 12.3],\n",
       " 'QUAD:LI26:301:BCTRL': [-12.5, -5.7],\n",
       " 'QUAD:LI26:401:BCTRL': [8.8, 12.2],\n",
       " 'QUAD:LI26:501:BCTRL': [-4.5, -3.7],\n",
       " 'QUAD:LI26:601:BCTRL': [11.2, 12.8],\n",
       " 'QUAD:LI26:701:BCTRL': [-14.5, -13.0],\n",
       " 'QUAD:LI26:801:BCTRL': [12.2, 14.1],\n",
       " 'QUAD:LI26:901:BCTRL': [-10.0, -6.8]}"
      ]
     },
     "execution_count": 23,
     "metadata": {},
     "output_type": "execute_result"
    }
   ],
   "source": [
    "info"
   ]
  },
  {
   "cell_type": "code",
   "execution_count": 24,
   "metadata": {
    "ExecuteTime": {
     "end_time": "2024-02-05T20:42:01.769509900Z",
     "start_time": "2024-02-05T20:42:01.765531700Z"
    },
    "collapsed": false
   },
   "outputs": [],
   "source": [
    "yaml.dump(info, open(\"pv_bounds.yml\",\"w\"))"
   ]
  },
  {
   "cell_type": "code",
   "execution_count": null,
   "metadata": {
    "collapsed": false
   },
   "outputs": [],
   "source": []
  }
 ],
 "metadata": {
  "kernelspec": {
   "display_name": "Python 3",
   "language": "python",
   "name": "python3"
  },
  "language_info": {
   "codemirror_mode": {
    "name": "ipython",
    "version": 2
   },
   "file_extension": ".py",
   "mimetype": "text/x-python",
   "name": "python",
   "nbconvert_exporter": "python",
   "pygments_lexer": "ipython2",
   "version": "2.7.6"
  }
 },
 "nbformat": 4,
 "nbformat_minor": 0
}
