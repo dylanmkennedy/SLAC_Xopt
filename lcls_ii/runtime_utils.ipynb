{
 "cells": [
  {
   "cell_type": "code",
   "execution_count": 2,
   "id": "eda6f2d1-09cd-414f-9c63-afab4858f7a0",
   "metadata": {},
   "outputs": [
    {
     "data": {
      "text/plain": [
       "{'QUAD:HTR:140:BCTRL': 1.6975759721701786,\n",
       " 'QUAD:HTR:300:BCTRL': 1.717953462815712,\n",
       " 'QUAD:HTR:320:BCTRL': -1.7056625208016953,\n",
       " 'SOLN:GUNB:212:BCTRL': 0.044250000000000005,\n",
       " 'QUAD:GUNB:212:1:BCTRL': 0.0019979999999999998,\n",
       " 'QUAD:GUNB:212:2:BCTRL': 0.0024625,\n",
       " 'SOLN:GUNB:823:BCTRL': 0.024170000000000014,\n",
       " 'QUAD:GUNB:823:1:BCTRL': 0.0029849192,\n",
       " 'QUAD:GUNB:823:2:BCTRL': 0.0020575000000000003,\n",
       " 'ACCL:GUNB:455:PDES': -132.5,\n",
       " 'ACCL:L0B:0110:ADES': 6.5,\n",
       " 'ACCL:L0B:0110:PDES': -20.0,\n",
       " 'ACCL:L0B:0130:PDES': 0.0,\n",
       " 'QUAD:HTR:120:BCTRL': -2.335956937533228}"
      ]
     },
     "execution_count": 2,
     "metadata": {},
     "output_type": "execute_result"
    }
   ],
   "source": [
    "# save reference point\n",
    "from common import save_reference_point, get_pv_objects\n",
    "pv_objects = get_pv_objects(\"tracked_pvs.yml\")\n",
    "ref = save_reference_point(pv_objects)\n",
    "ref"
   ]
  },
  {
   "cell_type": "code",
   "execution_count": null,
   "id": "d7700c4e-9110-42c0-beb1-ff6002277b25",
   "metadata": {},
   "outputs": [],
   "source": []
  }
 ],
 "metadata": {
  "kernelspec": {
   "display_name": "Python 3 (ipykernel)",
   "language": "python",
   "name": "python3"
  },
  "language_info": {
   "codemirror_mode": {
    "name": "ipython",
    "version": 3
   },
   "file_extension": ".py",
   "mimetype": "text/x-python",
   "name": "python",
   "nbconvert_exporter": "python",
   "pygments_lexer": "ipython3",
   "version": "3.9.18"
  }
 },
 "nbformat": 4,
 "nbformat_minor": 5
}
