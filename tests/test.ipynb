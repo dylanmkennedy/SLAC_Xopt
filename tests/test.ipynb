{
 "cells": [
  {
   "cell_type": "code",
   "execution_count": 1,
   "metadata": {
    "collapsed": true,
    "ExecuteTime": {
     "end_time": "2023-08-23T21:07:04.395267900Z",
     "start_time": "2023-08-23T21:07:03.998268900Z"
    }
   },
   "outputs": [],
   "source": [
    "import pandas as pd\n",
    "data = pd.read_csv(\"test_data.csv\", dtype=\"float\")"
   ]
  },
  {
   "cell_type": "code",
   "execution_count": 2,
   "outputs": [
    {
     "data": {
      "text/plain": "     Unnamed: 0         x        Sx        Sy  total_size  xopt_runtime  \\\n0           1.0 -0.453386  0.842380  1.103417    1.388212      0.000062   \n1           2.0 -0.453386  0.953083  1.339052    1.643602      0.000062   \n2           3.0 -0.453386  0.938259  1.623012    1.874699      0.000062   \n3           4.0 -0.453386       NaN  1.170852    1.533612      0.000062   \n4           5.0 -0.453386  0.761355  1.164282    1.391119      0.000062   \n..          ...       ...       ...       ...         ...           ...   \n105       106.0 -1.404905  1.213152  1.859222    2.220010      0.000042   \n106       107.0 -1.404905  1.246280  1.951672    2.315651      0.000042   \n107       108.0 -1.404905  1.117802  2.107495    2.385585      0.000042   \n108       109.0 -1.404905  1.369317  2.170679    2.566491      0.000042   \n109       110.0 -1.404905  1.234512  1.957512    2.314275      0.000042   \n\n     xopt_error  \n0           0.0  \n1           0.0  \n2           0.0  \n3           0.0  \n4           0.0  \n..          ...  \n105         0.0  \n106         0.0  \n107         0.0  \n108         0.0  \n109         0.0  \n\n[110 rows x 7 columns]",
      "text/html": "<div>\n<style scoped>\n    .dataframe tbody tr th:only-of-type {\n        vertical-align: middle;\n    }\n\n    .dataframe tbody tr th {\n        vertical-align: top;\n    }\n\n    .dataframe thead th {\n        text-align: right;\n    }\n</style>\n<table border=\"1\" class=\"dataframe\">\n  <thead>\n    <tr style=\"text-align: right;\">\n      <th></th>\n      <th>Unnamed: 0</th>\n      <th>x</th>\n      <th>Sx</th>\n      <th>Sy</th>\n      <th>total_size</th>\n      <th>xopt_runtime</th>\n      <th>xopt_error</th>\n    </tr>\n  </thead>\n  <tbody>\n    <tr>\n      <th>0</th>\n      <td>1.0</td>\n      <td>-0.453386</td>\n      <td>0.842380</td>\n      <td>1.103417</td>\n      <td>1.388212</td>\n      <td>0.000062</td>\n      <td>0.0</td>\n    </tr>\n    <tr>\n      <th>1</th>\n      <td>2.0</td>\n      <td>-0.453386</td>\n      <td>0.953083</td>\n      <td>1.339052</td>\n      <td>1.643602</td>\n      <td>0.000062</td>\n      <td>0.0</td>\n    </tr>\n    <tr>\n      <th>2</th>\n      <td>3.0</td>\n      <td>-0.453386</td>\n      <td>0.938259</td>\n      <td>1.623012</td>\n      <td>1.874699</td>\n      <td>0.000062</td>\n      <td>0.0</td>\n    </tr>\n    <tr>\n      <th>3</th>\n      <td>4.0</td>\n      <td>-0.453386</td>\n      <td>NaN</td>\n      <td>1.170852</td>\n      <td>1.533612</td>\n      <td>0.000062</td>\n      <td>0.0</td>\n    </tr>\n    <tr>\n      <th>4</th>\n      <td>5.0</td>\n      <td>-0.453386</td>\n      <td>0.761355</td>\n      <td>1.164282</td>\n      <td>1.391119</td>\n      <td>0.000062</td>\n      <td>0.0</td>\n    </tr>\n    <tr>\n      <th>...</th>\n      <td>...</td>\n      <td>...</td>\n      <td>...</td>\n      <td>...</td>\n      <td>...</td>\n      <td>...</td>\n      <td>...</td>\n    </tr>\n    <tr>\n      <th>105</th>\n      <td>106.0</td>\n      <td>-1.404905</td>\n      <td>1.213152</td>\n      <td>1.859222</td>\n      <td>2.220010</td>\n      <td>0.000042</td>\n      <td>0.0</td>\n    </tr>\n    <tr>\n      <th>106</th>\n      <td>107.0</td>\n      <td>-1.404905</td>\n      <td>1.246280</td>\n      <td>1.951672</td>\n      <td>2.315651</td>\n      <td>0.000042</td>\n      <td>0.0</td>\n    </tr>\n    <tr>\n      <th>107</th>\n      <td>108.0</td>\n      <td>-1.404905</td>\n      <td>1.117802</td>\n      <td>2.107495</td>\n      <td>2.385585</td>\n      <td>0.000042</td>\n      <td>0.0</td>\n    </tr>\n    <tr>\n      <th>108</th>\n      <td>109.0</td>\n      <td>-1.404905</td>\n      <td>1.369317</td>\n      <td>2.170679</td>\n      <td>2.566491</td>\n      <td>0.000042</td>\n      <td>0.0</td>\n    </tr>\n    <tr>\n      <th>109</th>\n      <td>110.0</td>\n      <td>-1.404905</td>\n      <td>1.234512</td>\n      <td>1.957512</td>\n      <td>2.314275</td>\n      <td>0.000042</td>\n      <td>0.0</td>\n    </tr>\n  </tbody>\n</table>\n<p>110 rows × 7 columns</p>\n</div>"
     },
     "execution_count": 2,
     "metadata": {},
     "output_type": "execute_result"
    }
   ],
   "source": [
    "import numpy as np\n",
    "#data[\"x3\"] = np.random.randn(len(data))\n",
    "data.iloc[3][\"Sx\"] = np.NAN\n",
    "data"
   ],
   "metadata": {
    "collapsed": false,
    "ExecuteTime": {
     "end_time": "2023-08-23T21:07:04.430265500Z",
     "start_time": "2023-08-23T21:07:04.401265700Z"
    }
   }
  },
  {
   "cell_type": "code",
   "execution_count": 3,
   "outputs": [
    {
     "data": {
      "text/plain": "                 Sx\nx                  \n-1.806631  1.544809\n-1.404905  1.243962\n-1.272233  1.182103\n-0.815198  0.912359\n-0.453386  0.900921\n-0.036205  0.903860\n 0.401458  1.311480\n 0.821722  1.523534\n 1.213271  1.972628\n 1.529106  2.186924\n 1.657522  2.334409",
      "text/html": "<div>\n<style scoped>\n    .dataframe tbody tr th:only-of-type {\n        vertical-align: middle;\n    }\n\n    .dataframe tbody tr th {\n        vertical-align: top;\n    }\n\n    .dataframe thead th {\n        text-align: right;\n    }\n</style>\n<table border=\"1\" class=\"dataframe\">\n  <thead>\n    <tr style=\"text-align: right;\">\n      <th></th>\n      <th>Sx</th>\n    </tr>\n    <tr>\n      <th>x</th>\n      <th></th>\n    </tr>\n  </thead>\n  <tbody>\n    <tr>\n      <th>-1.806631</th>\n      <td>1.544809</td>\n    </tr>\n    <tr>\n      <th>-1.404905</th>\n      <td>1.243962</td>\n    </tr>\n    <tr>\n      <th>-1.272233</th>\n      <td>1.182103</td>\n    </tr>\n    <tr>\n      <th>-0.815198</th>\n      <td>0.912359</td>\n    </tr>\n    <tr>\n      <th>-0.453386</th>\n      <td>0.900921</td>\n    </tr>\n    <tr>\n      <th>-0.036205</th>\n      <td>0.903860</td>\n    </tr>\n    <tr>\n      <th>0.401458</th>\n      <td>1.311480</td>\n    </tr>\n    <tr>\n      <th>0.821722</th>\n      <td>1.523534</td>\n    </tr>\n    <tr>\n      <th>1.213271</th>\n      <td>1.972628</td>\n    </tr>\n    <tr>\n      <th>1.529106</th>\n      <td>2.186924</td>\n    </tr>\n    <tr>\n      <th>1.657522</th>\n      <td>2.334409</td>\n    </tr>\n  </tbody>\n</table>\n</div>"
     },
     "execution_count": 3,
     "metadata": {},
     "output_type": "execute_result"
    }
   ],
   "source": [
    "import numpy as np\n",
    "pt = pd.pivot_table(data, values=[\"Sx\"], columns=[\"x\"], aggfunc=np.mean).T\n",
    "pt"
   ],
   "metadata": {
    "collapsed": false,
    "ExecuteTime": {
     "end_time": "2023-08-23T21:07:04.487268400Z",
     "start_time": "2023-08-23T21:07:04.428266500Z"
    }
   }
  },
  {
   "cell_type": "code",
   "execution_count": 4,
   "outputs": [
    {
     "ename": "NameError",
     "evalue": "name 'vals' is not defined",
     "output_type": "error",
     "traceback": [
      "\u001B[1;31m---------------------------------------------------------------------------\u001B[0m",
      "\u001B[1;31mNameError\u001B[0m                                 Traceback (most recent call last)",
      "Cell \u001B[1;32mIn[4], line 1\u001B[0m\n\u001B[1;32m----> 1\u001B[0m \u001B[43mvals\u001B[49m\u001B[38;5;241m.\u001B[39margmin()\n\u001B[0;32m      2\u001B[0m pt\u001B[38;5;241m.\u001B[39mindex[vals\u001B[38;5;241m.\u001B[39margmin()]\n\u001B[0;32m      3\u001B[0m pt\u001B[38;5;241m.\u001B[39mindex\u001B[38;5;241m.\u001B[39mname\n",
      "\u001B[1;31mNameError\u001B[0m: name 'vals' is not defined"
     ]
    }
   ],
   "source": [
    "vals.argmin()\n",
    "pt.index[vals.argmin()]\n",
    "pt.index.name\n",
    "#best_idx = pt.idxmin(axis=0)\n",
    "#best_idx.to_dict()\n",
    "#"
   ],
   "metadata": {
    "collapsed": false,
    "ExecuteTime": {
     "end_time": "2023-08-23T21:07:04.785302100Z",
     "start_time": "2023-08-23T21:07:04.443267600Z"
    }
   }
  },
  {
   "cell_type": "code",
   "execution_count": 11,
   "outputs": [
    {
     "data": {
      "text/plain": "x                                           -1.806631  \\\nSx  [1.5718963618451518, 1.7284386237908005, 1.569...   \n\nx                                           -1.404905  \\\nSx  [1.3220047607547334, 1.2682663031390302, 1.239...   \n\nx                                           -1.272233  \\\nSx  [1.2642788556836164, 1.0127792960770323, 1.132...   \n\nx                                           -0.815198  \\\nSx  [0.9036074390397716, 0.8585857344574707, 0.794...   \n\nx                                           -0.036205  \\\nSx  [0.8497165787373626, 0.9424779417799746, 0.934...   \n\nx                                            0.401458  \\\nSx  [1.2061127402145349, 1.162918961244772, 1.5543...   \n\nx                                            0.821722  \\\nSx  [1.7374800866349271, 1.619871739189366, 1.2045...   \n\nx                                            1.213271  \\\nSx  [2.1556113444823586, 1.8537710312573823, 2.090...   \n\nx                                            1.529106  \\\nSx  [2.0303317872710407, 2.423364370615434, 1.7744...   \n\nx                                            1.657522  \nSx  [2.5555282069652754, 2.3929892415269425, 2.355...  ",
      "text/html": "<div>\n<style scoped>\n    .dataframe tbody tr th:only-of-type {\n        vertical-align: middle;\n    }\n\n    .dataframe tbody tr th {\n        vertical-align: top;\n    }\n\n    .dataframe thead th {\n        text-align: right;\n    }\n</style>\n<table border=\"1\" class=\"dataframe\">\n  <thead>\n    <tr style=\"text-align: right;\">\n      <th>x</th>\n      <th>-1.806631</th>\n      <th>-1.404905</th>\n      <th>-1.272233</th>\n      <th>-0.815198</th>\n      <th>-0.036205</th>\n      <th>0.401458</th>\n      <th>0.821722</th>\n      <th>1.213271</th>\n      <th>1.529106</th>\n      <th>1.657522</th>\n    </tr>\n  </thead>\n  <tbody>\n    <tr>\n      <th>Sx</th>\n      <td>[1.5718963618451518, 1.7284386237908005, 1.569...</td>\n      <td>[1.3220047607547334, 1.2682663031390302, 1.239...</td>\n      <td>[1.2642788556836164, 1.0127792960770323, 1.132...</td>\n      <td>[0.9036074390397716, 0.8585857344574707, 0.794...</td>\n      <td>[0.8497165787373626, 0.9424779417799746, 0.934...</td>\n      <td>[1.2061127402145349, 1.162918961244772, 1.5543...</td>\n      <td>[1.7374800866349271, 1.619871739189366, 1.2045...</td>\n      <td>[2.1556113444823586, 1.8537710312573823, 2.090...</td>\n      <td>[2.0303317872710407, 2.423364370615434, 1.7744...</td>\n      <td>[2.5555282069652754, 2.3929892415269425, 2.355...</td>\n    </tr>\n  </tbody>\n</table>\n</div>"
     },
     "execution_count": 11,
     "metadata": {},
     "output_type": "execute_result"
    }
   ],
   "source": [
    "pt_list = pd.pivot_table(data, values=[\"Sx\"], columns=[\"x\"], aggfunc=list)\n",
    "\n",
    "constraint_list = []\n",
    "for name, val in pt_list.to_dict().items():\n",
    "    if not np.count_nonzero(np.isnan(np.array(val[\"Sx\"]))) >= 1:\n",
    "        constraint_list += [name]\n",
    "\n",
    "\n",
    "final_list = pt_list[constraint_list]\n",
    "final_list"
   ],
   "metadata": {
    "collapsed": false,
    "ExecuteTime": {
     "end_time": "2023-08-23T21:09:30.101522200Z",
     "start_time": "2023-08-23T21:09:30.074493500Z"
    }
   }
  },
  {
   "cell_type": "code",
   "execution_count": 12,
   "outputs": [
    {
     "data": {
      "text/plain": "x                                           -1.806631  \\\nSx  [1.5718963618451518, 1.7284386237908005, 1.569...   \n\nx                                           -1.404905  \\\nSx  [1.3220047607547334, 1.2682663031390302, 1.239...   \n\nx                                           -1.272233  \\\nSx  [1.2642788556836164, 1.0127792960770323, 1.132...   \n\nx                                           -0.815198  \\\nSx  [0.9036074390397716, 0.8585857344574707, 0.794...   \n\nx                                           -0.453386  \\\nSx  [0.8423795595497198, 0.9530834155993732, 0.938...   \n\nx                                           -0.036205  \\\nSx  [0.8497165787373626, 0.9424779417799746, 0.934...   \n\nx                                            0.401458  \\\nSx  [1.2061127402145349, 1.162918961244772, 1.5543...   \n\nx                                            0.821722  \\\nSx  [1.7374800866349271, 1.619871739189366, 1.2045...   \n\nx                                            1.213271  \\\nSx  [2.1556113444823586, 1.8537710312573823, 2.090...   \n\nx                                            1.529106  \\\nSx  [2.0303317872710407, 2.423364370615434, 1.7744...   \n\nx                                            1.657522  \nSx  [2.5555282069652754, 2.3929892415269425, 2.355...  ",
      "text/html": "<div>\n<style scoped>\n    .dataframe tbody tr th:only-of-type {\n        vertical-align: middle;\n    }\n\n    .dataframe tbody tr th {\n        vertical-align: top;\n    }\n\n    .dataframe thead th {\n        text-align: right;\n    }\n</style>\n<table border=\"1\" class=\"dataframe\">\n  <thead>\n    <tr style=\"text-align: right;\">\n      <th>x</th>\n      <th>-1.806631</th>\n      <th>-1.404905</th>\n      <th>-1.272233</th>\n      <th>-0.815198</th>\n      <th>-0.453386</th>\n      <th>-0.036205</th>\n      <th>0.401458</th>\n      <th>0.821722</th>\n      <th>1.213271</th>\n      <th>1.529106</th>\n      <th>1.657522</th>\n    </tr>\n  </thead>\n  <tbody>\n    <tr>\n      <th>Sx</th>\n      <td>[1.5718963618451518, 1.7284386237908005, 1.569...</td>\n      <td>[1.3220047607547334, 1.2682663031390302, 1.239...</td>\n      <td>[1.2642788556836164, 1.0127792960770323, 1.132...</td>\n      <td>[0.9036074390397716, 0.8585857344574707, 0.794...</td>\n      <td>[0.8423795595497198, 0.9530834155993732, 0.938...</td>\n      <td>[0.8497165787373626, 0.9424779417799746, 0.934...</td>\n      <td>[1.2061127402145349, 1.162918961244772, 1.5543...</td>\n      <td>[1.7374800866349271, 1.619871739189366, 1.2045...</td>\n      <td>[2.1556113444823586, 1.8537710312573823, 2.090...</td>\n      <td>[2.0303317872710407, 2.423364370615434, 1.7744...</td>\n      <td>[2.5555282069652754, 2.3929892415269425, 2.355...</td>\n    </tr>\n  </tbody>\n</table>\n</div>"
     },
     "execution_count": 12,
     "metadata": {},
     "output_type": "execute_result"
    }
   ],
   "source": [
    "pt_list"
   ],
   "metadata": {
    "collapsed": false,
    "ExecuteTime": {
     "end_time": "2023-08-23T21:09:56.118574700Z",
     "start_time": "2023-08-23T21:09:56.111574600Z"
    }
   }
  },
  {
   "cell_type": "code",
   "execution_count": null,
   "outputs": [],
   "source": [
    "S"
   ],
   "metadata": {
    "collapsed": false
   }
  }
 ],
 "metadata": {
  "kernelspec": {
   "display_name": "Python 3",
   "language": "python",
   "name": "python3"
  },
  "language_info": {
   "codemirror_mode": {
    "name": "ipython",
    "version": 2
   },
   "file_extension": ".py",
   "mimetype": "text/x-python",
   "name": "python",
   "nbconvert_exporter": "python",
   "pygments_lexer": "ipython2",
   "version": "2.7.6"
  }
 },
 "nbformat": 4,
 "nbformat_minor": 0
}
